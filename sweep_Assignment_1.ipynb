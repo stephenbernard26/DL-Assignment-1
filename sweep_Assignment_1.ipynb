{
  "cells": [
    {
      "cell_type": "markdown",
      "metadata": {
        "id": "view-in-github",
        "colab_type": "text"
      },
      "source": [
        "<a href=\"https://colab.research.google.com/github/anandhc6/Assignment1/blob/main/sweep_Assignment_1.ipynb\" target=\"_parent\"><img src=\"https://colab.research.google.com/assets/colab-badge.svg\" alt=\"Open In Colab\"/></a>"
      ]
    },
    {
      "cell_type": "markdown",
      "source": [
        "Installing wandb\n"
      ],
      "metadata": {
        "id": "w6tT6epiFr80"
      }
    },
    {
      "cell_type": "code",
      "execution_count": null,
      "metadata": {
        "colab": {
          "base_uri": "https://localhost:8080/"
        },
        "id": "P_iRYe-nB_As",
        "outputId": "0e68cc19-b947-422e-e56d-f2f1d234ead6"
      },
      "outputs": [
        {
          "output_type": "stream",
          "name": "stdout",
          "text": [
            "Requirement already satisfied: wandb in /usr/local/lib/python3.7/dist-packages (0.12.10)\n",
            "Requirement already satisfied: protobuf>=3.12.0 in /usr/local/lib/python3.7/dist-packages (from wandb) (3.17.3)\n",
            "Requirement already satisfied: yaspin>=1.0.0 in /usr/local/lib/python3.7/dist-packages (from wandb) (2.1.0)\n",
            "Requirement already satisfied: sentry-sdk>=1.0.0 in /usr/local/lib/python3.7/dist-packages (from wandb) (1.5.6)\n",
            "Requirement already satisfied: promise<3,>=2.0 in /usr/local/lib/python3.7/dist-packages (from wandb) (2.3)\n",
            "Requirement already satisfied: docker-pycreds>=0.4.0 in /usr/local/lib/python3.7/dist-packages (from wandb) (0.4.0)\n",
            "Requirement already satisfied: pathtools in /usr/local/lib/python3.7/dist-packages (from wandb) (0.1.2)\n",
            "Requirement already satisfied: python-dateutil>=2.6.1 in /usr/local/lib/python3.7/dist-packages (from wandb) (2.8.2)\n",
            "Requirement already satisfied: GitPython>=1.0.0 in /usr/local/lib/python3.7/dist-packages (from wandb) (3.1.27)\n",
            "Requirement already satisfied: Click!=8.0.0,>=7.0 in /usr/local/lib/python3.7/dist-packages (from wandb) (7.1.2)\n",
            "Requirement already satisfied: requests<3,>=2.0.0 in /usr/local/lib/python3.7/dist-packages (from wandb) (2.23.0)\n",
            "Requirement already satisfied: PyYAML in /usr/local/lib/python3.7/dist-packages (from wandb) (3.13)\n",
            "Requirement already satisfied: psutil>=5.0.0 in /usr/local/lib/python3.7/dist-packages (from wandb) (5.4.8)\n",
            "Requirement already satisfied: six>=1.13.0 in /usr/local/lib/python3.7/dist-packages (from wandb) (1.15.0)\n",
            "Requirement already satisfied: shortuuid>=0.5.0 in /usr/local/lib/python3.7/dist-packages (from wandb) (1.0.8)\n",
            "Requirement already satisfied: gitdb<5,>=4.0.1 in /usr/local/lib/python3.7/dist-packages (from GitPython>=1.0.0->wandb) (4.0.9)\n",
            "Requirement already satisfied: typing-extensions>=3.7.4.3 in /usr/local/lib/python3.7/dist-packages (from GitPython>=1.0.0->wandb) (3.10.0.2)\n",
            "Requirement already satisfied: smmap<6,>=3.0.1 in /usr/local/lib/python3.7/dist-packages (from gitdb<5,>=4.0.1->GitPython>=1.0.0->wandb) (5.0.0)\n",
            "Requirement already satisfied: urllib3!=1.25.0,!=1.25.1,<1.26,>=1.21.1 in /usr/local/lib/python3.7/dist-packages (from requests<3,>=2.0.0->wandb) (1.24.3)\n",
            "Requirement already satisfied: idna<3,>=2.5 in /usr/local/lib/python3.7/dist-packages (from requests<3,>=2.0.0->wandb) (2.10)\n",
            "Requirement already satisfied: certifi>=2017.4.17 in /usr/local/lib/python3.7/dist-packages (from requests<3,>=2.0.0->wandb) (2021.10.8)\n",
            "Requirement already satisfied: chardet<4,>=3.0.2 in /usr/local/lib/python3.7/dist-packages (from requests<3,>=2.0.0->wandb) (3.0.4)\n",
            "Requirement already satisfied: termcolor<2.0.0,>=1.1.0 in /usr/local/lib/python3.7/dist-packages (from yaspin>=1.0.0->wandb) (1.1.0)\n"
          ]
        }
      ],
      "source": [
        "!pip install wandb"
      ]
    },
    {
      "cell_type": "markdown",
      "source": [
        "Login wandb"
      ],
      "metadata": {
        "id": "QEoG71X6F-b7"
      }
    },
    {
      "cell_type": "code",
      "execution_count": null,
      "metadata": {
        "colab": {
          "base_uri": "https://localhost:8080/",
          "height": 125
        },
        "id": "CknAiLRpXVFM",
        "outputId": "30970ac8-8dd0-4f78-d1dc-bec9fe38518f"
      },
      "outputs": [
        {
          "output_type": "stream",
          "name": "stdout",
          "text": [
            "\u001b[34m\u001b[1mwandb\u001b[0m: You can find your API key in your browser here: https://wandb.ai/authorize\n",
            "\u001b[34m\u001b[1mwandb\u001b[0m: Paste an API key from your profile and hit enter, or press ctrl+c to quit: \n",
            "\u001b[34m\u001b[1mwandb\u001b[0m: Appending key for api.wandb.ai to your netrc file: /root/.netrc\n"
          ]
        },
        {
          "output_type": "stream",
          "name": "stderr",
          "text": [
            "\u001b[34m\u001b[1mwandb\u001b[0m: Currently logged in as: \u001b[33manandh\u001b[0m (use `wandb login --relogin` to force relogin)\n"
          ]
        },
        {
          "output_type": "display_data",
          "data": {
            "text/html": [
              "\n",
              "                    Syncing run <strong><a href=\"https://wandb.ai/anandh/CS6910_Assignment1_Sweep/runs/2ewqytd3\" target=\"_blank\">class-samples-1</a></strong> to <a href=\"https://wandb.ai/anandh/CS6910_Assignment1_Sweep\" target=\"_blank\">Weights & Biases</a> (<a href=\"https://docs.wandb.com/integrations/jupyter.html\" target=\"_blank\">docs</a>).<br/>\n",
              "\n",
              "                "
            ],
            "text/plain": [
              "<IPython.core.display.HTML object>"
            ]
          },
          "metadata": {}
        },
        {
          "output_type": "execute_result",
          "data": {
            "text/plain": [
              "<wandb.sdk.wandb_run.Run at 0x7f24a0596710>"
            ],
            "text/html": [
              "<button onClick=\"this.nextSibling.style.display='block';this.style.display='none';\">Display W&B run</button><iframe src=\"https://wandb.ai/anandh/CS6910_Assignment1_Sweep/runs/2ewqytd3?jupyter=true\" style=\"border:none;width:100%;height:420px;display:none;\"></iframe>"
            ]
          },
          "metadata": {},
          "execution_count": 2
        }
      ],
      "source": [
        "import wandb\n",
        "#wandb.login()\n",
        "!wandb login --relogin\n",
        "wandb.init(project='CS6910_Assignment1_Sweep',entity=\"anandh\", name = 'class-samples-1')"
      ]
    },
    {
      "cell_type": "code",
      "source": [
        "Preparing Datasets"
      ],
      "metadata": {
        "id": "PmNrTGqeGCNp"
      },
      "execution_count": null,
      "outputs": []
    },
    {
      "cell_type": "code",
      "execution_count": null,
      "metadata": {
        "id": "ydEbntHG1h5d"
      },
      "outputs": [],
      "source": [
        "import numpy as np\n",
        "from numpy import random\n",
        "from keras.datasets import fashion_mnist\n",
        "#import the required libraries\n",
        "from matplotlib import pyplot\n",
        "import math as math\n",
        "from sklearn.metrics import accuracy_score\n",
        "from sklearn.model_selection import train_test_split\n",
        "\n",
        "\n",
        "(X, y), (X_test, y_test) = fashion_mnist.load_data()\n",
        "\n",
        "# Reshaping the data \n",
        "X = X.reshape(X.shape[0], 784)\n",
        "X_test = X_test.reshape(X_test.shape[0], 784)\n",
        "\n",
        "# Normalizing\n",
        "X = X/255.0\n",
        "X_test = X_test/255.0\n",
        "\n",
        "# Split the data X into a training set and validation set\n",
        "X_train, X_val, y_train, y_val = train_test_split(X, y, test_size=0.1, random_state=42)\n",
        "\n",
        "#Layer dimensions\n",
        "#la =[784,128,128,10]\n",
        "#la=[784, 256, 256, 256, 10]\n",
        "#la =[]\n",
        "#L= len(la)-1  \n",
        "#L=[]\n",
        "\n",
        "#weights and bias empty initializing\n",
        "np.random.seed(42)\n",
        "params={}"
      ]
    },
    {
      "cell_type": "code",
      "execution_count": null,
      "metadata": {
        "id": "WDodQndr2D4e"
      },
      "outputs": [],
      "source": [
        "def weight_initialize(weight_para,la):\n",
        "    global params\n",
        "    params ={}\n",
        "    if weight_para == 'Xavier':\n",
        "        for i in range(0,len(la)-1):\n",
        "            params[\"W\"+str(i)]=np.random.randn(la[i+1],la[i])*np.sqrt(2/la[i+1])\n",
        "            params[\"b\"+str(i)] = np.zeros((la[i+1], 1))\n",
        "    if weight_para == 'random':\n",
        "        for i in range(0,len(la)-1):\n",
        "            params[\"W\"+str(i)] = np.random.randn(la[i+1], la[i]) * 0.01\n",
        "            params[\"b\"+str(i)] = np.zeros((la[i+1], 1))"
      ]
    },
    {
      "cell_type": "code",
      "source": [
        "ACTIVATION FUNCTIONS"
      ],
      "metadata": {
        "id": "C2n3ZvN2GIaj"
      },
      "execution_count": null,
      "outputs": []
    },
    {
      "cell_type": "code",
      "execution_count": null,
      "metadata": {
        "id": "rmUh2zQw2WV3"
      },
      "outputs": [],
      "source": [
        "#Activation function     \n",
        "def sigmoid(x):\n",
        "     return 1. /(1. + np.exp(-x))\n",
        "\n",
        "def activation_function(x,activation):\n",
        "    if activation=='sigmoid':\n",
        "        return (1.0 / (1.0 + np.exp(-x)))\n",
        "    elif activation=='sigmoid_derivative':\n",
        "        return (activation_function(x,'sigmoid') * (1 - activation_function(x,'sigmoid')))\n",
        "    elif activation=='relu':\n",
        "        return x * (x > 0)\n",
        "    elif activation=='relu_derivative':\n",
        "        x[x <= 0.0] = 0.0\n",
        "        x[x > 0.0] = 1.0\n",
        "        return x\n",
        "    elif activation=='tanh':\n",
        "        return np.tanh(x)\n",
        "    elif activation=='tanh_derivative':\n",
        "        return 1 - (activation_function(x,'tanh') ** 2)\n",
        "    else:\n",
        "        raise Exception(\"Invalid activation function\",activation)\n",
        "def softmax(x):\n",
        "    soft = np.zeros(x.shape)\n",
        "    for i in range(0, x.shape[1]):\n",
        "        numr = np.exp(x[:, i])\n",
        "        soft[:, i] = numr/np.sum(numr)\n",
        "    return soft\n"
      ]
    },
    {
      "cell_type": "code",
      "source": [
        "Q2: FEEDFORWARD"
      ],
      "metadata": {
        "id": "c3GjqdQYGRwj"
      },
      "execution_count": null,
      "outputs": []
    },
    {
      "cell_type": "code",
      "execution_count": null,
      "metadata": {
        "id": "6HqvllD72iO5"
      },
      "outputs": [],
      "source": [
        "def feedforward(X, params,activation_para):\n",
        "\n",
        "    L = len(params)//2  \n",
        "    A = [None]*L # activations\n",
        "    H = [None]*L # pre-activations\n",
        "     \n",
        "    k=0\n",
        "    A[0]=np.dot(params[\"W\"+str(k)],X)+params[\"b\"+str(k)]\n",
        "    H[0]=activation_function(A[k],activation_para)\n",
        "   \n",
        "    for k in range(1,L-1):\n",
        "            A[k]=np.dot(params[\"W\"+str(k)],H[k-1])+params[\"b\"+str(k)]\n",
        "            H[k]=activation_function(A[k],activation_para)\n",
        "   \n",
        "    k=L-1\n",
        "    A[k]=np.dot(params[\"W\"+str(k)],H[k-1])+params[\"b\"+str(k)]\n",
        "    H[k]=softmax(A[k])\n",
        "   \n",
        "    y=H[-1]\n",
        "    return A,H,y\n",
        "\n"
      ]
    },
    {
      "cell_type": "code",
      "source": [
        "Q3:i) Implementing backpropagation"
      ],
      "metadata": {
        "id": "CyWrluV2GWer"
      },
      "execution_count": null,
      "outputs": []
    },
    {
      "cell_type": "code",
      "execution_count": null,
      "metadata": {
        "id": "bhShj3k52vvX"
      },
      "outputs": [],
      "source": [
        "\n",
        "def back_propagation(X_train,y_train,params,A ,H,activation_para,loss):\n",
        "    #Initialzing gradients\n",
        "    L = len(params)//2\n",
        "    #A = [None]*L # activations\n",
        "    #H = [None]*L\n",
        "    g_weights = [0]*L\n",
        "    g_biases  = [0]*L\n",
        "    g_a       = [0]*(L+1)\n",
        "    g_h       = [0]*(L+1)\n",
        "    n_samples = X_train.shape[0]  # Change depending on the dimensions of data\n",
        "   \n",
        "    # print(str(activation_para)+'_derivative')\n",
        "\n",
        "    for k in range(L-1,-1,-1): #2,1,0\n",
        "       \n",
        "        if k == L-1:\n",
        "            if loss == 'cross_entropy':\n",
        "                g_a[k] = H[k]  - y_train  # keep or remove T depending on the dimensions of data\n",
        "            elif loss == 'square_loss':\n",
        "                g_a[k] = (H[k] - y_train) * H[k] * (1 - H[k])\n",
        "           \n",
        "       \n",
        "        else:\n",
        "            g_h[k] = (1/n_samples)*np.dot(params[\"W\"+str(k+1)].T,g_a[k+1])\n",
        "            if activation_para == 'sigmoid':\n",
        "                g_a[k] = (1/n_samples)*np.multiply(g_h[k],activation_function(A[k], str(activation_para)+'_derivative'))\n",
        "            elif activation_para == 'tanh':\n",
        "                g_a[k] = (1/n_samples)*np.multiply(g_h[k],activation_function(A[k], str(activation_para)+'_derivative'))\n",
        "            elif  activation_para == 'relu':\n",
        "                g_a[k] = (1/n_samples)*np.multiply(g_h[k],activation_function(A[k], str(activation_para)+'_derivative'))\n",
        "\n",
        "\n",
        "        if k == 0:\n",
        "            g_weights[k] = (1/n_samples)*np.dot(g_a[k],X_train.T)\n",
        "        else:\n",
        "            g_weights[k] = (1/n_samples)*np.dot(g_a[k],H[k-1].T)\n",
        "\n",
        "        g_biases[k]  = (1/n_samples)*np.sum(g_a[k], axis=1, keepdims = True)\n",
        "    return g_weights,g_biases"
      ]
    },
    {
      "cell_type": "markdown",
      "source": [
        ""
      ],
      "metadata": {
        "id": "t79pyhm9FqAC"
      }
    },
    {
      "cell_type": "code",
      "source": [
        "Loss and Accuracy functions"
      ],
      "metadata": {
        "id": "mx038BPDGeCv"
      },
      "execution_count": null,
      "outputs": []
    },
    {
      "cell_type": "code",
      "execution_count": null,
      "metadata": {
        "id": "gYk3ztdRZ6S4"
      },
      "outputs": [],
      "source": [
        "def accuracy(x, y,params,activation_para):\n",
        "    _,_,yhate=feedforward(x, params,activation_para)\n",
        "    yh=np.argmax(yhate,axis=0)\n",
        "    accuracy = accuracy_score(y, yh)*100\n",
        "    return accuracy\n",
        "    #print(accuracy)"
      ]
    },
    {
      "cell_type": "code",
      "execution_count": null,
      "metadata": {
        "id": "TC402vuG3OMF"
      },
      "outputs": [],
      "source": [
        "def loss_accuracy(x,params,y,t,loss,activation_para, n_class=10):\n",
        "    _,_,yhate=feedforward(x, params,activation_para)\n",
        "    #print(x.shape)\n",
        "    #print(y.shape)\n",
        "    # ls=[]\n",
        "    # accuracy=[]\n",
        "    if loss == 'cross_entropy':\n",
        "        one_hot = np.zeros((n_class, x.shape[1]))\n",
        "        one_hot[y, np.array(list(range(x.shape[1])))] = 1\n",
        "        ls= -np.sum(one_hot *np.log(yhate))/x.shape[1]\n",
        "                  \n",
        "    if loss == 'squared_loss':\n",
        "        eIndicator = np.zeros((n_class, x.shape[1]))\n",
        "        eIndicator[y, np.arange(x.shape[1])] = 1\n",
        "        ls =np.sum((yhate - eIndicator)**2) / x.shape[1]\n",
        "    \n",
        "    yh=np.argmax(yhate,axis=0)\n",
        "    accuracy = accuracy_score(y, yh)*100 \n",
        "     \n",
        "    # for p in range(len(ls)):\n",
        "    #print(\"Accuracy of  = \" + str(accuracy) +\"  loss of \" +str(t) +\" = \" + str(ls) )\n",
        "    #print(\"Accuracy of \" +str(t) +\" = \" + str(accuracy) )\n",
        "    return accuracy,ls"
      ]
    },
    {
      "cell_type": "code",
      "source": [
        "Vanilla Gradient Descent"
      ],
      "metadata": {
        "id": "blj-dAgZGhVv"
      },
      "execution_count": null,
      "outputs": []
    },
    {
      "cell_type": "code",
      "execution_count": null,
      "metadata": {
        "id": "Ug828GJw3Z7U"
      },
      "outputs": [],
      "source": [
        "def vanillagd(x_train,y_train,x_val,y_val,eta,epochs,minibatch,batch,loss,weight_decay,activation_para,la,L):\n",
        "    t=0\n",
        "    A=[]\n",
        "    H=[]\n",
        "    train_acc=[]\n",
        "    train_loss=[]\n",
        "    val_acc=[]\n",
        "    val_loss=[]\n",
        "    while t<epochs:\n",
        "        for i in range(0,minibatch,1):\n",
        "                    X_mini=x_train[(i*batch):((i+1)*batch)]\n",
        "                    y_mini=y_train[(i*batch):((i+1)*batch)]\n",
        "                    batch1 = X_mini.shape[0]\n",
        "       \n",
        "                    y_mini_one_hot = np.zeros((10, batch1))\n",
        "                    y_mini_one_hot[y_mini, np.array(list(range(batch1)))] = 1\n",
        "                    A,H,y_hat= feedforward(X_mini.T,params,activation_para)\n",
        "                    g_weights,g_biases = back_propagation(X_mini.T,y_mini_one_hot,params,A ,H,activation_para,loss)\n",
        "                    for j in range(0,L):\n",
        "                      g_weights[j]=g_weights[j]+weight_decay*params['W'+str(j)]\n",
        "                      params['W'+str(j)]-=eta*g_weights[j]\n",
        "                      params['b'+str(j)]-=eta*g_biases[j]\n",
        "                   \n",
        "        t+=1\n",
        "        train_a,train_l = loss_accuracy(x_train.T, params, y_train, t, loss,activation_para)\n",
        "        train_acc.append(train_a)\n",
        "        train_loss.append(train_l)\n",
        "        val_a,val_l = loss_accuracy(x_val.T, params, y_val, t, loss,activation_para)  \n",
        "        val_acc.append(val_a)\n",
        "        val_loss.append(val_l)\n",
        "     \n",
        "    return train_acc,train_loss,val_acc,val_loss\n",
        "       "
      ]
    },
    {
      "cell_type": "code",
      "source": [
        "Momentum Gradient Descent"
      ],
      "metadata": {
        "id": "Dh8JvHcjGk1X"
      },
      "execution_count": null,
      "outputs": []
    },
    {
      "cell_type": "code",
      "execution_count": null,
      "metadata": {
        "id": "CTdAMmye3fzt"
      },
      "outputs": [],
      "source": [
        "# MOMENTUM_GD optimizer \n",
        "        \n",
        "def momentumGD(x_train,y_train,x_val,y_val,eta,epochs,minibatch,batch,loss,weight_decay,activation_para,la,L):\n",
        "    preW = {}\n",
        "    preb = {}\n",
        "    gamma = 0.9\n",
        "    train_acc=[]\n",
        "    train_loss=[]\n",
        "    val_acc=[]\n",
        "    val_loss=[]\n",
        "    for k in range(0,L):\n",
        "        preW['W'+str(k)]=np.zeros((la[k+1],la[k]))\n",
        "        preb['b'+str(k)]=np.zeros((la[k+1],1))\n",
        "    t=0\n",
        "    while t<epochs:\n",
        "        for i in range(0,minibatch,1):\n",
        "            X_mini=x_train[(i*batch):((i+1)*batch)]\n",
        "            y_mini=y_train[(i*batch):((i+1)*batch)]\n",
        "            batch1 = X_mini.shape[0]\n",
        "            y_mini_one_hot = np.zeros((10, batch1))\n",
        "            y_mini_one_hot[y_mini, np.array(list(range(batch1)))] = 1\n",
        "            A,H,y_hat=feedforward(X_mini.T,params,activation_para)\n",
        "            g_weights,g_biases = back_propagation(X_mini.T,y_mini_one_hot,params,A ,H,activation_para,loss)\n",
        "            for j in range(0,L):\n",
        "                #g_weights[j]=g_weights[j]+weight_decay*params['W'+str(j)]\n",
        "                w=(gamma*preW['W'+str(j)])+eta*g_weights[j]\n",
        "                b=(gamma*preb['b'+str(j)])+eta*g_biases[j]\n",
        "                params['W'+str(j)]-=w-np.multiply(eta*weight_decay,params['W'+str(j)])\n",
        "                params['b'+str(j)]-=b-np.multiply(eta*weight_decay,params['b'+str(j)])\n",
        "                preW['W'+str(j)]=w\n",
        "                preb['b'+str(j)]=b\n",
        "        t+=1\n",
        "        \n",
        "        #Loss & accuracy\n",
        "        train_a,train_l = loss_accuracy(x_train.T, params, y_train, t, loss,activation_para)\n",
        "        train_acc.append(train_a)\n",
        "        train_loss.append(train_l)\n",
        "        val_a,val_l = loss_accuracy(x_val.T, params, y_val, t, loss,activation_para)  \n",
        "        val_acc.append(val_a)\n",
        "        val_loss.append(val_l)\n",
        "    return train_acc,train_loss,val_acc,val_loss\n"
      ]
    },
    {
      "cell_type": "code",
      "source": [
        "NAG"
      ],
      "metadata": {
        "id": "8fy4HUEFGnnO"
      },
      "execution_count": null,
      "outputs": []
    },
    {
      "cell_type": "code",
      "execution_count": null,
      "metadata": {
        "id": "Z6JO96vW3mMl"
      },
      "outputs": [],
      "source": [
        "#NAG optimizer  \n",
        "       \n",
        "def nag(x_train,y_train,x_val,y_val,eta,epochs,minibatch,batch,loss,weight_decay,activation_para,la,L):\n",
        "    t=0\n",
        "    # batch=600\n",
        "    gamma = 0.9\n",
        "    preW={}\n",
        "    preb={}\n",
        "    train_acc=[]\n",
        "    train_loss=[]\n",
        "    val_acc=[]\n",
        "    val_loss=[]\n",
        "    for k in range(0,L):\n",
        "        preW['W'+str(k)]=np.zeros((la[k+1],la[k]))\n",
        "        preb['b'+str(k)]=np.zeros((la[k+1],1))\n",
        "        # print(preW['W'+str(k)].shape)\n",
        "    while t<epochs:\n",
        "        for i in range(0,minibatch,1):\n",
        "            X_mini=x_train[(i*batch):((i+1)*batch)]\n",
        "            y_mini=y_train[(i*batch):((i+1)*batch)]\n",
        "            batch1 = X_mini.shape[0]\n",
        "            y_mini_one_hot = np.zeros((10, batch1))\n",
        "            y_mini_one_hot[y_mini, np.array(list(range(batch1)))] = 1\n",
        "            A,H,y_hat=feedforward(X_mini.T,params,activation_para)\n",
        "            g_weights,g_biases = back_propagation(X_mini.T,y_mini_one_hot,params,A ,H,activation_para,loss)\n",
        "            l_params={}\n",
        "            for j in range(0,L):\n",
        "                l_params['W'+str(j)]=params['W'+str(j)]-(gamma*preW['W'+str(j)])\n",
        "                l_params['b'+str(j)]=params['b'+str(j)]-(gamma*preb['b'+str(j)])\n",
        "            for j in range(0,L):\n",
        "                g_weights,g_biases = back_propagation(X_mini.T,y_mini_one_hot,l_params,A ,H,activation_para,loss)\n",
        "                #g_weights[j]=g_weights[j]+weight_decay*params['W'+str(j)]\n",
        "                w=(gamma*preW['W'+str(j)])+eta*g_weights[j]\n",
        "                b=(gamma*preb['b'+str(j)])+eta*g_biases[j]\n",
        "                params['W'+str(j)]-=w-np.multiply(eta*weight_decay,params['W'+str(j)])\n",
        "                params['b'+str(j)]-=b-np.multiply(eta*weight_decay,params['b'+str(j)])\n",
        "                preW['W'+str(j)]=w\n",
        "                preb['b'+str(j)]=b\n",
        "        t+=1\n",
        "       \n",
        "        #Loss & accuracy            \n",
        "        train_a,train_l = loss_accuracy(x_train.T, params, y_train, t, loss,activation_para)\n",
        "        train_acc.append(train_a)\n",
        "        train_loss.append(train_l)\n",
        "        val_a,val_l = loss_accuracy(x_val.T, params, y_val, t, loss,activation_para)  \n",
        "        val_acc.append(val_a)\n",
        "        val_loss.append(val_l)\n",
        "     \n",
        "    return train_acc,train_loss,val_acc,val_loss\n",
        "       "
      ]
    },
    {
      "cell_type": "code",
      "source": [
        "RMS PROP "
      ],
      "metadata": {
        "id": "wWr201jWGqA4"
      },
      "execution_count": null,
      "outputs": []
    },
    {
      "cell_type": "code",
      "execution_count": null,
      "metadata": {
        "id": "LseaKDP_3t2F"
      },
      "outputs": [],
      "source": [
        "#RMSprop optimizer\n",
        "        \n",
        "def rms(x_train,y_train,x_val,y_val,eta,epochs,minibatch,batch,loss,weight_decay,activation_para,la,L):\n",
        "    t=0\n",
        "    gamma = 0.9\n",
        "    eps = 1e-8\n",
        "    beta = 0.9\n",
        "    preW={}\n",
        "    preb={}\n",
        "    train_acc=[]\n",
        "    train_loss=[]\n",
        "    val_acc=[]\n",
        "    val_loss=[]\n",
        "    for k in range(0,L):\n",
        "        preW['W'+str(k)]=np.zeros((la[k+1],la[k]))\n",
        "        preb['b'+str(k)]=np.zeros((la[k+1],1))\n",
        "    while t<epochs:\n",
        "        for i in range(0,minibatch,1):\n",
        "            X_mini=X_train[(i*batch):((i+1)*batch)]\n",
        "            y_mini=y_train[(i*batch):((i+1)*batch)]\n",
        "            batch1 = X_mini.shape[0]\n",
        "            y_mini_one_hot = np.zeros((10, batch1))\n",
        "            y_mini_one_hot[y_mini, np.array(list(range(batch1)))] = 1\n",
        "            A,H,y_hat=feedforward(X_mini.T,params,activation_para)\n",
        "            g_weights,g_biases=back_propagation(X_mini.T,y_mini_one_hot,params,A ,H,activation_para,loss)  \n",
        "            for j in range(0,L):\n",
        "                #g_weights[j]=g_weights[j]+weight_decay*params['W'+str(j)]\n",
        "                w=(beta*preW['W'+str(j)])+(1.0-beta)*(g_weights[j])**2\n",
        "                b=(beta*preb['b'+str(j)])+(1.0-beta)*(g_biases[j])**2\n",
        "                params['W'+str(j)]-=((eta/(np.sqrt(w+eps)))*g_weights[j])-np.multiply(eta*weight_decay,params['W'+str(j)])\n",
        "                params['b'+str(j)]-=((eta/(np.sqrt(b+eps)))*g_biases[j])-np.multiply(eta*weight_decay,params['b'+str(j)])\n",
        "                preW['W'+str(j)]=w\n",
        "                preb['b'+str(j)]=b\n",
        "        t+=1\n",
        "        \n",
        "        #Loss & accuracy\n",
        "        train_a,train_l = loss_accuracy(x_train.T, params, y_train, t, loss,activation_para)\n",
        "        train_acc.append(train_a)\n",
        "        train_loss.append(train_l)\n",
        "        val_a,val_l = loss_accuracy(x_val.T, params, y_val, t, loss,activation_para)  \n",
        "        val_acc.append(val_a)\n",
        "        val_loss.append(val_l)\n",
        "    \n",
        "    return train_acc,train_loss,val_acc,val_loss\n"
      ]
    },
    {
      "cell_type": "code",
      "source": [
        "STOCHASTIC GRADIENT DESCENT"
      ],
      "metadata": {
        "id": "PO3gfWxjGtip"
      },
      "execution_count": null,
      "outputs": []
    },
    {
      "cell_type": "code",
      "execution_count": null,
      "metadata": {
        "id": "JFp8tPoM32BJ"
      },
      "outputs": [],
      "source": [
        "#STOCHASTIC optimizer\n",
        "       \n",
        "def sgd(x_train,y_train,x_val,y_val,eta,epochs,minibatch,batch,loss,weight_decay,activation_para,la,L):\n",
        "    t=0\n",
        "    train_acc=[]\n",
        "    train_loss=[]\n",
        "    val_acc=[]\n",
        "    val_loss=[]\n",
        "    while t<epochs:\n",
        "        indexes=np.random.permutation(len(x_train))\n",
        "        X_ran=x_train[indexes]\n",
        "        Y_ran=y_train[indexes]\n",
        "        for x,y in zip(X_ran,Y_ran):\n",
        "            X_mini=np.array([x])\n",
        "            y_mini=np.array([y])\n",
        "            batch1 = X_mini.shape[0]\n",
        "            y_mini_one_hot = np.zeros((10, batch1))\n",
        "            y_mini_one_hot[y_mini, np.array(list(range(batch1)))] = 1\n",
        "            A,H,y_hat=feedforward(X_mini.T,params,activation_para)\n",
        "            g_weights,g_biases=back_propagation(X_mini.T,y_mini_one_hot,params,A ,H,activation_para,loss)\n",
        "            for j in range(0,L):\n",
        "                #g_weights[j]=g_weights[j]+weight_decay*params['W'+str(j)]\n",
        "                params['W'+str(j)]-=eta*g_weights[j]#-np.multiply(eta*weight_decay,params['W'+str(j)])\n",
        "                params['b'+str(j)]-=eta*g_biases[j]#-np.multiply(eta*weight_decay,params['b'+str(j)])\n",
        "        t+=1\n",
        "       \n",
        "        #Loss & accuracy\n",
        "        train_a,train_l = loss_accuracy(x_train.T, params, y_train, t, loss,activation_para)\n",
        "        train_acc.append(train_a)\n",
        "        train_loss.append(train_l)\n",
        "        val_a,val_l = loss_accuracy(x_val.T, params, y_val, t, loss,activation_para)  \n",
        "        val_acc.append(val_a)\n",
        "        val_loss.append(val_l) \n",
        "    return train_acc,train_loss,val_acc,val_loss\n",
        "     "
      ]
    },
    {
      "cell_type": "code",
      "source": [
        "ADAM"
      ],
      "metadata": {
        "id": "MF0cRUI4GxOl"
      },
      "execution_count": null,
      "outputs": []
    },
    {
      "cell_type": "code",
      "execution_count": null,
      "metadata": {
        "id": "s-XjjRyV38h1"
      },
      "outputs": [],
      "source": [
        "#ADAM optimizer\n",
        "        \n",
        "def adam(x_train,y_train,x_val,y_val,eta,epochs,minibatch,batch,loss,weight_decay,activation_para,la,L):\n",
        "    eps = 1e-8\n",
        "    beta1 = 0.9\n",
        "    beta2 = 0.999\n",
        "    t=0\n",
        "    preW={}\n",
        "    preb={}\n",
        "    mt={}\n",
        "    vt={}\n",
        "    it=0\n",
        "    train_acc=[]\n",
        "    train_loss=[]\n",
        "    val_acc=[]\n",
        "    val_loss=[]\n",
        "    for k in range(0,L):\n",
        "        preW['W'+str(k)]=np.zeros((la[k+1],la[k]))\n",
        "        preb['b'+str(k)]=np.zeros((la[k+1],1))\n",
        "    for k in range(0,L):\n",
        "        mt['W'+str(k)]=np.zeros((la[k+1],la[k]))\n",
        "        vt['b'+str(k)]=np.zeros((la[k+1],1))\n",
        "    while t<epochs:\n",
        "        for i in range(0,minibatch,1):\n",
        "            X_mini=x_train[(i*batch):((i+1)*batch)]\n",
        "            y_mini=y_train[(i*batch):((i+1)*batch)]\n",
        "            batch1 = X_mini.shape[0]\n",
        "            y_mini_one_hot = np.zeros((10, batch1))\n",
        "            y_mini_one_hot[y_mini, np.array(list(range(batch1)))] = 1\n",
        "            A,H,y_hat=feedforward(X_mini.T,params,activation_para)\n",
        "            g_weights,g_biases=back_propagation(X_mini.T,y_mini_one_hot,params,A ,H,activation_para,loss)\n",
        "            it+=1\n",
        "            for j in range(0,L):\n",
        "                #g_weights[j]=g_weights[j]+weight_decay*params['W'+str(j)]\n",
        "                mt['W'+str(j)]=beta1*mt['W'+str(j)]+(1-beta1)*g_weights[j]\n",
        "                vt['b'+str(j)]=beta1*vt['b'+str(j)]+(1-beta1)*g_biases[j]\n",
        "                preW['W'+str(j)]=beta2*preW['W'+str(j)]+(1-beta2)*(g_weights[j]**2)\n",
        "                preb['b'+str(j)]=beta2*preb['b'+str(j)]+(1-beta2)*(g_biases[j]**2)\n",
        "                mhatw=mt['W'+str(j)]/(1-(beta1)**it)\n",
        "                mhatb=vt['b'+str(j)]/(1-(beta1)**it)\n",
        "                vhatw=preW['W'+str(j)]/(1-(beta2)**it)\n",
        "                vhatb=preb['b'+str(j)]/(1-(beta2)**it)\n",
        "                params['W'+str(j)]-=((eta/(np.sqrt(vhatw+eps)))*mhatw)-np.multiply(eta*weight_decay,params['W'+str(j)])\n",
        "                params['b'+str(j)]-=((eta/(np.sqrt(vhatb+eps)))*mhatb)-np.multiply(eta*weight_decay,params['b'+str(j)])\n",
        "        t+=1\n",
        "        \n",
        "        #Loss & accuracy\n",
        "        train_a,train_l = loss_accuracy(x_train.T, params, y_train, t, loss,activation_para)\n",
        "        train_acc.append(train_a)\n",
        "        train_loss.append(train_l)\n",
        "        val_a,val_l = loss_accuracy(x_val.T, params, y_val, t, loss,activation_para)  \n",
        "        val_acc.append(val_a)\n",
        "        val_loss.append(val_l)\n",
        "     \n",
        "    return train_acc,train_loss,val_acc,val_loss\n"
      ]
    },
    {
      "cell_type": "code",
      "source": [
        "NADAM"
      ],
      "metadata": {
        "id": "VdPJVh4cGyW1"
      },
      "execution_count": null,
      "outputs": []
    },
    {
      "cell_type": "code",
      "execution_count": null,
      "metadata": {
        "id": "3_PfaI654EIg"
      },
      "outputs": [],
      "source": [
        "#NADAM optimizer\n",
        "       \n",
        "def nadam(x_train,y_train,x_val,y_val,eta,epochs,minibatch,batch,loss,weight_decay,activation_para,la,L):\n",
        "\n",
        "    #print('inside optimizer nadam')\n",
        "    #print(la)\n",
        "    eps = 1e-8\n",
        "    beta1 = 0.9\n",
        "    beta2 = 0.999\n",
        "    t=0\n",
        "    minibatch=math.ceil(x_train.shape[0]/batch)\n",
        "    preW={}\n",
        "    preb={}\n",
        "    mt={}\n",
        "    vt={}\n",
        "    it=0\n",
        "    train_acc=[]\n",
        "    train_loss=[]\n",
        "    val_acc=[]\n",
        "    val_loss=[]\n",
        "    for k in range(0,L):\n",
        "        preW['W'+str(k)]=np.zeros((la[k+1],la[k]))\n",
        "        preb['b'+str(k)]=np.zeros((la[k+1],1))\n",
        "    for k in range(0,L):\n",
        "        mt['W'+str(k)]=np.zeros((la[k+1],la[k]))\n",
        "        vt['b'+str(k)]=np.zeros((la[k+1],1))\n",
        "    while t<epochs:\n",
        "        for i in range(0,minibatch,1):\n",
        "            X_mini=x_train[(i*batch):((i+1)*batch)]\n",
        "            y_mini=y_train[(i*batch):((i+1)*batch)]\n",
        "            batch1 = X_mini.shape[0]\n",
        "            y_mini_one_hot = np.zeros((10, batch1))\n",
        "            y_mini_one_hot[y_mini, np.array(list(range(batch1)))] = 1\n",
        "            A,H,y_hat=feedforward(X_mini.T,params,activation_para)\n",
        "            g_weights,g_biases=back_propagation(X_mini.T,y_mini_one_hot,params,A ,H,activation_para,loss)\n",
        "            it+=1\n",
        "            for j in range(0,L):\n",
        "                #g_weights[j]=g_weights[j]+weight_decay*params['W'+str(j)]\n",
        "                mt['W'+str(j)]=beta1*mt['W'+str(j)]+(1-beta1)*g_weights[j]\n",
        "                vt['b'+str(j)]=beta1*vt['b'+str(j)]+(1-beta1)*g_biases[j]\n",
        "                preW['W'+str(j)]=beta2*preW['W'+str(j)]+(1-beta2)*(g_weights[j]**2)\n",
        "                preb['b'+str(j)]=beta2*preb['b'+str(j)]+(1-beta2)*(g_biases[j]**2)\n",
        "                mhatw=mt['W'+str(j)]/(1-(beta1)**it)\n",
        "                mhatb=vt['b'+str(j)]/(1-(beta1)**it)\n",
        "                vhatw=preW['W'+str(j)]/(1-(beta2)**it)\n",
        "                vhatb=preb['b'+str(j)]/(1-(beta2)**it)\n",
        "                mbarw=beta1*mhatw+(1.0-beta1)*g_weights[j]\n",
        "                mbarb=beta1*mhatb+(1.0-beta1)*g_biases[j]\n",
        "                params['W'+str(j)]-=((eta/(np.sqrt(vhatw+eps)))*mbarw)-np.multiply(eta*weight_decay,params['W'+str(j)])\n",
        "                params['b'+str(j)]-=((eta/(np.sqrt(vhatb+eps)))*mbarb)-np.multiply(eta*weight_decay,params['b'+str(j)])\n",
        "        t+=1\n",
        "       \n",
        "        #Loss & accuracy\n",
        "    \n",
        "        train_a,train_l = loss_accuracy(x_train.T, params, y_train, t, loss,activation_para)\n",
        "        train_acc.append(train_a)\n",
        "        train_loss.append(train_l)\n",
        "        val_a,val_l = loss_accuracy(x_val.T, params, y_val, t, loss,activation_para)  \n",
        "        val_acc.append(val_a)\n",
        "        val_loss.append(val_l)\n",
        "    return train_acc,train_loss,val_acc,val_loss\n",
        "       "
      ]
    },
    {
      "cell_type": "code",
      "source": [
        "FIT FUNCTION WHICH CALLS ALL GD'S"
      ],
      "metadata": {
        "id": "c2tWd4xYGznN"
      },
      "execution_count": null,
      "outputs": []
    },
    {
      "cell_type": "code",
      "execution_count": null,
      "metadata": {
        "id": "4MRkq77z4Lxl"
      },
      "outputs": [],
      "source": [
        "#FIT models        \n",
        "def fit(X,y,batch,epochs,eta,weight_para,optimiser,loss,weight_decay,activation_para,la,L):      \n",
        "    weight_para = 'Xavier'\n",
        "    weight_initialize(weight_para,la)\n",
        "    \n",
        "    X_train, X_val, Y_train, Y_val = train_test_split(X, y, test_size=0.1, random_state=42)\n",
        "    \n",
        "    #batch=100\n",
        "    \n",
        "    minibatch=math.ceil(X_train.shape[0]/batch)\n",
        "    \n",
        "    if optimiser=='momentumGD':\n",
        "        print('calling optimizer momentum ')\n",
        "        train_acc,train_loss,val_acc,val_loss=momentumGD(X_train,y_train,X_val,Y_val,eta,epochs,minibatch,batch,loss,weight_decay,activation_para,la,L)\n",
        "    elif optimiser=='nadam':\n",
        "        print('calling optimizer nadam ')\n",
        "        train_acc,train_loss,val_acc,val_loss=nadam(X_train,Y_train,X_val,Y_val,eta,epochs,minibatch,batch,loss,weight_decay,activation_para,la,L)\n",
        "    elif optimiser=='rms':\n",
        "        print('calling optimizer rms ')\n",
        "        train_acc,train_loss,val_acc,val_loss=rms(X_train,Y_train,X_val,Y_val,eta,epochs,minibatch,batch,loss,weight_decay,activation_para,la,L)\n",
        "    elif optimiser=='sgd':\n",
        "        print('calling optimizer sgd ')\n",
        "        train_acc,train_loss,val_acc,val_loss=sgd(X_train,Y_train,X_val,Y_val,eta,epochs,minibatch,batch,loss,weight_decay,activation_para,la,L)\n",
        "    elif optimiser=='adam':\n",
        "        print('calling optimizer adam ')\n",
        "        train_acc,train_loss,val_acc,val_loss=adam(X_train,Y_train,X_val,Y_val,eta,epochs,minibatch,batch,loss,weight_decay,activation_para,la,L)\n",
        "    elif optimiser=='nag':\n",
        "        print('calling optimizer nag ')\n",
        "        train_acc,train_loss,val_acc,val_loss=nag(X_train,Y_train,X_val,Y_val,eta,epochs,minibatch,batch,loss,weight_decay,activation_para,la,L)\n",
        "    elif optimiser=='vanillagd':\n",
        "        train_acc,train_loss,val_acc,val_loss=vanillagd(X_train,Y_train,X_val,Y_val,eta,epochs,minibatch,batch,loss,weight_decay,activation_para,la,L)   \n",
        "    \n",
        "    return train_acc,train_loss,val_acc,val_loss\n",
        "\n",
        "#la=[784,256,256,10]\n",
        "#L=len(la)-1         \n",
        "#train_acc,train_loss,val_acc,val_loss= fit(X,y,100,5,0.01,'Xavier','nadam','cross_entropy',0,'tanh',la,L)\n",
        "\n",
        "#print(train_acc,train_loss,val_acc,val_loss)"
      ]
    },
    {
      "cell_type": "code",
      "source": [
        "SWEEP SETUP AND SWEEP FUNCTION"
      ],
      "metadata": {
        "id": "5uOgGl9ZG4v1"
      },
      "execution_count": null,
      "outputs": []
    },
    {
      "cell_type": "code",
      "execution_count": null,
      "metadata": {
        "colab": {
          "base_uri": "https://localhost:8080/",
          "height": 1000,
          "referenced_widgets": [
            "759780ecf3c74bc4a895dda793fc4ed0",
            "c2713428e6f34ed0b8643ddca501b132",
            "0fce0fb00d9a4d3a9059012e9e0d7650",
            "16135a387e484ddfaaef9266ed2a5bed",
            "617884ab80ba429b9ea1f5cc4eb72f78",
            "a430e71de5ef4e4faf71e9971d1903a1",
            "2c1f8e00a4a14f5f9942f1021bd6a00c",
            "d89b347d15c44b909fab9eacc1d75aaf",
            "9dbd8517003b4fed800d747d48e62613",
            "73d8d0d60e474d4c95d36101e032c7e5",
            "78b5dddf66fc45aea7a41106a8081f94",
            "c07fa53d42d84466ac19863879ac76b3",
            "6b1163432fec4015807fd158f6c176dd",
            "f5052afc11104f87995cbb8282c3eda6",
            "d9e51f609eef4404b5eb61d4bbdf1a1c",
            "e47c70ff5343420fa8d4015b9a2f331c",
            "2749be44a4cb407a9eb7205867edfec8",
            "f40ae3d16a3d4fa584765805d055eea8",
            "9efec9a70379474590fd6b288884e37a",
            "fad39e6bc734497eb8d51018bdac52f6",
            "22cefe592dbe43d589b403200bc73820",
            "253699ed459e480b8e67a309ced9b31b",
            "85cf5746b37348eca7d3e41e388bc607",
            "890fbe6891e94ea69e1e858f4e891948",
            "9c0a1f39f4f0448d80b6fa0312e49744",
            "4f07447e2fb94579931cbaec9270ed2d",
            "6b92766e629e4d3a87e0246895003179",
            "8fffdf5dbb884aeca323d006cdb4fbcb",
            "353a54c74d9e4890ada848341a30f88c",
            "5f5c35bd681143fa8e0e0280f5ee70e8",
            "e6f0dc02b2ee4e04a65524f1f48c7f2c",
            "feb1dbd3310742278fd831860694cce5",
            "c88e848fb2224792ba4a019e2c0b1bec",
            "0785d42ba5be415fbb3c0ba270bfeddb",
            "40dccc5e75724216878090b2c9ca5d84",
            "cb04271bd7a8474e8fa1d636694a28f0",
            "66f8d9f6e905479494e106af1ec97057",
            "9dcf10823844414280169554d3417fc6",
            "162c8235dbf143c7841524d37b24c3fe",
            "4413f0f594aa48cc9d2cb1c760503f72",
            "126f675f94874249bfad2095cbc85a39",
            "23a09f9215e14105912453214cdbff54",
            "6b8571d4ac5c43e59a1d03d50f59f801",
            "10134181ea564bc5b8e0f902f0bb5806",
            "a47dac83ad3845c6b0272c9e53379cb1",
            "de184136de7549ffa0b8f7d16fc00578",
            "83bd0ef876b947afa653fdd767fabdec",
            "6b654609d32c4724b3763b9308ec141f",
            "9250d7859ca44f5d8f77a7965454a60c",
            "4adbbaef31734559bdf27a79649a3a27",
            "e849d2fe78644685a271a108d9a9f635",
            "4b114bb4cfa7493c99607e617501f86b",
            "b0bdd1c4c5224740837bd89d3b81d8bf",
            "d6e2892ca6e84612a5cd548f8669d73a",
            "c1dafbc42d8642d2a547c8d14f03c699",
            "7f4dc8c375a345db94d607e6fc513e87",
            "ce9ca9e4c3fc40429aa19588f98356df",
            "1c15637f98984e47a9cca23c4bd1694a",
            "b355269303ff4ad5a5474fdec812c7ab",
            "5ad639abe37d45388a493af8342b7f3e",
            "d6422590f91945768e62192a648e5768",
            "9985b7b3777f49d38de77a2e3fa6e50e",
            "30fdad418dc64987b987cf2e564be92f",
            "16fb2fb4f3c4457ea6b2421e71b6c9aa",
            "e401b322e3fa4997b3c597e44ed8d3bd",
            "fbbce9b71c1441919353053b81ec4f0c",
            "c3250df5669b4ea98cb796785d6e41fb",
            "ee9080dab393413ab69827f0a1d0c89f",
            "5d54bf75622246fd9c83d5ee6f133290",
            "1e17a113136f4c5a9db5164fdb5114d3",
            "a98650414e394b42a2533bb48511e707",
            "ed1f5fe243264e6b90b08c22acd654c3",
            "4bfa03a5db4e411c88fd297e95b296a6",
            "f104b2639baa4fe499306514bd5e1887",
            "7929aebfe2cf472aa28c5d5b484b0cb3",
            "db9218e8fdae483fbbc16cd86b61714a",
            "691d31411355461298ccd9b4d346d095",
            "887bbf6ed279492b9a956e2cbb95ec4a",
            "143072898ab446aeb36828b553a4d7ce",
            "396250a2a56f4f86b9ca2865c6f465db",
            "cee8e14470e542ff9e1dad7bace714ae",
            "71a4275f9056415487d052de2b118575",
            "1d274215e6f94779aeb03880a23a4a4c",
            "bd1184c7f43446d39e5e88d779b278e8",
            "9ba29a5324d347588e9b33b18d4a009b",
            "7adf7a4ec1d24effa51d539606736327",
            "b8d8467c1c0141609ffcf5483e7423a4",
            "addc75a177d142f78f3a6c7348c7e44c",
            "2217711660e641a0882b529568562822",
            "fd4ca8a84d0643f89f114d1b3281acae",
            "aa23ec1c111d4913ad34c3e489def5b3",
            "2252ab90f40d471f85b19762fa8978ab",
            "3dca54f3238e414ab446fbf458eaaee4",
            "0f39100a32f340ee981335016fb45279",
            "2574208602f841ceb3f97a43890b36f5",
            "2a83ccb1317a4c149c866b7d6b4d89a5",
            "8d315c56a8ae4746ac39444d74f41ba8",
            "71d955b0caea48f2bac470a4b6656e1e",
            "fb6bc920e57d4bd6887631ea05f77d2a",
            "9fcf6736525240b1aeed7c3c6e891b3a",
            "4c5323013c864be4b6e2f593f175901f",
            "6efbcc934acc4fdeba0e108cc6212caa",
            "49911e1fc1164af18a51244b20302089",
            "1496d9622dcb4e118c3d60dec186af8d",
            "f42e670e00fe4936ac4b5276a1e7c16b",
            "00b5b1c54c904a44949a02c521d5de50",
            "da09401b45c34044a92a4056424c98d3",
            "7a42e9c02469443b9d78a2c4993aa16d",
            "95365d52d5c94539a7693192e2eeed36",
            "e39b858e9bcd47e1bc00aec37b5a80ee",
            "e6d3dacae7424371a6b1deaa82ffb7a2",
            "e999c2d8dc88408986bcfa85e0f30f78",
            "5edeadd9a7584186997c9b65dd26d58d",
            "cc8ed8f624e64509b842ffd2054711be",
            "2db4845d748544dd988adf7357b4c6fa",
            "b4977d92c2554a29b4d5ad44868b6459",
            "3f682a8fa7bc4c028dc2f27b2f851207",
            "169086a825de44379e536ad3e9a8665b",
            "5ae6b6a4899b4bd4a976a98d76a29cb7",
            "e6623d315a3d452694b1b1549ced0f3c",
            "c1ae581b6a734bedb02c8e4a2629337b",
            "1a674fb44e3f493d9789d173519e390e",
            "ea967ff0cedb4254838b6b24e781d254",
            "69edc7bab52a456bbcdbf5ae0ad51486",
            "a8d8ef773ae34dcfa8cb800c054172f9",
            "46d3048feeb643e2adbab73ca6a0e494",
            "98c973f8c94d4022a6da8cc2f312f3b1",
            "fb234e4ddf614bcf9fb2f451d87dc37d",
            "2cfea23648d040afbe081240d83f5209",
            "db34ee03d5a34dd9917f87957d266b39",
            "9f556aa86eb5474193cc6cfa8a06a879",
            "ef5f8496e60e45358623ec24c1920f01",
            "ae999f9949df404283c7c64e743b9408",
            "d12361a2e91b4659ae5dc45ad6804e18",
            "6380860fc29f47f18a9bc0a7be8dc58d",
            "0b4b3fa923bd4269b654eea34f6ccf26",
            "1b1100089e6d4674aaa437e2202fafc3",
            "1ff7d6b1e67942f1a67c5e14dc128d20",
            "f34a7d5bcd9643e7917c91cb4a9edfe7",
            "8d474946dff04f609ad899980a800c99",
            "0aeb5dde01d04cefb33fced9916250a1",
            "a8294b4bd170472799bf24a052d5b926",
            "5ae184aa1a6440e6aae69d10c54e9d5b",
            "faf5a291fe0c4004831321ccf378baaf",
            "ac519176679d4c9cb65ba033195aa403",
            "41c256697fb3466ea243e5b9fafbf701",
            "5b62be1276174978adc3054abe36f054",
            "bbed1f1920424f2791fd9f065ae49f56",
            "79c68d631371430fb280d46a6f13564f",
            "8336d0c14d7e49be9ded272e09d65940",
            "522f30b97b804767b3dc803185e81c46",
            "3e50ddc3e7064000a0c9fb6b9607b354",
            "3e591fca1045452bbb4c5b146cd0854a",
            "06e5abe60f044abeab294d7e7aa8aa95",
            "5e205a24b56f4c8aa0cc01afda7014c7",
            "01bd66201c924bcb842581611c3f4617",
            "2c2ad710e89a4a45b015d2fb4be34bcb",
            "ba6796d00e7747be89cdcaaa9cbaec99",
            "93e6608342a84f2eb984166b3a7daf43",
            "55e15e866ea04a9cba83ea470a085584"
          ]
        },
        "id": "rxJwQw4_4hUl",
        "outputId": "f608a9d1-8a99-4708-b2b5-bcd729bddf57"
      },
      "outputs": [
        {
          "output_type": "stream",
          "name": "stderr",
          "text": [
            "\u001b[34m\u001b[1mwandb\u001b[0m: \u001b[33mWARNING\u001b[0m Ignored wandb.init() arg project when running a sweep.\n",
            "\u001b[34m\u001b[1mwandb\u001b[0m: \u001b[33mWARNING\u001b[0m Ignored wandb.init() arg entity when running a sweep.\n"
          ]
        },
        {
          "output_type": "display_data",
          "data": {
            "text/html": [
              "\n",
              "                    Syncing run <strong><a href=\"https://wandb.ai/anandh/CS6910_Assignment1_Sweep/runs/0favqtq9\" target=\"_blank\">lr_0.001_hl_4_bs_16_ac_tanh_ep_10</a></strong> to <a href=\"https://wandb.ai/anandh/CS6910_Assignment1_Sweep\" target=\"_blank\">Weights & Biases</a> (<a href=\"https://docs.wandb.com/integrations/jupyter.html\" target=\"_blank\">docs</a>).<br/>\n",
              "Sweep page: <a href=\"https://wandb.ai/anandh/CS6910_Assignment1_Sweep/sweeps/meo8511v\" target=\"_blank\">https://wandb.ai/anandh/CS6910_Assignment1_Sweep/sweeps/meo8511v</a><br/>\n",
              "\n",
              "                "
            ],
            "text/plain": [
              "<IPython.core.display.HTML object>"
            ]
          },
          "metadata": {}
        },
        {
          "output_type": "stream",
          "name": "stderr",
          "text": [
            "\u001b[34m\u001b[1mwandb\u001b[0m: \u001b[33mWARNING\u001b[0m Calling wandb.login() after wandb.init() has no effect.\n"
          ]
        },
        {
          "output_type": "stream",
          "name": "stdout",
          "text": [
            "Create sweep with ID: sugh3pe3\n",
            "Sweep URL: https://wandb.ai/anandh/CS6910_Assignment1_Sweep/sweeps/sugh3pe3\n"
          ]
        },
        {
          "output_type": "stream",
          "name": "stderr",
          "text": [
            "\u001b[34m\u001b[1mwandb\u001b[0m: Agent Starting Run: 29uwb0kz with config:\n",
            "\u001b[34m\u001b[1mwandb\u001b[0m: \tactivation_para: relu\n",
            "\u001b[34m\u001b[1mwandb\u001b[0m: \tbatch: 100\n",
            "\u001b[34m\u001b[1mwandb\u001b[0m: \tepochs: 5\n",
            "\u001b[34m\u001b[1mwandb\u001b[0m: \teta: 0.01\n",
            "\u001b[34m\u001b[1mwandb\u001b[0m: \tno_of_hidden: 3\n",
            "\u001b[34m\u001b[1mwandb\u001b[0m: \tno_of_neurons: 256\n",
            "\u001b[34m\u001b[1mwandb\u001b[0m: \toptimiser: rms\n",
            "\u001b[34m\u001b[1mwandb\u001b[0m: \tweight_decay: 0\n",
            "\u001b[34m\u001b[1mwandb\u001b[0m: \tweight_para: Xavier\n"
          ]
        },
        {
          "output_type": "display_data",
          "data": {
            "text/html": [
              "\n",
              "                    Syncing run <strong><a href=\"https://wandb.ai/anandh/CS6910_Assignment1_Sweep/runs/29uwb0kz\" target=\"_blank\">clear-sweep-1</a></strong> to <a href=\"https://wandb.ai/anandh/CS6910_Assignment1_Sweep\" target=\"_blank\">Weights & Biases</a> (<a href=\"https://docs.wandb.com/integrations/jupyter.html\" target=\"_blank\">docs</a>).<br/>\n",
              "Sweep page: <a href=\"https://wandb.ai/anandh/CS6910_Assignment1_Sweep/sweeps/sugh3pe3\" target=\"_blank\">https://wandb.ai/anandh/CS6910_Assignment1_Sweep/sweeps/sugh3pe3</a><br/>\n",
              "\n",
              "                "
            ],
            "text/plain": [
              "<IPython.core.display.HTML object>"
            ]
          },
          "metadata": {}
        },
        {
          "output_type": "stream",
          "name": "stdout",
          "text": [
            "[784, 256, 256, 256, 10]\n",
            "calling optimizer rms \n",
            "Accuracy of  train= 75.59444444444445   Loss of train = 0.686013509714691   Accuracy of val= 75.36666666666667  Accuracy of val= 0.6847653912156189\n",
            "Accuracy of  train= 77.88888888888889   Loss of train = 0.6198261197335584   Accuracy of val= 77.75  Accuracy of val= 0.6234174490625323\n",
            "Accuracy of  train= 78.80740740740741   Loss of train = 0.5937094669211268   Accuracy of val= 78.48333333333333  Accuracy of val= 0.6015957887519673\n",
            "Accuracy of  train= 79.12962962962963   Loss of train = 0.5841589586350104   Accuracy of val= 78.41666666666667  Accuracy of val= 0.596306761538587\n",
            "Accuracy of  train= 79.33333333333333   Loss of train = 0.5776311095180979   Accuracy of val= 78.51666666666667  Accuracy of val= 0.5933670131234889\n",
            "Accuracy of  test_data= 78.02\n"
          ]
        },
        {
          "output_type": "display_data",
          "data": {
            "text/html": [
              "<br/>Waiting for W&B process to finish, PID 4771... <strong style=\"color:green\">(success).</strong>"
            ],
            "text/plain": [
              "<IPython.core.display.HTML object>"
            ]
          },
          "metadata": {}
        },
        {
          "output_type": "display_data",
          "data": {
            "application/vnd.jupyter.widget-view+json": {
              "model_id": "759780ecf3c74bc4a895dda793fc4ed0",
              "version_minor": 0,
              "version_major": 2
            },
            "text/plain": [
              "VBox(children=(Label(value=' 0.00MB of 0.00MB uploaded (0.00MB deduped)\\r'), FloatProgress(value=1.0, max=1.0)…"
            ]
          },
          "metadata": {}
        },
        {
          "output_type": "display_data",
          "data": {
            "text/html": [
              "<style>\n",
              "    table.wandb td:nth-child(1) { padding: 0 10px; text-align: right }\n",
              "    .wandb-row { display: flex; flex-direction: row; flex-wrap: wrap; width: 100% }\n",
              "    .wandb-col { display: flex; flex-direction: column; flex-basis: 100%; flex: 1; padding: 10px; }\n",
              "    </style>\n",
              "<div class=\"wandb-row\"><div class=\"wandb-col\">\n",
              "<h3>Run history:</h3><br/><table class=\"wandb\"><tr><td>epochs</td><td>▁▃▅▆█</td></tr><tr><td>test_acc</td><td>▁</td></tr><tr><td>train_acc</td><td>▁▅▇██</td></tr><tr><td>train_loss</td><td>█▄▂▁▁</td></tr><tr><td>val_acc</td><td>▁▆███</td></tr><tr><td>val_loss</td><td>█▃▂▁▁</td></tr></table><br/></div><div class=\"wandb-col\">\n",
              "<h3>Run summary:</h3><br/><table class=\"wandb\"><tr><td>epochs</td><td>5</td></tr><tr><td>test_acc</td><td>78.02</td></tr><tr><td>train_acc</td><td>79.33333</td></tr><tr><td>train_loss</td><td>0.57763</td></tr><tr><td>val_acc</td><td>78.51667</td></tr><tr><td>val_loss</td><td>0.59337</td></tr></table>\n",
              "</div></div>\n",
              "Synced 5 W&B file(s), 0 media file(s), 0 artifact file(s) and 0 other file(s)\n",
              "<br/>Synced <strong style=\"color:#cdcd00\">clear-sweep-1</strong>: <a href=\"https://wandb.ai/anandh/CS6910_Assignment1_Sweep/runs/29uwb0kz\" target=\"_blank\">https://wandb.ai/anandh/CS6910_Assignment1_Sweep/runs/29uwb0kz</a><br/>\n",
              "Find logs at: <code>./wandb/run-20220225_154024-29uwb0kz/logs</code><br/>\n"
            ],
            "text/plain": [
              "<IPython.core.display.HTML object>"
            ]
          },
          "metadata": {}
        },
        {
          "output_type": "stream",
          "name": "stderr",
          "text": [
            "\u001b[34m\u001b[1mwandb\u001b[0m: Sweep Agent: Waiting for job.\n",
            "\u001b[34m\u001b[1mwandb\u001b[0m: Job received.\n",
            "\u001b[34m\u001b[1mwandb\u001b[0m: Agent Starting Run: vhe84js8 with config:\n",
            "\u001b[34m\u001b[1mwandb\u001b[0m: \tactivation_para: sigmoid\n",
            "\u001b[34m\u001b[1mwandb\u001b[0m: \tbatch: 100\n",
            "\u001b[34m\u001b[1mwandb\u001b[0m: \tepochs: 10\n",
            "\u001b[34m\u001b[1mwandb\u001b[0m: \teta: 0.01\n",
            "\u001b[34m\u001b[1mwandb\u001b[0m: \tno_of_hidden: 4\n",
            "\u001b[34m\u001b[1mwandb\u001b[0m: \tno_of_neurons: 256\n",
            "\u001b[34m\u001b[1mwandb\u001b[0m: \toptimiser: adam\n",
            "\u001b[34m\u001b[1mwandb\u001b[0m: \tweight_decay: 0\n",
            "\u001b[34m\u001b[1mwandb\u001b[0m: \tweight_para: random\n"
          ]
        },
        {
          "output_type": "display_data",
          "data": {
            "text/html": [
              "\n",
              "                    Syncing run <strong><a href=\"https://wandb.ai/anandh/CS6910_Assignment1_Sweep/runs/vhe84js8\" target=\"_blank\">radiant-sweep-2</a></strong> to <a href=\"https://wandb.ai/anandh/CS6910_Assignment1_Sweep\" target=\"_blank\">Weights & Biases</a> (<a href=\"https://docs.wandb.com/integrations/jupyter.html\" target=\"_blank\">docs</a>).<br/>\n",
              "Sweep page: <a href=\"https://wandb.ai/anandh/CS6910_Assignment1_Sweep/sweeps/sugh3pe3\" target=\"_blank\">https://wandb.ai/anandh/CS6910_Assignment1_Sweep/sweeps/sugh3pe3</a><br/>\n",
              "\n",
              "                "
            ],
            "text/plain": [
              "<IPython.core.display.HTML object>"
            ]
          },
          "metadata": {}
        },
        {
          "output_type": "stream",
          "name": "stdout",
          "text": [
            "[784, 256, 256, 256, 256, 10]\n",
            "calling optimizer adam \n",
            "Accuracy of  train= 9.985185185185186   Loss of train = 2.312919473636448   Accuracy of val= 10.133333333333333  Accuracy of val= 2.310725358467211\n",
            "Accuracy of  train= 9.985185185185186   Loss of train = 2.2629034611888286   Accuracy of val= 10.133333333333333  Accuracy of val= 2.2612725006653496\n",
            "Accuracy of  train= 10.075925925925926   Loss of train = 2.2132689208993583   Accuracy of val= 10.216666666666667  Accuracy of val= 2.2120224328447007\n",
            "Accuracy of  train= 11.227777777777778   Loss of train = 2.1655963026334466   Accuracy of val= 11.366666666666667  Accuracy of val= 2.1647074633904193\n",
            "Accuracy of  train= 13.374074074074075   Loss of train = 2.1200425288857376   Accuracy of val= 13.583333333333334  Accuracy of val= 2.1195012713116337\n",
            "Accuracy of  train= 18.122222222222224   Loss of train = 2.076557830483886   Accuracy of val= 18.266666666666666  Accuracy of val= 2.0763581531020985\n",
            "Accuracy of  train= 25.137037037037036   Loss of train = 2.035050141836786   Accuracy of val= 25.2  Accuracy of val= 2.0351872914395446\n",
            "Accuracy of  train= 32.07407407407407   Loss of train = 1.9954191377141839   Accuracy of val= 31.583333333333336  Accuracy of val= 1.9958885717817723\n",
            "Accuracy of  train= 37.21296296296296   Loss of train = 1.9575654156684799   Accuracy of val= 36.199999999999996  Accuracy of val= 1.9583622900692677\n",
            "Accuracy of  train= 40.88703703703704   Loss of train = 1.92139366313967   Accuracy of val= 39.666666666666664  Accuracy of val= 1.9225125350101402\n",
            "Accuracy of  test_data= 40.87\n"
          ]
        },
        {
          "output_type": "display_data",
          "data": {
            "text/html": [
              "<br/>Waiting for W&B process to finish, PID 4818... <strong style=\"color:green\">(success).</strong>"
            ],
            "text/plain": [
              "<IPython.core.display.HTML object>"
            ]
          },
          "metadata": {}
        },
        {
          "output_type": "display_data",
          "data": {
            "application/vnd.jupyter.widget-view+json": {
              "model_id": "9dbd8517003b4fed800d747d48e62613",
              "version_minor": 0,
              "version_major": 2
            },
            "text/plain": [
              "VBox(children=(Label(value=' 0.00MB of 0.00MB uploaded (0.00MB deduped)\\r'), FloatProgress(value=1.0, max=1.0)…"
            ]
          },
          "metadata": {}
        },
        {
          "output_type": "display_data",
          "data": {
            "text/html": [
              "<style>\n",
              "    table.wandb td:nth-child(1) { padding: 0 10px; text-align: right }\n",
              "    .wandb-row { display: flex; flex-direction: row; flex-wrap: wrap; width: 100% }\n",
              "    .wandb-col { display: flex; flex-direction: column; flex-basis: 100%; flex: 1; padding: 10px; }\n",
              "    </style>\n",
              "<div class=\"wandb-row\"><div class=\"wandb-col\">\n",
              "<h3>Run history:</h3><br/><table class=\"wandb\"><tr><td>epochs</td><td>▁▂▃▃▄▅▆▆▇█</td></tr><tr><td>test_acc</td><td>▁</td></tr><tr><td>train_acc</td><td>▁▁▁▁▂▃▄▆▇█</td></tr><tr><td>train_loss</td><td>█▇▆▅▅▄▃▂▂▁</td></tr><tr><td>val_acc</td><td>▁▁▁▁▂▃▅▆▇█</td></tr><tr><td>val_loss</td><td>█▇▆▅▅▄▃▂▂▁</td></tr></table><br/></div><div class=\"wandb-col\">\n",
              "<h3>Run summary:</h3><br/><table class=\"wandb\"><tr><td>epochs</td><td>10</td></tr><tr><td>test_acc</td><td>40.87</td></tr><tr><td>train_acc</td><td>40.88704</td></tr><tr><td>train_loss</td><td>1.92139</td></tr><tr><td>val_acc</td><td>39.66667</td></tr><tr><td>val_loss</td><td>1.92251</td></tr></table>\n",
              "</div></div>\n",
              "Synced 5 W&B file(s), 0 media file(s), 0 artifact file(s) and 0 other file(s)\n",
              "<br/>Synced <strong style=\"color:#cdcd00\">radiant-sweep-2</strong>: <a href=\"https://wandb.ai/anandh/CS6910_Assignment1_Sweep/runs/vhe84js8\" target=\"_blank\">https://wandb.ai/anandh/CS6910_Assignment1_Sweep/runs/vhe84js8</a><br/>\n",
              "Find logs at: <code>./wandb/run-20220225_154156-vhe84js8/logs</code><br/>\n"
            ],
            "text/plain": [
              "<IPython.core.display.HTML object>"
            ]
          },
          "metadata": {}
        },
        {
          "output_type": "stream",
          "name": "stderr",
          "text": [
            "\u001b[34m\u001b[1mwandb\u001b[0m: Agent Starting Run: csuvc885 with config:\n",
            "\u001b[34m\u001b[1mwandb\u001b[0m: \tactivation_para: sigmoid\n",
            "\u001b[34m\u001b[1mwandb\u001b[0m: \tbatch: 16\n",
            "\u001b[34m\u001b[1mwandb\u001b[0m: \tepochs: 5\n",
            "\u001b[34m\u001b[1mwandb\u001b[0m: \teta: 0.001\n",
            "\u001b[34m\u001b[1mwandb\u001b[0m: \tno_of_hidden: 3\n",
            "\u001b[34m\u001b[1mwandb\u001b[0m: \tno_of_neurons: 256\n",
            "\u001b[34m\u001b[1mwandb\u001b[0m: \toptimiser: nadam\n",
            "\u001b[34m\u001b[1mwandb\u001b[0m: \tweight_decay: 0.0005\n",
            "\u001b[34m\u001b[1mwandb\u001b[0m: \tweight_para: Xavier\n"
          ]
        },
        {
          "output_type": "display_data",
          "data": {
            "text/html": [
              "\n",
              "                    Syncing run <strong><a href=\"https://wandb.ai/anandh/CS6910_Assignment1_Sweep/runs/csuvc885\" target=\"_blank\">peach-sweep-3</a></strong> to <a href=\"https://wandb.ai/anandh/CS6910_Assignment1_Sweep\" target=\"_blank\">Weights & Biases</a> (<a href=\"https://docs.wandb.com/integrations/jupyter.html\" target=\"_blank\">docs</a>).<br/>\n",
              "Sweep page: <a href=\"https://wandb.ai/anandh/CS6910_Assignment1_Sweep/sweeps/sugh3pe3\" target=\"_blank\">https://wandb.ai/anandh/CS6910_Assignment1_Sweep/sweeps/sugh3pe3</a><br/>\n",
              "\n",
              "                "
            ],
            "text/plain": [
              "<IPython.core.display.HTML object>"
            ]
          },
          "metadata": {}
        },
        {
          "output_type": "stream",
          "name": "stdout",
          "text": [
            "[784, 256, 256, 256, 10]\n",
            "calling optimizer nadam \n",
            "Accuracy of  train= 35.90740740740741   Loss of train = 2.1147541118353796   Accuracy of val= 35.68333333333334  Accuracy of val= 2.1139918339828587\n",
            "Accuracy of  train= 45.94074074074074   Loss of train = 1.947227264229606   Accuracy of val= 45.300000000000004  Accuracy of val= 1.948256570268207\n",
            "Accuracy of  train= 51.181481481481484   Loss of train = 1.806784951440021   Accuracy of val= 50.5  Accuracy of val= 1.8092670291795983\n",
            "Accuracy of  train= 54.394444444444446   Loss of train = 1.6882186329912428   Accuracy of val= 53.800000000000004  Accuracy of val= 1.6918989783562342\n",
            "Accuracy of  train= 56.50925925925926   Loss of train = 1.587322332316533   Accuracy of val= 55.93333333333334  Accuracy of val= 1.5920081904120116\n",
            "Accuracy of  test_data= 56.61000000000001\n"
          ]
        },
        {
          "output_type": "display_data",
          "data": {
            "text/html": [
              "<br/>Waiting for W&B process to finish, PID 4867... <strong style=\"color:green\">(success).</strong>"
            ],
            "text/plain": [
              "<IPython.core.display.HTML object>"
            ]
          },
          "metadata": {}
        },
        {
          "output_type": "display_data",
          "data": {
            "application/vnd.jupyter.widget-view+json": {
              "model_id": "2749be44a4cb407a9eb7205867edfec8",
              "version_minor": 0,
              "version_major": 2
            },
            "text/plain": [
              "VBox(children=(Label(value=' 0.00MB of 0.00MB uploaded (0.00MB deduped)\\r'), FloatProgress(value=1.0, max=1.0)…"
            ]
          },
          "metadata": {}
        },
        {
          "output_type": "display_data",
          "data": {
            "text/html": [
              "<style>\n",
              "    table.wandb td:nth-child(1) { padding: 0 10px; text-align: right }\n",
              "    .wandb-row { display: flex; flex-direction: row; flex-wrap: wrap; width: 100% }\n",
              "    .wandb-col { display: flex; flex-direction: column; flex-basis: 100%; flex: 1; padding: 10px; }\n",
              "    </style>\n",
              "<div class=\"wandb-row\"><div class=\"wandb-col\">\n",
              "<h3>Run history:</h3><br/><table class=\"wandb\"><tr><td>epochs</td><td>▁▃▅▆█</td></tr><tr><td>test_acc</td><td>▁</td></tr><tr><td>train_acc</td><td>▁▄▆▇█</td></tr><tr><td>train_loss</td><td>█▆▄▂▁</td></tr><tr><td>val_acc</td><td>▁▄▆▇█</td></tr><tr><td>val_loss</td><td>█▆▄▂▁</td></tr></table><br/></div><div class=\"wandb-col\">\n",
              "<h3>Run summary:</h3><br/><table class=\"wandb\"><tr><td>epochs</td><td>5</td></tr><tr><td>test_acc</td><td>56.61</td></tr><tr><td>train_acc</td><td>56.50926</td></tr><tr><td>train_loss</td><td>1.58732</td></tr><tr><td>val_acc</td><td>55.93333</td></tr><tr><td>val_loss</td><td>1.59201</td></tr></table>\n",
              "</div></div>\n",
              "Synced 5 W&B file(s), 0 media file(s), 0 artifact file(s) and 0 other file(s)\n",
              "<br/>Synced <strong style=\"color:#cdcd00\">peach-sweep-3</strong>: <a href=\"https://wandb.ai/anandh/CS6910_Assignment1_Sweep/runs/csuvc885\" target=\"_blank\">https://wandb.ai/anandh/CS6910_Assignment1_Sweep/runs/csuvc885</a><br/>\n",
              "Find logs at: <code>./wandb/run-20220225_154937-csuvc885/logs</code><br/>\n"
            ],
            "text/plain": [
              "<IPython.core.display.HTML object>"
            ]
          },
          "metadata": {}
        },
        {
          "output_type": "stream",
          "name": "stderr",
          "text": [
            "\u001b[34m\u001b[1mwandb\u001b[0m: Agent Starting Run: dyne60wv with config:\n",
            "\u001b[34m\u001b[1mwandb\u001b[0m: \tactivation_para: relu\n",
            "\u001b[34m\u001b[1mwandb\u001b[0m: \tbatch: 100\n",
            "\u001b[34m\u001b[1mwandb\u001b[0m: \tepochs: 5\n",
            "\u001b[34m\u001b[1mwandb\u001b[0m: \teta: 0.01\n",
            "\u001b[34m\u001b[1mwandb\u001b[0m: \tno_of_hidden: 4\n",
            "\u001b[34m\u001b[1mwandb\u001b[0m: \tno_of_neurons: 256\n",
            "\u001b[34m\u001b[1mwandb\u001b[0m: \toptimiser: rms\n",
            "\u001b[34m\u001b[1mwandb\u001b[0m: \tweight_decay: 0.0005\n",
            "\u001b[34m\u001b[1mwandb\u001b[0m: \tweight_para: Xavier\n"
          ]
        },
        {
          "output_type": "display_data",
          "data": {
            "text/html": [
              "\n",
              "                    Syncing run <strong><a href=\"https://wandb.ai/anandh/CS6910_Assignment1_Sweep/runs/dyne60wv\" target=\"_blank\">azure-sweep-21</a></strong> to <a href=\"https://wandb.ai/anandh/CS6910_Assignment1_Sweep\" target=\"_blank\">Weights & Biases</a> (<a href=\"https://docs.wandb.com/integrations/jupyter.html\" target=\"_blank\">docs</a>).<br/>\n",
              "Sweep page: <a href=\"https://wandb.ai/anandh/CS6910_Assignment1_Sweep/sweeps/sugh3pe3\" target=\"_blank\">https://wandb.ai/anandh/CS6910_Assignment1_Sweep/sweeps/sugh3pe3</a><br/>\n",
              "\n",
              "                "
            ],
            "text/plain": [
              "<IPython.core.display.HTML object>"
            ]
          },
          "metadata": {}
        },
        {
          "output_type": "stream",
          "name": "stdout",
          "text": [
            "[784, 256, 256, 256, 256, 10]\n",
            "calling optimizer rms \n",
            "Accuracy of  train= 75.30740740740741   Loss of train = 0.6998509335665382   Accuracy of val= 74.35000000000001  Accuracy of val= 0.7155344445037878\n",
            "Accuracy of  train= 77.6574074074074   Loss of train = 0.6352638236995979   Accuracy of val= 76.95  Accuracy of val= 0.654121785935001\n",
            "Accuracy of  train= 78.47592592592592   Loss of train = 0.6125430037004094   Accuracy of val= 77.51666666666667  Accuracy of val= 0.6355191670354645\n",
            "Accuracy of  train= 79.37037037037037   Loss of train = 0.586194938466288   Accuracy of val= 78.41666666666667  Accuracy of val= 0.6114682584782721\n",
            "Accuracy of  train= 79.89814814814815   Loss of train = 0.5725593461104789   Accuracy of val= 78.81666666666666  Accuracy of val= 0.6003339331288303\n",
            "Accuracy of  test_data= 78.24\n"
          ]
        },
        {
          "output_type": "display_data",
          "data": {
            "text/html": [
              "<br/>Waiting for W&B process to finish, PID 4908... <strong style=\"color:green\">(success).</strong>"
            ],
            "text/plain": [
              "<IPython.core.display.HTML object>"
            ]
          },
          "metadata": {}
        },
        {
          "output_type": "display_data",
          "data": {
            "application/vnd.jupyter.widget-view+json": {
              "model_id": "9c0a1f39f4f0448d80b6fa0312e49744",
              "version_minor": 0,
              "version_major": 2
            },
            "text/plain": [
              "VBox(children=(Label(value=' 0.00MB of 0.00MB uploaded (0.00MB deduped)\\r'), FloatProgress(value=1.0, max=1.0)…"
            ]
          },
          "metadata": {}
        },
        {
          "output_type": "display_data",
          "data": {
            "text/html": [
              "<style>\n",
              "    table.wandb td:nth-child(1) { padding: 0 10px; text-align: right }\n",
              "    .wandb-row { display: flex; flex-direction: row; flex-wrap: wrap; width: 100% }\n",
              "    .wandb-col { display: flex; flex-direction: column; flex-basis: 100%; flex: 1; padding: 10px; }\n",
              "    </style>\n",
              "<div class=\"wandb-row\"><div class=\"wandb-col\">\n",
              "<h3>Run history:</h3><br/><table class=\"wandb\"><tr><td>epochs</td><td>▁▃▅▆█</td></tr><tr><td>test_acc</td><td>▁</td></tr><tr><td>train_acc</td><td>▁▅▆▇█</td></tr><tr><td>train_loss</td><td>█▄▃▂▁</td></tr><tr><td>val_acc</td><td>▁▅▆▇█</td></tr><tr><td>val_loss</td><td>█▄▃▂▁</td></tr></table><br/></div><div class=\"wandb-col\">\n",
              "<h3>Run summary:</h3><br/><table class=\"wandb\"><tr><td>epochs</td><td>5</td></tr><tr><td>test_acc</td><td>78.24</td></tr><tr><td>train_acc</td><td>79.89815</td></tr><tr><td>train_loss</td><td>0.57256</td></tr><tr><td>val_acc</td><td>78.81667</td></tr><tr><td>val_loss</td><td>0.60033</td></tr></table>\n",
              "</div></div>\n",
              "Synced 5 W&B file(s), 0 media file(s), 0 artifact file(s) and 0 other file(s)\n",
              "<br/>Synced <strong style=\"color:#cdcd00\">azure-sweep-21</strong>: <a href=\"https://wandb.ai/anandh/CS6910_Assignment1_Sweep/runs/dyne60wv\" target=\"_blank\">https://wandb.ai/anandh/CS6910_Assignment1_Sweep/runs/dyne60wv</a><br/>\n",
              "Find logs at: <code>./wandb/run-20220225_160913-dyne60wv/logs</code><br/>\n"
            ],
            "text/plain": [
              "<IPython.core.display.HTML object>"
            ]
          },
          "metadata": {}
        },
        {
          "output_type": "stream",
          "name": "stderr",
          "text": [
            "\u001b[34m\u001b[1mwandb\u001b[0m: Agent Starting Run: dxyezrcw with config:\n",
            "\u001b[34m\u001b[1mwandb\u001b[0m: \tactivation_para: relu\n",
            "\u001b[34m\u001b[1mwandb\u001b[0m: \tbatch: 64\n",
            "\u001b[34m\u001b[1mwandb\u001b[0m: \tepochs: 5\n",
            "\u001b[34m\u001b[1mwandb\u001b[0m: \teta: 0.01\n",
            "\u001b[34m\u001b[1mwandb\u001b[0m: \tno_of_hidden: 2\n",
            "\u001b[34m\u001b[1mwandb\u001b[0m: \tno_of_neurons: 128\n",
            "\u001b[34m\u001b[1mwandb\u001b[0m: \toptimiser: rms\n",
            "\u001b[34m\u001b[1mwandb\u001b[0m: \tweight_decay: 0.0005\n",
            "\u001b[34m\u001b[1mwandb\u001b[0m: \tweight_para: Xavier\n"
          ]
        },
        {
          "output_type": "display_data",
          "data": {
            "text/html": [
              "\n",
              "                    Syncing run <strong><a href=\"https://wandb.ai/anandh/CS6910_Assignment1_Sweep/runs/dxyezrcw\" target=\"_blank\">pretty-sweep-24</a></strong> to <a href=\"https://wandb.ai/anandh/CS6910_Assignment1_Sweep\" target=\"_blank\">Weights & Biases</a> (<a href=\"https://docs.wandb.com/integrations/jupyter.html\" target=\"_blank\">docs</a>).<br/>\n",
              "Sweep page: <a href=\"https://wandb.ai/anandh/CS6910_Assignment1_Sweep/sweeps/sugh3pe3\" target=\"_blank\">https://wandb.ai/anandh/CS6910_Assignment1_Sweep/sweeps/sugh3pe3</a><br/>\n",
              "\n",
              "                "
            ],
            "text/plain": [
              "<IPython.core.display.HTML object>"
            ]
          },
          "metadata": {}
        },
        {
          "output_type": "stream",
          "name": "stdout",
          "text": [
            "[784, 128, 128, 10]\n",
            "calling optimizer rms \n",
            "Accuracy of  train= 77.11481481481482   Loss of train = 0.6432020680973475   Accuracy of val= 75.96666666666667  Accuracy of val= 0.6600330826508425\n",
            "Accuracy of  train= 78.46111111111111   Loss of train = 0.6106776593970075   Accuracy of val= 77.8  Accuracy of val= 0.6302937196100784\n",
            "Accuracy of  train= 79.02037037037037   Loss of train = 0.5975860610328347   Accuracy of val= 78.41666666666667  Accuracy of val= 0.6189320528604461\n",
            "Accuracy of  train= 79.35185185185185   Loss of train = 0.5906759798067073   Accuracy of val= 78.43333333333334  Accuracy of val= 0.6133785659703745\n",
            "Accuracy of  train= 79.57222222222222   Loss of train = 0.5866726372407151   Accuracy of val= 78.66666666666666  Accuracy of val= 0.6105071547769984\n",
            "Accuracy of  test_data= 77.92\n"
          ]
        },
        {
          "output_type": "display_data",
          "data": {
            "text/html": [
              "<br/>Waiting for W&B process to finish, PID 4947... <strong style=\"color:green\">(success).</strong>"
            ],
            "text/plain": [
              "<IPython.core.display.HTML object>"
            ]
          },
          "metadata": {}
        },
        {
          "output_type": "display_data",
          "data": {
            "application/vnd.jupyter.widget-view+json": {
              "model_id": "c88e848fb2224792ba4a019e2c0b1bec",
              "version_minor": 0,
              "version_major": 2
            },
            "text/plain": [
              "VBox(children=(Label(value=' 0.00MB of 0.00MB uploaded (0.00MB deduped)\\r'), FloatProgress(value=1.0, max=1.0)…"
            ]
          },
          "metadata": {}
        },
        {
          "output_type": "display_data",
          "data": {
            "text/html": [
              "<style>\n",
              "    table.wandb td:nth-child(1) { padding: 0 10px; text-align: right }\n",
              "    .wandb-row { display: flex; flex-direction: row; flex-wrap: wrap; width: 100% }\n",
              "    .wandb-col { display: flex; flex-direction: column; flex-basis: 100%; flex: 1; padding: 10px; }\n",
              "    </style>\n",
              "<div class=\"wandb-row\"><div class=\"wandb-col\">\n",
              "<h3>Run history:</h3><br/><table class=\"wandb\"><tr><td>epochs</td><td>▁▃▅▆█</td></tr><tr><td>test_acc</td><td>▁</td></tr><tr><td>train_acc</td><td>▁▅▆▇█</td></tr><tr><td>train_loss</td><td>█▄▂▁▁</td></tr><tr><td>val_acc</td><td>▁▆▇▇█</td></tr><tr><td>val_loss</td><td>█▄▂▁▁</td></tr></table><br/></div><div class=\"wandb-col\">\n",
              "<h3>Run summary:</h3><br/><table class=\"wandb\"><tr><td>epochs</td><td>5</td></tr><tr><td>test_acc</td><td>77.92</td></tr><tr><td>train_acc</td><td>79.57222</td></tr><tr><td>train_loss</td><td>0.58667</td></tr><tr><td>val_acc</td><td>78.66667</td></tr><tr><td>val_loss</td><td>0.61051</td></tr></table>\n",
              "</div></div>\n",
              "Synced 5 W&B file(s), 0 media file(s), 0 artifact file(s) and 0 other file(s)\n",
              "<br/>Synced <strong style=\"color:#cdcd00\">pretty-sweep-24</strong>: <a href=\"https://wandb.ai/anandh/CS6910_Assignment1_Sweep/runs/dxyezrcw\" target=\"_blank\">https://wandb.ai/anandh/CS6910_Assignment1_Sweep/runs/dxyezrcw</a><br/>\n",
              "Find logs at: <code>./wandb/run-20220225_161050-dxyezrcw/logs</code><br/>\n"
            ],
            "text/plain": [
              "<IPython.core.display.HTML object>"
            ]
          },
          "metadata": {}
        },
        {
          "output_type": "stream",
          "name": "stderr",
          "text": [
            "\u001b[34m\u001b[1mwandb\u001b[0m: Sweep Agent: Waiting for job.\n",
            "\u001b[34m\u001b[1mwandb\u001b[0m: Job received.\n",
            "\u001b[34m\u001b[1mwandb\u001b[0m: Agent Starting Run: au0c59dm with config:\n",
            "\u001b[34m\u001b[1mwandb\u001b[0m: \tactivation_para: relu\n",
            "\u001b[34m\u001b[1mwandb\u001b[0m: \tbatch: 64\n",
            "\u001b[34m\u001b[1mwandb\u001b[0m: \tepochs: 5\n",
            "\u001b[34m\u001b[1mwandb\u001b[0m: \teta: 0.01\n",
            "\u001b[34m\u001b[1mwandb\u001b[0m: \tno_of_hidden: 3\n",
            "\u001b[34m\u001b[1mwandb\u001b[0m: \tno_of_neurons: 128\n",
            "\u001b[34m\u001b[1mwandb\u001b[0m: \toptimiser: adam\n",
            "\u001b[34m\u001b[1mwandb\u001b[0m: \tweight_decay: 0.0005\n",
            "\u001b[34m\u001b[1mwandb\u001b[0m: \tweight_para: random\n"
          ]
        },
        {
          "output_type": "display_data",
          "data": {
            "text/html": [
              "\n",
              "                    Syncing run <strong><a href=\"https://wandb.ai/anandh/CS6910_Assignment1_Sweep/runs/au0c59dm\" target=\"_blank\">curious-sweep-26</a></strong> to <a href=\"https://wandb.ai/anandh/CS6910_Assignment1_Sweep\" target=\"_blank\">Weights & Biases</a> (<a href=\"https://docs.wandb.com/integrations/jupyter.html\" target=\"_blank\">docs</a>).<br/>\n",
              "Sweep page: <a href=\"https://wandb.ai/anandh/CS6910_Assignment1_Sweep/sweeps/sugh3pe3\" target=\"_blank\">https://wandb.ai/anandh/CS6910_Assignment1_Sweep/sweeps/sugh3pe3</a><br/>\n",
              "\n",
              "                "
            ],
            "text/plain": [
              "<IPython.core.display.HTML object>"
            ]
          },
          "metadata": {}
        },
        {
          "output_type": "stream",
          "name": "stdout",
          "text": [
            "[784, 128, 128, 128, 10]\n",
            "calling optimizer adam \n",
            "Accuracy of  train= 75.30740740740741   Loss of train = 0.7092587609219966   Accuracy of val= 74.43333333333332  Accuracy of val= 0.727117213421016\n",
            "Accuracy of  train= 76.89444444444445   Loss of train = 0.6608141400625696   Accuracy of val= 76.1  Accuracy of val= 0.6751264874445626\n",
            "Accuracy of  train= 77.56851851851852   Loss of train = 0.6401650837334855   Accuracy of val= 77.03333333333333  Accuracy of val= 0.6532774549458321\n",
            "Accuracy of  train= 78.01481481481481   Loss of train = 0.6289198378393073   Accuracy of val= 77.81666666666666  Accuracy of val= 0.6416814816740831\n",
            "Accuracy of  train= 78.28148148148148   Loss of train = 0.6220939667079476   Accuracy of val= 78.08333333333334  Accuracy of val= 0.6347950440663579\n",
            "Accuracy of  test_data= 76.9\n"
          ]
        },
        {
          "output_type": "display_data",
          "data": {
            "text/html": [
              "<br/>Waiting for W&B process to finish, PID 4986... <strong style=\"color:green\">(success).</strong>"
            ],
            "text/plain": [
              "<IPython.core.display.HTML object>"
            ]
          },
          "metadata": {}
        },
        {
          "output_type": "display_data",
          "data": {
            "application/vnd.jupyter.widget-view+json": {
              "model_id": "126f675f94874249bfad2095cbc85a39",
              "version_minor": 0,
              "version_major": 2
            },
            "text/plain": [
              "VBox(children=(Label(value=' 0.00MB of 0.00MB uploaded (0.00MB deduped)\\r'), FloatProgress(value=1.0, max=1.0)…"
            ]
          },
          "metadata": {}
        },
        {
          "output_type": "display_data",
          "data": {
            "text/html": [
              "<style>\n",
              "    table.wandb td:nth-child(1) { padding: 0 10px; text-align: right }\n",
              "    .wandb-row { display: flex; flex-direction: row; flex-wrap: wrap; width: 100% }\n",
              "    .wandb-col { display: flex; flex-direction: column; flex-basis: 100%; flex: 1; padding: 10px; }\n",
              "    </style>\n",
              "<div class=\"wandb-row\"><div class=\"wandb-col\">\n",
              "<h3>Run history:</h3><br/><table class=\"wandb\"><tr><td>epochs</td><td>▁▃▅▆█</td></tr><tr><td>test_acc</td><td>▁</td></tr><tr><td>train_acc</td><td>▁▅▆▇█</td></tr><tr><td>train_loss</td><td>█▄▂▂▁</td></tr><tr><td>val_acc</td><td>▁▄▆▇█</td></tr><tr><td>val_loss</td><td>█▄▂▂▁</td></tr></table><br/></div><div class=\"wandb-col\">\n",
              "<h3>Run summary:</h3><br/><table class=\"wandb\"><tr><td>epochs</td><td>5</td></tr><tr><td>test_acc</td><td>76.9</td></tr><tr><td>train_acc</td><td>78.28148</td></tr><tr><td>train_loss</td><td>0.62209</td></tr><tr><td>val_acc</td><td>78.08333</td></tr><tr><td>val_loss</td><td>0.6348</td></tr></table>\n",
              "</div></div>\n",
              "Synced 5 W&B file(s), 0 media file(s), 0 artifact file(s) and 0 other file(s)\n",
              "<br/>Synced <strong style=\"color:#cdcd00\">curious-sweep-26</strong>: <a href=\"https://wandb.ai/anandh/CS6910_Assignment1_Sweep/runs/au0c59dm\" target=\"_blank\">https://wandb.ai/anandh/CS6910_Assignment1_Sweep/runs/au0c59dm</a><br/>\n",
              "Find logs at: <code>./wandb/run-20220225_161147-au0c59dm/logs</code><br/>\n"
            ],
            "text/plain": [
              "<IPython.core.display.HTML object>"
            ]
          },
          "metadata": {}
        },
        {
          "output_type": "stream",
          "name": "stderr",
          "text": [
            "\u001b[34m\u001b[1mwandb\u001b[0m: Agent Starting Run: ddy2qgn3 with config:\n",
            "\u001b[34m\u001b[1mwandb\u001b[0m: \tactivation_para: relu\n",
            "\u001b[34m\u001b[1mwandb\u001b[0m: \tbatch: 100\n",
            "\u001b[34m\u001b[1mwandb\u001b[0m: \tepochs: 5\n",
            "\u001b[34m\u001b[1mwandb\u001b[0m: \teta: 0.001\n",
            "\u001b[34m\u001b[1mwandb\u001b[0m: \tno_of_hidden: 2\n",
            "\u001b[34m\u001b[1mwandb\u001b[0m: \tno_of_neurons: 256\n",
            "\u001b[34m\u001b[1mwandb\u001b[0m: \toptimiser: adam\n",
            "\u001b[34m\u001b[1mwandb\u001b[0m: \tweight_decay: 0.0005\n",
            "\u001b[34m\u001b[1mwandb\u001b[0m: \tweight_para: Xavier\n"
          ]
        },
        {
          "output_type": "display_data",
          "data": {
            "text/html": [
              "\n",
              "                    Syncing run <strong><a href=\"https://wandb.ai/anandh/CS6910_Assignment1_Sweep/runs/ddy2qgn3\" target=\"_blank\">robust-sweep-28</a></strong> to <a href=\"https://wandb.ai/anandh/CS6910_Assignment1_Sweep\" target=\"_blank\">Weights & Biases</a> (<a href=\"https://docs.wandb.com/integrations/jupyter.html\" target=\"_blank\">docs</a>).<br/>\n",
              "Sweep page: <a href=\"https://wandb.ai/anandh/CS6910_Assignment1_Sweep/sweeps/sugh3pe3\" target=\"_blank\">https://wandb.ai/anandh/CS6910_Assignment1_Sweep/sweeps/sugh3pe3</a><br/>\n",
              "\n",
              "                "
            ],
            "text/plain": [
              "<IPython.core.display.HTML object>"
            ]
          },
          "metadata": {}
        },
        {
          "output_type": "stream",
          "name": "stdout",
          "text": [
            "[784, 256, 256, 10]\n",
            "calling optimizer adam \n",
            "Accuracy of  train= 63.50740740740741   Loss of train = 1.101628692012225   Accuracy of val= 61.71666666666666  Accuracy of val= 1.1459026708923663\n",
            "Accuracy of  train= 71.4962962962963   Loss of train = 0.8323282790758614   Accuracy of val= 70.19999999999999  Accuracy of val= 0.8652814238230837\n",
            "Accuracy of  train= 74.92592592592592   Loss of train = 0.7219620722846886   Accuracy of val= 74.55000000000001  Accuracy of val= 0.7502423946835635\n",
            "Accuracy of  train= 77.12777777777777   Loss of train = 0.6584354637281533   Accuracy of val= 76.63333333333333  Accuracy of val= 0.6843858806262378\n",
            "Accuracy of  train= 78.53703703703704   Loss of train = 0.616364242103635   Accuracy of val= 77.61666666666667  Accuracy of val= 0.6410138616217856\n",
            "Accuracy of  test_data= 77.02\n"
          ]
        },
        {
          "output_type": "display_data",
          "data": {
            "text/html": [
              "<br/>Waiting for W&B process to finish, PID 5033... <strong style=\"color:green\">(success).</strong>"
            ],
            "text/plain": [
              "<IPython.core.display.HTML object>"
            ]
          },
          "metadata": {}
        },
        {
          "output_type": "display_data",
          "data": {
            "application/vnd.jupyter.widget-view+json": {
              "model_id": "9250d7859ca44f5d8f77a7965454a60c",
              "version_minor": 0,
              "version_major": 2
            },
            "text/plain": [
              "VBox(children=(Label(value=' 0.00MB of 0.00MB uploaded (0.00MB deduped)\\r'), FloatProgress(value=1.0, max=1.0)…"
            ]
          },
          "metadata": {}
        },
        {
          "output_type": "display_data",
          "data": {
            "text/html": [
              "<style>\n",
              "    table.wandb td:nth-child(1) { padding: 0 10px; text-align: right }\n",
              "    .wandb-row { display: flex; flex-direction: row; flex-wrap: wrap; width: 100% }\n",
              "    .wandb-col { display: flex; flex-direction: column; flex-basis: 100%; flex: 1; padding: 10px; }\n",
              "    </style>\n",
              "<div class=\"wandb-row\"><div class=\"wandb-col\">\n",
              "<h3>Run history:</h3><br/><table class=\"wandb\"><tr><td>epochs</td><td>▁▃▅▆█</td></tr><tr><td>test_acc</td><td>▁</td></tr><tr><td>train_acc</td><td>▁▅▆▇█</td></tr><tr><td>train_loss</td><td>█▄▃▂▁</td></tr><tr><td>val_acc</td><td>▁▅▇██</td></tr><tr><td>val_loss</td><td>█▄▃▂▁</td></tr></table><br/></div><div class=\"wandb-col\">\n",
              "<h3>Run summary:</h3><br/><table class=\"wandb\"><tr><td>epochs</td><td>5</td></tr><tr><td>test_acc</td><td>77.02</td></tr><tr><td>train_acc</td><td>78.53704</td></tr><tr><td>train_loss</td><td>0.61636</td></tr><tr><td>val_acc</td><td>77.61667</td></tr><tr><td>val_loss</td><td>0.64101</td></tr></table>\n",
              "</div></div>\n",
              "Synced 5 W&B file(s), 0 media file(s), 0 artifact file(s) and 0 other file(s)\n",
              "<br/>Synced <strong style=\"color:#cdcd00\">robust-sweep-28</strong>: <a href=\"https://wandb.ai/anandh/CS6910_Assignment1_Sweep/runs/ddy2qgn3\" target=\"_blank\">https://wandb.ai/anandh/CS6910_Assignment1_Sweep/runs/ddy2qgn3</a><br/>\n",
              "Find logs at: <code>./wandb/run-20220225_161249-ddy2qgn3/logs</code><br/>\n"
            ],
            "text/plain": [
              "<IPython.core.display.HTML object>"
            ]
          },
          "metadata": {}
        },
        {
          "output_type": "stream",
          "name": "stderr",
          "text": [
            "\u001b[34m\u001b[1mwandb\u001b[0m: Agent Starting Run: tdr6nbwq with config:\n",
            "\u001b[34m\u001b[1mwandb\u001b[0m: \tactivation_para: relu\n",
            "\u001b[34m\u001b[1mwandb\u001b[0m: \tbatch: 100\n",
            "\u001b[34m\u001b[1mwandb\u001b[0m: \tepochs: 5\n",
            "\u001b[34m\u001b[1mwandb\u001b[0m: \teta: 0.01\n",
            "\u001b[34m\u001b[1mwandb\u001b[0m: \tno_of_hidden: 4\n",
            "\u001b[34m\u001b[1mwandb\u001b[0m: \tno_of_neurons: 256\n",
            "\u001b[34m\u001b[1mwandb\u001b[0m: \toptimiser: nag\n",
            "\u001b[34m\u001b[1mwandb\u001b[0m: \tweight_decay: 0.0005\n",
            "\u001b[34m\u001b[1mwandb\u001b[0m: \tweight_para: Xavier\n"
          ]
        },
        {
          "output_type": "display_data",
          "data": {
            "text/html": [
              "\n",
              "                    Syncing run <strong><a href=\"https://wandb.ai/anandh/CS6910_Assignment1_Sweep/runs/tdr6nbwq\" target=\"_blank\">cosmic-sweep-30</a></strong> to <a href=\"https://wandb.ai/anandh/CS6910_Assignment1_Sweep\" target=\"_blank\">Weights & Biases</a> (<a href=\"https://docs.wandb.com/integrations/jupyter.html\" target=\"_blank\">docs</a>).<br/>\n",
              "Sweep page: <a href=\"https://wandb.ai/anandh/CS6910_Assignment1_Sweep/sweeps/sugh3pe3\" target=\"_blank\">https://wandb.ai/anandh/CS6910_Assignment1_Sweep/sweeps/sugh3pe3</a><br/>\n",
              "\n",
              "                "
            ],
            "text/plain": [
              "<IPython.core.display.HTML object>"
            ]
          },
          "metadata": {}
        },
        {
          "output_type": "stream",
          "name": "stdout",
          "text": [
            "[784, 256, 256, 256, 256, 10]\n",
            "calling optimizer nag \n",
            "Accuracy of  train= 53.66851851851852   Loss of train = 1.4397641316011227   Accuracy of val= 52.6  Accuracy of val= 1.434835925195225\n",
            "Accuracy of  train= 62.0   Loss of train = 1.150199842502511   Accuracy of val= 61.35  Accuracy of val= 1.1539443860321494\n",
            "Accuracy of  train= 65.58888888888889   Loss of train = 1.0337149470678637   Accuracy of val= 65.05  Accuracy of val= 1.0417951947766508\n",
            "Accuracy of  train= 67.63888888888889   Loss of train = 0.9663998751490406   Accuracy of val= 67.0  Accuracy of val= 0.9762031310270759\n",
            "Accuracy of  train= 69.01851851851852   Loss of train = 0.9205093657488521   Accuracy of val= 68.11666666666667  Accuracy of val= 0.9307998376990977\n",
            "Accuracy of  test_data= 68.47\n"
          ]
        },
        {
          "output_type": "display_data",
          "data": {
            "text/html": [
              "<br/>Waiting for W&B process to finish, PID 5072... <strong style=\"color:green\">(success).</strong>"
            ],
            "text/plain": [
              "<IPython.core.display.HTML object>"
            ]
          },
          "metadata": {}
        },
        {
          "output_type": "display_data",
          "data": {
            "application/vnd.jupyter.widget-view+json": {
              "model_id": "ce9ca9e4c3fc40429aa19588f98356df",
              "version_minor": 0,
              "version_major": 2
            },
            "text/plain": [
              "VBox(children=(Label(value=' 0.00MB of 0.00MB uploaded (0.00MB deduped)\\r'), FloatProgress(value=1.0, max=1.0)…"
            ]
          },
          "metadata": {}
        },
        {
          "output_type": "display_data",
          "data": {
            "text/html": [
              "<style>\n",
              "    table.wandb td:nth-child(1) { padding: 0 10px; text-align: right }\n",
              "    .wandb-row { display: flex; flex-direction: row; flex-wrap: wrap; width: 100% }\n",
              "    .wandb-col { display: flex; flex-direction: column; flex-basis: 100%; flex: 1; padding: 10px; }\n",
              "    </style>\n",
              "<div class=\"wandb-row\"><div class=\"wandb-col\">\n",
              "<h3>Run history:</h3><br/><table class=\"wandb\"><tr><td>epochs</td><td>▁▃▅▆█</td></tr><tr><td>test_acc</td><td>▁</td></tr><tr><td>train_acc</td><td>▁▅▆▇█</td></tr><tr><td>train_loss</td><td>█▄▃▂▁</td></tr><tr><td>val_acc</td><td>▁▅▇▇█</td></tr><tr><td>val_loss</td><td>█▄▃▂▁</td></tr></table><br/></div><div class=\"wandb-col\">\n",
              "<h3>Run summary:</h3><br/><table class=\"wandb\"><tr><td>epochs</td><td>5</td></tr><tr><td>test_acc</td><td>68.47</td></tr><tr><td>train_acc</td><td>69.01852</td></tr><tr><td>train_loss</td><td>0.92051</td></tr><tr><td>val_acc</td><td>68.11667</td></tr><tr><td>val_loss</td><td>0.9308</td></tr></table>\n",
              "</div></div>\n",
              "Synced 5 W&B file(s), 0 media file(s), 0 artifact file(s) and 0 other file(s)\n",
              "<br/>Synced <strong style=\"color:#cdcd00\">cosmic-sweep-30</strong>: <a href=\"https://wandb.ai/anandh/CS6910_Assignment1_Sweep/runs/tdr6nbwq\" target=\"_blank\">https://wandb.ai/anandh/CS6910_Assignment1_Sweep/runs/tdr6nbwq</a><br/>\n",
              "Find logs at: <code>./wandb/run-20220225_161407-tdr6nbwq/logs</code><br/>\n"
            ],
            "text/plain": [
              "<IPython.core.display.HTML object>"
            ]
          },
          "metadata": {}
        },
        {
          "output_type": "stream",
          "name": "stderr",
          "text": [
            "\u001b[34m\u001b[1mwandb\u001b[0m: Sweep Agent: Waiting for job.\n",
            "\u001b[34m\u001b[1mwandb\u001b[0m: Job received.\n",
            "\u001b[34m\u001b[1mwandb\u001b[0m: Agent Starting Run: 2kezqpzk with config:\n",
            "\u001b[34m\u001b[1mwandb\u001b[0m: \tactivation_para: relu\n",
            "\u001b[34m\u001b[1mwandb\u001b[0m: \tbatch: 100\n",
            "\u001b[34m\u001b[1mwandb\u001b[0m: \tepochs: 5\n",
            "\u001b[34m\u001b[1mwandb\u001b[0m: \teta: 0.01\n",
            "\u001b[34m\u001b[1mwandb\u001b[0m: \tno_of_hidden: 4\n",
            "\u001b[34m\u001b[1mwandb\u001b[0m: \tno_of_neurons: 128\n",
            "\u001b[34m\u001b[1mwandb\u001b[0m: \toptimiser: nadam\n",
            "\u001b[34m\u001b[1mwandb\u001b[0m: \tweight_decay: 0.0005\n",
            "\u001b[34m\u001b[1mwandb\u001b[0m: \tweight_para: random\n"
          ]
        },
        {
          "output_type": "display_data",
          "data": {
            "text/html": [
              "\n",
              "                    Syncing run <strong><a href=\"https://wandb.ai/anandh/CS6910_Assignment1_Sweep/runs/2kezqpzk\" target=\"_blank\">autumn-sweep-38</a></strong> to <a href=\"https://wandb.ai/anandh/CS6910_Assignment1_Sweep\" target=\"_blank\">Weights & Biases</a> (<a href=\"https://docs.wandb.com/integrations/jupyter.html\" target=\"_blank\">docs</a>).<br/>\n",
              "Sweep page: <a href=\"https://wandb.ai/anandh/CS6910_Assignment1_Sweep/sweeps/sugh3pe3\" target=\"_blank\">https://wandb.ai/anandh/CS6910_Assignment1_Sweep/sweeps/sugh3pe3</a><br/>\n",
              "\n",
              "                "
            ],
            "text/plain": [
              "<IPython.core.display.HTML object>"
            ]
          },
          "metadata": {}
        },
        {
          "output_type": "stream",
          "name": "stdout",
          "text": [
            "[784, 128, 128, 128, 128, 10]\n",
            "calling optimizer nadam \n",
            "Accuracy of  train= 72.76296296296296   Loss of train = 0.7653690222941473   Accuracy of val= 72.53333333333333  Accuracy of val= 0.768799834756264\n",
            "Accuracy of  train= 75.24814814814815   Loss of train = 0.6927197602094233   Accuracy of val= 74.75  Accuracy of val= 0.7039797342145202\n",
            "Accuracy of  train= 76.26111111111112   Loss of train = 0.665461942043763   Accuracy of val= 75.71666666666667  Accuracy of val= 0.6808015923237017\n",
            "Accuracy of  train= 76.80555555555556   Loss of train = 0.6513167867197266   Accuracy of val= 76.13333333333333  Accuracy of val= 0.668896644500294\n",
            "Accuracy of  train= 77.16666666666666   Loss of train = 0.6426868121448869   Accuracy of val= 76.25  Accuracy of val= 0.6616420613407277\n",
            "Accuracy of  test_data= 75.69\n"
          ]
        },
        {
          "output_type": "display_data",
          "data": {
            "text/html": [
              "<br/>Waiting for W&B process to finish, PID 5111... <strong style=\"color:green\">(success).</strong>"
            ],
            "text/plain": [
              "<IPython.core.display.HTML object>"
            ]
          },
          "metadata": {}
        },
        {
          "output_type": "display_data",
          "data": {
            "application/vnd.jupyter.widget-view+json": {
              "model_id": "e401b322e3fa4997b3c597e44ed8d3bd",
              "version_minor": 0,
              "version_major": 2
            },
            "text/plain": [
              "VBox(children=(Label(value=' 0.00MB of 0.00MB uploaded (0.00MB deduped)\\r'), FloatProgress(value=1.0, max=1.0)…"
            ]
          },
          "metadata": {}
        },
        {
          "output_type": "display_data",
          "data": {
            "text/html": [
              "<style>\n",
              "    table.wandb td:nth-child(1) { padding: 0 10px; text-align: right }\n",
              "    .wandb-row { display: flex; flex-direction: row; flex-wrap: wrap; width: 100% }\n",
              "    .wandb-col { display: flex; flex-direction: column; flex-basis: 100%; flex: 1; padding: 10px; }\n",
              "    </style>\n",
              "<div class=\"wandb-row\"><div class=\"wandb-col\">\n",
              "<h3>Run history:</h3><br/><table class=\"wandb\"><tr><td>epochs</td><td>▁▃▅▆█</td></tr><tr><td>test_acc</td><td>▁</td></tr><tr><td>train_acc</td><td>▁▅▇▇█</td></tr><tr><td>train_loss</td><td>█▄▂▁▁</td></tr><tr><td>val_acc</td><td>▁▅▇██</td></tr><tr><td>val_loss</td><td>█▄▂▁▁</td></tr></table><br/></div><div class=\"wandb-col\">\n",
              "<h3>Run summary:</h3><br/><table class=\"wandb\"><tr><td>epochs</td><td>5</td></tr><tr><td>test_acc</td><td>75.69</td></tr><tr><td>train_acc</td><td>77.16667</td></tr><tr><td>train_loss</td><td>0.64269</td></tr><tr><td>val_acc</td><td>76.25</td></tr><tr><td>val_loss</td><td>0.66164</td></tr></table>\n",
              "</div></div>\n",
              "Synced 5 W&B file(s), 0 media file(s), 0 artifact file(s) and 0 other file(s)\n",
              "<br/>Synced <strong style=\"color:#cdcd00\">autumn-sweep-38</strong>: <a href=\"https://wandb.ai/anandh/CS6910_Assignment1_Sweep/runs/2kezqpzk\" target=\"_blank\">https://wandb.ai/anandh/CS6910_Assignment1_Sweep/runs/2kezqpzk</a><br/>\n",
              "Find logs at: <code>./wandb/run-20220225_161833-2kezqpzk/logs</code><br/>\n"
            ],
            "text/plain": [
              "<IPython.core.display.HTML object>"
            ]
          },
          "metadata": {}
        },
        {
          "output_type": "stream",
          "name": "stderr",
          "text": [
            "\u001b[34m\u001b[1mwandb\u001b[0m: Agent Starting Run: 9t6kckpw with config:\n",
            "\u001b[34m\u001b[1mwandb\u001b[0m: \tactivation_para: relu\n",
            "\u001b[34m\u001b[1mwandb\u001b[0m: \tbatch: 100\n",
            "\u001b[34m\u001b[1mwandb\u001b[0m: \tepochs: 5\n",
            "\u001b[34m\u001b[1mwandb\u001b[0m: \teta: 0.001\n",
            "\u001b[34m\u001b[1mwandb\u001b[0m: \tno_of_hidden: 3\n",
            "\u001b[34m\u001b[1mwandb\u001b[0m: \tno_of_neurons: 256\n",
            "\u001b[34m\u001b[1mwandb\u001b[0m: \toptimiser: nadam\n",
            "\u001b[34m\u001b[1mwandb\u001b[0m: \tweight_decay: 0.0005\n",
            "\u001b[34m\u001b[1mwandb\u001b[0m: \tweight_para: Xavier\n"
          ]
        },
        {
          "output_type": "display_data",
          "data": {
            "text/html": [
              "\n",
              "                    Syncing run <strong><a href=\"https://wandb.ai/anandh/CS6910_Assignment1_Sweep/runs/9t6kckpw\" target=\"_blank\">true-sweep-41</a></strong> to <a href=\"https://wandb.ai/anandh/CS6910_Assignment1_Sweep\" target=\"_blank\">Weights & Biases</a> (<a href=\"https://docs.wandb.com/integrations/jupyter.html\" target=\"_blank\">docs</a>).<br/>\n",
              "Sweep page: <a href=\"https://wandb.ai/anandh/CS6910_Assignment1_Sweep/sweeps/sugh3pe3\" target=\"_blank\">https://wandb.ai/anandh/CS6910_Assignment1_Sweep/sweeps/sugh3pe3</a><br/>\n",
              "\n",
              "                "
            ],
            "text/plain": [
              "<IPython.core.display.HTML object>"
            ]
          },
          "metadata": {}
        },
        {
          "output_type": "stream",
          "name": "stdout",
          "text": [
            "[784, 256, 256, 256, 10]\n",
            "calling optimizer nadam \n",
            "Accuracy of  train= 63.842592592592595   Loss of train = 1.101627869574822   Accuracy of val= 62.61666666666667  Accuracy of val= 1.1236767122213636\n",
            "Accuracy of  train= 71.70925925925926   Loss of train = 0.8482598613458651   Accuracy of val= 70.58333333333333  Accuracy of val= 0.867742590658394\n",
            "Accuracy of  train= 74.70555555555556   Loss of train = 0.7440573790671193   Accuracy of val= 73.83333333333333  Accuracy of val= 0.7622528853872973\n",
            "Accuracy of  train= 76.4962962962963   Loss of train = 0.6831382549436562   Accuracy of val= 75.3  Accuracy of val= 0.7014098338078643\n",
            "Accuracy of  train= 77.71666666666667   Loss of train = 0.6424023996378291   Accuracy of val= 76.43333333333334  Accuracy of val= 0.6614470621824661\n",
            "Accuracy of  test_data= 76.47\n"
          ]
        },
        {
          "output_type": "display_data",
          "data": {
            "text/html": [
              "<br/>Waiting for W&B process to finish, PID 5150... <strong style=\"color:green\">(success).</strong>"
            ],
            "text/plain": [
              "<IPython.core.display.HTML object>"
            ]
          },
          "metadata": {}
        },
        {
          "output_type": "display_data",
          "data": {
            "application/vnd.jupyter.widget-view+json": {
              "model_id": "4bfa03a5db4e411c88fd297e95b296a6",
              "version_minor": 0,
              "version_major": 2
            },
            "text/plain": [
              "VBox(children=(Label(value=' 0.00MB of 0.00MB uploaded (0.00MB deduped)\\r'), FloatProgress(value=1.0, max=1.0)…"
            ]
          },
          "metadata": {}
        },
        {
          "output_type": "display_data",
          "data": {
            "text/html": [
              "<style>\n",
              "    table.wandb td:nth-child(1) { padding: 0 10px; text-align: right }\n",
              "    .wandb-row { display: flex; flex-direction: row; flex-wrap: wrap; width: 100% }\n",
              "    .wandb-col { display: flex; flex-direction: column; flex-basis: 100%; flex: 1; padding: 10px; }\n",
              "    </style>\n",
              "<div class=\"wandb-row\"><div class=\"wandb-col\">\n",
              "<h3>Run history:</h3><br/><table class=\"wandb\"><tr><td>epochs</td><td>▁▃▅▆█</td></tr><tr><td>test_acc</td><td>▁</td></tr><tr><td>train_acc</td><td>▁▅▆▇█</td></tr><tr><td>train_loss</td><td>█▄▃▂▁</td></tr><tr><td>val_acc</td><td>▁▅▇▇█</td></tr><tr><td>val_loss</td><td>█▄▃▂▁</td></tr></table><br/></div><div class=\"wandb-col\">\n",
              "<h3>Run summary:</h3><br/><table class=\"wandb\"><tr><td>epochs</td><td>5</td></tr><tr><td>test_acc</td><td>76.47</td></tr><tr><td>train_acc</td><td>77.71667</td></tr><tr><td>train_loss</td><td>0.6424</td></tr><tr><td>val_acc</td><td>76.43333</td></tr><tr><td>val_loss</td><td>0.66145</td></tr></table>\n",
              "</div></div>\n",
              "Synced 5 W&B file(s), 0 media file(s), 0 artifact file(s) and 0 other file(s)\n",
              "<br/>Synced <strong style=\"color:#cdcd00\">true-sweep-41</strong>: <a href=\"https://wandb.ai/anandh/CS6910_Assignment1_Sweep/runs/9t6kckpw\" target=\"_blank\">https://wandb.ai/anandh/CS6910_Assignment1_Sweep/runs/9t6kckpw</a><br/>\n",
              "Find logs at: <code>./wandb/run-20220225_161935-9t6kckpw/logs</code><br/>\n"
            ],
            "text/plain": [
              "<IPython.core.display.HTML object>"
            ]
          },
          "metadata": {}
        },
        {
          "output_type": "stream",
          "name": "stderr",
          "text": [
            "\u001b[34m\u001b[1mwandb\u001b[0m: Agent Starting Run: 1o3lpace with config:\n",
            "\u001b[34m\u001b[1mwandb\u001b[0m: \tactivation_para: relu\n",
            "\u001b[34m\u001b[1mwandb\u001b[0m: \tbatch: 64\n",
            "\u001b[34m\u001b[1mwandb\u001b[0m: \tepochs: 5\n",
            "\u001b[34m\u001b[1mwandb\u001b[0m: \teta: 0.01\n",
            "\u001b[34m\u001b[1mwandb\u001b[0m: \tno_of_hidden: 2\n",
            "\u001b[34m\u001b[1mwandb\u001b[0m: \tno_of_neurons: 128\n",
            "\u001b[34m\u001b[1mwandb\u001b[0m: \toptimiser: nadam\n",
            "\u001b[34m\u001b[1mwandb\u001b[0m: \tweight_decay: 0.0005\n",
            "\u001b[34m\u001b[1mwandb\u001b[0m: \tweight_para: Xavier\n"
          ]
        },
        {
          "output_type": "display_data",
          "data": {
            "text/html": [
              "\n",
              "                    Syncing run <strong><a href=\"https://wandb.ai/anandh/CS6910_Assignment1_Sweep/runs/1o3lpace\" target=\"_blank\">quiet-sweep-47</a></strong> to <a href=\"https://wandb.ai/anandh/CS6910_Assignment1_Sweep\" target=\"_blank\">Weights & Biases</a> (<a href=\"https://docs.wandb.com/integrations/jupyter.html\" target=\"_blank\">docs</a>).<br/>\n",
              "Sweep page: <a href=\"https://wandb.ai/anandh/CS6910_Assignment1_Sweep/sweeps/sugh3pe3\" target=\"_blank\">https://wandb.ai/anandh/CS6910_Assignment1_Sweep/sweeps/sugh3pe3</a><br/>\n",
              "\n",
              "                "
            ],
            "text/plain": [
              "<IPython.core.display.HTML object>"
            ]
          },
          "metadata": {}
        },
        {
          "output_type": "stream",
          "name": "stdout",
          "text": [
            "[784, 128, 128, 10]\n",
            "calling optimizer nadam \n",
            "Accuracy of  train= 77.77777777777779   Loss of train = 0.6192145018587167   Accuracy of val= 77.01666666666667  Accuracy of val= 0.6337826025666441\n",
            "Accuracy of  train= 79.5111111111111   Loss of train = 0.5694752614872074   Accuracy of val= 78.96666666666667  Accuracy of val= 0.5867809941625852\n",
            "Accuracy of  train= 80.08148148148149   Loss of train = 0.5537200028017374   Accuracy of val= 79.26666666666667  Accuracy of val= 0.574429199461648\n",
            "Accuracy of  train= 80.41851851851852   Loss of train = 0.5462311281203986   Accuracy of val= 79.25  Accuracy of val= 0.5695009763815903\n",
            "Accuracy of  train= 80.61296296296297   Loss of train = 0.5418502923005598   Accuracy of val= 79.3  Accuracy of val= 0.5670587084078319\n",
            "Accuracy of  test_data= 79.02\n"
          ]
        },
        {
          "output_type": "display_data",
          "data": {
            "text/html": [
              "<br/>Waiting for W&B process to finish, PID 5189... <strong style=\"color:green\">(success).</strong>"
            ],
            "text/plain": [
              "<IPython.core.display.HTML object>"
            ]
          },
          "metadata": {}
        },
        {
          "output_type": "display_data",
          "data": {
            "application/vnd.jupyter.widget-view+json": {
              "model_id": "cee8e14470e542ff9e1dad7bace714ae",
              "version_minor": 0,
              "version_major": 2
            },
            "text/plain": [
              "VBox(children=(Label(value=' 0.00MB of 0.00MB uploaded (0.00MB deduped)\\r'), FloatProgress(value=1.0, max=1.0)…"
            ]
          },
          "metadata": {}
        },
        {
          "output_type": "display_data",
          "data": {
            "text/html": [
              "<style>\n",
              "    table.wandb td:nth-child(1) { padding: 0 10px; text-align: right }\n",
              "    .wandb-row { display: flex; flex-direction: row; flex-wrap: wrap; width: 100% }\n",
              "    .wandb-col { display: flex; flex-direction: column; flex-basis: 100%; flex: 1; padding: 10px; }\n",
              "    </style>\n",
              "<div class=\"wandb-row\"><div class=\"wandb-col\">\n",
              "<h3>Run history:</h3><br/><table class=\"wandb\"><tr><td>epochs</td><td>▁▃▅▆█</td></tr><tr><td>test_acc</td><td>▁</td></tr><tr><td>train_acc</td><td>▁▅▇██</td></tr><tr><td>train_loss</td><td>█▃▂▁▁</td></tr><tr><td>val_acc</td><td>▁▇███</td></tr><tr><td>val_loss</td><td>█▃▂▁▁</td></tr></table><br/></div><div class=\"wandb-col\">\n",
              "<h3>Run summary:</h3><br/><table class=\"wandb\"><tr><td>epochs</td><td>5</td></tr><tr><td>test_acc</td><td>79.02</td></tr><tr><td>train_acc</td><td>80.61296</td></tr><tr><td>train_loss</td><td>0.54185</td></tr><tr><td>val_acc</td><td>79.3</td></tr><tr><td>val_loss</td><td>0.56706</td></tr></table>\n",
              "</div></div>\n",
              "Synced 5 W&B file(s), 0 media file(s), 0 artifact file(s) and 0 other file(s)\n",
              "<br/>Synced <strong style=\"color:#cdcd00\">quiet-sweep-47</strong>: <a href=\"https://wandb.ai/anandh/CS6910_Assignment1_Sweep/runs/1o3lpace\" target=\"_blank\">https://wandb.ai/anandh/CS6910_Assignment1_Sweep/runs/1o3lpace</a><br/>\n",
              "Find logs at: <code>./wandb/run-20220225_162328-1o3lpace/logs</code><br/>\n"
            ],
            "text/plain": [
              "<IPython.core.display.HTML object>"
            ]
          },
          "metadata": {}
        },
        {
          "output_type": "stream",
          "name": "stderr",
          "text": [
            "\u001b[34m\u001b[1mwandb\u001b[0m: Sweep Agent: Waiting for job.\n",
            "\u001b[34m\u001b[1mwandb\u001b[0m: Job received.\n",
            "\u001b[34m\u001b[1mwandb\u001b[0m: Agent Starting Run: jlm6wppn with config:\n",
            "\u001b[34m\u001b[1mwandb\u001b[0m: \tactivation_para: relu\n",
            "\u001b[34m\u001b[1mwandb\u001b[0m: \tbatch: 100\n",
            "\u001b[34m\u001b[1mwandb\u001b[0m: \tepochs: 10\n",
            "\u001b[34m\u001b[1mwandb\u001b[0m: \teta: 0.01\n",
            "\u001b[34m\u001b[1mwandb\u001b[0m: \tno_of_hidden: 2\n",
            "\u001b[34m\u001b[1mwandb\u001b[0m: \tno_of_neurons: 128\n",
            "\u001b[34m\u001b[1mwandb\u001b[0m: \toptimiser: adam\n",
            "\u001b[34m\u001b[1mwandb\u001b[0m: \tweight_decay: 0.0005\n",
            "\u001b[34m\u001b[1mwandb\u001b[0m: \tweight_para: Xavier\n"
          ]
        },
        {
          "output_type": "display_data",
          "data": {
            "text/html": [
              "\n",
              "                    Syncing run <strong><a href=\"https://wandb.ai/anandh/CS6910_Assignment1_Sweep/runs/jlm6wppn\" target=\"_blank\">honest-sweep-49</a></strong> to <a href=\"https://wandb.ai/anandh/CS6910_Assignment1_Sweep\" target=\"_blank\">Weights & Biases</a> (<a href=\"https://docs.wandb.com/integrations/jupyter.html\" target=\"_blank\">docs</a>).<br/>\n",
              "Sweep page: <a href=\"https://wandb.ai/anandh/CS6910_Assignment1_Sweep/sweeps/sugh3pe3\" target=\"_blank\">https://wandb.ai/anandh/CS6910_Assignment1_Sweep/sweeps/sugh3pe3</a><br/>\n",
              "\n",
              "                "
            ],
            "text/plain": [
              "<IPython.core.display.HTML object>"
            ]
          },
          "metadata": {}
        },
        {
          "output_type": "stream",
          "name": "stdout",
          "text": [
            "[784, 128, 128, 10]\n",
            "calling optimizer adam \n",
            "Accuracy of  train= 76.31481481481481   Loss of train = 0.6746339199062416   Accuracy of val= 75.83333333333333  Accuracy of val= 0.6917407154305888\n",
            "Accuracy of  train= 78.44814814814815   Loss of train = 0.6018300054081624   Accuracy of val= 78.05  Accuracy of val= 0.6215688588169485\n",
            "Accuracy of  train= 79.50185185185185   Loss of train = 0.5748753944377727   Accuracy of val= 78.76666666666667  Accuracy of val= 0.5951104117583462\n",
            "Accuracy of  train= 79.98703703703704   Loss of train = 0.5610684608506614   Accuracy of val= 79.23333333333333  Accuracy of val= 0.5815737839079557\n",
            "Accuracy of  train= 80.31481481481481   Loss of train = 0.5529898575116351   Accuracy of val= 79.78333333333333  Accuracy of val= 0.5738293125730336\n",
            "Accuracy of  train= 80.45740740740742   Loss of train = 0.5478796118163268   Accuracy of val= 80.03333333333333  Accuracy of val= 0.5691678595512238\n",
            "Accuracy of  train= 80.57222222222222   Loss of train = 0.5444437915398955   Accuracy of val= 80.10000000000001  Accuracy of val= 0.566277928250441\n",
            "Accuracy of  train= 80.65925925925926   Loss of train = 0.5420035284539861   Accuracy of val= 80.21666666666667  Accuracy of val= 0.5644207254787982\n",
            "Accuracy of  train= 80.68333333333332   Loss of train = 0.540189649664177   Accuracy of val= 80.23333333333333  Accuracy of val= 0.563177727096381\n",
            "Accuracy of  train= 80.78888888888889   Loss of train = 0.5387959319347783   Accuracy of val= 80.2  Accuracy of val= 0.5623181732462843\n",
            "Accuracy of  test_data= 79.55\n"
          ]
        },
        {
          "output_type": "display_data",
          "data": {
            "text/html": [
              "<br/>Waiting for W&B process to finish, PID 5228... <strong style=\"color:green\">(success).</strong>"
            ],
            "text/plain": [
              "<IPython.core.display.HTML object>"
            ]
          },
          "metadata": {}
        },
        {
          "output_type": "display_data",
          "data": {
            "application/vnd.jupyter.widget-view+json": {
              "model_id": "2217711660e641a0882b529568562822",
              "version_minor": 0,
              "version_major": 2
            },
            "text/plain": [
              "VBox(children=(Label(value=' 0.00MB of 0.00MB uploaded (0.00MB deduped)\\r'), FloatProgress(value=1.0, max=1.0)…"
            ]
          },
          "metadata": {}
        },
        {
          "output_type": "display_data",
          "data": {
            "text/html": [
              "<style>\n",
              "    table.wandb td:nth-child(1) { padding: 0 10px; text-align: right }\n",
              "    .wandb-row { display: flex; flex-direction: row; flex-wrap: wrap; width: 100% }\n",
              "    .wandb-col { display: flex; flex-direction: column; flex-basis: 100%; flex: 1; padding: 10px; }\n",
              "    </style>\n",
              "<div class=\"wandb-row\"><div class=\"wandb-col\">\n",
              "<h3>Run history:</h3><br/><table class=\"wandb\"><tr><td>epochs</td><td>▁▂▃▃▄▅▆▆▇█</td></tr><tr><td>test_acc</td><td>▁</td></tr><tr><td>train_acc</td><td>▁▄▆▇▇▇████</td></tr><tr><td>train_loss</td><td>█▄▃▂▂▁▁▁▁▁</td></tr><tr><td>val_acc</td><td>▁▅▆▆▇█████</td></tr><tr><td>val_loss</td><td>█▄▃▂▂▁▁▁▁▁</td></tr></table><br/></div><div class=\"wandb-col\">\n",
              "<h3>Run summary:</h3><br/><table class=\"wandb\"><tr><td>epochs</td><td>10</td></tr><tr><td>test_acc</td><td>79.55</td></tr><tr><td>train_acc</td><td>80.78889</td></tr><tr><td>train_loss</td><td>0.5388</td></tr><tr><td>val_acc</td><td>80.2</td></tr><tr><td>val_loss</td><td>0.56232</td></tr></table>\n",
              "</div></div>\n",
              "Synced 5 W&B file(s), 0 media file(s), 0 artifact file(s) and 0 other file(s)\n",
              "<br/>Synced <strong style=\"color:#cdcd00\">honest-sweep-49</strong>: <a href=\"https://wandb.ai/anandh/CS6910_Assignment1_Sweep/runs/jlm6wppn\" target=\"_blank\">https://wandb.ai/anandh/CS6910_Assignment1_Sweep/runs/jlm6wppn</a><br/>\n",
              "Find logs at: <code>./wandb/run-20220225_162434-jlm6wppn/logs</code><br/>\n"
            ],
            "text/plain": [
              "<IPython.core.display.HTML object>"
            ]
          },
          "metadata": {}
        },
        {
          "output_type": "stream",
          "name": "stderr",
          "text": [
            "\u001b[34m\u001b[1mwandb\u001b[0m: Sweep Agent: Waiting for job.\n",
            "\u001b[34m\u001b[1mwandb\u001b[0m: Job received.\n",
            "\u001b[34m\u001b[1mwandb\u001b[0m: Agent Starting Run: bjfuhr01 with config:\n",
            "\u001b[34m\u001b[1mwandb\u001b[0m: \tactivation_para: relu\n",
            "\u001b[34m\u001b[1mwandb\u001b[0m: \tbatch: 100\n",
            "\u001b[34m\u001b[1mwandb\u001b[0m: \tepochs: 5\n",
            "\u001b[34m\u001b[1mwandb\u001b[0m: \teta: 0.01\n",
            "\u001b[34m\u001b[1mwandb\u001b[0m: \tno_of_hidden: 4\n",
            "\u001b[34m\u001b[1mwandb\u001b[0m: \tno_of_neurons: 128\n",
            "\u001b[34m\u001b[1mwandb\u001b[0m: \toptimiser: rms\n",
            "\u001b[34m\u001b[1mwandb\u001b[0m: \tweight_decay: 0.0005\n",
            "\u001b[34m\u001b[1mwandb\u001b[0m: \tweight_para: Xavier\n"
          ]
        },
        {
          "output_type": "display_data",
          "data": {
            "text/html": [
              "\n",
              "                    Syncing run <strong><a href=\"https://wandb.ai/anandh/CS6910_Assignment1_Sweep/runs/bjfuhr01\" target=\"_blank\">sparkling-sweep-51</a></strong> to <a href=\"https://wandb.ai/anandh/CS6910_Assignment1_Sweep\" target=\"_blank\">Weights & Biases</a> (<a href=\"https://docs.wandb.com/integrations/jupyter.html\" target=\"_blank\">docs</a>).<br/>\n",
              "Sweep page: <a href=\"https://wandb.ai/anandh/CS6910_Assignment1_Sweep/sweeps/sugh3pe3\" target=\"_blank\">https://wandb.ai/anandh/CS6910_Assignment1_Sweep/sweeps/sugh3pe3</a><br/>\n",
              "\n",
              "                "
            ],
            "text/plain": [
              "<IPython.core.display.HTML object>"
            ]
          },
          "metadata": {}
        },
        {
          "output_type": "stream",
          "name": "stdout",
          "text": [
            "[784, 128, 128, 128, 128, 10]\n",
            "calling optimizer rms \n",
            "Accuracy of  train= 71.57407407407408   Loss of train = 0.7986756548680386   Accuracy of val= 70.91666666666666  Accuracy of val= 0.8244303977885488\n",
            "Accuracy of  train= 73.53888888888889   Loss of train = 0.7443519092454776   Accuracy of val= 73.18333333333334  Accuracy of val= 0.7744293705128954\n",
            "Accuracy of  train= 74.36296296296297   Loss of train = 0.7222142373118738   Accuracy of val= 73.65  Accuracy of val= 0.7548223816474138\n",
            "Accuracy of  train= 74.87592592592593   Loss of train = 0.7102032917625704   Accuracy of val= 74.05000000000001  Accuracy of val= 0.7442696424367299\n",
            "Accuracy of  train= 75.09814814814814   Loss of train = 0.7027518965876365   Accuracy of val= 74.26666666666667  Accuracy of val= 0.7376826871434949\n",
            "Accuracy of  test_data= 73.15\n"
          ]
        },
        {
          "output_type": "display_data",
          "data": {
            "text/html": [
              "<br/>Waiting for W&B process to finish, PID 5267... <strong style=\"color:green\">(success).</strong>"
            ],
            "text/plain": [
              "<IPython.core.display.HTML object>"
            ]
          },
          "metadata": {}
        },
        {
          "output_type": "display_data",
          "data": {
            "application/vnd.jupyter.widget-view+json": {
              "model_id": "8d315c56a8ae4746ac39444d74f41ba8",
              "version_minor": 0,
              "version_major": 2
            },
            "text/plain": [
              "VBox(children=(Label(value=' 0.00MB of 0.00MB uploaded (0.00MB deduped)\\r'), FloatProgress(value=1.0, max=1.0)…"
            ]
          },
          "metadata": {}
        },
        {
          "output_type": "display_data",
          "data": {
            "text/html": [
              "<style>\n",
              "    table.wandb td:nth-child(1) { padding: 0 10px; text-align: right }\n",
              "    .wandb-row { display: flex; flex-direction: row; flex-wrap: wrap; width: 100% }\n",
              "    .wandb-col { display: flex; flex-direction: column; flex-basis: 100%; flex: 1; padding: 10px; }\n",
              "    </style>\n",
              "<div class=\"wandb-row\"><div class=\"wandb-col\">\n",
              "<h3>Run history:</h3><br/><table class=\"wandb\"><tr><td>epochs</td><td>▁▃▅▆█</td></tr><tr><td>test_acc</td><td>▁</td></tr><tr><td>train_acc</td><td>▁▅▇██</td></tr><tr><td>train_loss</td><td>█▄▂▂▁</td></tr><tr><td>val_acc</td><td>▁▆▇██</td></tr><tr><td>val_loss</td><td>█▄▂▂▁</td></tr></table><br/></div><div class=\"wandb-col\">\n",
              "<h3>Run summary:</h3><br/><table class=\"wandb\"><tr><td>epochs</td><td>5</td></tr><tr><td>test_acc</td><td>73.15</td></tr><tr><td>train_acc</td><td>75.09815</td></tr><tr><td>train_loss</td><td>0.70275</td></tr><tr><td>val_acc</td><td>74.26667</td></tr><tr><td>val_loss</td><td>0.73768</td></tr></table>\n",
              "</div></div>\n",
              "Synced 5 W&B file(s), 0 media file(s), 0 artifact file(s) and 0 other file(s)\n",
              "<br/>Synced <strong style=\"color:#cdcd00\">sparkling-sweep-51</strong>: <a href=\"https://wandb.ai/anandh/CS6910_Assignment1_Sweep/runs/bjfuhr01\" target=\"_blank\">https://wandb.ai/anandh/CS6910_Assignment1_Sweep/runs/bjfuhr01</a><br/>\n",
              "Find logs at: <code>./wandb/run-20220225_162603-bjfuhr01/logs</code><br/>\n"
            ],
            "text/plain": [
              "<IPython.core.display.HTML object>"
            ]
          },
          "metadata": {}
        },
        {
          "output_type": "stream",
          "name": "stderr",
          "text": [
            "\u001b[34m\u001b[1mwandb\u001b[0m: Agent Starting Run: 667lu2wn with config:\n",
            "\u001b[34m\u001b[1mwandb\u001b[0m: \tactivation_para: relu\n",
            "\u001b[34m\u001b[1mwandb\u001b[0m: \tbatch: 100\n",
            "\u001b[34m\u001b[1mwandb\u001b[0m: \tepochs: 10\n",
            "\u001b[34m\u001b[1mwandb\u001b[0m: \teta: 0.01\n",
            "\u001b[34m\u001b[1mwandb\u001b[0m: \tno_of_hidden: 2\n",
            "\u001b[34m\u001b[1mwandb\u001b[0m: \tno_of_neurons: 128\n",
            "\u001b[34m\u001b[1mwandb\u001b[0m: \toptimiser: rms\n",
            "\u001b[34m\u001b[1mwandb\u001b[0m: \tweight_decay: 0.0005\n",
            "\u001b[34m\u001b[1mwandb\u001b[0m: \tweight_para: random\n"
          ]
        },
        {
          "output_type": "display_data",
          "data": {
            "text/html": [
              "\n",
              "                    Syncing run <strong><a href=\"https://wandb.ai/anandh/CS6910_Assignment1_Sweep/runs/667lu2wn\" target=\"_blank\">helpful-sweep-53</a></strong> to <a href=\"https://wandb.ai/anandh/CS6910_Assignment1_Sweep\" target=\"_blank\">Weights & Biases</a> (<a href=\"https://docs.wandb.com/integrations/jupyter.html\" target=\"_blank\">docs</a>).<br/>\n",
              "Sweep page: <a href=\"https://wandb.ai/anandh/CS6910_Assignment1_Sweep/sweeps/sugh3pe3\" target=\"_blank\">https://wandb.ai/anandh/CS6910_Assignment1_Sweep/sweeps/sugh3pe3</a><br/>\n",
              "\n",
              "                "
            ],
            "text/plain": [
              "<IPython.core.display.HTML object>"
            ]
          },
          "metadata": {}
        },
        {
          "output_type": "stream",
          "name": "stdout",
          "text": [
            "[784, 128, 128, 10]\n",
            "calling optimizer rms \n",
            "Accuracy of  train= 74.66666666666667   Loss of train = 0.6861058939712357   Accuracy of val= 73.51666666666667  Accuracy of val= 0.7029485067426772\n",
            "Accuracy of  train= 77.04814814814814   Loss of train = 0.6259051058969684   Accuracy of val= 75.6  Accuracy of val= 0.6502148477835472\n",
            "Accuracy of  train= 78.00185185185185   Loss of train = 0.6031925622522455   Accuracy of val= 76.66666666666667  Accuracy of val= 0.6318553347383622\n",
            "Accuracy of  train= 78.56481481481481   Loss of train = 0.5905884832048413   Accuracy of val= 77.0  Accuracy of val= 0.621989961916415\n",
            "Accuracy of  train= 78.91851851851852   Loss of train = 0.5820798844316054   Accuracy of val= 77.4  Accuracy of val= 0.6153186896433046\n",
            "Accuracy of  train= 79.18148148148148   Loss of train = 0.5758235197494067   Accuracy of val= 77.5  Accuracy of val= 0.6103812624485194\n",
            "Accuracy of  train= 79.4074074074074   Loss of train = 0.5710467120283994   Accuracy of val= 77.68333333333334  Accuracy of val= 0.6066128670624724\n",
            "Accuracy of  train= 79.55185185185185   Loss of train = 0.5673254806885325   Accuracy of val= 77.83333333333333  Accuracy of val= 0.6037018082754351\n",
            "Accuracy of  train= 79.7   Loss of train = 0.5643934487579816   Accuracy of val= 77.85  Accuracy of val= 0.6014507923275382\n",
            "Accuracy of  train= 79.81111111111112   Loss of train = 0.5620661937276377   Accuracy of val= 77.91666666666667  Accuracy of val= 0.5997199411477238\n",
            "Accuracy of  test_data= 78.13\n"
          ]
        },
        {
          "output_type": "display_data",
          "data": {
            "text/html": [
              "<br/>Waiting for W&B process to finish, PID 5306... <strong style=\"color:green\">(success).</strong>"
            ],
            "text/plain": [
              "<IPython.core.display.HTML object>"
            ]
          },
          "metadata": {}
        },
        {
          "output_type": "display_data",
          "data": {
            "application/vnd.jupyter.widget-view+json": {
              "model_id": "f42e670e00fe4936ac4b5276a1e7c16b",
              "version_minor": 0,
              "version_major": 2
            },
            "text/plain": [
              "VBox(children=(Label(value=' 0.00MB of 0.00MB uploaded (0.00MB deduped)\\r'), FloatProgress(value=1.0, max=1.0)…"
            ]
          },
          "metadata": {}
        },
        {
          "output_type": "display_data",
          "data": {
            "text/html": [
              "<style>\n",
              "    table.wandb td:nth-child(1) { padding: 0 10px; text-align: right }\n",
              "    .wandb-row { display: flex; flex-direction: row; flex-wrap: wrap; width: 100% }\n",
              "    .wandb-col { display: flex; flex-direction: column; flex-basis: 100%; flex: 1; padding: 10px; }\n",
              "    </style>\n",
              "<div class=\"wandb-row\"><div class=\"wandb-col\">\n",
              "<h3>Run history:</h3><br/><table class=\"wandb\"><tr><td>epochs</td><td>▁▂▃▃▄▅▆▆▇█</td></tr><tr><td>test_acc</td><td>▁</td></tr><tr><td>train_acc</td><td>▁▄▆▆▇▇▇███</td></tr><tr><td>train_loss</td><td>█▅▃▃▂▂▂▁▁▁</td></tr><tr><td>val_acc</td><td>▁▄▆▇▇▇████</td></tr><tr><td>val_loss</td><td>█▄▃▃▂▂▁▁▁▁</td></tr></table><br/></div><div class=\"wandb-col\">\n",
              "<h3>Run summary:</h3><br/><table class=\"wandb\"><tr><td>epochs</td><td>10</td></tr><tr><td>test_acc</td><td>78.13</td></tr><tr><td>train_acc</td><td>79.81111</td></tr><tr><td>train_loss</td><td>0.56207</td></tr><tr><td>val_acc</td><td>77.91667</td></tr><tr><td>val_loss</td><td>0.59972</td></tr></table>\n",
              "</div></div>\n",
              "Synced 5 W&B file(s), 0 media file(s), 0 artifact file(s) and 0 other file(s)\n",
              "<br/>Synced <strong style=\"color:#cdcd00\">helpful-sweep-53</strong>: <a href=\"https://wandb.ai/anandh/CS6910_Assignment1_Sweep/runs/667lu2wn\" target=\"_blank\">https://wandb.ai/anandh/CS6910_Assignment1_Sweep/runs/667lu2wn</a><br/>\n",
              "Find logs at: <code>./wandb/run-20220225_162656-667lu2wn/logs</code><br/>\n"
            ],
            "text/plain": [
              "<IPython.core.display.HTML object>"
            ]
          },
          "metadata": {}
        },
        {
          "output_type": "stream",
          "name": "stderr",
          "text": [
            "\u001b[34m\u001b[1mwandb\u001b[0m: Sweep Agent: Waiting for job.\n",
            "\u001b[34m\u001b[1mwandb\u001b[0m: Job received.\n",
            "\u001b[34m\u001b[1mwandb\u001b[0m: Agent Starting Run: robtvo93 with config:\n",
            "\u001b[34m\u001b[1mwandb\u001b[0m: \tactivation_para: relu\n",
            "\u001b[34m\u001b[1mwandb\u001b[0m: \tbatch: 100\n",
            "\u001b[34m\u001b[1mwandb\u001b[0m: \tepochs: 5\n",
            "\u001b[34m\u001b[1mwandb\u001b[0m: \teta: 0.01\n",
            "\u001b[34m\u001b[1mwandb\u001b[0m: \tno_of_hidden: 2\n",
            "\u001b[34m\u001b[1mwandb\u001b[0m: \tno_of_neurons: 128\n",
            "\u001b[34m\u001b[1mwandb\u001b[0m: \toptimiser: adam\n",
            "\u001b[34m\u001b[1mwandb\u001b[0m: \tweight_decay: 0\n",
            "\u001b[34m\u001b[1mwandb\u001b[0m: \tweight_para: Xavier\n"
          ]
        },
        {
          "output_type": "display_data",
          "data": {
            "text/html": [
              "\n",
              "                    Syncing run <strong><a href=\"https://wandb.ai/anandh/CS6910_Assignment1_Sweep/runs/robtvo93\" target=\"_blank\">ancient-sweep-54</a></strong> to <a href=\"https://wandb.ai/anandh/CS6910_Assignment1_Sweep\" target=\"_blank\">Weights & Biases</a> (<a href=\"https://docs.wandb.com/integrations/jupyter.html\" target=\"_blank\">docs</a>).<br/>\n",
              "Sweep page: <a href=\"https://wandb.ai/anandh/CS6910_Assignment1_Sweep/sweeps/sugh3pe3\" target=\"_blank\">https://wandb.ai/anandh/CS6910_Assignment1_Sweep/sweeps/sugh3pe3</a><br/>\n",
              "\n",
              "                "
            ],
            "text/plain": [
              "<IPython.core.display.HTML object>"
            ]
          },
          "metadata": {}
        },
        {
          "output_type": "stream",
          "name": "stdout",
          "text": [
            "[784, 128, 128, 10]\n",
            "calling optimizer adam \n",
            "Accuracy of  train= 77.64814814814814   Loss of train = 0.640531520526479   Accuracy of val= 77.46666666666667  Accuracy of val= 0.6590106379704944\n",
            "Accuracy of  train= 79.95185185185186   Loss of train = 0.5750583957841425   Accuracy of val= 79.63333333333334  Accuracy of val= 0.5970929872547855\n",
            "Accuracy of  train= 80.5962962962963   Loss of train = 0.5534276722621284   Accuracy of val= 80.23333333333333  Accuracy of val= 0.5770263039366037\n",
            "Accuracy of  train= 80.96296296296296   Loss of train = 0.5431675686331706   Accuracy of val= 80.46666666666667  Accuracy of val= 0.5677751326347814\n",
            "Accuracy of  train= 81.1462962962963   Loss of train = 0.5372328606062868   Accuracy of val= 80.53333333333333  Accuracy of val= 0.5626555924476352\n",
            "Accuracy of  test_data= 79.54\n"
          ]
        },
        {
          "output_type": "display_data",
          "data": {
            "text/html": [
              "<br/>Waiting for W&B process to finish, PID 5345... <strong style=\"color:green\">(success).</strong>"
            ],
            "text/plain": [
              "<IPython.core.display.HTML object>"
            ]
          },
          "metadata": {}
        },
        {
          "output_type": "display_data",
          "data": {
            "application/vnd.jupyter.widget-view+json": {
              "model_id": "5edeadd9a7584186997c9b65dd26d58d",
              "version_minor": 0,
              "version_major": 2
            },
            "text/plain": [
              "VBox(children=(Label(value=' 0.00MB of 0.00MB uploaded (0.00MB deduped)\\r'), FloatProgress(value=1.0, max=1.0)…"
            ]
          },
          "metadata": {}
        },
        {
          "output_type": "display_data",
          "data": {
            "text/html": [
              "<style>\n",
              "    table.wandb td:nth-child(1) { padding: 0 10px; text-align: right }\n",
              "    .wandb-row { display: flex; flex-direction: row; flex-wrap: wrap; width: 100% }\n",
              "    .wandb-col { display: flex; flex-direction: column; flex-basis: 100%; flex: 1; padding: 10px; }\n",
              "    </style>\n",
              "<div class=\"wandb-row\"><div class=\"wandb-col\">\n",
              "<h3>Run history:</h3><br/><table class=\"wandb\"><tr><td>epochs</td><td>▁▃▅▆█</td></tr><tr><td>test_acc</td><td>▁</td></tr><tr><td>train_acc</td><td>▁▆▇██</td></tr><tr><td>train_loss</td><td>█▄▂▁▁</td></tr><tr><td>val_acc</td><td>▁▆▇██</td></tr><tr><td>val_loss</td><td>█▄▂▁▁</td></tr></table><br/></div><div class=\"wandb-col\">\n",
              "<h3>Run summary:</h3><br/><table class=\"wandb\"><tr><td>epochs</td><td>5</td></tr><tr><td>test_acc</td><td>79.54</td></tr><tr><td>train_acc</td><td>81.1463</td></tr><tr><td>train_loss</td><td>0.53723</td></tr><tr><td>val_acc</td><td>80.53333</td></tr><tr><td>val_loss</td><td>0.56266</td></tr></table>\n",
              "</div></div>\n",
              "Synced 5 W&B file(s), 0 media file(s), 0 artifact file(s) and 0 other file(s)\n",
              "<br/>Synced <strong style=\"color:#cdcd00\">ancient-sweep-54</strong>: <a href=\"https://wandb.ai/anandh/CS6910_Assignment1_Sweep/runs/robtvo93\" target=\"_blank\">https://wandb.ai/anandh/CS6910_Assignment1_Sweep/runs/robtvo93</a><br/>\n",
              "Find logs at: <code>./wandb/run-20220225_162818-robtvo93/logs</code><br/>\n"
            ],
            "text/plain": [
              "<IPython.core.display.HTML object>"
            ]
          },
          "metadata": {}
        },
        {
          "output_type": "stream",
          "name": "stderr",
          "text": [
            "\u001b[34m\u001b[1mwandb\u001b[0m: Agent Starting Run: ftp4telu with config:\n",
            "\u001b[34m\u001b[1mwandb\u001b[0m: \tactivation_para: relu\n",
            "\u001b[34m\u001b[1mwandb\u001b[0m: \tbatch: 64\n",
            "\u001b[34m\u001b[1mwandb\u001b[0m: \tepochs: 5\n",
            "\u001b[34m\u001b[1mwandb\u001b[0m: \teta: 0.01\n",
            "\u001b[34m\u001b[1mwandb\u001b[0m: \tno_of_hidden: 2\n",
            "\u001b[34m\u001b[1mwandb\u001b[0m: \tno_of_neurons: 256\n",
            "\u001b[34m\u001b[1mwandb\u001b[0m: \toptimiser: nadam\n",
            "\u001b[34m\u001b[1mwandb\u001b[0m: \tweight_decay: 0.0005\n",
            "\u001b[34m\u001b[1mwandb\u001b[0m: \tweight_para: random\n"
          ]
        },
        {
          "output_type": "display_data",
          "data": {
            "text/html": [
              "\n",
              "                    Syncing run <strong><a href=\"https://wandb.ai/anandh/CS6910_Assignment1_Sweep/runs/ftp4telu\" target=\"_blank\">proud-sweep-56</a></strong> to <a href=\"https://wandb.ai/anandh/CS6910_Assignment1_Sweep\" target=\"_blank\">Weights & Biases</a> (<a href=\"https://docs.wandb.com/integrations/jupyter.html\" target=\"_blank\">docs</a>).<br/>\n",
              "Sweep page: <a href=\"https://wandb.ai/anandh/CS6910_Assignment1_Sweep/sweeps/sugh3pe3\" target=\"_blank\">https://wandb.ai/anandh/CS6910_Assignment1_Sweep/sweeps/sugh3pe3</a><br/>\n",
              "\n",
              "                "
            ],
            "text/plain": [
              "<IPython.core.display.HTML object>"
            ]
          },
          "metadata": {}
        },
        {
          "output_type": "stream",
          "name": "stdout",
          "text": [
            "[784, 256, 256, 10]\n",
            "calling optimizer nadam \n",
            "Accuracy of  train= 81.46296296296296   Loss of train = 0.5315621389062707   Accuracy of val= 80.96666666666667  Accuracy of val= 0.5515147178278103\n",
            "Accuracy of  train= 83.01111111111112   Loss of train = 0.48611728526856124   Accuracy of val= 82.1  Accuracy of val= 0.5101508490185445\n",
            "Accuracy of  train= 83.53888888888889   Loss of train = 0.4686354618580043   Accuracy of val= 82.56666666666666  Accuracy of val= 0.4961765122292108\n",
            "Accuracy of  train= 83.86666666666667   Loss of train = 0.4590294767308053   Accuracy of val= 82.91666666666667  Accuracy of val= 0.489741726602187\n",
            "Accuracy of  train= 84.0425925925926   Loss of train = 0.45307756829890117   Accuracy of val= 83.06666666666666  Accuracy of val= 0.48658883199678316\n",
            "Accuracy of  test_data= 82.55\n"
          ]
        },
        {
          "output_type": "display_data",
          "data": {
            "text/html": [
              "<br/>Waiting for W&B process to finish, PID 5384... <strong style=\"color:green\">(success).</strong>"
            ],
            "text/plain": [
              "<IPython.core.display.HTML object>"
            ]
          },
          "metadata": {}
        },
        {
          "output_type": "display_data",
          "data": {
            "application/vnd.jupyter.widget-view+json": {
              "model_id": "c1ae581b6a734bedb02c8e4a2629337b",
              "version_minor": 0,
              "version_major": 2
            },
            "text/plain": [
              "VBox(children=(Label(value=' 0.00MB of 0.00MB uploaded (0.00MB deduped)\\r'), FloatProgress(value=1.0, max=1.0)…"
            ]
          },
          "metadata": {}
        },
        {
          "output_type": "display_data",
          "data": {
            "text/html": [
              "<style>\n",
              "    table.wandb td:nth-child(1) { padding: 0 10px; text-align: right }\n",
              "    .wandb-row { display: flex; flex-direction: row; flex-wrap: wrap; width: 100% }\n",
              "    .wandb-col { display: flex; flex-direction: column; flex-basis: 100%; flex: 1; padding: 10px; }\n",
              "    </style>\n",
              "<div class=\"wandb-row\"><div class=\"wandb-col\">\n",
              "<h3>Run history:</h3><br/><table class=\"wandb\"><tr><td>epochs</td><td>▁▃▅▆█</td></tr><tr><td>test_acc</td><td>▁</td></tr><tr><td>train_acc</td><td>▁▅▇██</td></tr><tr><td>train_loss</td><td>█▄▂▂▁</td></tr><tr><td>val_acc</td><td>▁▅▆▇█</td></tr><tr><td>val_loss</td><td>█▄▂▁▁</td></tr></table><br/></div><div class=\"wandb-col\">\n",
              "<h3>Run summary:</h3><br/><table class=\"wandb\"><tr><td>epochs</td><td>5</td></tr><tr><td>test_acc</td><td>82.55</td></tr><tr><td>train_acc</td><td>84.04259</td></tr><tr><td>train_loss</td><td>0.45308</td></tr><tr><td>val_acc</td><td>83.06667</td></tr><tr><td>val_loss</td><td>0.48659</td></tr></table>\n",
              "</div></div>\n",
              "Synced 5 W&B file(s), 0 media file(s), 0 artifact file(s) and 0 other file(s)\n",
              "<br/>Synced <strong style=\"color:#cdcd00\">proud-sweep-56</strong>: <a href=\"https://wandb.ai/anandh/CS6910_Assignment1_Sweep/runs/ftp4telu\" target=\"_blank\">https://wandb.ai/anandh/CS6910_Assignment1_Sweep/runs/ftp4telu</a><br/>\n",
              "Find logs at: <code>./wandb/run-20220225_162905-ftp4telu/logs</code><br/>\n"
            ],
            "text/plain": [
              "<IPython.core.display.HTML object>"
            ]
          },
          "metadata": {}
        },
        {
          "output_type": "stream",
          "name": "stderr",
          "text": [
            "\u001b[34m\u001b[1mwandb\u001b[0m: Agent Starting Run: tgpzfacg with config:\n",
            "\u001b[34m\u001b[1mwandb\u001b[0m: \tactivation_para: relu\n",
            "\u001b[34m\u001b[1mwandb\u001b[0m: \tbatch: 100\n",
            "\u001b[34m\u001b[1mwandb\u001b[0m: \tepochs: 5\n",
            "\u001b[34m\u001b[1mwandb\u001b[0m: \teta: 0.01\n",
            "\u001b[34m\u001b[1mwandb\u001b[0m: \tno_of_hidden: 4\n",
            "\u001b[34m\u001b[1mwandb\u001b[0m: \tno_of_neurons: 256\n",
            "\u001b[34m\u001b[1mwandb\u001b[0m: \toptimiser: nadam\n",
            "\u001b[34m\u001b[1mwandb\u001b[0m: \tweight_decay: 0\n",
            "\u001b[34m\u001b[1mwandb\u001b[0m: \tweight_para: Xavier\n"
          ]
        },
        {
          "output_type": "display_data",
          "data": {
            "text/html": [
              "\n",
              "                    Syncing run <strong><a href=\"https://wandb.ai/anandh/CS6910_Assignment1_Sweep/runs/tgpzfacg\" target=\"_blank\">absurd-sweep-57</a></strong> to <a href=\"https://wandb.ai/anandh/CS6910_Assignment1_Sweep\" target=\"_blank\">Weights & Biases</a> (<a href=\"https://docs.wandb.com/integrations/jupyter.html\" target=\"_blank\">docs</a>).<br/>\n",
              "Sweep page: <a href=\"https://wandb.ai/anandh/CS6910_Assignment1_Sweep/sweeps/sugh3pe3\" target=\"_blank\">https://wandb.ai/anandh/CS6910_Assignment1_Sweep/sweeps/sugh3pe3</a><br/>\n",
              "\n",
              "                "
            ],
            "text/plain": [
              "<IPython.core.display.HTML object>"
            ]
          },
          "metadata": {}
        },
        {
          "output_type": "stream",
          "name": "stdout",
          "text": [
            "[784, 256, 256, 256, 256, 10]\n",
            "calling optimizer nadam \n",
            "Accuracy of  train= 76.71851851851852   Loss of train = 0.6497346529233362   Accuracy of val= 76.44999999999999  Accuracy of val= 0.6703885911146544\n",
            "Accuracy of  train= 79.1462962962963   Loss of train = 0.5825460328864788   Accuracy of val= 78.4  Accuracy of val= 0.6052316918782545\n",
            "Accuracy of  train= 80.11666666666667   Loss of train = 0.5543338152920025   Accuracy of val= 79.33333333333333  Accuracy of val= 0.5789205514179169\n",
            "Accuracy of  train= 80.58333333333333   Loss of train = 0.5383739427803088   Accuracy of val= 79.71666666666667  Accuracy of val= 0.5647855374783417\n",
            "Accuracy of  train= 81.04074074074073   Loss of train = 0.5280163876147449   Accuracy of val= 80.06666666666666  Accuracy of val= 0.5560818890211144\n",
            "Accuracy of  test_data= 79.95\n"
          ]
        },
        {
          "output_type": "display_data",
          "data": {
            "text/html": [
              "<br/>Waiting for W&B process to finish, PID 5423... <strong style=\"color:green\">(success).</strong>"
            ],
            "text/plain": [
              "<IPython.core.display.HTML object>"
            ]
          },
          "metadata": {}
        },
        {
          "output_type": "display_data",
          "data": {
            "application/vnd.jupyter.widget-view+json": {
              "model_id": "2cfea23648d040afbe081240d83f5209",
              "version_minor": 0,
              "version_major": 2
            },
            "text/plain": [
              "VBox(children=(Label(value=' 0.00MB of 0.00MB uploaded (0.00MB deduped)\\r'), FloatProgress(value=1.0, max=1.0)…"
            ]
          },
          "metadata": {}
        },
        {
          "output_type": "display_data",
          "data": {
            "text/html": [
              "<style>\n",
              "    table.wandb td:nth-child(1) { padding: 0 10px; text-align: right }\n",
              "    .wandb-row { display: flex; flex-direction: row; flex-wrap: wrap; width: 100% }\n",
              "    .wandb-col { display: flex; flex-direction: column; flex-basis: 100%; flex: 1; padding: 10px; }\n",
              "    </style>\n",
              "<div class=\"wandb-row\"><div class=\"wandb-col\">\n",
              "<h3>Run history:</h3><br/><table class=\"wandb\"><tr><td>epochs</td><td>▁▃▅▆█</td></tr><tr><td>test_acc</td><td>▁</td></tr><tr><td>train_acc</td><td>▁▅▇▇█</td></tr><tr><td>train_loss</td><td>█▄▃▂▁</td></tr><tr><td>val_acc</td><td>▁▅▇▇█</td></tr><tr><td>val_loss</td><td>█▄▂▂▁</td></tr></table><br/></div><div class=\"wandb-col\">\n",
              "<h3>Run summary:</h3><br/><table class=\"wandb\"><tr><td>epochs</td><td>5</td></tr><tr><td>test_acc</td><td>79.95</td></tr><tr><td>train_acc</td><td>81.04074</td></tr><tr><td>train_loss</td><td>0.52802</td></tr><tr><td>val_acc</td><td>80.06667</td></tr><tr><td>val_loss</td><td>0.55608</td></tr></table>\n",
              "</div></div>\n",
              "Synced 5 W&B file(s), 0 media file(s), 0 artifact file(s) and 0 other file(s)\n",
              "<br/>Synced <strong style=\"color:#cdcd00\">absurd-sweep-57</strong>: <a href=\"https://wandb.ai/anandh/CS6910_Assignment1_Sweep/runs/tgpzfacg\" target=\"_blank\">https://wandb.ai/anandh/CS6910_Assignment1_Sweep/runs/tgpzfacg</a><br/>\n",
              "Find logs at: <code>./wandb/run-20220225_163048-tgpzfacg/logs</code><br/>\n"
            ],
            "text/plain": [
              "<IPython.core.display.HTML object>"
            ]
          },
          "metadata": {}
        },
        {
          "output_type": "stream",
          "name": "stderr",
          "text": [
            "\u001b[34m\u001b[1mwandb\u001b[0m: Sweep Agent: Waiting for job.\n",
            "\u001b[34m\u001b[1mwandb\u001b[0m: Job received.\n",
            "\u001b[34m\u001b[1mwandb\u001b[0m: Agent Starting Run: z5k8jji8 with config:\n",
            "\u001b[34m\u001b[1mwandb\u001b[0m: \tactivation_para: relu\n",
            "\u001b[34m\u001b[1mwandb\u001b[0m: \tbatch: 64\n",
            "\u001b[34m\u001b[1mwandb\u001b[0m: \tepochs: 10\n",
            "\u001b[34m\u001b[1mwandb\u001b[0m: \teta: 0.01\n",
            "\u001b[34m\u001b[1mwandb\u001b[0m: \tno_of_hidden: 2\n",
            "\u001b[34m\u001b[1mwandb\u001b[0m: \tno_of_neurons: 256\n",
            "\u001b[34m\u001b[1mwandb\u001b[0m: \toptimiser: nadam\n",
            "\u001b[34m\u001b[1mwandb\u001b[0m: \tweight_decay: 0.0005\n",
            "\u001b[34m\u001b[1mwandb\u001b[0m: \tweight_para: random\n"
          ]
        },
        {
          "output_type": "display_data",
          "data": {
            "text/html": [
              "\n",
              "                    Syncing run <strong><a href=\"https://wandb.ai/anandh/CS6910_Assignment1_Sweep/runs/z5k8jji8\" target=\"_blank\">fresh-sweep-58</a></strong> to <a href=\"https://wandb.ai/anandh/CS6910_Assignment1_Sweep\" target=\"_blank\">Weights & Biases</a> (<a href=\"https://docs.wandb.com/integrations/jupyter.html\" target=\"_blank\">docs</a>).<br/>\n",
              "Sweep page: <a href=\"https://wandb.ai/anandh/CS6910_Assignment1_Sweep/sweeps/sugh3pe3\" target=\"_blank\">https://wandb.ai/anandh/CS6910_Assignment1_Sweep/sweeps/sugh3pe3</a><br/>\n",
              "\n",
              "                "
            ],
            "text/plain": [
              "<IPython.core.display.HTML object>"
            ]
          },
          "metadata": {}
        },
        {
          "output_type": "stream",
          "name": "stdout",
          "text": [
            "[784, 256, 256, 10]\n",
            "calling optimizer nadam \n",
            "Accuracy of  train= 81.58148148148148   Loss of train = 0.5298789161110182   Accuracy of val= 80.83333333333333  Accuracy of val= 0.5390110673364763\n",
            "Accuracy of  train= 82.95185185185186   Loss of train = 0.48987615095650416   Accuracy of val= 82.33333333333334  Accuracy of val= 0.5027963635619915\n",
            "Accuracy of  train= 83.2925925925926   Loss of train = 0.47769247156454364   Accuracy of val= 82.73333333333333  Accuracy of val= 0.4940609173959847\n",
            "Accuracy of  train= 83.47777777777777   Loss of train = 0.4729028912222658   Accuracy of val= 82.93333333333334  Accuracy of val= 0.4919795501594332\n",
            "Accuracy of  train= 83.54444444444444   Loss of train = 0.4704495424464183   Accuracy of val= 82.98333333333333  Accuracy of val= 0.4917576840097175\n",
            "Accuracy of  train= 83.59814814814814   Loss of train = 0.4689030776526568   Accuracy of val= 83.0  Accuracy of val= 0.4920995119575992\n",
            "Accuracy of  train= 83.66296296296296   Loss of train = 0.46783679917490706   Accuracy of val= 83.06666666666666  Accuracy of val= 0.4926641003531166\n",
            "Accuracy of  train= 83.65925925925926   Loss of train = 0.467074900654461   Accuracy of val= 83.16666666666667  Accuracy of val= 0.4933326290958843\n",
            "Accuracy of  train= 83.67037037037038   Loss of train = 0.46652108813335047   Accuracy of val= 83.1  Accuracy of val= 0.49404652788980247\n",
            "Accuracy of  train= 83.65   Loss of train = 0.466114792197059   Accuracy of val= 83.1  Accuracy of val= 0.49477809347222973\n",
            "Accuracy of  test_data= 81.44\n"
          ]
        },
        {
          "output_type": "display_data",
          "data": {
            "text/html": [
              "<br/>Waiting for W&B process to finish, PID 5462... <strong style=\"color:green\">(success).</strong>"
            ],
            "text/plain": [
              "<IPython.core.display.HTML object>"
            ]
          },
          "metadata": {}
        },
        {
          "output_type": "display_data",
          "data": {
            "application/vnd.jupyter.widget-view+json": {
              "model_id": "1b1100089e6d4674aaa437e2202fafc3",
              "version_minor": 0,
              "version_major": 2
            },
            "text/plain": [
              "VBox(children=(Label(value=' 0.00MB of 0.00MB uploaded (0.00MB deduped)\\r'), FloatProgress(value=1.0, max=1.0)…"
            ]
          },
          "metadata": {}
        },
        {
          "output_type": "display_data",
          "data": {
            "text/html": [
              "<style>\n",
              "    table.wandb td:nth-child(1) { padding: 0 10px; text-align: right }\n",
              "    .wandb-row { display: flex; flex-direction: row; flex-wrap: wrap; width: 100% }\n",
              "    .wandb-col { display: flex; flex-direction: column; flex-basis: 100%; flex: 1; padding: 10px; }\n",
              "    </style>\n",
              "<div class=\"wandb-row\"><div class=\"wandb-col\">\n",
              "<h3>Run history:</h3><br/><table class=\"wandb\"><tr><td>epochs</td><td>▁▂▃▃▄▅▆▆▇█</td></tr><tr><td>test_acc</td><td>▁</td></tr><tr><td>train_acc</td><td>▁▆▇▇██████</td></tr><tr><td>train_loss</td><td>█▄▂▂▁▁▁▁▁▁</td></tr><tr><td>val_acc</td><td>▁▆▇▇▇█████</td></tr><tr><td>val_loss</td><td>█▃▁▁▁▁▁▁▁▁</td></tr></table><br/></div><div class=\"wandb-col\">\n",
              "<h3>Run summary:</h3><br/><table class=\"wandb\"><tr><td>epochs</td><td>10</td></tr><tr><td>test_acc</td><td>81.44</td></tr><tr><td>train_acc</td><td>83.65</td></tr><tr><td>train_loss</td><td>0.46611</td></tr><tr><td>val_acc</td><td>83.1</td></tr><tr><td>val_loss</td><td>0.49478</td></tr></table>\n",
              "</div></div>\n",
              "Synced 5 W&B file(s), 0 media file(s), 0 artifact file(s) and 0 other file(s)\n",
              "<br/>Synced <strong style=\"color:#cdcd00\">fresh-sweep-58</strong>: <a href=\"https://wandb.ai/anandh/CS6910_Assignment1_Sweep/runs/z5k8jji8\" target=\"_blank\">https://wandb.ai/anandh/CS6910_Assignment1_Sweep/runs/z5k8jji8</a><br/>\n",
              "Find logs at: <code>./wandb/run-20220225_163632-z5k8jji8/logs</code><br/>\n"
            ],
            "text/plain": [
              "<IPython.core.display.HTML object>"
            ]
          },
          "metadata": {}
        },
        {
          "output_type": "stream",
          "name": "stderr",
          "text": [
            "\u001b[34m\u001b[1mwandb\u001b[0m: Agent Starting Run: 8y151o49 with config:\n",
            "\u001b[34m\u001b[1mwandb\u001b[0m: \tactivation_para: relu\n",
            "\u001b[34m\u001b[1mwandb\u001b[0m: \tbatch: 100\n",
            "\u001b[34m\u001b[1mwandb\u001b[0m: \tepochs: 5\n",
            "\u001b[34m\u001b[1mwandb\u001b[0m: \teta: 0.01\n",
            "\u001b[34m\u001b[1mwandb\u001b[0m: \tno_of_hidden: 3\n",
            "\u001b[34m\u001b[1mwandb\u001b[0m: \tno_of_neurons: 128\n",
            "\u001b[34m\u001b[1mwandb\u001b[0m: \toptimiser: adam\n",
            "\u001b[34m\u001b[1mwandb\u001b[0m: \tweight_decay: 0\n",
            "\u001b[34m\u001b[1mwandb\u001b[0m: \tweight_para: Xavier\n"
          ]
        },
        {
          "output_type": "display_data",
          "data": {
            "text/html": [
              "\n",
              "                    Syncing run <strong><a href=\"https://wandb.ai/anandh/CS6910_Assignment1_Sweep/runs/8y151o49\" target=\"_blank\">woven-sweep-59</a></strong> to <a href=\"https://wandb.ai/anandh/CS6910_Assignment1_Sweep\" target=\"_blank\">Weights & Biases</a> (<a href=\"https://docs.wandb.com/integrations/jupyter.html\" target=\"_blank\">docs</a>).<br/>\n",
              "Sweep page: <a href=\"https://wandb.ai/anandh/CS6910_Assignment1_Sweep/sweeps/sugh3pe3\" target=\"_blank\">https://wandb.ai/anandh/CS6910_Assignment1_Sweep/sweeps/sugh3pe3</a><br/>\n",
              "\n",
              "                "
            ],
            "text/plain": [
              "<IPython.core.display.HTML object>"
            ]
          },
          "metadata": {}
        },
        {
          "output_type": "stream",
          "name": "stdout",
          "text": [
            "[784, 128, 128, 128, 10]\n",
            "calling optimizer adam \n",
            "Accuracy of  train= 74.15555555555555   Loss of train = 0.7313473126621727   Accuracy of val= 74.1  Accuracy of val= 0.7429056725467483\n",
            "Accuracy of  train= 76.41851851851852   Loss of train = 0.6654623232489888   Accuracy of val= 76.88333333333334  Accuracy of val= 0.6822377526887582\n",
            "Accuracy of  train= 77.31851851851852   Loss of train = 0.6416342434824762   Accuracy of val= 77.60000000000001  Accuracy of val= 0.6614059391222111\n",
            "Accuracy of  train= 77.69259259259259   Loss of train = 0.62974328843053   Accuracy of val= 77.88333333333334  Accuracy of val= 0.6516066862638966\n",
            "Accuracy of  train= 77.96111111111111   Loss of train = 0.622738602003015   Accuracy of val= 78.10000000000001  Accuracy of val= 0.6462346196186213\n",
            "Accuracy of  test_data= 76.57000000000001\n"
          ]
        },
        {
          "output_type": "display_data",
          "data": {
            "text/html": [
              "<br/>Waiting for W&B process to finish, PID 5501... <strong style=\"color:green\">(success).</strong>"
            ],
            "text/plain": [
              "<IPython.core.display.HTML object>"
            ]
          },
          "metadata": {}
        },
        {
          "output_type": "display_data",
          "data": {
            "application/vnd.jupyter.widget-view+json": {
              "model_id": "ac519176679d4c9cb65ba033195aa403",
              "version_minor": 0,
              "version_major": 2
            },
            "text/plain": [
              "VBox(children=(Label(value=' 0.00MB of 0.00MB uploaded (0.00MB deduped)\\r'), FloatProgress(value=1.0, max=1.0)…"
            ]
          },
          "metadata": {}
        },
        {
          "output_type": "display_data",
          "data": {
            "text/html": [
              "<style>\n",
              "    table.wandb td:nth-child(1) { padding: 0 10px; text-align: right }\n",
              "    .wandb-row { display: flex; flex-direction: row; flex-wrap: wrap; width: 100% }\n",
              "    .wandb-col { display: flex; flex-direction: column; flex-basis: 100%; flex: 1; padding: 10px; }\n",
              "    </style>\n",
              "<div class=\"wandb-row\"><div class=\"wandb-col\">\n",
              "<h3>Run history:</h3><br/><table class=\"wandb\"><tr><td>epochs</td><td>▁▃▅▆█</td></tr><tr><td>test_acc</td><td>▁</td></tr><tr><td>train_acc</td><td>▁▅▇██</td></tr><tr><td>train_loss</td><td>█▄▂▁▁</td></tr><tr><td>val_acc</td><td>▁▆▇██</td></tr><tr><td>val_loss</td><td>█▄▂▁▁</td></tr></table><br/></div><div class=\"wandb-col\">\n",
              "<h3>Run summary:</h3><br/><table class=\"wandb\"><tr><td>epochs</td><td>5</td></tr><tr><td>test_acc</td><td>76.57</td></tr><tr><td>train_acc</td><td>77.96111</td></tr><tr><td>train_loss</td><td>0.62274</td></tr><tr><td>val_acc</td><td>78.1</td></tr><tr><td>val_loss</td><td>0.64623</td></tr></table>\n",
              "</div></div>\n",
              "Synced 5 W&B file(s), 0 media file(s), 0 artifact file(s) and 0 other file(s)\n",
              "<br/>Synced <strong style=\"color:#cdcd00\">woven-sweep-59</strong>: <a href=\"https://wandb.ai/anandh/CS6910_Assignment1_Sweep/runs/8y151o49\" target=\"_blank\">https://wandb.ai/anandh/CS6910_Assignment1_Sweep/runs/8y151o49</a><br/>\n",
              "Find logs at: <code>./wandb/run-20220225_164303-8y151o49/logs</code><br/>\n"
            ],
            "text/plain": [
              "<IPython.core.display.HTML object>"
            ]
          },
          "metadata": {}
        },
        {
          "output_type": "stream",
          "name": "stderr",
          "text": [
            "\u001b[34m\u001b[1mwandb\u001b[0m: Sweep Agent: Waiting for job.\n",
            "\u001b[34m\u001b[1mwandb\u001b[0m: Job received.\n",
            "\u001b[34m\u001b[1mwandb\u001b[0m: Agent Starting Run: kcog6br3 with config:\n",
            "\u001b[34m\u001b[1mwandb\u001b[0m: \tactivation_para: relu\n",
            "\u001b[34m\u001b[1mwandb\u001b[0m: \tbatch: 100\n",
            "\u001b[34m\u001b[1mwandb\u001b[0m: \tepochs: 10\n",
            "\u001b[34m\u001b[1mwandb\u001b[0m: \teta: 0.01\n",
            "\u001b[34m\u001b[1mwandb\u001b[0m: \tno_of_hidden: 3\n",
            "\u001b[34m\u001b[1mwandb\u001b[0m: \tno_of_neurons: 256\n",
            "\u001b[34m\u001b[1mwandb\u001b[0m: \toptimiser: nadam\n",
            "\u001b[34m\u001b[1mwandb\u001b[0m: \tweight_decay: 0.0005\n",
            "\u001b[34m\u001b[1mwandb\u001b[0m: \tweight_para: Xavier\n"
          ]
        },
        {
          "output_type": "display_data",
          "data": {
            "text/html": [
              "\n",
              "                    Syncing run <strong><a href=\"https://wandb.ai/anandh/CS6910_Assignment1_Sweep/runs/kcog6br3\" target=\"_blank\">astral-sweep-60</a></strong> to <a href=\"https://wandb.ai/anandh/CS6910_Assignment1_Sweep\" target=\"_blank\">Weights & Biases</a> (<a href=\"https://docs.wandb.com/integrations/jupyter.html\" target=\"_blank\">docs</a>).<br/>\n",
              "Sweep page: <a href=\"https://wandb.ai/anandh/CS6910_Assignment1_Sweep/sweeps/sugh3pe3\" target=\"_blank\">https://wandb.ai/anandh/CS6910_Assignment1_Sweep/sweeps/sugh3pe3</a><br/>\n",
              "\n",
              "                "
            ],
            "text/plain": [
              "<IPython.core.display.HTML object>"
            ]
          },
          "metadata": {}
        },
        {
          "output_type": "stream",
          "name": "stdout",
          "text": [
            "[784, 256, 256, 256, 10]\n",
            "calling optimizer nadam \n",
            "Accuracy of  train= 79.57777777777778   Loss of train = 0.5894622534548395   Accuracy of val= 78.64999999999999  Accuracy of val= 0.6098147800305721\n",
            "Accuracy of  train= 81.31851851851852   Loss of train = 0.5351632704693804   Accuracy of val= 80.2  Accuracy of val= 0.5606922347701332\n",
            "Accuracy of  train= 82.02222222222221   Loss of train = 0.5131973241927058   Accuracy of val= 80.65  Accuracy of val= 0.5425778544013157\n",
            "Accuracy of  train= 82.40185185185184   Loss of train = 0.5010028057576315   Accuracy of val= 81.03333333333333  Accuracy of val= 0.5333979519027212\n",
            "Accuracy of  train= 82.61481481481482   Loss of train = 0.49329910225974866   Accuracy of val= 81.25  Accuracy of val= 0.5280971223698449\n",
            "Accuracy of  train= 82.73148148148148   Loss of train = 0.48803263039492856   Accuracy of val= 81.38333333333333  Accuracy of val= 0.5247851497710542\n",
            "Accuracy of  train= 82.85555555555555   Loss of train = 0.48422826951770515   Accuracy of val= 81.51666666666667  Accuracy of val= 0.52260526531742\n",
            "Accuracy of  train= 82.98703703703704   Loss of train = 0.481366182754309   Accuracy of val= 81.65  Accuracy of val= 0.5211218827482967\n",
            "Accuracy of  train= 83.04074074074073   Loss of train = 0.47914047511353763   Accuracy of val= 81.65  Accuracy of val= 0.520088514623596\n",
            "Accuracy of  train= 83.10555555555555   Loss of train = 0.477363160815757   Accuracy of val= 81.69999999999999  Accuracy of val= 0.5193582533298275\n",
            "Accuracy of  test_data= 81.28999999999999\n"
          ]
        },
        {
          "output_type": "display_data",
          "data": {
            "text/html": [
              "<br/>Waiting for W&B process to finish, PID 5540... <strong style=\"color:green\">(success).</strong>"
            ],
            "text/plain": [
              "<IPython.core.display.HTML object>"
            ]
          },
          "metadata": {}
        },
        {
          "output_type": "display_data",
          "data": {
            "application/vnd.jupyter.widget-view+json": {
              "model_id": "3e591fca1045452bbb4c5b146cd0854a",
              "version_minor": 0,
              "version_major": 2
            },
            "text/plain": [
              "VBox(children=(Label(value=' 0.00MB of 0.00MB uploaded (0.00MB deduped)\\r'), FloatProgress(value=1.0, max=1.0)…"
            ]
          },
          "metadata": {}
        },
        {
          "output_type": "display_data",
          "data": {
            "text/html": [
              "<style>\n",
              "    table.wandb td:nth-child(1) { padding: 0 10px; text-align: right }\n",
              "    .wandb-row { display: flex; flex-direction: row; flex-wrap: wrap; width: 100% }\n",
              "    .wandb-col { display: flex; flex-direction: column; flex-basis: 100%; flex: 1; padding: 10px; }\n",
              "    </style>\n",
              "<div class=\"wandb-row\"><div class=\"wandb-col\">\n",
              "<h3>Run history:</h3><br/><table class=\"wandb\"><tr><td>epochs</td><td>▁▂▃▃▄▅▆▆▇█</td></tr><tr><td>test_acc</td><td>▁</td></tr><tr><td>train_acc</td><td>▁▄▆▇▇▇████</td></tr><tr><td>train_loss</td><td>█▅▃▂▂▂▁▁▁▁</td></tr><tr><td>val_acc</td><td>▁▅▆▆▇▇████</td></tr><tr><td>val_loss</td><td>█▄▃▂▂▁▁▁▁▁</td></tr></table><br/></div><div class=\"wandb-col\">\n",
              "<h3>Run summary:</h3><br/><table class=\"wandb\"><tr><td>epochs</td><td>10</td></tr><tr><td>test_acc</td><td>81.29</td></tr><tr><td>train_acc</td><td>83.10556</td></tr><tr><td>train_loss</td><td>0.47736</td></tr><tr><td>val_acc</td><td>81.7</td></tr><tr><td>val_loss</td><td>0.51936</td></tr></table>\n",
              "</div></div>\n",
              "Synced 5 W&B file(s), 0 media file(s), 0 artifact file(s) and 0 other file(s)\n",
              "<br/>Synced <strong style=\"color:#cdcd00\">astral-sweep-60</strong>: <a href=\"https://wandb.ai/anandh/CS6910_Assignment1_Sweep/runs/kcog6br3\" target=\"_blank\">https://wandb.ai/anandh/CS6910_Assignment1_Sweep/runs/kcog6br3</a><br/>\n",
              "Find logs at: <code>./wandb/run-20220225_164404-kcog6br3/logs</code><br/>\n"
            ],
            "text/plain": [
              "<IPython.core.display.HTML object>"
            ]
          },
          "metadata": {}
        }
      ],
      "source": [
        "features=784\n",
        "n_class=10\n",
        "loss='cross_entropy'\n",
        "#la=[]\n",
        "#L=0\n",
        "#print(\"calling FF_fit\")\n",
        "def FF_fit():\n",
        "    \"\"\"\n",
        "    This function is used for the hyperparameter tuning using wandb sweeps\n",
        "    \"\"\"\n",
        "    # Default values for hyper-parameters\n",
        "    config_defaults = {\n",
        "        'epochs': 10,\n",
        "        'batch': 64,\n",
        "        'eta': 1e-3,\n",
        "        'activation_para': 'relu',\n",
        "        'optimiser': 'adam',\n",
        "        'weight_para': 'Xavier',\n",
        "        'weight_decay': 0,\n",
        "        'no_of_neurons': 64,\n",
        "        'no_of_hidden': 3\n",
        "    }\n",
        "    \n",
        "    la=[]\n",
        "    L=0\n",
        "    #wandb.init()\n",
        "    wandb.init(config=config_defaults)\n",
        "    config = wandb.config\n",
        "    \n",
        "    no_of_neurons = config.no_of_neurons\n",
        "    no_of_hidden = config.no_of_hidden\n",
        "    weight_para = config.weight_para\n",
        "    epochs = config.epochs\n",
        "    batch = config.batch\n",
        "    eta = config.eta\n",
        "    activation_para = config.activation_para\n",
        "    weight_decay = config.weight_decay\n",
        "    optimiser = config.optimiser\n",
        "    \n",
        "    \n",
        "    la =[features]+[no_of_neurons]*no_of_hidden+[n_class]\n",
        "    print(la)\n",
        "    L =len(la)-1\n",
        "    \n",
        "    name = \"lr_\"+str(config.eta)+\"_hl_\"+str(config.no_of_hidden)+\"_bs_\"+str(config.batch)+\"_ac_\"+str(config.activation_para)+\"_ep_\"+str(config.epochs)\n",
        "    wandb.run.name = name\n",
        "    # name = \"lr_{}_af_{}_in_{}_op_{}_b_{}_wd_{}_ep_{}_nn_{}_nh_{}\".format(eta, activation_para, weight_para, optimiser, batch, weight_decay, epochs, no_of_neurons, no_of_hidden)\n",
        "    # print(name)\n",
        "    # fit(X,y,100,5,0.01,'Xavier','nadam','cross_entropy',0.0005,'tanh')\n",
        "    train_acc,train_loss,val_acc,val_loss=fit(X,y,batch,epochs,eta,weight_para,optimiser,loss,weight_decay,activation_para,la,L)\n",
        "\n",
        "    #printing Accuracy and loss\n",
        "    for p in range(len(train_acc)):\n",
        "       print(\"Accuracy of  train= \" + str(train_acc[p]) +\"   Loss of train = \" + str(train_loss[p]) + \"   Accuracy of val= \" + str(val_acc[p]) + \"  Accuracy of val= \" + str(val_loss[p]))\n",
        "\n",
        "    test_acc=accuracy(X_test.T,y_test,params,activation_para)\n",
        "    print(\"Accuracy of  test_data= \" + str(test_acc))\n",
        "\n",
        "    for i in range(len(train_acc)):\n",
        "      wandb.log({'train_acc':train_acc[i], 'train_loss':train_loss[i], 'val_acc':val_acc[i] ,'val_loss':val_loss[i], 'epochs': i+1})\n",
        "    wandb.log({'test_acc' : test_acc})\n",
        "    wandb.run.save()\n",
        "    wandb.run.finish()\n",
        "    \n",
        "sweep_config = {\n",
        "    'method': 'bayes', #grid, random\n",
        "    'metric': {\n",
        "      'name': 'val_acc',\n",
        "      'goal': 'maximize'   \n",
        "    },\n",
        "    'parameters': {\n",
        "        'epochs': {\n",
        "            'values': [5,10]\n",
        "        },\n",
        "        'no_of_hidden': {\n",
        "            'values': [2,3,4]\n",
        "        },\n",
        "        'no_of_neurons': {\n",
        "            'values': [128,256]\n",
        "        },\n",
        "        'weight_decay': {\n",
        "            'values': [0,0.0005]\n",
        "        },\n",
        "        'eta': {\n",
        "            'values': [ 0.01,0.001]\n",
        "        },\n",
        "        'optimiser': {\n",
        "            'values': ['sgd', 'momentumGD', 'nag', 'rms', 'adam','nadam']\n",
        "        },\n",
        "        'batch':{\n",
        "            'values': [16,32,64,100]\n",
        "        },\n",
        "        'weight_para':{\n",
        "            'values': ['random','Xavier']\n",
        "        },\n",
        "        'activation_para': {\n",
        "            'values': ['tanh','sigmoid', 'relu']\n",
        "        }\n",
        "    }\n",
        "}\n",
        "    \n",
        "#wandb.init(project='cs6910-assignment1', name = 'class-samples-1')\n",
        "wandb.init(entity=\"anandh\", project = \"CS6910_Assignment1_Sweep\")\n",
        "sweep_id=wandb.sweep(sweep_config,entity=\"anandh\", project = \"CS6910_Assignment1_Sweep\")\n",
        "#sweep_id= \"meo8511v\"\n",
        "#%start wandb sweep\n",
        "wandb.agent(sweep_id, FF_fit, count = 20)\n",
        "#wandb.agent(sweep_id, FF_fit, entity=\"anandh\", project = \"CS6910_Assignment1_Sweep\", count = 20)\n"
      ]
    },
    {
      "cell_type": "code",
      "source": [
        "Question 10"
      ],
      "metadata": {
        "id": "VJEhLatX0BKX"
      },
      "execution_count": null,
      "outputs": []
    },
    {
      "cell_type": "code",
      "source": [
        "from keras.datasets import mnist\n",
        "\n",
        "(X_mnist_full, y_mnist_full), (X_test_mnist_full, y_test_mnist_full) = mnist.load_data()\n",
        "\n",
        "# Reshaping the data \n",
        "X_mnist_full = X_mnist_full.reshape(X_mnist_full.shape[0], 784)\n",
        "X_test_mnist_full = X_test_mnist_full.reshape(X_test_mnist_full.shape[0], 784)\n",
        "\n",
        "# Normalizing\n",
        "X_mnist_full = X_mnist_full/255.0\n",
        "X_test_mnist_full = X_test_mnist_full/255.0\n",
        "\n",
        "#layer_dimensions\n",
        "la_mnist_full=[784, 256,256, 10]\n",
        "L_mnist_full= len(la_mnist_full)-1\n",
        "\n",
        "# weight_para = 'Xavier'\n",
        "params={}\n",
        "# weight_initialize(weight_para,la_mnist_full)\n",
        "\n",
        "# Split the data X into a training set and validation set\n",
        "X_train_mnist_full, X_val_mnist_full, y_train_mnist_full, y_val_mnist_full = train_test_split(X_mnist_full, y_mnist_full, test_size=0.1, random_state=42)\n",
        "\n",
        "train_acc_mnist_full,train_loss_mnist_full,val_acc_mnist_full,val_loss_mnist_full= fit(X_mnist_full,y_mnist_full,32,10,0.001,'Xavier','nadam','cross_entropy',0.0005,'tanh',la_mnist_full,L_mnist_full)\n",
        "\n",
        "#train_acc,train_loss,val_acc,val_loss=fit(X,y,batch,epochs,eta,weight_para,optimiser,loss,weight_decay,activation_para)\n",
        "\n",
        "#printing Accuracy and loss\n",
        "#for p in range(train_acc_mnist_full):\n",
        "# print(\"Accuracy of  train= \" + str(train_acc_mnist_full[p]) +\"Loss of train = \" + str(train_loss_mnist_full[p]) + \"Accuracy of val=\" + str(val_acc_mnist_full[p]) + \"Accuracy of val=\" + str(val_loss_mnist_full[p]))\n",
        "test_acc=accuracy(X_test_mnist_full.T,y_test_mnist_full,params,'tanh')\n",
        "print(\"Accuracy of  test_data= \" + str(test_acc))\n",
        "   "
      ],
      "metadata": {
        "id": "JDKQbRVPa735"
      },
      "execution_count": null,
      "outputs": []
    }
  ],
  "metadata": {
    "colab": {
      "collapsed_sections": [],
      "name": "sweep Assignment 1",
      "provenance": [],
      "include_colab_link": true
    },
    "kernelspec": {
      "display_name": "Python 3",
      "name": "python3"
    },
    "language_info": {
      "name": "python"
    },
    "widgets": {
      "application/vnd.jupyter.widget-state+json": {
        "759780ecf3c74bc4a895dda793fc4ed0": {
          "model_module": "@jupyter-widgets/controls",
          "model_name": "VBoxModel",
          "model_module_version": "1.5.0",
          "state": {
            "_view_name": "VBoxView",
            "_dom_classes": [],
            "_model_name": "VBoxModel",
            "_view_module": "@jupyter-widgets/controls",
            "_model_module_version": "1.5.0",
            "_view_count": null,
            "_view_module_version": "1.5.0",
            "box_style": "",
            "layout": "IPY_MODEL_c2713428e6f34ed0b8643ddca501b132",
            "_model_module": "@jupyter-widgets/controls",
            "children": [
              "IPY_MODEL_0fce0fb00d9a4d3a9059012e9e0d7650",
              "IPY_MODEL_16135a387e484ddfaaef9266ed2a5bed"
            ]
          }
        },
        "c2713428e6f34ed0b8643ddca501b132": {
          "model_module": "@jupyter-widgets/base",
          "model_name": "LayoutModel",
          "model_module_version": "1.2.0",
          "state": {
            "_view_name": "LayoutView",
            "grid_template_rows": null,
            "right": null,
            "justify_content": null,
            "_view_module": "@jupyter-widgets/base",
            "overflow": null,
            "_model_module_version": "1.2.0",
            "_view_count": null,
            "flex_flow": null,
            "width": null,
            "min_width": null,
            "border": null,
            "align_items": null,
            "bottom": null,
            "_model_module": "@jupyter-widgets/base",
            "top": null,
            "grid_column": null,
            "overflow_y": null,
            "overflow_x": null,
            "grid_auto_flow": null,
            "grid_area": null,
            "grid_template_columns": null,
            "flex": null,
            "_model_name": "LayoutModel",
            "justify_items": null,
            "grid_row": null,
            "max_height": null,
            "align_content": null,
            "visibility": null,
            "align_self": null,
            "height": null,
            "min_height": null,
            "padding": null,
            "grid_auto_rows": null,
            "grid_gap": null,
            "max_width": null,
            "order": null,
            "_view_module_version": "1.2.0",
            "grid_template_areas": null,
            "object_position": null,
            "object_fit": null,
            "grid_auto_columns": null,
            "margin": null,
            "display": null,
            "left": null
          }
        },
        "0fce0fb00d9a4d3a9059012e9e0d7650": {
          "model_module": "@jupyter-widgets/controls",
          "model_name": "LabelModel",
          "model_module_version": "1.5.0",
          "state": {
            "_view_name": "LabelView",
            "style": "IPY_MODEL_617884ab80ba429b9ea1f5cc4eb72f78",
            "_dom_classes": [],
            "description": "",
            "_model_name": "LabelModel",
            "placeholder": "​",
            "_view_module": "@jupyter-widgets/controls",
            "_model_module_version": "1.5.0",
            "value": " 0.01MB of 0.01MB uploaded (0.00MB deduped)\r",
            "_view_count": null,
            "_view_module_version": "1.5.0",
            "description_tooltip": null,
            "_model_module": "@jupyter-widgets/controls",
            "layout": "IPY_MODEL_a430e71de5ef4e4faf71e9971d1903a1"
          }
        },
        "16135a387e484ddfaaef9266ed2a5bed": {
          "model_module": "@jupyter-widgets/controls",
          "model_name": "FloatProgressModel",
          "model_module_version": "1.5.0",
          "state": {
            "_view_name": "ProgressView",
            "style": "IPY_MODEL_2c1f8e00a4a14f5f9942f1021bd6a00c",
            "_dom_classes": [],
            "description": "",
            "_model_name": "FloatProgressModel",
            "bar_style": "",
            "max": 1,
            "_view_module": "@jupyter-widgets/controls",
            "_model_module_version": "1.5.0",
            "value": 1,
            "_view_count": null,
            "_view_module_version": "1.5.0",
            "orientation": "horizontal",
            "min": 0,
            "description_tooltip": null,
            "_model_module": "@jupyter-widgets/controls",
            "layout": "IPY_MODEL_d89b347d15c44b909fab9eacc1d75aaf"
          }
        },
        "617884ab80ba429b9ea1f5cc4eb72f78": {
          "model_module": "@jupyter-widgets/controls",
          "model_name": "DescriptionStyleModel",
          "model_module_version": "1.5.0",
          "state": {
            "_view_name": "StyleView",
            "_model_name": "DescriptionStyleModel",
            "description_width": "",
            "_view_module": "@jupyter-widgets/base",
            "_model_module_version": "1.5.0",
            "_view_count": null,
            "_view_module_version": "1.2.0",
            "_model_module": "@jupyter-widgets/controls"
          }
        },
        "a430e71de5ef4e4faf71e9971d1903a1": {
          "model_module": "@jupyter-widgets/base",
          "model_name": "LayoutModel",
          "model_module_version": "1.2.0",
          "state": {
            "_view_name": "LayoutView",
            "grid_template_rows": null,
            "right": null,
            "justify_content": null,
            "_view_module": "@jupyter-widgets/base",
            "overflow": null,
            "_model_module_version": "1.2.0",
            "_view_count": null,
            "flex_flow": null,
            "width": null,
            "min_width": null,
            "border": null,
            "align_items": null,
            "bottom": null,
            "_model_module": "@jupyter-widgets/base",
            "top": null,
            "grid_column": null,
            "overflow_y": null,
            "overflow_x": null,
            "grid_auto_flow": null,
            "grid_area": null,
            "grid_template_columns": null,
            "flex": null,
            "_model_name": "LayoutModel",
            "justify_items": null,
            "grid_row": null,
            "max_height": null,
            "align_content": null,
            "visibility": null,
            "align_self": null,
            "height": null,
            "min_height": null,
            "padding": null,
            "grid_auto_rows": null,
            "grid_gap": null,
            "max_width": null,
            "order": null,
            "_view_module_version": "1.2.0",
            "grid_template_areas": null,
            "object_position": null,
            "object_fit": null,
            "grid_auto_columns": null,
            "margin": null,
            "display": null,
            "left": null
          }
        },
        "2c1f8e00a4a14f5f9942f1021bd6a00c": {
          "model_module": "@jupyter-widgets/controls",
          "model_name": "ProgressStyleModel",
          "model_module_version": "1.5.0",
          "state": {
            "_view_name": "StyleView",
            "_model_name": "ProgressStyleModel",
            "description_width": "",
            "_view_module": "@jupyter-widgets/base",
            "_model_module_version": "1.5.0",
            "_view_count": null,
            "_view_module_version": "1.2.0",
            "bar_color": null,
            "_model_module": "@jupyter-widgets/controls"
          }
        },
        "d89b347d15c44b909fab9eacc1d75aaf": {
          "model_module": "@jupyter-widgets/base",
          "model_name": "LayoutModel",
          "model_module_version": "1.2.0",
          "state": {
            "_view_name": "LayoutView",
            "grid_template_rows": null,
            "right": null,
            "justify_content": null,
            "_view_module": "@jupyter-widgets/base",
            "overflow": null,
            "_model_module_version": "1.2.0",
            "_view_count": null,
            "flex_flow": null,
            "width": null,
            "min_width": null,
            "border": null,
            "align_items": null,
            "bottom": null,
            "_model_module": "@jupyter-widgets/base",
            "top": null,
            "grid_column": null,
            "overflow_y": null,
            "overflow_x": null,
            "grid_auto_flow": null,
            "grid_area": null,
            "grid_template_columns": null,
            "flex": null,
            "_model_name": "LayoutModel",
            "justify_items": null,
            "grid_row": null,
            "max_height": null,
            "align_content": null,
            "visibility": null,
            "align_self": null,
            "height": null,
            "min_height": null,
            "padding": null,
            "grid_auto_rows": null,
            "grid_gap": null,
            "max_width": null,
            "order": null,
            "_view_module_version": "1.2.0",
            "grid_template_areas": null,
            "object_position": null,
            "object_fit": null,
            "grid_auto_columns": null,
            "margin": null,
            "display": null,
            "left": null
          }
        },
        "9dbd8517003b4fed800d747d48e62613": {
          "model_module": "@jupyter-widgets/controls",
          "model_name": "VBoxModel",
          "model_module_version": "1.5.0",
          "state": {
            "_view_name": "VBoxView",
            "_dom_classes": [],
            "_model_name": "VBoxModel",
            "_view_module": "@jupyter-widgets/controls",
            "_model_module_version": "1.5.0",
            "_view_count": null,
            "_view_module_version": "1.5.0",
            "box_style": "",
            "layout": "IPY_MODEL_73d8d0d60e474d4c95d36101e032c7e5",
            "_model_module": "@jupyter-widgets/controls",
            "children": [
              "IPY_MODEL_78b5dddf66fc45aea7a41106a8081f94",
              "IPY_MODEL_c07fa53d42d84466ac19863879ac76b3"
            ]
          }
        },
        "73d8d0d60e474d4c95d36101e032c7e5": {
          "model_module": "@jupyter-widgets/base",
          "model_name": "LayoutModel",
          "model_module_version": "1.2.0",
          "state": {
            "_view_name": "LayoutView",
            "grid_template_rows": null,
            "right": null,
            "justify_content": null,
            "_view_module": "@jupyter-widgets/base",
            "overflow": null,
            "_model_module_version": "1.2.0",
            "_view_count": null,
            "flex_flow": null,
            "width": null,
            "min_width": null,
            "border": null,
            "align_items": null,
            "bottom": null,
            "_model_module": "@jupyter-widgets/base",
            "top": null,
            "grid_column": null,
            "overflow_y": null,
            "overflow_x": null,
            "grid_auto_flow": null,
            "grid_area": null,
            "grid_template_columns": null,
            "flex": null,
            "_model_name": "LayoutModel",
            "justify_items": null,
            "grid_row": null,
            "max_height": null,
            "align_content": null,
            "visibility": null,
            "align_self": null,
            "height": null,
            "min_height": null,
            "padding": null,
            "grid_auto_rows": null,
            "grid_gap": null,
            "max_width": null,
            "order": null,
            "_view_module_version": "1.2.0",
            "grid_template_areas": null,
            "object_position": null,
            "object_fit": null,
            "grid_auto_columns": null,
            "margin": null,
            "display": null,
            "left": null
          }
        },
        "78b5dddf66fc45aea7a41106a8081f94": {
          "model_module": "@jupyter-widgets/controls",
          "model_name": "LabelModel",
          "model_module_version": "1.5.0",
          "state": {
            "_view_name": "LabelView",
            "style": "IPY_MODEL_6b1163432fec4015807fd158f6c176dd",
            "_dom_classes": [],
            "description": "",
            "_model_name": "LabelModel",
            "placeholder": "​",
            "_view_module": "@jupyter-widgets/controls",
            "_model_module_version": "1.5.0",
            "value": " 0.01MB of 0.01MB uploaded (0.00MB deduped)\r",
            "_view_count": null,
            "_view_module_version": "1.5.0",
            "description_tooltip": null,
            "_model_module": "@jupyter-widgets/controls",
            "layout": "IPY_MODEL_f5052afc11104f87995cbb8282c3eda6"
          }
        },
        "c07fa53d42d84466ac19863879ac76b3": {
          "model_module": "@jupyter-widgets/controls",
          "model_name": "FloatProgressModel",
          "model_module_version": "1.5.0",
          "state": {
            "_view_name": "ProgressView",
            "style": "IPY_MODEL_d9e51f609eef4404b5eb61d4bbdf1a1c",
            "_dom_classes": [],
            "description": "",
            "_model_name": "FloatProgressModel",
            "bar_style": "",
            "max": 1,
            "_view_module": "@jupyter-widgets/controls",
            "_model_module_version": "1.5.0",
            "value": 1,
            "_view_count": null,
            "_view_module_version": "1.5.0",
            "orientation": "horizontal",
            "min": 0,
            "description_tooltip": null,
            "_model_module": "@jupyter-widgets/controls",
            "layout": "IPY_MODEL_e47c70ff5343420fa8d4015b9a2f331c"
          }
        },
        "6b1163432fec4015807fd158f6c176dd": {
          "model_module": "@jupyter-widgets/controls",
          "model_name": "DescriptionStyleModel",
          "model_module_version": "1.5.0",
          "state": {
            "_view_name": "StyleView",
            "_model_name": "DescriptionStyleModel",
            "description_width": "",
            "_view_module": "@jupyter-widgets/base",
            "_model_module_version": "1.5.0",
            "_view_count": null,
            "_view_module_version": "1.2.0",
            "_model_module": "@jupyter-widgets/controls"
          }
        },
        "f5052afc11104f87995cbb8282c3eda6": {
          "model_module": "@jupyter-widgets/base",
          "model_name": "LayoutModel",
          "model_module_version": "1.2.0",
          "state": {
            "_view_name": "LayoutView",
            "grid_template_rows": null,
            "right": null,
            "justify_content": null,
            "_view_module": "@jupyter-widgets/base",
            "overflow": null,
            "_model_module_version": "1.2.0",
            "_view_count": null,
            "flex_flow": null,
            "width": null,
            "min_width": null,
            "border": null,
            "align_items": null,
            "bottom": null,
            "_model_module": "@jupyter-widgets/base",
            "top": null,
            "grid_column": null,
            "overflow_y": null,
            "overflow_x": null,
            "grid_auto_flow": null,
            "grid_area": null,
            "grid_template_columns": null,
            "flex": null,
            "_model_name": "LayoutModel",
            "justify_items": null,
            "grid_row": null,
            "max_height": null,
            "align_content": null,
            "visibility": null,
            "align_self": null,
            "height": null,
            "min_height": null,
            "padding": null,
            "grid_auto_rows": null,
            "grid_gap": null,
            "max_width": null,
            "order": null,
            "_view_module_version": "1.2.0",
            "grid_template_areas": null,
            "object_position": null,
            "object_fit": null,
            "grid_auto_columns": null,
            "margin": null,
            "display": null,
            "left": null
          }
        },
        "d9e51f609eef4404b5eb61d4bbdf1a1c": {
          "model_module": "@jupyter-widgets/controls",
          "model_name": "ProgressStyleModel",
          "model_module_version": "1.5.0",
          "state": {
            "_view_name": "StyleView",
            "_model_name": "ProgressStyleModel",
            "description_width": "",
            "_view_module": "@jupyter-widgets/base",
            "_model_module_version": "1.5.0",
            "_view_count": null,
            "_view_module_version": "1.2.0",
            "bar_color": null,
            "_model_module": "@jupyter-widgets/controls"
          }
        },
        "e47c70ff5343420fa8d4015b9a2f331c": {
          "model_module": "@jupyter-widgets/base",
          "model_name": "LayoutModel",
          "model_module_version": "1.2.0",
          "state": {
            "_view_name": "LayoutView",
            "grid_template_rows": null,
            "right": null,
            "justify_content": null,
            "_view_module": "@jupyter-widgets/base",
            "overflow": null,
            "_model_module_version": "1.2.0",
            "_view_count": null,
            "flex_flow": null,
            "width": null,
            "min_width": null,
            "border": null,
            "align_items": null,
            "bottom": null,
            "_model_module": "@jupyter-widgets/base",
            "top": null,
            "grid_column": null,
            "overflow_y": null,
            "overflow_x": null,
            "grid_auto_flow": null,
            "grid_area": null,
            "grid_template_columns": null,
            "flex": null,
            "_model_name": "LayoutModel",
            "justify_items": null,
            "grid_row": null,
            "max_height": null,
            "align_content": null,
            "visibility": null,
            "align_self": null,
            "height": null,
            "min_height": null,
            "padding": null,
            "grid_auto_rows": null,
            "grid_gap": null,
            "max_width": null,
            "order": null,
            "_view_module_version": "1.2.0",
            "grid_template_areas": null,
            "object_position": null,
            "object_fit": null,
            "grid_auto_columns": null,
            "margin": null,
            "display": null,
            "left": null
          }
        },
        "2749be44a4cb407a9eb7205867edfec8": {
          "model_module": "@jupyter-widgets/controls",
          "model_name": "VBoxModel",
          "model_module_version": "1.5.0",
          "state": {
            "_view_name": "VBoxView",
            "_dom_classes": [],
            "_model_name": "VBoxModel",
            "_view_module": "@jupyter-widgets/controls",
            "_model_module_version": "1.5.0",
            "_view_count": null,
            "_view_module_version": "1.5.0",
            "box_style": "",
            "layout": "IPY_MODEL_f40ae3d16a3d4fa584765805d055eea8",
            "_model_module": "@jupyter-widgets/controls",
            "children": [
              "IPY_MODEL_9efec9a70379474590fd6b288884e37a",
              "IPY_MODEL_fad39e6bc734497eb8d51018bdac52f6"
            ]
          }
        },
        "f40ae3d16a3d4fa584765805d055eea8": {
          "model_module": "@jupyter-widgets/base",
          "model_name": "LayoutModel",
          "model_module_version": "1.2.0",
          "state": {
            "_view_name": "LayoutView",
            "grid_template_rows": null,
            "right": null,
            "justify_content": null,
            "_view_module": "@jupyter-widgets/base",
            "overflow": null,
            "_model_module_version": "1.2.0",
            "_view_count": null,
            "flex_flow": null,
            "width": null,
            "min_width": null,
            "border": null,
            "align_items": null,
            "bottom": null,
            "_model_module": "@jupyter-widgets/base",
            "top": null,
            "grid_column": null,
            "overflow_y": null,
            "overflow_x": null,
            "grid_auto_flow": null,
            "grid_area": null,
            "grid_template_columns": null,
            "flex": null,
            "_model_name": "LayoutModel",
            "justify_items": null,
            "grid_row": null,
            "max_height": null,
            "align_content": null,
            "visibility": null,
            "align_self": null,
            "height": null,
            "min_height": null,
            "padding": null,
            "grid_auto_rows": null,
            "grid_gap": null,
            "max_width": null,
            "order": null,
            "_view_module_version": "1.2.0",
            "grid_template_areas": null,
            "object_position": null,
            "object_fit": null,
            "grid_auto_columns": null,
            "margin": null,
            "display": null,
            "left": null
          }
        },
        "9efec9a70379474590fd6b288884e37a": {
          "model_module": "@jupyter-widgets/controls",
          "model_name": "LabelModel",
          "model_module_version": "1.5.0",
          "state": {
            "_view_name": "LabelView",
            "style": "IPY_MODEL_22cefe592dbe43d589b403200bc73820",
            "_dom_classes": [],
            "description": "",
            "_model_name": "LabelModel",
            "placeholder": "​",
            "_view_module": "@jupyter-widgets/controls",
            "_model_module_version": "1.5.0",
            "value": " 0.01MB of 0.01MB uploaded (0.00MB deduped)\r",
            "_view_count": null,
            "_view_module_version": "1.5.0",
            "description_tooltip": null,
            "_model_module": "@jupyter-widgets/controls",
            "layout": "IPY_MODEL_253699ed459e480b8e67a309ced9b31b"
          }
        },
        "fad39e6bc734497eb8d51018bdac52f6": {
          "model_module": "@jupyter-widgets/controls",
          "model_name": "FloatProgressModel",
          "model_module_version": "1.5.0",
          "state": {
            "_view_name": "ProgressView",
            "style": "IPY_MODEL_85cf5746b37348eca7d3e41e388bc607",
            "_dom_classes": [],
            "description": "",
            "_model_name": "FloatProgressModel",
            "bar_style": "",
            "max": 1,
            "_view_module": "@jupyter-widgets/controls",
            "_model_module_version": "1.5.0",
            "value": 1,
            "_view_count": null,
            "_view_module_version": "1.5.0",
            "orientation": "horizontal",
            "min": 0,
            "description_tooltip": null,
            "_model_module": "@jupyter-widgets/controls",
            "layout": "IPY_MODEL_890fbe6891e94ea69e1e858f4e891948"
          }
        },
        "22cefe592dbe43d589b403200bc73820": {
          "model_module": "@jupyter-widgets/controls",
          "model_name": "DescriptionStyleModel",
          "model_module_version": "1.5.0",
          "state": {
            "_view_name": "StyleView",
            "_model_name": "DescriptionStyleModel",
            "description_width": "",
            "_view_module": "@jupyter-widgets/base",
            "_model_module_version": "1.5.0",
            "_view_count": null,
            "_view_module_version": "1.2.0",
            "_model_module": "@jupyter-widgets/controls"
          }
        },
        "253699ed459e480b8e67a309ced9b31b": {
          "model_module": "@jupyter-widgets/base",
          "model_name": "LayoutModel",
          "model_module_version": "1.2.0",
          "state": {
            "_view_name": "LayoutView",
            "grid_template_rows": null,
            "right": null,
            "justify_content": null,
            "_view_module": "@jupyter-widgets/base",
            "overflow": null,
            "_model_module_version": "1.2.0",
            "_view_count": null,
            "flex_flow": null,
            "width": null,
            "min_width": null,
            "border": null,
            "align_items": null,
            "bottom": null,
            "_model_module": "@jupyter-widgets/base",
            "top": null,
            "grid_column": null,
            "overflow_y": null,
            "overflow_x": null,
            "grid_auto_flow": null,
            "grid_area": null,
            "grid_template_columns": null,
            "flex": null,
            "_model_name": "LayoutModel",
            "justify_items": null,
            "grid_row": null,
            "max_height": null,
            "align_content": null,
            "visibility": null,
            "align_self": null,
            "height": null,
            "min_height": null,
            "padding": null,
            "grid_auto_rows": null,
            "grid_gap": null,
            "max_width": null,
            "order": null,
            "_view_module_version": "1.2.0",
            "grid_template_areas": null,
            "object_position": null,
            "object_fit": null,
            "grid_auto_columns": null,
            "margin": null,
            "display": null,
            "left": null
          }
        },
        "85cf5746b37348eca7d3e41e388bc607": {
          "model_module": "@jupyter-widgets/controls",
          "model_name": "ProgressStyleModel",
          "model_module_version": "1.5.0",
          "state": {
            "_view_name": "StyleView",
            "_model_name": "ProgressStyleModel",
            "description_width": "",
            "_view_module": "@jupyter-widgets/base",
            "_model_module_version": "1.5.0",
            "_view_count": null,
            "_view_module_version": "1.2.0",
            "bar_color": null,
            "_model_module": "@jupyter-widgets/controls"
          }
        },
        "890fbe6891e94ea69e1e858f4e891948": {
          "model_module": "@jupyter-widgets/base",
          "model_name": "LayoutModel",
          "model_module_version": "1.2.0",
          "state": {
            "_view_name": "LayoutView",
            "grid_template_rows": null,
            "right": null,
            "justify_content": null,
            "_view_module": "@jupyter-widgets/base",
            "overflow": null,
            "_model_module_version": "1.2.0",
            "_view_count": null,
            "flex_flow": null,
            "width": null,
            "min_width": null,
            "border": null,
            "align_items": null,
            "bottom": null,
            "_model_module": "@jupyter-widgets/base",
            "top": null,
            "grid_column": null,
            "overflow_y": null,
            "overflow_x": null,
            "grid_auto_flow": null,
            "grid_area": null,
            "grid_template_columns": null,
            "flex": null,
            "_model_name": "LayoutModel",
            "justify_items": null,
            "grid_row": null,
            "max_height": null,
            "align_content": null,
            "visibility": null,
            "align_self": null,
            "height": null,
            "min_height": null,
            "padding": null,
            "grid_auto_rows": null,
            "grid_gap": null,
            "max_width": null,
            "order": null,
            "_view_module_version": "1.2.0",
            "grid_template_areas": null,
            "object_position": null,
            "object_fit": null,
            "grid_auto_columns": null,
            "margin": null,
            "display": null,
            "left": null
          }
        },
        "9c0a1f39f4f0448d80b6fa0312e49744": {
          "model_module": "@jupyter-widgets/controls",
          "model_name": "VBoxModel",
          "model_module_version": "1.5.0",
          "state": {
            "_view_name": "VBoxView",
            "_dom_classes": [],
            "_model_name": "VBoxModel",
            "_view_module": "@jupyter-widgets/controls",
            "_model_module_version": "1.5.0",
            "_view_count": null,
            "_view_module_version": "1.5.0",
            "box_style": "",
            "layout": "IPY_MODEL_4f07447e2fb94579931cbaec9270ed2d",
            "_model_module": "@jupyter-widgets/controls",
            "children": [
              "IPY_MODEL_6b92766e629e4d3a87e0246895003179",
              "IPY_MODEL_8fffdf5dbb884aeca323d006cdb4fbcb"
            ]
          }
        },
        "4f07447e2fb94579931cbaec9270ed2d": {
          "model_module": "@jupyter-widgets/base",
          "model_name": "LayoutModel",
          "model_module_version": "1.2.0",
          "state": {
            "_view_name": "LayoutView",
            "grid_template_rows": null,
            "right": null,
            "justify_content": null,
            "_view_module": "@jupyter-widgets/base",
            "overflow": null,
            "_model_module_version": "1.2.0",
            "_view_count": null,
            "flex_flow": null,
            "width": null,
            "min_width": null,
            "border": null,
            "align_items": null,
            "bottom": null,
            "_model_module": "@jupyter-widgets/base",
            "top": null,
            "grid_column": null,
            "overflow_y": null,
            "overflow_x": null,
            "grid_auto_flow": null,
            "grid_area": null,
            "grid_template_columns": null,
            "flex": null,
            "_model_name": "LayoutModel",
            "justify_items": null,
            "grid_row": null,
            "max_height": null,
            "align_content": null,
            "visibility": null,
            "align_self": null,
            "height": null,
            "min_height": null,
            "padding": null,
            "grid_auto_rows": null,
            "grid_gap": null,
            "max_width": null,
            "order": null,
            "_view_module_version": "1.2.0",
            "grid_template_areas": null,
            "object_position": null,
            "object_fit": null,
            "grid_auto_columns": null,
            "margin": null,
            "display": null,
            "left": null
          }
        },
        "6b92766e629e4d3a87e0246895003179": {
          "model_module": "@jupyter-widgets/controls",
          "model_name": "LabelModel",
          "model_module_version": "1.5.0",
          "state": {
            "_view_name": "LabelView",
            "style": "IPY_MODEL_353a54c74d9e4890ada848341a30f88c",
            "_dom_classes": [],
            "description": "",
            "_model_name": "LabelModel",
            "placeholder": "​",
            "_view_module": "@jupyter-widgets/controls",
            "_model_module_version": "1.5.0",
            "value": " 0.01MB of 0.01MB uploaded (0.00MB deduped)\r",
            "_view_count": null,
            "_view_module_version": "1.5.0",
            "description_tooltip": null,
            "_model_module": "@jupyter-widgets/controls",
            "layout": "IPY_MODEL_5f5c35bd681143fa8e0e0280f5ee70e8"
          }
        },
        "8fffdf5dbb884aeca323d006cdb4fbcb": {
          "model_module": "@jupyter-widgets/controls",
          "model_name": "FloatProgressModel",
          "model_module_version": "1.5.0",
          "state": {
            "_view_name": "ProgressView",
            "style": "IPY_MODEL_e6f0dc02b2ee4e04a65524f1f48c7f2c",
            "_dom_classes": [],
            "description": "",
            "_model_name": "FloatProgressModel",
            "bar_style": "",
            "max": 1,
            "_view_module": "@jupyter-widgets/controls",
            "_model_module_version": "1.5.0",
            "value": 1,
            "_view_count": null,
            "_view_module_version": "1.5.0",
            "orientation": "horizontal",
            "min": 0,
            "description_tooltip": null,
            "_model_module": "@jupyter-widgets/controls",
            "layout": "IPY_MODEL_feb1dbd3310742278fd831860694cce5"
          }
        },
        "353a54c74d9e4890ada848341a30f88c": {
          "model_module": "@jupyter-widgets/controls",
          "model_name": "DescriptionStyleModel",
          "model_module_version": "1.5.0",
          "state": {
            "_view_name": "StyleView",
            "_model_name": "DescriptionStyleModel",
            "description_width": "",
            "_view_module": "@jupyter-widgets/base",
            "_model_module_version": "1.5.0",
            "_view_count": null,
            "_view_module_version": "1.2.0",
            "_model_module": "@jupyter-widgets/controls"
          }
        },
        "5f5c35bd681143fa8e0e0280f5ee70e8": {
          "model_module": "@jupyter-widgets/base",
          "model_name": "LayoutModel",
          "model_module_version": "1.2.0",
          "state": {
            "_view_name": "LayoutView",
            "grid_template_rows": null,
            "right": null,
            "justify_content": null,
            "_view_module": "@jupyter-widgets/base",
            "overflow": null,
            "_model_module_version": "1.2.0",
            "_view_count": null,
            "flex_flow": null,
            "width": null,
            "min_width": null,
            "border": null,
            "align_items": null,
            "bottom": null,
            "_model_module": "@jupyter-widgets/base",
            "top": null,
            "grid_column": null,
            "overflow_y": null,
            "overflow_x": null,
            "grid_auto_flow": null,
            "grid_area": null,
            "grid_template_columns": null,
            "flex": null,
            "_model_name": "LayoutModel",
            "justify_items": null,
            "grid_row": null,
            "max_height": null,
            "align_content": null,
            "visibility": null,
            "align_self": null,
            "height": null,
            "min_height": null,
            "padding": null,
            "grid_auto_rows": null,
            "grid_gap": null,
            "max_width": null,
            "order": null,
            "_view_module_version": "1.2.0",
            "grid_template_areas": null,
            "object_position": null,
            "object_fit": null,
            "grid_auto_columns": null,
            "margin": null,
            "display": null,
            "left": null
          }
        },
        "e6f0dc02b2ee4e04a65524f1f48c7f2c": {
          "model_module": "@jupyter-widgets/controls",
          "model_name": "ProgressStyleModel",
          "model_module_version": "1.5.0",
          "state": {
            "_view_name": "StyleView",
            "_model_name": "ProgressStyleModel",
            "description_width": "",
            "_view_module": "@jupyter-widgets/base",
            "_model_module_version": "1.5.0",
            "_view_count": null,
            "_view_module_version": "1.2.0",
            "bar_color": null,
            "_model_module": "@jupyter-widgets/controls"
          }
        },
        "feb1dbd3310742278fd831860694cce5": {
          "model_module": "@jupyter-widgets/base",
          "model_name": "LayoutModel",
          "model_module_version": "1.2.0",
          "state": {
            "_view_name": "LayoutView",
            "grid_template_rows": null,
            "right": null,
            "justify_content": null,
            "_view_module": "@jupyter-widgets/base",
            "overflow": null,
            "_model_module_version": "1.2.0",
            "_view_count": null,
            "flex_flow": null,
            "width": null,
            "min_width": null,
            "border": null,
            "align_items": null,
            "bottom": null,
            "_model_module": "@jupyter-widgets/base",
            "top": null,
            "grid_column": null,
            "overflow_y": null,
            "overflow_x": null,
            "grid_auto_flow": null,
            "grid_area": null,
            "grid_template_columns": null,
            "flex": null,
            "_model_name": "LayoutModel",
            "justify_items": null,
            "grid_row": null,
            "max_height": null,
            "align_content": null,
            "visibility": null,
            "align_self": null,
            "height": null,
            "min_height": null,
            "padding": null,
            "grid_auto_rows": null,
            "grid_gap": null,
            "max_width": null,
            "order": null,
            "_view_module_version": "1.2.0",
            "grid_template_areas": null,
            "object_position": null,
            "object_fit": null,
            "grid_auto_columns": null,
            "margin": null,
            "display": null,
            "left": null
          }
        },
        "c88e848fb2224792ba4a019e2c0b1bec": {
          "model_module": "@jupyter-widgets/controls",
          "model_name": "VBoxModel",
          "model_module_version": "1.5.0",
          "state": {
            "_view_name": "VBoxView",
            "_dom_classes": [],
            "_model_name": "VBoxModel",
            "_view_module": "@jupyter-widgets/controls",
            "_model_module_version": "1.5.0",
            "_view_count": null,
            "_view_module_version": "1.5.0",
            "box_style": "",
            "layout": "IPY_MODEL_0785d42ba5be415fbb3c0ba270bfeddb",
            "_model_module": "@jupyter-widgets/controls",
            "children": [
              "IPY_MODEL_40dccc5e75724216878090b2c9ca5d84",
              "IPY_MODEL_cb04271bd7a8474e8fa1d636694a28f0"
            ]
          }
        },
        "0785d42ba5be415fbb3c0ba270bfeddb": {
          "model_module": "@jupyter-widgets/base",
          "model_name": "LayoutModel",
          "model_module_version": "1.2.0",
          "state": {
            "_view_name": "LayoutView",
            "grid_template_rows": null,
            "right": null,
            "justify_content": null,
            "_view_module": "@jupyter-widgets/base",
            "overflow": null,
            "_model_module_version": "1.2.0",
            "_view_count": null,
            "flex_flow": null,
            "width": null,
            "min_width": null,
            "border": null,
            "align_items": null,
            "bottom": null,
            "_model_module": "@jupyter-widgets/base",
            "top": null,
            "grid_column": null,
            "overflow_y": null,
            "overflow_x": null,
            "grid_auto_flow": null,
            "grid_area": null,
            "grid_template_columns": null,
            "flex": null,
            "_model_name": "LayoutModel",
            "justify_items": null,
            "grid_row": null,
            "max_height": null,
            "align_content": null,
            "visibility": null,
            "align_self": null,
            "height": null,
            "min_height": null,
            "padding": null,
            "grid_auto_rows": null,
            "grid_gap": null,
            "max_width": null,
            "order": null,
            "_view_module_version": "1.2.0",
            "grid_template_areas": null,
            "object_position": null,
            "object_fit": null,
            "grid_auto_columns": null,
            "margin": null,
            "display": null,
            "left": null
          }
        },
        "40dccc5e75724216878090b2c9ca5d84": {
          "model_module": "@jupyter-widgets/controls",
          "model_name": "LabelModel",
          "model_module_version": "1.5.0",
          "state": {
            "_view_name": "LabelView",
            "style": "IPY_MODEL_66f8d9f6e905479494e106af1ec97057",
            "_dom_classes": [],
            "description": "",
            "_model_name": "LabelModel",
            "placeholder": "​",
            "_view_module": "@jupyter-widgets/controls",
            "_model_module_version": "1.5.0",
            "value": " 0.01MB of 0.01MB uploaded (0.00MB deduped)\r",
            "_view_count": null,
            "_view_module_version": "1.5.0",
            "description_tooltip": null,
            "_model_module": "@jupyter-widgets/controls",
            "layout": "IPY_MODEL_9dcf10823844414280169554d3417fc6"
          }
        },
        "cb04271bd7a8474e8fa1d636694a28f0": {
          "model_module": "@jupyter-widgets/controls",
          "model_name": "FloatProgressModel",
          "model_module_version": "1.5.0",
          "state": {
            "_view_name": "ProgressView",
            "style": "IPY_MODEL_162c8235dbf143c7841524d37b24c3fe",
            "_dom_classes": [],
            "description": "",
            "_model_name": "FloatProgressModel",
            "bar_style": "",
            "max": 1,
            "_view_module": "@jupyter-widgets/controls",
            "_model_module_version": "1.5.0",
            "value": 1,
            "_view_count": null,
            "_view_module_version": "1.5.0",
            "orientation": "horizontal",
            "min": 0,
            "description_tooltip": null,
            "_model_module": "@jupyter-widgets/controls",
            "layout": "IPY_MODEL_4413f0f594aa48cc9d2cb1c760503f72"
          }
        },
        "66f8d9f6e905479494e106af1ec97057": {
          "model_module": "@jupyter-widgets/controls",
          "model_name": "DescriptionStyleModel",
          "model_module_version": "1.5.0",
          "state": {
            "_view_name": "StyleView",
            "_model_name": "DescriptionStyleModel",
            "description_width": "",
            "_view_module": "@jupyter-widgets/base",
            "_model_module_version": "1.5.0",
            "_view_count": null,
            "_view_module_version": "1.2.0",
            "_model_module": "@jupyter-widgets/controls"
          }
        },
        "9dcf10823844414280169554d3417fc6": {
          "model_module": "@jupyter-widgets/base",
          "model_name": "LayoutModel",
          "model_module_version": "1.2.0",
          "state": {
            "_view_name": "LayoutView",
            "grid_template_rows": null,
            "right": null,
            "justify_content": null,
            "_view_module": "@jupyter-widgets/base",
            "overflow": null,
            "_model_module_version": "1.2.0",
            "_view_count": null,
            "flex_flow": null,
            "width": null,
            "min_width": null,
            "border": null,
            "align_items": null,
            "bottom": null,
            "_model_module": "@jupyter-widgets/base",
            "top": null,
            "grid_column": null,
            "overflow_y": null,
            "overflow_x": null,
            "grid_auto_flow": null,
            "grid_area": null,
            "grid_template_columns": null,
            "flex": null,
            "_model_name": "LayoutModel",
            "justify_items": null,
            "grid_row": null,
            "max_height": null,
            "align_content": null,
            "visibility": null,
            "align_self": null,
            "height": null,
            "min_height": null,
            "padding": null,
            "grid_auto_rows": null,
            "grid_gap": null,
            "max_width": null,
            "order": null,
            "_view_module_version": "1.2.0",
            "grid_template_areas": null,
            "object_position": null,
            "object_fit": null,
            "grid_auto_columns": null,
            "margin": null,
            "display": null,
            "left": null
          }
        },
        "162c8235dbf143c7841524d37b24c3fe": {
          "model_module": "@jupyter-widgets/controls",
          "model_name": "ProgressStyleModel",
          "model_module_version": "1.5.0",
          "state": {
            "_view_name": "StyleView",
            "_model_name": "ProgressStyleModel",
            "description_width": "",
            "_view_module": "@jupyter-widgets/base",
            "_model_module_version": "1.5.0",
            "_view_count": null,
            "_view_module_version": "1.2.0",
            "bar_color": null,
            "_model_module": "@jupyter-widgets/controls"
          }
        },
        "4413f0f594aa48cc9d2cb1c760503f72": {
          "model_module": "@jupyter-widgets/base",
          "model_name": "LayoutModel",
          "model_module_version": "1.2.0",
          "state": {
            "_view_name": "LayoutView",
            "grid_template_rows": null,
            "right": null,
            "justify_content": null,
            "_view_module": "@jupyter-widgets/base",
            "overflow": null,
            "_model_module_version": "1.2.0",
            "_view_count": null,
            "flex_flow": null,
            "width": null,
            "min_width": null,
            "border": null,
            "align_items": null,
            "bottom": null,
            "_model_module": "@jupyter-widgets/base",
            "top": null,
            "grid_column": null,
            "overflow_y": null,
            "overflow_x": null,
            "grid_auto_flow": null,
            "grid_area": null,
            "grid_template_columns": null,
            "flex": null,
            "_model_name": "LayoutModel",
            "justify_items": null,
            "grid_row": null,
            "max_height": null,
            "align_content": null,
            "visibility": null,
            "align_self": null,
            "height": null,
            "min_height": null,
            "padding": null,
            "grid_auto_rows": null,
            "grid_gap": null,
            "max_width": null,
            "order": null,
            "_view_module_version": "1.2.0",
            "grid_template_areas": null,
            "object_position": null,
            "object_fit": null,
            "grid_auto_columns": null,
            "margin": null,
            "display": null,
            "left": null
          }
        },
        "126f675f94874249bfad2095cbc85a39": {
          "model_module": "@jupyter-widgets/controls",
          "model_name": "VBoxModel",
          "model_module_version": "1.5.0",
          "state": {
            "_view_name": "VBoxView",
            "_dom_classes": [],
            "_model_name": "VBoxModel",
            "_view_module": "@jupyter-widgets/controls",
            "_model_module_version": "1.5.0",
            "_view_count": null,
            "_view_module_version": "1.5.0",
            "box_style": "",
            "layout": "IPY_MODEL_23a09f9215e14105912453214cdbff54",
            "_model_module": "@jupyter-widgets/controls",
            "children": [
              "IPY_MODEL_6b8571d4ac5c43e59a1d03d50f59f801",
              "IPY_MODEL_10134181ea564bc5b8e0f902f0bb5806"
            ]
          }
        },
        "23a09f9215e14105912453214cdbff54": {
          "model_module": "@jupyter-widgets/base",
          "model_name": "LayoutModel",
          "model_module_version": "1.2.0",
          "state": {
            "_view_name": "LayoutView",
            "grid_template_rows": null,
            "right": null,
            "justify_content": null,
            "_view_module": "@jupyter-widgets/base",
            "overflow": null,
            "_model_module_version": "1.2.0",
            "_view_count": null,
            "flex_flow": null,
            "width": null,
            "min_width": null,
            "border": null,
            "align_items": null,
            "bottom": null,
            "_model_module": "@jupyter-widgets/base",
            "top": null,
            "grid_column": null,
            "overflow_y": null,
            "overflow_x": null,
            "grid_auto_flow": null,
            "grid_area": null,
            "grid_template_columns": null,
            "flex": null,
            "_model_name": "LayoutModel",
            "justify_items": null,
            "grid_row": null,
            "max_height": null,
            "align_content": null,
            "visibility": null,
            "align_self": null,
            "height": null,
            "min_height": null,
            "padding": null,
            "grid_auto_rows": null,
            "grid_gap": null,
            "max_width": null,
            "order": null,
            "_view_module_version": "1.2.0",
            "grid_template_areas": null,
            "object_position": null,
            "object_fit": null,
            "grid_auto_columns": null,
            "margin": null,
            "display": null,
            "left": null
          }
        },
        "6b8571d4ac5c43e59a1d03d50f59f801": {
          "model_module": "@jupyter-widgets/controls",
          "model_name": "LabelModel",
          "model_module_version": "1.5.0",
          "state": {
            "_view_name": "LabelView",
            "style": "IPY_MODEL_a47dac83ad3845c6b0272c9e53379cb1",
            "_dom_classes": [],
            "description": "",
            "_model_name": "LabelModel",
            "placeholder": "​",
            "_view_module": "@jupyter-widgets/controls",
            "_model_module_version": "1.5.0",
            "value": " 0.01MB of 0.01MB uploaded (0.00MB deduped)\r",
            "_view_count": null,
            "_view_module_version": "1.5.0",
            "description_tooltip": null,
            "_model_module": "@jupyter-widgets/controls",
            "layout": "IPY_MODEL_de184136de7549ffa0b8f7d16fc00578"
          }
        },
        "10134181ea564bc5b8e0f902f0bb5806": {
          "model_module": "@jupyter-widgets/controls",
          "model_name": "FloatProgressModel",
          "model_module_version": "1.5.0",
          "state": {
            "_view_name": "ProgressView",
            "style": "IPY_MODEL_83bd0ef876b947afa653fdd767fabdec",
            "_dom_classes": [],
            "description": "",
            "_model_name": "FloatProgressModel",
            "bar_style": "",
            "max": 1,
            "_view_module": "@jupyter-widgets/controls",
            "_model_module_version": "1.5.0",
            "value": 1,
            "_view_count": null,
            "_view_module_version": "1.5.0",
            "orientation": "horizontal",
            "min": 0,
            "description_tooltip": null,
            "_model_module": "@jupyter-widgets/controls",
            "layout": "IPY_MODEL_6b654609d32c4724b3763b9308ec141f"
          }
        },
        "a47dac83ad3845c6b0272c9e53379cb1": {
          "model_module": "@jupyter-widgets/controls",
          "model_name": "DescriptionStyleModel",
          "model_module_version": "1.5.0",
          "state": {
            "_view_name": "StyleView",
            "_model_name": "DescriptionStyleModel",
            "description_width": "",
            "_view_module": "@jupyter-widgets/base",
            "_model_module_version": "1.5.0",
            "_view_count": null,
            "_view_module_version": "1.2.0",
            "_model_module": "@jupyter-widgets/controls"
          }
        },
        "de184136de7549ffa0b8f7d16fc00578": {
          "model_module": "@jupyter-widgets/base",
          "model_name": "LayoutModel",
          "model_module_version": "1.2.0",
          "state": {
            "_view_name": "LayoutView",
            "grid_template_rows": null,
            "right": null,
            "justify_content": null,
            "_view_module": "@jupyter-widgets/base",
            "overflow": null,
            "_model_module_version": "1.2.0",
            "_view_count": null,
            "flex_flow": null,
            "width": null,
            "min_width": null,
            "border": null,
            "align_items": null,
            "bottom": null,
            "_model_module": "@jupyter-widgets/base",
            "top": null,
            "grid_column": null,
            "overflow_y": null,
            "overflow_x": null,
            "grid_auto_flow": null,
            "grid_area": null,
            "grid_template_columns": null,
            "flex": null,
            "_model_name": "LayoutModel",
            "justify_items": null,
            "grid_row": null,
            "max_height": null,
            "align_content": null,
            "visibility": null,
            "align_self": null,
            "height": null,
            "min_height": null,
            "padding": null,
            "grid_auto_rows": null,
            "grid_gap": null,
            "max_width": null,
            "order": null,
            "_view_module_version": "1.2.0",
            "grid_template_areas": null,
            "object_position": null,
            "object_fit": null,
            "grid_auto_columns": null,
            "margin": null,
            "display": null,
            "left": null
          }
        },
        "83bd0ef876b947afa653fdd767fabdec": {
          "model_module": "@jupyter-widgets/controls",
          "model_name": "ProgressStyleModel",
          "model_module_version": "1.5.0",
          "state": {
            "_view_name": "StyleView",
            "_model_name": "ProgressStyleModel",
            "description_width": "",
            "_view_module": "@jupyter-widgets/base",
            "_model_module_version": "1.5.0",
            "_view_count": null,
            "_view_module_version": "1.2.0",
            "bar_color": null,
            "_model_module": "@jupyter-widgets/controls"
          }
        },
        "6b654609d32c4724b3763b9308ec141f": {
          "model_module": "@jupyter-widgets/base",
          "model_name": "LayoutModel",
          "model_module_version": "1.2.0",
          "state": {
            "_view_name": "LayoutView",
            "grid_template_rows": null,
            "right": null,
            "justify_content": null,
            "_view_module": "@jupyter-widgets/base",
            "overflow": null,
            "_model_module_version": "1.2.0",
            "_view_count": null,
            "flex_flow": null,
            "width": null,
            "min_width": null,
            "border": null,
            "align_items": null,
            "bottom": null,
            "_model_module": "@jupyter-widgets/base",
            "top": null,
            "grid_column": null,
            "overflow_y": null,
            "overflow_x": null,
            "grid_auto_flow": null,
            "grid_area": null,
            "grid_template_columns": null,
            "flex": null,
            "_model_name": "LayoutModel",
            "justify_items": null,
            "grid_row": null,
            "max_height": null,
            "align_content": null,
            "visibility": null,
            "align_self": null,
            "height": null,
            "min_height": null,
            "padding": null,
            "grid_auto_rows": null,
            "grid_gap": null,
            "max_width": null,
            "order": null,
            "_view_module_version": "1.2.0",
            "grid_template_areas": null,
            "object_position": null,
            "object_fit": null,
            "grid_auto_columns": null,
            "margin": null,
            "display": null,
            "left": null
          }
        },
        "9250d7859ca44f5d8f77a7965454a60c": {
          "model_module": "@jupyter-widgets/controls",
          "model_name": "VBoxModel",
          "model_module_version": "1.5.0",
          "state": {
            "_view_name": "VBoxView",
            "_dom_classes": [],
            "_model_name": "VBoxModel",
            "_view_module": "@jupyter-widgets/controls",
            "_model_module_version": "1.5.0",
            "_view_count": null,
            "_view_module_version": "1.5.0",
            "box_style": "",
            "layout": "IPY_MODEL_4adbbaef31734559bdf27a79649a3a27",
            "_model_module": "@jupyter-widgets/controls",
            "children": [
              "IPY_MODEL_e849d2fe78644685a271a108d9a9f635",
              "IPY_MODEL_4b114bb4cfa7493c99607e617501f86b"
            ]
          }
        },
        "4adbbaef31734559bdf27a79649a3a27": {
          "model_module": "@jupyter-widgets/base",
          "model_name": "LayoutModel",
          "model_module_version": "1.2.0",
          "state": {
            "_view_name": "LayoutView",
            "grid_template_rows": null,
            "right": null,
            "justify_content": null,
            "_view_module": "@jupyter-widgets/base",
            "overflow": null,
            "_model_module_version": "1.2.0",
            "_view_count": null,
            "flex_flow": null,
            "width": null,
            "min_width": null,
            "border": null,
            "align_items": null,
            "bottom": null,
            "_model_module": "@jupyter-widgets/base",
            "top": null,
            "grid_column": null,
            "overflow_y": null,
            "overflow_x": null,
            "grid_auto_flow": null,
            "grid_area": null,
            "grid_template_columns": null,
            "flex": null,
            "_model_name": "LayoutModel",
            "justify_items": null,
            "grid_row": null,
            "max_height": null,
            "align_content": null,
            "visibility": null,
            "align_self": null,
            "height": null,
            "min_height": null,
            "padding": null,
            "grid_auto_rows": null,
            "grid_gap": null,
            "max_width": null,
            "order": null,
            "_view_module_version": "1.2.0",
            "grid_template_areas": null,
            "object_position": null,
            "object_fit": null,
            "grid_auto_columns": null,
            "margin": null,
            "display": null,
            "left": null
          }
        },
        "e849d2fe78644685a271a108d9a9f635": {
          "model_module": "@jupyter-widgets/controls",
          "model_name": "LabelModel",
          "model_module_version": "1.5.0",
          "state": {
            "_view_name": "LabelView",
            "style": "IPY_MODEL_b0bdd1c4c5224740837bd89d3b81d8bf",
            "_dom_classes": [],
            "description": "",
            "_model_name": "LabelModel",
            "placeholder": "​",
            "_view_module": "@jupyter-widgets/controls",
            "_model_module_version": "1.5.0",
            "value": " 0.01MB of 0.01MB uploaded (0.00MB deduped)\r",
            "_view_count": null,
            "_view_module_version": "1.5.0",
            "description_tooltip": null,
            "_model_module": "@jupyter-widgets/controls",
            "layout": "IPY_MODEL_d6e2892ca6e84612a5cd548f8669d73a"
          }
        },
        "4b114bb4cfa7493c99607e617501f86b": {
          "model_module": "@jupyter-widgets/controls",
          "model_name": "FloatProgressModel",
          "model_module_version": "1.5.0",
          "state": {
            "_view_name": "ProgressView",
            "style": "IPY_MODEL_c1dafbc42d8642d2a547c8d14f03c699",
            "_dom_classes": [],
            "description": "",
            "_model_name": "FloatProgressModel",
            "bar_style": "",
            "max": 1,
            "_view_module": "@jupyter-widgets/controls",
            "_model_module_version": "1.5.0",
            "value": 1,
            "_view_count": null,
            "_view_module_version": "1.5.0",
            "orientation": "horizontal",
            "min": 0,
            "description_tooltip": null,
            "_model_module": "@jupyter-widgets/controls",
            "layout": "IPY_MODEL_7f4dc8c375a345db94d607e6fc513e87"
          }
        },
        "b0bdd1c4c5224740837bd89d3b81d8bf": {
          "model_module": "@jupyter-widgets/controls",
          "model_name": "DescriptionStyleModel",
          "model_module_version": "1.5.0",
          "state": {
            "_view_name": "StyleView",
            "_model_name": "DescriptionStyleModel",
            "description_width": "",
            "_view_module": "@jupyter-widgets/base",
            "_model_module_version": "1.5.0",
            "_view_count": null,
            "_view_module_version": "1.2.0",
            "_model_module": "@jupyter-widgets/controls"
          }
        },
        "d6e2892ca6e84612a5cd548f8669d73a": {
          "model_module": "@jupyter-widgets/base",
          "model_name": "LayoutModel",
          "model_module_version": "1.2.0",
          "state": {
            "_view_name": "LayoutView",
            "grid_template_rows": null,
            "right": null,
            "justify_content": null,
            "_view_module": "@jupyter-widgets/base",
            "overflow": null,
            "_model_module_version": "1.2.0",
            "_view_count": null,
            "flex_flow": null,
            "width": null,
            "min_width": null,
            "border": null,
            "align_items": null,
            "bottom": null,
            "_model_module": "@jupyter-widgets/base",
            "top": null,
            "grid_column": null,
            "overflow_y": null,
            "overflow_x": null,
            "grid_auto_flow": null,
            "grid_area": null,
            "grid_template_columns": null,
            "flex": null,
            "_model_name": "LayoutModel",
            "justify_items": null,
            "grid_row": null,
            "max_height": null,
            "align_content": null,
            "visibility": null,
            "align_self": null,
            "height": null,
            "min_height": null,
            "padding": null,
            "grid_auto_rows": null,
            "grid_gap": null,
            "max_width": null,
            "order": null,
            "_view_module_version": "1.2.0",
            "grid_template_areas": null,
            "object_position": null,
            "object_fit": null,
            "grid_auto_columns": null,
            "margin": null,
            "display": null,
            "left": null
          }
        },
        "c1dafbc42d8642d2a547c8d14f03c699": {
          "model_module": "@jupyter-widgets/controls",
          "model_name": "ProgressStyleModel",
          "model_module_version": "1.5.0",
          "state": {
            "_view_name": "StyleView",
            "_model_name": "ProgressStyleModel",
            "description_width": "",
            "_view_module": "@jupyter-widgets/base",
            "_model_module_version": "1.5.0",
            "_view_count": null,
            "_view_module_version": "1.2.0",
            "bar_color": null,
            "_model_module": "@jupyter-widgets/controls"
          }
        },
        "7f4dc8c375a345db94d607e6fc513e87": {
          "model_module": "@jupyter-widgets/base",
          "model_name": "LayoutModel",
          "model_module_version": "1.2.0",
          "state": {
            "_view_name": "LayoutView",
            "grid_template_rows": null,
            "right": null,
            "justify_content": null,
            "_view_module": "@jupyter-widgets/base",
            "overflow": null,
            "_model_module_version": "1.2.0",
            "_view_count": null,
            "flex_flow": null,
            "width": null,
            "min_width": null,
            "border": null,
            "align_items": null,
            "bottom": null,
            "_model_module": "@jupyter-widgets/base",
            "top": null,
            "grid_column": null,
            "overflow_y": null,
            "overflow_x": null,
            "grid_auto_flow": null,
            "grid_area": null,
            "grid_template_columns": null,
            "flex": null,
            "_model_name": "LayoutModel",
            "justify_items": null,
            "grid_row": null,
            "max_height": null,
            "align_content": null,
            "visibility": null,
            "align_self": null,
            "height": null,
            "min_height": null,
            "padding": null,
            "grid_auto_rows": null,
            "grid_gap": null,
            "max_width": null,
            "order": null,
            "_view_module_version": "1.2.0",
            "grid_template_areas": null,
            "object_position": null,
            "object_fit": null,
            "grid_auto_columns": null,
            "margin": null,
            "display": null,
            "left": null
          }
        },
        "ce9ca9e4c3fc40429aa19588f98356df": {
          "model_module": "@jupyter-widgets/controls",
          "model_name": "VBoxModel",
          "model_module_version": "1.5.0",
          "state": {
            "_view_name": "VBoxView",
            "_dom_classes": [],
            "_model_name": "VBoxModel",
            "_view_module": "@jupyter-widgets/controls",
            "_model_module_version": "1.5.0",
            "_view_count": null,
            "_view_module_version": "1.5.0",
            "box_style": "",
            "layout": "IPY_MODEL_1c15637f98984e47a9cca23c4bd1694a",
            "_model_module": "@jupyter-widgets/controls",
            "children": [
              "IPY_MODEL_b355269303ff4ad5a5474fdec812c7ab",
              "IPY_MODEL_5ad639abe37d45388a493af8342b7f3e"
            ]
          }
        },
        "1c15637f98984e47a9cca23c4bd1694a": {
          "model_module": "@jupyter-widgets/base",
          "model_name": "LayoutModel",
          "model_module_version": "1.2.0",
          "state": {
            "_view_name": "LayoutView",
            "grid_template_rows": null,
            "right": null,
            "justify_content": null,
            "_view_module": "@jupyter-widgets/base",
            "overflow": null,
            "_model_module_version": "1.2.0",
            "_view_count": null,
            "flex_flow": null,
            "width": null,
            "min_width": null,
            "border": null,
            "align_items": null,
            "bottom": null,
            "_model_module": "@jupyter-widgets/base",
            "top": null,
            "grid_column": null,
            "overflow_y": null,
            "overflow_x": null,
            "grid_auto_flow": null,
            "grid_area": null,
            "grid_template_columns": null,
            "flex": null,
            "_model_name": "LayoutModel",
            "justify_items": null,
            "grid_row": null,
            "max_height": null,
            "align_content": null,
            "visibility": null,
            "align_self": null,
            "height": null,
            "min_height": null,
            "padding": null,
            "grid_auto_rows": null,
            "grid_gap": null,
            "max_width": null,
            "order": null,
            "_view_module_version": "1.2.0",
            "grid_template_areas": null,
            "object_position": null,
            "object_fit": null,
            "grid_auto_columns": null,
            "margin": null,
            "display": null,
            "left": null
          }
        },
        "b355269303ff4ad5a5474fdec812c7ab": {
          "model_module": "@jupyter-widgets/controls",
          "model_name": "LabelModel",
          "model_module_version": "1.5.0",
          "state": {
            "_view_name": "LabelView",
            "style": "IPY_MODEL_d6422590f91945768e62192a648e5768",
            "_dom_classes": [],
            "description": "",
            "_model_name": "LabelModel",
            "placeholder": "​",
            "_view_module": "@jupyter-widgets/controls",
            "_model_module_version": "1.5.0",
            "value": " 0.01MB of 0.01MB uploaded (0.00MB deduped)\r",
            "_view_count": null,
            "_view_module_version": "1.5.0",
            "description_tooltip": null,
            "_model_module": "@jupyter-widgets/controls",
            "layout": "IPY_MODEL_9985b7b3777f49d38de77a2e3fa6e50e"
          }
        },
        "5ad639abe37d45388a493af8342b7f3e": {
          "model_module": "@jupyter-widgets/controls",
          "model_name": "FloatProgressModel",
          "model_module_version": "1.5.0",
          "state": {
            "_view_name": "ProgressView",
            "style": "IPY_MODEL_30fdad418dc64987b987cf2e564be92f",
            "_dom_classes": [],
            "description": "",
            "_model_name": "FloatProgressModel",
            "bar_style": "",
            "max": 1,
            "_view_module": "@jupyter-widgets/controls",
            "_model_module_version": "1.5.0",
            "value": 1,
            "_view_count": null,
            "_view_module_version": "1.5.0",
            "orientation": "horizontal",
            "min": 0,
            "description_tooltip": null,
            "_model_module": "@jupyter-widgets/controls",
            "layout": "IPY_MODEL_16fb2fb4f3c4457ea6b2421e71b6c9aa"
          }
        },
        "d6422590f91945768e62192a648e5768": {
          "model_module": "@jupyter-widgets/controls",
          "model_name": "DescriptionStyleModel",
          "model_module_version": "1.5.0",
          "state": {
            "_view_name": "StyleView",
            "_model_name": "DescriptionStyleModel",
            "description_width": "",
            "_view_module": "@jupyter-widgets/base",
            "_model_module_version": "1.5.0",
            "_view_count": null,
            "_view_module_version": "1.2.0",
            "_model_module": "@jupyter-widgets/controls"
          }
        },
        "9985b7b3777f49d38de77a2e3fa6e50e": {
          "model_module": "@jupyter-widgets/base",
          "model_name": "LayoutModel",
          "model_module_version": "1.2.0",
          "state": {
            "_view_name": "LayoutView",
            "grid_template_rows": null,
            "right": null,
            "justify_content": null,
            "_view_module": "@jupyter-widgets/base",
            "overflow": null,
            "_model_module_version": "1.2.0",
            "_view_count": null,
            "flex_flow": null,
            "width": null,
            "min_width": null,
            "border": null,
            "align_items": null,
            "bottom": null,
            "_model_module": "@jupyter-widgets/base",
            "top": null,
            "grid_column": null,
            "overflow_y": null,
            "overflow_x": null,
            "grid_auto_flow": null,
            "grid_area": null,
            "grid_template_columns": null,
            "flex": null,
            "_model_name": "LayoutModel",
            "justify_items": null,
            "grid_row": null,
            "max_height": null,
            "align_content": null,
            "visibility": null,
            "align_self": null,
            "height": null,
            "min_height": null,
            "padding": null,
            "grid_auto_rows": null,
            "grid_gap": null,
            "max_width": null,
            "order": null,
            "_view_module_version": "1.2.0",
            "grid_template_areas": null,
            "object_position": null,
            "object_fit": null,
            "grid_auto_columns": null,
            "margin": null,
            "display": null,
            "left": null
          }
        },
        "30fdad418dc64987b987cf2e564be92f": {
          "model_module": "@jupyter-widgets/controls",
          "model_name": "ProgressStyleModel",
          "model_module_version": "1.5.0",
          "state": {
            "_view_name": "StyleView",
            "_model_name": "ProgressStyleModel",
            "description_width": "",
            "_view_module": "@jupyter-widgets/base",
            "_model_module_version": "1.5.0",
            "_view_count": null,
            "_view_module_version": "1.2.0",
            "bar_color": null,
            "_model_module": "@jupyter-widgets/controls"
          }
        },
        "16fb2fb4f3c4457ea6b2421e71b6c9aa": {
          "model_module": "@jupyter-widgets/base",
          "model_name": "LayoutModel",
          "model_module_version": "1.2.0",
          "state": {
            "_view_name": "LayoutView",
            "grid_template_rows": null,
            "right": null,
            "justify_content": null,
            "_view_module": "@jupyter-widgets/base",
            "overflow": null,
            "_model_module_version": "1.2.0",
            "_view_count": null,
            "flex_flow": null,
            "width": null,
            "min_width": null,
            "border": null,
            "align_items": null,
            "bottom": null,
            "_model_module": "@jupyter-widgets/base",
            "top": null,
            "grid_column": null,
            "overflow_y": null,
            "overflow_x": null,
            "grid_auto_flow": null,
            "grid_area": null,
            "grid_template_columns": null,
            "flex": null,
            "_model_name": "LayoutModel",
            "justify_items": null,
            "grid_row": null,
            "max_height": null,
            "align_content": null,
            "visibility": null,
            "align_self": null,
            "height": null,
            "min_height": null,
            "padding": null,
            "grid_auto_rows": null,
            "grid_gap": null,
            "max_width": null,
            "order": null,
            "_view_module_version": "1.2.0",
            "grid_template_areas": null,
            "object_position": null,
            "object_fit": null,
            "grid_auto_columns": null,
            "margin": null,
            "display": null,
            "left": null
          }
        },
        "e401b322e3fa4997b3c597e44ed8d3bd": {
          "model_module": "@jupyter-widgets/controls",
          "model_name": "VBoxModel",
          "model_module_version": "1.5.0",
          "state": {
            "_view_name": "VBoxView",
            "_dom_classes": [],
            "_model_name": "VBoxModel",
            "_view_module": "@jupyter-widgets/controls",
            "_model_module_version": "1.5.0",
            "_view_count": null,
            "_view_module_version": "1.5.0",
            "box_style": "",
            "layout": "IPY_MODEL_fbbce9b71c1441919353053b81ec4f0c",
            "_model_module": "@jupyter-widgets/controls",
            "children": [
              "IPY_MODEL_c3250df5669b4ea98cb796785d6e41fb",
              "IPY_MODEL_ee9080dab393413ab69827f0a1d0c89f"
            ]
          }
        },
        "fbbce9b71c1441919353053b81ec4f0c": {
          "model_module": "@jupyter-widgets/base",
          "model_name": "LayoutModel",
          "model_module_version": "1.2.0",
          "state": {
            "_view_name": "LayoutView",
            "grid_template_rows": null,
            "right": null,
            "justify_content": null,
            "_view_module": "@jupyter-widgets/base",
            "overflow": null,
            "_model_module_version": "1.2.0",
            "_view_count": null,
            "flex_flow": null,
            "width": null,
            "min_width": null,
            "border": null,
            "align_items": null,
            "bottom": null,
            "_model_module": "@jupyter-widgets/base",
            "top": null,
            "grid_column": null,
            "overflow_y": null,
            "overflow_x": null,
            "grid_auto_flow": null,
            "grid_area": null,
            "grid_template_columns": null,
            "flex": null,
            "_model_name": "LayoutModel",
            "justify_items": null,
            "grid_row": null,
            "max_height": null,
            "align_content": null,
            "visibility": null,
            "align_self": null,
            "height": null,
            "min_height": null,
            "padding": null,
            "grid_auto_rows": null,
            "grid_gap": null,
            "max_width": null,
            "order": null,
            "_view_module_version": "1.2.0",
            "grid_template_areas": null,
            "object_position": null,
            "object_fit": null,
            "grid_auto_columns": null,
            "margin": null,
            "display": null,
            "left": null
          }
        },
        "c3250df5669b4ea98cb796785d6e41fb": {
          "model_module": "@jupyter-widgets/controls",
          "model_name": "LabelModel",
          "model_module_version": "1.5.0",
          "state": {
            "_view_name": "LabelView",
            "style": "IPY_MODEL_5d54bf75622246fd9c83d5ee6f133290",
            "_dom_classes": [],
            "description": "",
            "_model_name": "LabelModel",
            "placeholder": "​",
            "_view_module": "@jupyter-widgets/controls",
            "_model_module_version": "1.5.0",
            "value": " 0.01MB of 0.01MB uploaded (0.00MB deduped)\r",
            "_view_count": null,
            "_view_module_version": "1.5.0",
            "description_tooltip": null,
            "_model_module": "@jupyter-widgets/controls",
            "layout": "IPY_MODEL_1e17a113136f4c5a9db5164fdb5114d3"
          }
        },
        "ee9080dab393413ab69827f0a1d0c89f": {
          "model_module": "@jupyter-widgets/controls",
          "model_name": "FloatProgressModel",
          "model_module_version": "1.5.0",
          "state": {
            "_view_name": "ProgressView",
            "style": "IPY_MODEL_a98650414e394b42a2533bb48511e707",
            "_dom_classes": [],
            "description": "",
            "_model_name": "FloatProgressModel",
            "bar_style": "",
            "max": 1,
            "_view_module": "@jupyter-widgets/controls",
            "_model_module_version": "1.5.0",
            "value": 1,
            "_view_count": null,
            "_view_module_version": "1.5.0",
            "orientation": "horizontal",
            "min": 0,
            "description_tooltip": null,
            "_model_module": "@jupyter-widgets/controls",
            "layout": "IPY_MODEL_ed1f5fe243264e6b90b08c22acd654c3"
          }
        },
        "5d54bf75622246fd9c83d5ee6f133290": {
          "model_module": "@jupyter-widgets/controls",
          "model_name": "DescriptionStyleModel",
          "model_module_version": "1.5.0",
          "state": {
            "_view_name": "StyleView",
            "_model_name": "DescriptionStyleModel",
            "description_width": "",
            "_view_module": "@jupyter-widgets/base",
            "_model_module_version": "1.5.0",
            "_view_count": null,
            "_view_module_version": "1.2.0",
            "_model_module": "@jupyter-widgets/controls"
          }
        },
        "1e17a113136f4c5a9db5164fdb5114d3": {
          "model_module": "@jupyter-widgets/base",
          "model_name": "LayoutModel",
          "model_module_version": "1.2.0",
          "state": {
            "_view_name": "LayoutView",
            "grid_template_rows": null,
            "right": null,
            "justify_content": null,
            "_view_module": "@jupyter-widgets/base",
            "overflow": null,
            "_model_module_version": "1.2.0",
            "_view_count": null,
            "flex_flow": null,
            "width": null,
            "min_width": null,
            "border": null,
            "align_items": null,
            "bottom": null,
            "_model_module": "@jupyter-widgets/base",
            "top": null,
            "grid_column": null,
            "overflow_y": null,
            "overflow_x": null,
            "grid_auto_flow": null,
            "grid_area": null,
            "grid_template_columns": null,
            "flex": null,
            "_model_name": "LayoutModel",
            "justify_items": null,
            "grid_row": null,
            "max_height": null,
            "align_content": null,
            "visibility": null,
            "align_self": null,
            "height": null,
            "min_height": null,
            "padding": null,
            "grid_auto_rows": null,
            "grid_gap": null,
            "max_width": null,
            "order": null,
            "_view_module_version": "1.2.0",
            "grid_template_areas": null,
            "object_position": null,
            "object_fit": null,
            "grid_auto_columns": null,
            "margin": null,
            "display": null,
            "left": null
          }
        },
        "a98650414e394b42a2533bb48511e707": {
          "model_module": "@jupyter-widgets/controls",
          "model_name": "ProgressStyleModel",
          "model_module_version": "1.5.0",
          "state": {
            "_view_name": "StyleView",
            "_model_name": "ProgressStyleModel",
            "description_width": "",
            "_view_module": "@jupyter-widgets/base",
            "_model_module_version": "1.5.0",
            "_view_count": null,
            "_view_module_version": "1.2.0",
            "bar_color": null,
            "_model_module": "@jupyter-widgets/controls"
          }
        },
        "ed1f5fe243264e6b90b08c22acd654c3": {
          "model_module": "@jupyter-widgets/base",
          "model_name": "LayoutModel",
          "model_module_version": "1.2.0",
          "state": {
            "_view_name": "LayoutView",
            "grid_template_rows": null,
            "right": null,
            "justify_content": null,
            "_view_module": "@jupyter-widgets/base",
            "overflow": null,
            "_model_module_version": "1.2.0",
            "_view_count": null,
            "flex_flow": null,
            "width": null,
            "min_width": null,
            "border": null,
            "align_items": null,
            "bottom": null,
            "_model_module": "@jupyter-widgets/base",
            "top": null,
            "grid_column": null,
            "overflow_y": null,
            "overflow_x": null,
            "grid_auto_flow": null,
            "grid_area": null,
            "grid_template_columns": null,
            "flex": null,
            "_model_name": "LayoutModel",
            "justify_items": null,
            "grid_row": null,
            "max_height": null,
            "align_content": null,
            "visibility": null,
            "align_self": null,
            "height": null,
            "min_height": null,
            "padding": null,
            "grid_auto_rows": null,
            "grid_gap": null,
            "max_width": null,
            "order": null,
            "_view_module_version": "1.2.0",
            "grid_template_areas": null,
            "object_position": null,
            "object_fit": null,
            "grid_auto_columns": null,
            "margin": null,
            "display": null,
            "left": null
          }
        },
        "4bfa03a5db4e411c88fd297e95b296a6": {
          "model_module": "@jupyter-widgets/controls",
          "model_name": "VBoxModel",
          "model_module_version": "1.5.0",
          "state": {
            "_view_name": "VBoxView",
            "_dom_classes": [],
            "_model_name": "VBoxModel",
            "_view_module": "@jupyter-widgets/controls",
            "_model_module_version": "1.5.0",
            "_view_count": null,
            "_view_module_version": "1.5.0",
            "box_style": "",
            "layout": "IPY_MODEL_f104b2639baa4fe499306514bd5e1887",
            "_model_module": "@jupyter-widgets/controls",
            "children": [
              "IPY_MODEL_7929aebfe2cf472aa28c5d5b484b0cb3",
              "IPY_MODEL_db9218e8fdae483fbbc16cd86b61714a"
            ]
          }
        },
        "f104b2639baa4fe499306514bd5e1887": {
          "model_module": "@jupyter-widgets/base",
          "model_name": "LayoutModel",
          "model_module_version": "1.2.0",
          "state": {
            "_view_name": "LayoutView",
            "grid_template_rows": null,
            "right": null,
            "justify_content": null,
            "_view_module": "@jupyter-widgets/base",
            "overflow": null,
            "_model_module_version": "1.2.0",
            "_view_count": null,
            "flex_flow": null,
            "width": null,
            "min_width": null,
            "border": null,
            "align_items": null,
            "bottom": null,
            "_model_module": "@jupyter-widgets/base",
            "top": null,
            "grid_column": null,
            "overflow_y": null,
            "overflow_x": null,
            "grid_auto_flow": null,
            "grid_area": null,
            "grid_template_columns": null,
            "flex": null,
            "_model_name": "LayoutModel",
            "justify_items": null,
            "grid_row": null,
            "max_height": null,
            "align_content": null,
            "visibility": null,
            "align_self": null,
            "height": null,
            "min_height": null,
            "padding": null,
            "grid_auto_rows": null,
            "grid_gap": null,
            "max_width": null,
            "order": null,
            "_view_module_version": "1.2.0",
            "grid_template_areas": null,
            "object_position": null,
            "object_fit": null,
            "grid_auto_columns": null,
            "margin": null,
            "display": null,
            "left": null
          }
        },
        "7929aebfe2cf472aa28c5d5b484b0cb3": {
          "model_module": "@jupyter-widgets/controls",
          "model_name": "LabelModel",
          "model_module_version": "1.5.0",
          "state": {
            "_view_name": "LabelView",
            "style": "IPY_MODEL_691d31411355461298ccd9b4d346d095",
            "_dom_classes": [],
            "description": "",
            "_model_name": "LabelModel",
            "placeholder": "​",
            "_view_module": "@jupyter-widgets/controls",
            "_model_module_version": "1.5.0",
            "value": " 0.01MB of 0.01MB uploaded (0.00MB deduped)\r",
            "_view_count": null,
            "_view_module_version": "1.5.0",
            "description_tooltip": null,
            "_model_module": "@jupyter-widgets/controls",
            "layout": "IPY_MODEL_887bbf6ed279492b9a956e2cbb95ec4a"
          }
        },
        "db9218e8fdae483fbbc16cd86b61714a": {
          "model_module": "@jupyter-widgets/controls",
          "model_name": "FloatProgressModel",
          "model_module_version": "1.5.0",
          "state": {
            "_view_name": "ProgressView",
            "style": "IPY_MODEL_143072898ab446aeb36828b553a4d7ce",
            "_dom_classes": [],
            "description": "",
            "_model_name": "FloatProgressModel",
            "bar_style": "",
            "max": 1,
            "_view_module": "@jupyter-widgets/controls",
            "_model_module_version": "1.5.0",
            "value": 1,
            "_view_count": null,
            "_view_module_version": "1.5.0",
            "orientation": "horizontal",
            "min": 0,
            "description_tooltip": null,
            "_model_module": "@jupyter-widgets/controls",
            "layout": "IPY_MODEL_396250a2a56f4f86b9ca2865c6f465db"
          }
        },
        "691d31411355461298ccd9b4d346d095": {
          "model_module": "@jupyter-widgets/controls",
          "model_name": "DescriptionStyleModel",
          "model_module_version": "1.5.0",
          "state": {
            "_view_name": "StyleView",
            "_model_name": "DescriptionStyleModel",
            "description_width": "",
            "_view_module": "@jupyter-widgets/base",
            "_model_module_version": "1.5.0",
            "_view_count": null,
            "_view_module_version": "1.2.0",
            "_model_module": "@jupyter-widgets/controls"
          }
        },
        "887bbf6ed279492b9a956e2cbb95ec4a": {
          "model_module": "@jupyter-widgets/base",
          "model_name": "LayoutModel",
          "model_module_version": "1.2.0",
          "state": {
            "_view_name": "LayoutView",
            "grid_template_rows": null,
            "right": null,
            "justify_content": null,
            "_view_module": "@jupyter-widgets/base",
            "overflow": null,
            "_model_module_version": "1.2.0",
            "_view_count": null,
            "flex_flow": null,
            "width": null,
            "min_width": null,
            "border": null,
            "align_items": null,
            "bottom": null,
            "_model_module": "@jupyter-widgets/base",
            "top": null,
            "grid_column": null,
            "overflow_y": null,
            "overflow_x": null,
            "grid_auto_flow": null,
            "grid_area": null,
            "grid_template_columns": null,
            "flex": null,
            "_model_name": "LayoutModel",
            "justify_items": null,
            "grid_row": null,
            "max_height": null,
            "align_content": null,
            "visibility": null,
            "align_self": null,
            "height": null,
            "min_height": null,
            "padding": null,
            "grid_auto_rows": null,
            "grid_gap": null,
            "max_width": null,
            "order": null,
            "_view_module_version": "1.2.0",
            "grid_template_areas": null,
            "object_position": null,
            "object_fit": null,
            "grid_auto_columns": null,
            "margin": null,
            "display": null,
            "left": null
          }
        },
        "143072898ab446aeb36828b553a4d7ce": {
          "model_module": "@jupyter-widgets/controls",
          "model_name": "ProgressStyleModel",
          "model_module_version": "1.5.0",
          "state": {
            "_view_name": "StyleView",
            "_model_name": "ProgressStyleModel",
            "description_width": "",
            "_view_module": "@jupyter-widgets/base",
            "_model_module_version": "1.5.0",
            "_view_count": null,
            "_view_module_version": "1.2.0",
            "bar_color": null,
            "_model_module": "@jupyter-widgets/controls"
          }
        },
        "396250a2a56f4f86b9ca2865c6f465db": {
          "model_module": "@jupyter-widgets/base",
          "model_name": "LayoutModel",
          "model_module_version": "1.2.0",
          "state": {
            "_view_name": "LayoutView",
            "grid_template_rows": null,
            "right": null,
            "justify_content": null,
            "_view_module": "@jupyter-widgets/base",
            "overflow": null,
            "_model_module_version": "1.2.0",
            "_view_count": null,
            "flex_flow": null,
            "width": null,
            "min_width": null,
            "border": null,
            "align_items": null,
            "bottom": null,
            "_model_module": "@jupyter-widgets/base",
            "top": null,
            "grid_column": null,
            "overflow_y": null,
            "overflow_x": null,
            "grid_auto_flow": null,
            "grid_area": null,
            "grid_template_columns": null,
            "flex": null,
            "_model_name": "LayoutModel",
            "justify_items": null,
            "grid_row": null,
            "max_height": null,
            "align_content": null,
            "visibility": null,
            "align_self": null,
            "height": null,
            "min_height": null,
            "padding": null,
            "grid_auto_rows": null,
            "grid_gap": null,
            "max_width": null,
            "order": null,
            "_view_module_version": "1.2.0",
            "grid_template_areas": null,
            "object_position": null,
            "object_fit": null,
            "grid_auto_columns": null,
            "margin": null,
            "display": null,
            "left": null
          }
        },
        "cee8e14470e542ff9e1dad7bace714ae": {
          "model_module": "@jupyter-widgets/controls",
          "model_name": "VBoxModel",
          "model_module_version": "1.5.0",
          "state": {
            "_view_name": "VBoxView",
            "_dom_classes": [],
            "_model_name": "VBoxModel",
            "_view_module": "@jupyter-widgets/controls",
            "_model_module_version": "1.5.0",
            "_view_count": null,
            "_view_module_version": "1.5.0",
            "box_style": "",
            "layout": "IPY_MODEL_71a4275f9056415487d052de2b118575",
            "_model_module": "@jupyter-widgets/controls",
            "children": [
              "IPY_MODEL_1d274215e6f94779aeb03880a23a4a4c",
              "IPY_MODEL_bd1184c7f43446d39e5e88d779b278e8"
            ]
          }
        },
        "71a4275f9056415487d052de2b118575": {
          "model_module": "@jupyter-widgets/base",
          "model_name": "LayoutModel",
          "model_module_version": "1.2.0",
          "state": {
            "_view_name": "LayoutView",
            "grid_template_rows": null,
            "right": null,
            "justify_content": null,
            "_view_module": "@jupyter-widgets/base",
            "overflow": null,
            "_model_module_version": "1.2.0",
            "_view_count": null,
            "flex_flow": null,
            "width": null,
            "min_width": null,
            "border": null,
            "align_items": null,
            "bottom": null,
            "_model_module": "@jupyter-widgets/base",
            "top": null,
            "grid_column": null,
            "overflow_y": null,
            "overflow_x": null,
            "grid_auto_flow": null,
            "grid_area": null,
            "grid_template_columns": null,
            "flex": null,
            "_model_name": "LayoutModel",
            "justify_items": null,
            "grid_row": null,
            "max_height": null,
            "align_content": null,
            "visibility": null,
            "align_self": null,
            "height": null,
            "min_height": null,
            "padding": null,
            "grid_auto_rows": null,
            "grid_gap": null,
            "max_width": null,
            "order": null,
            "_view_module_version": "1.2.0",
            "grid_template_areas": null,
            "object_position": null,
            "object_fit": null,
            "grid_auto_columns": null,
            "margin": null,
            "display": null,
            "left": null
          }
        },
        "1d274215e6f94779aeb03880a23a4a4c": {
          "model_module": "@jupyter-widgets/controls",
          "model_name": "LabelModel",
          "model_module_version": "1.5.0",
          "state": {
            "_view_name": "LabelView",
            "style": "IPY_MODEL_9ba29a5324d347588e9b33b18d4a009b",
            "_dom_classes": [],
            "description": "",
            "_model_name": "LabelModel",
            "placeholder": "​",
            "_view_module": "@jupyter-widgets/controls",
            "_model_module_version": "1.5.0",
            "value": " 0.01MB of 0.01MB uploaded (0.00MB deduped)\r",
            "_view_count": null,
            "_view_module_version": "1.5.0",
            "description_tooltip": null,
            "_model_module": "@jupyter-widgets/controls",
            "layout": "IPY_MODEL_7adf7a4ec1d24effa51d539606736327"
          }
        },
        "bd1184c7f43446d39e5e88d779b278e8": {
          "model_module": "@jupyter-widgets/controls",
          "model_name": "FloatProgressModel",
          "model_module_version": "1.5.0",
          "state": {
            "_view_name": "ProgressView",
            "style": "IPY_MODEL_b8d8467c1c0141609ffcf5483e7423a4",
            "_dom_classes": [],
            "description": "",
            "_model_name": "FloatProgressModel",
            "bar_style": "",
            "max": 1,
            "_view_module": "@jupyter-widgets/controls",
            "_model_module_version": "1.5.0",
            "value": 1,
            "_view_count": null,
            "_view_module_version": "1.5.0",
            "orientation": "horizontal",
            "min": 0,
            "description_tooltip": null,
            "_model_module": "@jupyter-widgets/controls",
            "layout": "IPY_MODEL_addc75a177d142f78f3a6c7348c7e44c"
          }
        },
        "9ba29a5324d347588e9b33b18d4a009b": {
          "model_module": "@jupyter-widgets/controls",
          "model_name": "DescriptionStyleModel",
          "model_module_version": "1.5.0",
          "state": {
            "_view_name": "StyleView",
            "_model_name": "DescriptionStyleModel",
            "description_width": "",
            "_view_module": "@jupyter-widgets/base",
            "_model_module_version": "1.5.0",
            "_view_count": null,
            "_view_module_version": "1.2.0",
            "_model_module": "@jupyter-widgets/controls"
          }
        },
        "7adf7a4ec1d24effa51d539606736327": {
          "model_module": "@jupyter-widgets/base",
          "model_name": "LayoutModel",
          "model_module_version": "1.2.0",
          "state": {
            "_view_name": "LayoutView",
            "grid_template_rows": null,
            "right": null,
            "justify_content": null,
            "_view_module": "@jupyter-widgets/base",
            "overflow": null,
            "_model_module_version": "1.2.0",
            "_view_count": null,
            "flex_flow": null,
            "width": null,
            "min_width": null,
            "border": null,
            "align_items": null,
            "bottom": null,
            "_model_module": "@jupyter-widgets/base",
            "top": null,
            "grid_column": null,
            "overflow_y": null,
            "overflow_x": null,
            "grid_auto_flow": null,
            "grid_area": null,
            "grid_template_columns": null,
            "flex": null,
            "_model_name": "LayoutModel",
            "justify_items": null,
            "grid_row": null,
            "max_height": null,
            "align_content": null,
            "visibility": null,
            "align_self": null,
            "height": null,
            "min_height": null,
            "padding": null,
            "grid_auto_rows": null,
            "grid_gap": null,
            "max_width": null,
            "order": null,
            "_view_module_version": "1.2.0",
            "grid_template_areas": null,
            "object_position": null,
            "object_fit": null,
            "grid_auto_columns": null,
            "margin": null,
            "display": null,
            "left": null
          }
        },
        "b8d8467c1c0141609ffcf5483e7423a4": {
          "model_module": "@jupyter-widgets/controls",
          "model_name": "ProgressStyleModel",
          "model_module_version": "1.5.0",
          "state": {
            "_view_name": "StyleView",
            "_model_name": "ProgressStyleModel",
            "description_width": "",
            "_view_module": "@jupyter-widgets/base",
            "_model_module_version": "1.5.0",
            "_view_count": null,
            "_view_module_version": "1.2.0",
            "bar_color": null,
            "_model_module": "@jupyter-widgets/controls"
          }
        },
        "addc75a177d142f78f3a6c7348c7e44c": {
          "model_module": "@jupyter-widgets/base",
          "model_name": "LayoutModel",
          "model_module_version": "1.2.0",
          "state": {
            "_view_name": "LayoutView",
            "grid_template_rows": null,
            "right": null,
            "justify_content": null,
            "_view_module": "@jupyter-widgets/base",
            "overflow": null,
            "_model_module_version": "1.2.0",
            "_view_count": null,
            "flex_flow": null,
            "width": null,
            "min_width": null,
            "border": null,
            "align_items": null,
            "bottom": null,
            "_model_module": "@jupyter-widgets/base",
            "top": null,
            "grid_column": null,
            "overflow_y": null,
            "overflow_x": null,
            "grid_auto_flow": null,
            "grid_area": null,
            "grid_template_columns": null,
            "flex": null,
            "_model_name": "LayoutModel",
            "justify_items": null,
            "grid_row": null,
            "max_height": null,
            "align_content": null,
            "visibility": null,
            "align_self": null,
            "height": null,
            "min_height": null,
            "padding": null,
            "grid_auto_rows": null,
            "grid_gap": null,
            "max_width": null,
            "order": null,
            "_view_module_version": "1.2.0",
            "grid_template_areas": null,
            "object_position": null,
            "object_fit": null,
            "grid_auto_columns": null,
            "margin": null,
            "display": null,
            "left": null
          }
        },
        "2217711660e641a0882b529568562822": {
          "model_module": "@jupyter-widgets/controls",
          "model_name": "VBoxModel",
          "model_module_version": "1.5.0",
          "state": {
            "_view_name": "VBoxView",
            "_dom_classes": [],
            "_model_name": "VBoxModel",
            "_view_module": "@jupyter-widgets/controls",
            "_model_module_version": "1.5.0",
            "_view_count": null,
            "_view_module_version": "1.5.0",
            "box_style": "",
            "layout": "IPY_MODEL_fd4ca8a84d0643f89f114d1b3281acae",
            "_model_module": "@jupyter-widgets/controls",
            "children": [
              "IPY_MODEL_aa23ec1c111d4913ad34c3e489def5b3",
              "IPY_MODEL_2252ab90f40d471f85b19762fa8978ab"
            ]
          }
        },
        "fd4ca8a84d0643f89f114d1b3281acae": {
          "model_module": "@jupyter-widgets/base",
          "model_name": "LayoutModel",
          "model_module_version": "1.2.0",
          "state": {
            "_view_name": "LayoutView",
            "grid_template_rows": null,
            "right": null,
            "justify_content": null,
            "_view_module": "@jupyter-widgets/base",
            "overflow": null,
            "_model_module_version": "1.2.0",
            "_view_count": null,
            "flex_flow": null,
            "width": null,
            "min_width": null,
            "border": null,
            "align_items": null,
            "bottom": null,
            "_model_module": "@jupyter-widgets/base",
            "top": null,
            "grid_column": null,
            "overflow_y": null,
            "overflow_x": null,
            "grid_auto_flow": null,
            "grid_area": null,
            "grid_template_columns": null,
            "flex": null,
            "_model_name": "LayoutModel",
            "justify_items": null,
            "grid_row": null,
            "max_height": null,
            "align_content": null,
            "visibility": null,
            "align_self": null,
            "height": null,
            "min_height": null,
            "padding": null,
            "grid_auto_rows": null,
            "grid_gap": null,
            "max_width": null,
            "order": null,
            "_view_module_version": "1.2.0",
            "grid_template_areas": null,
            "object_position": null,
            "object_fit": null,
            "grid_auto_columns": null,
            "margin": null,
            "display": null,
            "left": null
          }
        },
        "aa23ec1c111d4913ad34c3e489def5b3": {
          "model_module": "@jupyter-widgets/controls",
          "model_name": "LabelModel",
          "model_module_version": "1.5.0",
          "state": {
            "_view_name": "LabelView",
            "style": "IPY_MODEL_3dca54f3238e414ab446fbf458eaaee4",
            "_dom_classes": [],
            "description": "",
            "_model_name": "LabelModel",
            "placeholder": "​",
            "_view_module": "@jupyter-widgets/controls",
            "_model_module_version": "1.5.0",
            "value": " 0.01MB of 0.01MB uploaded (0.00MB deduped)\r",
            "_view_count": null,
            "_view_module_version": "1.5.0",
            "description_tooltip": null,
            "_model_module": "@jupyter-widgets/controls",
            "layout": "IPY_MODEL_0f39100a32f340ee981335016fb45279"
          }
        },
        "2252ab90f40d471f85b19762fa8978ab": {
          "model_module": "@jupyter-widgets/controls",
          "model_name": "FloatProgressModel",
          "model_module_version": "1.5.0",
          "state": {
            "_view_name": "ProgressView",
            "style": "IPY_MODEL_2574208602f841ceb3f97a43890b36f5",
            "_dom_classes": [],
            "description": "",
            "_model_name": "FloatProgressModel",
            "bar_style": "",
            "max": 1,
            "_view_module": "@jupyter-widgets/controls",
            "_model_module_version": "1.5.0",
            "value": 1,
            "_view_count": null,
            "_view_module_version": "1.5.0",
            "orientation": "horizontal",
            "min": 0,
            "description_tooltip": null,
            "_model_module": "@jupyter-widgets/controls",
            "layout": "IPY_MODEL_2a83ccb1317a4c149c866b7d6b4d89a5"
          }
        },
        "3dca54f3238e414ab446fbf458eaaee4": {
          "model_module": "@jupyter-widgets/controls",
          "model_name": "DescriptionStyleModel",
          "model_module_version": "1.5.0",
          "state": {
            "_view_name": "StyleView",
            "_model_name": "DescriptionStyleModel",
            "description_width": "",
            "_view_module": "@jupyter-widgets/base",
            "_model_module_version": "1.5.0",
            "_view_count": null,
            "_view_module_version": "1.2.0",
            "_model_module": "@jupyter-widgets/controls"
          }
        },
        "0f39100a32f340ee981335016fb45279": {
          "model_module": "@jupyter-widgets/base",
          "model_name": "LayoutModel",
          "model_module_version": "1.2.0",
          "state": {
            "_view_name": "LayoutView",
            "grid_template_rows": null,
            "right": null,
            "justify_content": null,
            "_view_module": "@jupyter-widgets/base",
            "overflow": null,
            "_model_module_version": "1.2.0",
            "_view_count": null,
            "flex_flow": null,
            "width": null,
            "min_width": null,
            "border": null,
            "align_items": null,
            "bottom": null,
            "_model_module": "@jupyter-widgets/base",
            "top": null,
            "grid_column": null,
            "overflow_y": null,
            "overflow_x": null,
            "grid_auto_flow": null,
            "grid_area": null,
            "grid_template_columns": null,
            "flex": null,
            "_model_name": "LayoutModel",
            "justify_items": null,
            "grid_row": null,
            "max_height": null,
            "align_content": null,
            "visibility": null,
            "align_self": null,
            "height": null,
            "min_height": null,
            "padding": null,
            "grid_auto_rows": null,
            "grid_gap": null,
            "max_width": null,
            "order": null,
            "_view_module_version": "1.2.0",
            "grid_template_areas": null,
            "object_position": null,
            "object_fit": null,
            "grid_auto_columns": null,
            "margin": null,
            "display": null,
            "left": null
          }
        },
        "2574208602f841ceb3f97a43890b36f5": {
          "model_module": "@jupyter-widgets/controls",
          "model_name": "ProgressStyleModel",
          "model_module_version": "1.5.0",
          "state": {
            "_view_name": "StyleView",
            "_model_name": "ProgressStyleModel",
            "description_width": "",
            "_view_module": "@jupyter-widgets/base",
            "_model_module_version": "1.5.0",
            "_view_count": null,
            "_view_module_version": "1.2.0",
            "bar_color": null,
            "_model_module": "@jupyter-widgets/controls"
          }
        },
        "2a83ccb1317a4c149c866b7d6b4d89a5": {
          "model_module": "@jupyter-widgets/base",
          "model_name": "LayoutModel",
          "model_module_version": "1.2.0",
          "state": {
            "_view_name": "LayoutView",
            "grid_template_rows": null,
            "right": null,
            "justify_content": null,
            "_view_module": "@jupyter-widgets/base",
            "overflow": null,
            "_model_module_version": "1.2.0",
            "_view_count": null,
            "flex_flow": null,
            "width": null,
            "min_width": null,
            "border": null,
            "align_items": null,
            "bottom": null,
            "_model_module": "@jupyter-widgets/base",
            "top": null,
            "grid_column": null,
            "overflow_y": null,
            "overflow_x": null,
            "grid_auto_flow": null,
            "grid_area": null,
            "grid_template_columns": null,
            "flex": null,
            "_model_name": "LayoutModel",
            "justify_items": null,
            "grid_row": null,
            "max_height": null,
            "align_content": null,
            "visibility": null,
            "align_self": null,
            "height": null,
            "min_height": null,
            "padding": null,
            "grid_auto_rows": null,
            "grid_gap": null,
            "max_width": null,
            "order": null,
            "_view_module_version": "1.2.0",
            "grid_template_areas": null,
            "object_position": null,
            "object_fit": null,
            "grid_auto_columns": null,
            "margin": null,
            "display": null,
            "left": null
          }
        },
        "8d315c56a8ae4746ac39444d74f41ba8": {
          "model_module": "@jupyter-widgets/controls",
          "model_name": "VBoxModel",
          "model_module_version": "1.5.0",
          "state": {
            "_view_name": "VBoxView",
            "_dom_classes": [],
            "_model_name": "VBoxModel",
            "_view_module": "@jupyter-widgets/controls",
            "_model_module_version": "1.5.0",
            "_view_count": null,
            "_view_module_version": "1.5.0",
            "box_style": "",
            "layout": "IPY_MODEL_71d955b0caea48f2bac470a4b6656e1e",
            "_model_module": "@jupyter-widgets/controls",
            "children": [
              "IPY_MODEL_fb6bc920e57d4bd6887631ea05f77d2a",
              "IPY_MODEL_9fcf6736525240b1aeed7c3c6e891b3a"
            ]
          }
        },
        "71d955b0caea48f2bac470a4b6656e1e": {
          "model_module": "@jupyter-widgets/base",
          "model_name": "LayoutModel",
          "model_module_version": "1.2.0",
          "state": {
            "_view_name": "LayoutView",
            "grid_template_rows": null,
            "right": null,
            "justify_content": null,
            "_view_module": "@jupyter-widgets/base",
            "overflow": null,
            "_model_module_version": "1.2.0",
            "_view_count": null,
            "flex_flow": null,
            "width": null,
            "min_width": null,
            "border": null,
            "align_items": null,
            "bottom": null,
            "_model_module": "@jupyter-widgets/base",
            "top": null,
            "grid_column": null,
            "overflow_y": null,
            "overflow_x": null,
            "grid_auto_flow": null,
            "grid_area": null,
            "grid_template_columns": null,
            "flex": null,
            "_model_name": "LayoutModel",
            "justify_items": null,
            "grid_row": null,
            "max_height": null,
            "align_content": null,
            "visibility": null,
            "align_self": null,
            "height": null,
            "min_height": null,
            "padding": null,
            "grid_auto_rows": null,
            "grid_gap": null,
            "max_width": null,
            "order": null,
            "_view_module_version": "1.2.0",
            "grid_template_areas": null,
            "object_position": null,
            "object_fit": null,
            "grid_auto_columns": null,
            "margin": null,
            "display": null,
            "left": null
          }
        },
        "fb6bc920e57d4bd6887631ea05f77d2a": {
          "model_module": "@jupyter-widgets/controls",
          "model_name": "LabelModel",
          "model_module_version": "1.5.0",
          "state": {
            "_view_name": "LabelView",
            "style": "IPY_MODEL_4c5323013c864be4b6e2f593f175901f",
            "_dom_classes": [],
            "description": "",
            "_model_name": "LabelModel",
            "placeholder": "​",
            "_view_module": "@jupyter-widgets/controls",
            "_model_module_version": "1.5.0",
            "value": " 0.01MB of 0.01MB uploaded (0.00MB deduped)\r",
            "_view_count": null,
            "_view_module_version": "1.5.0",
            "description_tooltip": null,
            "_model_module": "@jupyter-widgets/controls",
            "layout": "IPY_MODEL_6efbcc934acc4fdeba0e108cc6212caa"
          }
        },
        "9fcf6736525240b1aeed7c3c6e891b3a": {
          "model_module": "@jupyter-widgets/controls",
          "model_name": "FloatProgressModel",
          "model_module_version": "1.5.0",
          "state": {
            "_view_name": "ProgressView",
            "style": "IPY_MODEL_49911e1fc1164af18a51244b20302089",
            "_dom_classes": [],
            "description": "",
            "_model_name": "FloatProgressModel",
            "bar_style": "",
            "max": 1,
            "_view_module": "@jupyter-widgets/controls",
            "_model_module_version": "1.5.0",
            "value": 1,
            "_view_count": null,
            "_view_module_version": "1.5.0",
            "orientation": "horizontal",
            "min": 0,
            "description_tooltip": null,
            "_model_module": "@jupyter-widgets/controls",
            "layout": "IPY_MODEL_1496d9622dcb4e118c3d60dec186af8d"
          }
        },
        "4c5323013c864be4b6e2f593f175901f": {
          "model_module": "@jupyter-widgets/controls",
          "model_name": "DescriptionStyleModel",
          "model_module_version": "1.5.0",
          "state": {
            "_view_name": "StyleView",
            "_model_name": "DescriptionStyleModel",
            "description_width": "",
            "_view_module": "@jupyter-widgets/base",
            "_model_module_version": "1.5.0",
            "_view_count": null,
            "_view_module_version": "1.2.0",
            "_model_module": "@jupyter-widgets/controls"
          }
        },
        "6efbcc934acc4fdeba0e108cc6212caa": {
          "model_module": "@jupyter-widgets/base",
          "model_name": "LayoutModel",
          "model_module_version": "1.2.0",
          "state": {
            "_view_name": "LayoutView",
            "grid_template_rows": null,
            "right": null,
            "justify_content": null,
            "_view_module": "@jupyter-widgets/base",
            "overflow": null,
            "_model_module_version": "1.2.0",
            "_view_count": null,
            "flex_flow": null,
            "width": null,
            "min_width": null,
            "border": null,
            "align_items": null,
            "bottom": null,
            "_model_module": "@jupyter-widgets/base",
            "top": null,
            "grid_column": null,
            "overflow_y": null,
            "overflow_x": null,
            "grid_auto_flow": null,
            "grid_area": null,
            "grid_template_columns": null,
            "flex": null,
            "_model_name": "LayoutModel",
            "justify_items": null,
            "grid_row": null,
            "max_height": null,
            "align_content": null,
            "visibility": null,
            "align_self": null,
            "height": null,
            "min_height": null,
            "padding": null,
            "grid_auto_rows": null,
            "grid_gap": null,
            "max_width": null,
            "order": null,
            "_view_module_version": "1.2.0",
            "grid_template_areas": null,
            "object_position": null,
            "object_fit": null,
            "grid_auto_columns": null,
            "margin": null,
            "display": null,
            "left": null
          }
        },
        "49911e1fc1164af18a51244b20302089": {
          "model_module": "@jupyter-widgets/controls",
          "model_name": "ProgressStyleModel",
          "model_module_version": "1.5.0",
          "state": {
            "_view_name": "StyleView",
            "_model_name": "ProgressStyleModel",
            "description_width": "",
            "_view_module": "@jupyter-widgets/base",
            "_model_module_version": "1.5.0",
            "_view_count": null,
            "_view_module_version": "1.2.0",
            "bar_color": null,
            "_model_module": "@jupyter-widgets/controls"
          }
        },
        "1496d9622dcb4e118c3d60dec186af8d": {
          "model_module": "@jupyter-widgets/base",
          "model_name": "LayoutModel",
          "model_module_version": "1.2.0",
          "state": {
            "_view_name": "LayoutView",
            "grid_template_rows": null,
            "right": null,
            "justify_content": null,
            "_view_module": "@jupyter-widgets/base",
            "overflow": null,
            "_model_module_version": "1.2.0",
            "_view_count": null,
            "flex_flow": null,
            "width": null,
            "min_width": null,
            "border": null,
            "align_items": null,
            "bottom": null,
            "_model_module": "@jupyter-widgets/base",
            "top": null,
            "grid_column": null,
            "overflow_y": null,
            "overflow_x": null,
            "grid_auto_flow": null,
            "grid_area": null,
            "grid_template_columns": null,
            "flex": null,
            "_model_name": "LayoutModel",
            "justify_items": null,
            "grid_row": null,
            "max_height": null,
            "align_content": null,
            "visibility": null,
            "align_self": null,
            "height": null,
            "min_height": null,
            "padding": null,
            "grid_auto_rows": null,
            "grid_gap": null,
            "max_width": null,
            "order": null,
            "_view_module_version": "1.2.0",
            "grid_template_areas": null,
            "object_position": null,
            "object_fit": null,
            "grid_auto_columns": null,
            "margin": null,
            "display": null,
            "left": null
          }
        },
        "f42e670e00fe4936ac4b5276a1e7c16b": {
          "model_module": "@jupyter-widgets/controls",
          "model_name": "VBoxModel",
          "model_module_version": "1.5.0",
          "state": {
            "_view_name": "VBoxView",
            "_dom_classes": [],
            "_model_name": "VBoxModel",
            "_view_module": "@jupyter-widgets/controls",
            "_model_module_version": "1.5.0",
            "_view_count": null,
            "_view_module_version": "1.5.0",
            "box_style": "",
            "layout": "IPY_MODEL_00b5b1c54c904a44949a02c521d5de50",
            "_model_module": "@jupyter-widgets/controls",
            "children": [
              "IPY_MODEL_da09401b45c34044a92a4056424c98d3",
              "IPY_MODEL_7a42e9c02469443b9d78a2c4993aa16d"
            ]
          }
        },
        "00b5b1c54c904a44949a02c521d5de50": {
          "model_module": "@jupyter-widgets/base",
          "model_name": "LayoutModel",
          "model_module_version": "1.2.0",
          "state": {
            "_view_name": "LayoutView",
            "grid_template_rows": null,
            "right": null,
            "justify_content": null,
            "_view_module": "@jupyter-widgets/base",
            "overflow": null,
            "_model_module_version": "1.2.0",
            "_view_count": null,
            "flex_flow": null,
            "width": null,
            "min_width": null,
            "border": null,
            "align_items": null,
            "bottom": null,
            "_model_module": "@jupyter-widgets/base",
            "top": null,
            "grid_column": null,
            "overflow_y": null,
            "overflow_x": null,
            "grid_auto_flow": null,
            "grid_area": null,
            "grid_template_columns": null,
            "flex": null,
            "_model_name": "LayoutModel",
            "justify_items": null,
            "grid_row": null,
            "max_height": null,
            "align_content": null,
            "visibility": null,
            "align_self": null,
            "height": null,
            "min_height": null,
            "padding": null,
            "grid_auto_rows": null,
            "grid_gap": null,
            "max_width": null,
            "order": null,
            "_view_module_version": "1.2.0",
            "grid_template_areas": null,
            "object_position": null,
            "object_fit": null,
            "grid_auto_columns": null,
            "margin": null,
            "display": null,
            "left": null
          }
        },
        "da09401b45c34044a92a4056424c98d3": {
          "model_module": "@jupyter-widgets/controls",
          "model_name": "LabelModel",
          "model_module_version": "1.5.0",
          "state": {
            "_view_name": "LabelView",
            "style": "IPY_MODEL_95365d52d5c94539a7693192e2eeed36",
            "_dom_classes": [],
            "description": "",
            "_model_name": "LabelModel",
            "placeholder": "​",
            "_view_module": "@jupyter-widgets/controls",
            "_model_module_version": "1.5.0",
            "value": " 0.01MB of 0.01MB uploaded (0.00MB deduped)\r",
            "_view_count": null,
            "_view_module_version": "1.5.0",
            "description_tooltip": null,
            "_model_module": "@jupyter-widgets/controls",
            "layout": "IPY_MODEL_e39b858e9bcd47e1bc00aec37b5a80ee"
          }
        },
        "7a42e9c02469443b9d78a2c4993aa16d": {
          "model_module": "@jupyter-widgets/controls",
          "model_name": "FloatProgressModel",
          "model_module_version": "1.5.0",
          "state": {
            "_view_name": "ProgressView",
            "style": "IPY_MODEL_e6d3dacae7424371a6b1deaa82ffb7a2",
            "_dom_classes": [],
            "description": "",
            "_model_name": "FloatProgressModel",
            "bar_style": "",
            "max": 1,
            "_view_module": "@jupyter-widgets/controls",
            "_model_module_version": "1.5.0",
            "value": 1,
            "_view_count": null,
            "_view_module_version": "1.5.0",
            "orientation": "horizontal",
            "min": 0,
            "description_tooltip": null,
            "_model_module": "@jupyter-widgets/controls",
            "layout": "IPY_MODEL_e999c2d8dc88408986bcfa85e0f30f78"
          }
        },
        "95365d52d5c94539a7693192e2eeed36": {
          "model_module": "@jupyter-widgets/controls",
          "model_name": "DescriptionStyleModel",
          "model_module_version": "1.5.0",
          "state": {
            "_view_name": "StyleView",
            "_model_name": "DescriptionStyleModel",
            "description_width": "",
            "_view_module": "@jupyter-widgets/base",
            "_model_module_version": "1.5.0",
            "_view_count": null,
            "_view_module_version": "1.2.0",
            "_model_module": "@jupyter-widgets/controls"
          }
        },
        "e39b858e9bcd47e1bc00aec37b5a80ee": {
          "model_module": "@jupyter-widgets/base",
          "model_name": "LayoutModel",
          "model_module_version": "1.2.0",
          "state": {
            "_view_name": "LayoutView",
            "grid_template_rows": null,
            "right": null,
            "justify_content": null,
            "_view_module": "@jupyter-widgets/base",
            "overflow": null,
            "_model_module_version": "1.2.0",
            "_view_count": null,
            "flex_flow": null,
            "width": null,
            "min_width": null,
            "border": null,
            "align_items": null,
            "bottom": null,
            "_model_module": "@jupyter-widgets/base",
            "top": null,
            "grid_column": null,
            "overflow_y": null,
            "overflow_x": null,
            "grid_auto_flow": null,
            "grid_area": null,
            "grid_template_columns": null,
            "flex": null,
            "_model_name": "LayoutModel",
            "justify_items": null,
            "grid_row": null,
            "max_height": null,
            "align_content": null,
            "visibility": null,
            "align_self": null,
            "height": null,
            "min_height": null,
            "padding": null,
            "grid_auto_rows": null,
            "grid_gap": null,
            "max_width": null,
            "order": null,
            "_view_module_version": "1.2.0",
            "grid_template_areas": null,
            "object_position": null,
            "object_fit": null,
            "grid_auto_columns": null,
            "margin": null,
            "display": null,
            "left": null
          }
        },
        "e6d3dacae7424371a6b1deaa82ffb7a2": {
          "model_module": "@jupyter-widgets/controls",
          "model_name": "ProgressStyleModel",
          "model_module_version": "1.5.0",
          "state": {
            "_view_name": "StyleView",
            "_model_name": "ProgressStyleModel",
            "description_width": "",
            "_view_module": "@jupyter-widgets/base",
            "_model_module_version": "1.5.0",
            "_view_count": null,
            "_view_module_version": "1.2.0",
            "bar_color": null,
            "_model_module": "@jupyter-widgets/controls"
          }
        },
        "e999c2d8dc88408986bcfa85e0f30f78": {
          "model_module": "@jupyter-widgets/base",
          "model_name": "LayoutModel",
          "model_module_version": "1.2.0",
          "state": {
            "_view_name": "LayoutView",
            "grid_template_rows": null,
            "right": null,
            "justify_content": null,
            "_view_module": "@jupyter-widgets/base",
            "overflow": null,
            "_model_module_version": "1.2.0",
            "_view_count": null,
            "flex_flow": null,
            "width": null,
            "min_width": null,
            "border": null,
            "align_items": null,
            "bottom": null,
            "_model_module": "@jupyter-widgets/base",
            "top": null,
            "grid_column": null,
            "overflow_y": null,
            "overflow_x": null,
            "grid_auto_flow": null,
            "grid_area": null,
            "grid_template_columns": null,
            "flex": null,
            "_model_name": "LayoutModel",
            "justify_items": null,
            "grid_row": null,
            "max_height": null,
            "align_content": null,
            "visibility": null,
            "align_self": null,
            "height": null,
            "min_height": null,
            "padding": null,
            "grid_auto_rows": null,
            "grid_gap": null,
            "max_width": null,
            "order": null,
            "_view_module_version": "1.2.0",
            "grid_template_areas": null,
            "object_position": null,
            "object_fit": null,
            "grid_auto_columns": null,
            "margin": null,
            "display": null,
            "left": null
          }
        },
        "5edeadd9a7584186997c9b65dd26d58d": {
          "model_module": "@jupyter-widgets/controls",
          "model_name": "VBoxModel",
          "model_module_version": "1.5.0",
          "state": {
            "_view_name": "VBoxView",
            "_dom_classes": [],
            "_model_name": "VBoxModel",
            "_view_module": "@jupyter-widgets/controls",
            "_model_module_version": "1.5.0",
            "_view_count": null,
            "_view_module_version": "1.5.0",
            "box_style": "",
            "layout": "IPY_MODEL_cc8ed8f624e64509b842ffd2054711be",
            "_model_module": "@jupyter-widgets/controls",
            "children": [
              "IPY_MODEL_2db4845d748544dd988adf7357b4c6fa",
              "IPY_MODEL_b4977d92c2554a29b4d5ad44868b6459"
            ]
          }
        },
        "cc8ed8f624e64509b842ffd2054711be": {
          "model_module": "@jupyter-widgets/base",
          "model_name": "LayoutModel",
          "model_module_version": "1.2.0",
          "state": {
            "_view_name": "LayoutView",
            "grid_template_rows": null,
            "right": null,
            "justify_content": null,
            "_view_module": "@jupyter-widgets/base",
            "overflow": null,
            "_model_module_version": "1.2.0",
            "_view_count": null,
            "flex_flow": null,
            "width": null,
            "min_width": null,
            "border": null,
            "align_items": null,
            "bottom": null,
            "_model_module": "@jupyter-widgets/base",
            "top": null,
            "grid_column": null,
            "overflow_y": null,
            "overflow_x": null,
            "grid_auto_flow": null,
            "grid_area": null,
            "grid_template_columns": null,
            "flex": null,
            "_model_name": "LayoutModel",
            "justify_items": null,
            "grid_row": null,
            "max_height": null,
            "align_content": null,
            "visibility": null,
            "align_self": null,
            "height": null,
            "min_height": null,
            "padding": null,
            "grid_auto_rows": null,
            "grid_gap": null,
            "max_width": null,
            "order": null,
            "_view_module_version": "1.2.0",
            "grid_template_areas": null,
            "object_position": null,
            "object_fit": null,
            "grid_auto_columns": null,
            "margin": null,
            "display": null,
            "left": null
          }
        },
        "2db4845d748544dd988adf7357b4c6fa": {
          "model_module": "@jupyter-widgets/controls",
          "model_name": "LabelModel",
          "model_module_version": "1.5.0",
          "state": {
            "_view_name": "LabelView",
            "style": "IPY_MODEL_3f682a8fa7bc4c028dc2f27b2f851207",
            "_dom_classes": [],
            "description": "",
            "_model_name": "LabelModel",
            "placeholder": "​",
            "_view_module": "@jupyter-widgets/controls",
            "_model_module_version": "1.5.0",
            "value": " 0.01MB of 0.01MB uploaded (0.00MB deduped)\r",
            "_view_count": null,
            "_view_module_version": "1.5.0",
            "description_tooltip": null,
            "_model_module": "@jupyter-widgets/controls",
            "layout": "IPY_MODEL_169086a825de44379e536ad3e9a8665b"
          }
        },
        "b4977d92c2554a29b4d5ad44868b6459": {
          "model_module": "@jupyter-widgets/controls",
          "model_name": "FloatProgressModel",
          "model_module_version": "1.5.0",
          "state": {
            "_view_name": "ProgressView",
            "style": "IPY_MODEL_5ae6b6a4899b4bd4a976a98d76a29cb7",
            "_dom_classes": [],
            "description": "",
            "_model_name": "FloatProgressModel",
            "bar_style": "",
            "max": 1,
            "_view_module": "@jupyter-widgets/controls",
            "_model_module_version": "1.5.0",
            "value": 1,
            "_view_count": null,
            "_view_module_version": "1.5.0",
            "orientation": "horizontal",
            "min": 0,
            "description_tooltip": null,
            "_model_module": "@jupyter-widgets/controls",
            "layout": "IPY_MODEL_e6623d315a3d452694b1b1549ced0f3c"
          }
        },
        "3f682a8fa7bc4c028dc2f27b2f851207": {
          "model_module": "@jupyter-widgets/controls",
          "model_name": "DescriptionStyleModel",
          "model_module_version": "1.5.0",
          "state": {
            "_view_name": "StyleView",
            "_model_name": "DescriptionStyleModel",
            "description_width": "",
            "_view_module": "@jupyter-widgets/base",
            "_model_module_version": "1.5.0",
            "_view_count": null,
            "_view_module_version": "1.2.0",
            "_model_module": "@jupyter-widgets/controls"
          }
        },
        "169086a825de44379e536ad3e9a8665b": {
          "model_module": "@jupyter-widgets/base",
          "model_name": "LayoutModel",
          "model_module_version": "1.2.0",
          "state": {
            "_view_name": "LayoutView",
            "grid_template_rows": null,
            "right": null,
            "justify_content": null,
            "_view_module": "@jupyter-widgets/base",
            "overflow": null,
            "_model_module_version": "1.2.0",
            "_view_count": null,
            "flex_flow": null,
            "width": null,
            "min_width": null,
            "border": null,
            "align_items": null,
            "bottom": null,
            "_model_module": "@jupyter-widgets/base",
            "top": null,
            "grid_column": null,
            "overflow_y": null,
            "overflow_x": null,
            "grid_auto_flow": null,
            "grid_area": null,
            "grid_template_columns": null,
            "flex": null,
            "_model_name": "LayoutModel",
            "justify_items": null,
            "grid_row": null,
            "max_height": null,
            "align_content": null,
            "visibility": null,
            "align_self": null,
            "height": null,
            "min_height": null,
            "padding": null,
            "grid_auto_rows": null,
            "grid_gap": null,
            "max_width": null,
            "order": null,
            "_view_module_version": "1.2.0",
            "grid_template_areas": null,
            "object_position": null,
            "object_fit": null,
            "grid_auto_columns": null,
            "margin": null,
            "display": null,
            "left": null
          }
        },
        "5ae6b6a4899b4bd4a976a98d76a29cb7": {
          "model_module": "@jupyter-widgets/controls",
          "model_name": "ProgressStyleModel",
          "model_module_version": "1.5.0",
          "state": {
            "_view_name": "StyleView",
            "_model_name": "ProgressStyleModel",
            "description_width": "",
            "_view_module": "@jupyter-widgets/base",
            "_model_module_version": "1.5.0",
            "_view_count": null,
            "_view_module_version": "1.2.0",
            "bar_color": null,
            "_model_module": "@jupyter-widgets/controls"
          }
        },
        "e6623d315a3d452694b1b1549ced0f3c": {
          "model_module": "@jupyter-widgets/base",
          "model_name": "LayoutModel",
          "model_module_version": "1.2.0",
          "state": {
            "_view_name": "LayoutView",
            "grid_template_rows": null,
            "right": null,
            "justify_content": null,
            "_view_module": "@jupyter-widgets/base",
            "overflow": null,
            "_model_module_version": "1.2.0",
            "_view_count": null,
            "flex_flow": null,
            "width": null,
            "min_width": null,
            "border": null,
            "align_items": null,
            "bottom": null,
            "_model_module": "@jupyter-widgets/base",
            "top": null,
            "grid_column": null,
            "overflow_y": null,
            "overflow_x": null,
            "grid_auto_flow": null,
            "grid_area": null,
            "grid_template_columns": null,
            "flex": null,
            "_model_name": "LayoutModel",
            "justify_items": null,
            "grid_row": null,
            "max_height": null,
            "align_content": null,
            "visibility": null,
            "align_self": null,
            "height": null,
            "min_height": null,
            "padding": null,
            "grid_auto_rows": null,
            "grid_gap": null,
            "max_width": null,
            "order": null,
            "_view_module_version": "1.2.0",
            "grid_template_areas": null,
            "object_position": null,
            "object_fit": null,
            "grid_auto_columns": null,
            "margin": null,
            "display": null,
            "left": null
          }
        },
        "c1ae581b6a734bedb02c8e4a2629337b": {
          "model_module": "@jupyter-widgets/controls",
          "model_name": "VBoxModel",
          "model_module_version": "1.5.0",
          "state": {
            "_view_name": "VBoxView",
            "_dom_classes": [],
            "_model_name": "VBoxModel",
            "_view_module": "@jupyter-widgets/controls",
            "_model_module_version": "1.5.0",
            "_view_count": null,
            "_view_module_version": "1.5.0",
            "box_style": "",
            "layout": "IPY_MODEL_1a674fb44e3f493d9789d173519e390e",
            "_model_module": "@jupyter-widgets/controls",
            "children": [
              "IPY_MODEL_ea967ff0cedb4254838b6b24e781d254",
              "IPY_MODEL_69edc7bab52a456bbcdbf5ae0ad51486"
            ]
          }
        },
        "1a674fb44e3f493d9789d173519e390e": {
          "model_module": "@jupyter-widgets/base",
          "model_name": "LayoutModel",
          "model_module_version": "1.2.0",
          "state": {
            "_view_name": "LayoutView",
            "grid_template_rows": null,
            "right": null,
            "justify_content": null,
            "_view_module": "@jupyter-widgets/base",
            "overflow": null,
            "_model_module_version": "1.2.0",
            "_view_count": null,
            "flex_flow": null,
            "width": null,
            "min_width": null,
            "border": null,
            "align_items": null,
            "bottom": null,
            "_model_module": "@jupyter-widgets/base",
            "top": null,
            "grid_column": null,
            "overflow_y": null,
            "overflow_x": null,
            "grid_auto_flow": null,
            "grid_area": null,
            "grid_template_columns": null,
            "flex": null,
            "_model_name": "LayoutModel",
            "justify_items": null,
            "grid_row": null,
            "max_height": null,
            "align_content": null,
            "visibility": null,
            "align_self": null,
            "height": null,
            "min_height": null,
            "padding": null,
            "grid_auto_rows": null,
            "grid_gap": null,
            "max_width": null,
            "order": null,
            "_view_module_version": "1.2.0",
            "grid_template_areas": null,
            "object_position": null,
            "object_fit": null,
            "grid_auto_columns": null,
            "margin": null,
            "display": null,
            "left": null
          }
        },
        "ea967ff0cedb4254838b6b24e781d254": {
          "model_module": "@jupyter-widgets/controls",
          "model_name": "LabelModel",
          "model_module_version": "1.5.0",
          "state": {
            "_view_name": "LabelView",
            "style": "IPY_MODEL_a8d8ef773ae34dcfa8cb800c054172f9",
            "_dom_classes": [],
            "description": "",
            "_model_name": "LabelModel",
            "placeholder": "​",
            "_view_module": "@jupyter-widgets/controls",
            "_model_module_version": "1.5.0",
            "value": " 0.01MB of 0.01MB uploaded (0.00MB deduped)\r",
            "_view_count": null,
            "_view_module_version": "1.5.0",
            "description_tooltip": null,
            "_model_module": "@jupyter-widgets/controls",
            "layout": "IPY_MODEL_46d3048feeb643e2adbab73ca6a0e494"
          }
        },
        "69edc7bab52a456bbcdbf5ae0ad51486": {
          "model_module": "@jupyter-widgets/controls",
          "model_name": "FloatProgressModel",
          "model_module_version": "1.5.0",
          "state": {
            "_view_name": "ProgressView",
            "style": "IPY_MODEL_98c973f8c94d4022a6da8cc2f312f3b1",
            "_dom_classes": [],
            "description": "",
            "_model_name": "FloatProgressModel",
            "bar_style": "",
            "max": 1,
            "_view_module": "@jupyter-widgets/controls",
            "_model_module_version": "1.5.0",
            "value": 1,
            "_view_count": null,
            "_view_module_version": "1.5.0",
            "orientation": "horizontal",
            "min": 0,
            "description_tooltip": null,
            "_model_module": "@jupyter-widgets/controls",
            "layout": "IPY_MODEL_fb234e4ddf614bcf9fb2f451d87dc37d"
          }
        },
        "a8d8ef773ae34dcfa8cb800c054172f9": {
          "model_module": "@jupyter-widgets/controls",
          "model_name": "DescriptionStyleModel",
          "model_module_version": "1.5.0",
          "state": {
            "_view_name": "StyleView",
            "_model_name": "DescriptionStyleModel",
            "description_width": "",
            "_view_module": "@jupyter-widgets/base",
            "_model_module_version": "1.5.0",
            "_view_count": null,
            "_view_module_version": "1.2.0",
            "_model_module": "@jupyter-widgets/controls"
          }
        },
        "46d3048feeb643e2adbab73ca6a0e494": {
          "model_module": "@jupyter-widgets/base",
          "model_name": "LayoutModel",
          "model_module_version": "1.2.0",
          "state": {
            "_view_name": "LayoutView",
            "grid_template_rows": null,
            "right": null,
            "justify_content": null,
            "_view_module": "@jupyter-widgets/base",
            "overflow": null,
            "_model_module_version": "1.2.0",
            "_view_count": null,
            "flex_flow": null,
            "width": null,
            "min_width": null,
            "border": null,
            "align_items": null,
            "bottom": null,
            "_model_module": "@jupyter-widgets/base",
            "top": null,
            "grid_column": null,
            "overflow_y": null,
            "overflow_x": null,
            "grid_auto_flow": null,
            "grid_area": null,
            "grid_template_columns": null,
            "flex": null,
            "_model_name": "LayoutModel",
            "justify_items": null,
            "grid_row": null,
            "max_height": null,
            "align_content": null,
            "visibility": null,
            "align_self": null,
            "height": null,
            "min_height": null,
            "padding": null,
            "grid_auto_rows": null,
            "grid_gap": null,
            "max_width": null,
            "order": null,
            "_view_module_version": "1.2.0",
            "grid_template_areas": null,
            "object_position": null,
            "object_fit": null,
            "grid_auto_columns": null,
            "margin": null,
            "display": null,
            "left": null
          }
        },
        "98c973f8c94d4022a6da8cc2f312f3b1": {
          "model_module": "@jupyter-widgets/controls",
          "model_name": "ProgressStyleModel",
          "model_module_version": "1.5.0",
          "state": {
            "_view_name": "StyleView",
            "_model_name": "ProgressStyleModel",
            "description_width": "",
            "_view_module": "@jupyter-widgets/base",
            "_model_module_version": "1.5.0",
            "_view_count": null,
            "_view_module_version": "1.2.0",
            "bar_color": null,
            "_model_module": "@jupyter-widgets/controls"
          }
        },
        "fb234e4ddf614bcf9fb2f451d87dc37d": {
          "model_module": "@jupyter-widgets/base",
          "model_name": "LayoutModel",
          "model_module_version": "1.2.0",
          "state": {
            "_view_name": "LayoutView",
            "grid_template_rows": null,
            "right": null,
            "justify_content": null,
            "_view_module": "@jupyter-widgets/base",
            "overflow": null,
            "_model_module_version": "1.2.0",
            "_view_count": null,
            "flex_flow": null,
            "width": null,
            "min_width": null,
            "border": null,
            "align_items": null,
            "bottom": null,
            "_model_module": "@jupyter-widgets/base",
            "top": null,
            "grid_column": null,
            "overflow_y": null,
            "overflow_x": null,
            "grid_auto_flow": null,
            "grid_area": null,
            "grid_template_columns": null,
            "flex": null,
            "_model_name": "LayoutModel",
            "justify_items": null,
            "grid_row": null,
            "max_height": null,
            "align_content": null,
            "visibility": null,
            "align_self": null,
            "height": null,
            "min_height": null,
            "padding": null,
            "grid_auto_rows": null,
            "grid_gap": null,
            "max_width": null,
            "order": null,
            "_view_module_version": "1.2.0",
            "grid_template_areas": null,
            "object_position": null,
            "object_fit": null,
            "grid_auto_columns": null,
            "margin": null,
            "display": null,
            "left": null
          }
        },
        "2cfea23648d040afbe081240d83f5209": {
          "model_module": "@jupyter-widgets/controls",
          "model_name": "VBoxModel",
          "model_module_version": "1.5.0",
          "state": {
            "_view_name": "VBoxView",
            "_dom_classes": [],
            "_model_name": "VBoxModel",
            "_view_module": "@jupyter-widgets/controls",
            "_model_module_version": "1.5.0",
            "_view_count": null,
            "_view_module_version": "1.5.0",
            "box_style": "",
            "layout": "IPY_MODEL_db34ee03d5a34dd9917f87957d266b39",
            "_model_module": "@jupyter-widgets/controls",
            "children": [
              "IPY_MODEL_9f556aa86eb5474193cc6cfa8a06a879",
              "IPY_MODEL_ef5f8496e60e45358623ec24c1920f01"
            ]
          }
        },
        "db34ee03d5a34dd9917f87957d266b39": {
          "model_module": "@jupyter-widgets/base",
          "model_name": "LayoutModel",
          "model_module_version": "1.2.0",
          "state": {
            "_view_name": "LayoutView",
            "grid_template_rows": null,
            "right": null,
            "justify_content": null,
            "_view_module": "@jupyter-widgets/base",
            "overflow": null,
            "_model_module_version": "1.2.0",
            "_view_count": null,
            "flex_flow": null,
            "width": null,
            "min_width": null,
            "border": null,
            "align_items": null,
            "bottom": null,
            "_model_module": "@jupyter-widgets/base",
            "top": null,
            "grid_column": null,
            "overflow_y": null,
            "overflow_x": null,
            "grid_auto_flow": null,
            "grid_area": null,
            "grid_template_columns": null,
            "flex": null,
            "_model_name": "LayoutModel",
            "justify_items": null,
            "grid_row": null,
            "max_height": null,
            "align_content": null,
            "visibility": null,
            "align_self": null,
            "height": null,
            "min_height": null,
            "padding": null,
            "grid_auto_rows": null,
            "grid_gap": null,
            "max_width": null,
            "order": null,
            "_view_module_version": "1.2.0",
            "grid_template_areas": null,
            "object_position": null,
            "object_fit": null,
            "grid_auto_columns": null,
            "margin": null,
            "display": null,
            "left": null
          }
        },
        "9f556aa86eb5474193cc6cfa8a06a879": {
          "model_module": "@jupyter-widgets/controls",
          "model_name": "LabelModel",
          "model_module_version": "1.5.0",
          "state": {
            "_view_name": "LabelView",
            "style": "IPY_MODEL_ae999f9949df404283c7c64e743b9408",
            "_dom_classes": [],
            "description": "",
            "_model_name": "LabelModel",
            "placeholder": "​",
            "_view_module": "@jupyter-widgets/controls",
            "_model_module_version": "1.5.0",
            "value": " 0.01MB of 0.01MB uploaded (0.00MB deduped)\r",
            "_view_count": null,
            "_view_module_version": "1.5.0",
            "description_tooltip": null,
            "_model_module": "@jupyter-widgets/controls",
            "layout": "IPY_MODEL_d12361a2e91b4659ae5dc45ad6804e18"
          }
        },
        "ef5f8496e60e45358623ec24c1920f01": {
          "model_module": "@jupyter-widgets/controls",
          "model_name": "FloatProgressModel",
          "model_module_version": "1.5.0",
          "state": {
            "_view_name": "ProgressView",
            "style": "IPY_MODEL_6380860fc29f47f18a9bc0a7be8dc58d",
            "_dom_classes": [],
            "description": "",
            "_model_name": "FloatProgressModel",
            "bar_style": "",
            "max": 1,
            "_view_module": "@jupyter-widgets/controls",
            "_model_module_version": "1.5.0",
            "value": 1,
            "_view_count": null,
            "_view_module_version": "1.5.0",
            "orientation": "horizontal",
            "min": 0,
            "description_tooltip": null,
            "_model_module": "@jupyter-widgets/controls",
            "layout": "IPY_MODEL_0b4b3fa923bd4269b654eea34f6ccf26"
          }
        },
        "ae999f9949df404283c7c64e743b9408": {
          "model_module": "@jupyter-widgets/controls",
          "model_name": "DescriptionStyleModel",
          "model_module_version": "1.5.0",
          "state": {
            "_view_name": "StyleView",
            "_model_name": "DescriptionStyleModel",
            "description_width": "",
            "_view_module": "@jupyter-widgets/base",
            "_model_module_version": "1.5.0",
            "_view_count": null,
            "_view_module_version": "1.2.0",
            "_model_module": "@jupyter-widgets/controls"
          }
        },
        "d12361a2e91b4659ae5dc45ad6804e18": {
          "model_module": "@jupyter-widgets/base",
          "model_name": "LayoutModel",
          "model_module_version": "1.2.0",
          "state": {
            "_view_name": "LayoutView",
            "grid_template_rows": null,
            "right": null,
            "justify_content": null,
            "_view_module": "@jupyter-widgets/base",
            "overflow": null,
            "_model_module_version": "1.2.0",
            "_view_count": null,
            "flex_flow": null,
            "width": null,
            "min_width": null,
            "border": null,
            "align_items": null,
            "bottom": null,
            "_model_module": "@jupyter-widgets/base",
            "top": null,
            "grid_column": null,
            "overflow_y": null,
            "overflow_x": null,
            "grid_auto_flow": null,
            "grid_area": null,
            "grid_template_columns": null,
            "flex": null,
            "_model_name": "LayoutModel",
            "justify_items": null,
            "grid_row": null,
            "max_height": null,
            "align_content": null,
            "visibility": null,
            "align_self": null,
            "height": null,
            "min_height": null,
            "padding": null,
            "grid_auto_rows": null,
            "grid_gap": null,
            "max_width": null,
            "order": null,
            "_view_module_version": "1.2.0",
            "grid_template_areas": null,
            "object_position": null,
            "object_fit": null,
            "grid_auto_columns": null,
            "margin": null,
            "display": null,
            "left": null
          }
        },
        "6380860fc29f47f18a9bc0a7be8dc58d": {
          "model_module": "@jupyter-widgets/controls",
          "model_name": "ProgressStyleModel",
          "model_module_version": "1.5.0",
          "state": {
            "_view_name": "StyleView",
            "_model_name": "ProgressStyleModel",
            "description_width": "",
            "_view_module": "@jupyter-widgets/base",
            "_model_module_version": "1.5.0",
            "_view_count": null,
            "_view_module_version": "1.2.0",
            "bar_color": null,
            "_model_module": "@jupyter-widgets/controls"
          }
        },
        "0b4b3fa923bd4269b654eea34f6ccf26": {
          "model_module": "@jupyter-widgets/base",
          "model_name": "LayoutModel",
          "model_module_version": "1.2.0",
          "state": {
            "_view_name": "LayoutView",
            "grid_template_rows": null,
            "right": null,
            "justify_content": null,
            "_view_module": "@jupyter-widgets/base",
            "overflow": null,
            "_model_module_version": "1.2.0",
            "_view_count": null,
            "flex_flow": null,
            "width": null,
            "min_width": null,
            "border": null,
            "align_items": null,
            "bottom": null,
            "_model_module": "@jupyter-widgets/base",
            "top": null,
            "grid_column": null,
            "overflow_y": null,
            "overflow_x": null,
            "grid_auto_flow": null,
            "grid_area": null,
            "grid_template_columns": null,
            "flex": null,
            "_model_name": "LayoutModel",
            "justify_items": null,
            "grid_row": null,
            "max_height": null,
            "align_content": null,
            "visibility": null,
            "align_self": null,
            "height": null,
            "min_height": null,
            "padding": null,
            "grid_auto_rows": null,
            "grid_gap": null,
            "max_width": null,
            "order": null,
            "_view_module_version": "1.2.0",
            "grid_template_areas": null,
            "object_position": null,
            "object_fit": null,
            "grid_auto_columns": null,
            "margin": null,
            "display": null,
            "left": null
          }
        },
        "1b1100089e6d4674aaa437e2202fafc3": {
          "model_module": "@jupyter-widgets/controls",
          "model_name": "VBoxModel",
          "model_module_version": "1.5.0",
          "state": {
            "_view_name": "VBoxView",
            "_dom_classes": [],
            "_model_name": "VBoxModel",
            "_view_module": "@jupyter-widgets/controls",
            "_model_module_version": "1.5.0",
            "_view_count": null,
            "_view_module_version": "1.5.0",
            "box_style": "",
            "layout": "IPY_MODEL_1ff7d6b1e67942f1a67c5e14dc128d20",
            "_model_module": "@jupyter-widgets/controls",
            "children": [
              "IPY_MODEL_f34a7d5bcd9643e7917c91cb4a9edfe7",
              "IPY_MODEL_8d474946dff04f609ad899980a800c99"
            ]
          }
        },
        "1ff7d6b1e67942f1a67c5e14dc128d20": {
          "model_module": "@jupyter-widgets/base",
          "model_name": "LayoutModel",
          "model_module_version": "1.2.0",
          "state": {
            "_view_name": "LayoutView",
            "grid_template_rows": null,
            "right": null,
            "justify_content": null,
            "_view_module": "@jupyter-widgets/base",
            "overflow": null,
            "_model_module_version": "1.2.0",
            "_view_count": null,
            "flex_flow": null,
            "width": null,
            "min_width": null,
            "border": null,
            "align_items": null,
            "bottom": null,
            "_model_module": "@jupyter-widgets/base",
            "top": null,
            "grid_column": null,
            "overflow_y": null,
            "overflow_x": null,
            "grid_auto_flow": null,
            "grid_area": null,
            "grid_template_columns": null,
            "flex": null,
            "_model_name": "LayoutModel",
            "justify_items": null,
            "grid_row": null,
            "max_height": null,
            "align_content": null,
            "visibility": null,
            "align_self": null,
            "height": null,
            "min_height": null,
            "padding": null,
            "grid_auto_rows": null,
            "grid_gap": null,
            "max_width": null,
            "order": null,
            "_view_module_version": "1.2.0",
            "grid_template_areas": null,
            "object_position": null,
            "object_fit": null,
            "grid_auto_columns": null,
            "margin": null,
            "display": null,
            "left": null
          }
        },
        "f34a7d5bcd9643e7917c91cb4a9edfe7": {
          "model_module": "@jupyter-widgets/controls",
          "model_name": "LabelModel",
          "model_module_version": "1.5.0",
          "state": {
            "_view_name": "LabelView",
            "style": "IPY_MODEL_0aeb5dde01d04cefb33fced9916250a1",
            "_dom_classes": [],
            "description": "",
            "_model_name": "LabelModel",
            "placeholder": "​",
            "_view_module": "@jupyter-widgets/controls",
            "_model_module_version": "1.5.0",
            "value": " 0.01MB of 0.01MB uploaded (0.00MB deduped)\r",
            "_view_count": null,
            "_view_module_version": "1.5.0",
            "description_tooltip": null,
            "_model_module": "@jupyter-widgets/controls",
            "layout": "IPY_MODEL_a8294b4bd170472799bf24a052d5b926"
          }
        },
        "8d474946dff04f609ad899980a800c99": {
          "model_module": "@jupyter-widgets/controls",
          "model_name": "FloatProgressModel",
          "model_module_version": "1.5.0",
          "state": {
            "_view_name": "ProgressView",
            "style": "IPY_MODEL_5ae184aa1a6440e6aae69d10c54e9d5b",
            "_dom_classes": [],
            "description": "",
            "_model_name": "FloatProgressModel",
            "bar_style": "",
            "max": 1,
            "_view_module": "@jupyter-widgets/controls",
            "_model_module_version": "1.5.0",
            "value": 1,
            "_view_count": null,
            "_view_module_version": "1.5.0",
            "orientation": "horizontal",
            "min": 0,
            "description_tooltip": null,
            "_model_module": "@jupyter-widgets/controls",
            "layout": "IPY_MODEL_faf5a291fe0c4004831321ccf378baaf"
          }
        },
        "0aeb5dde01d04cefb33fced9916250a1": {
          "model_module": "@jupyter-widgets/controls",
          "model_name": "DescriptionStyleModel",
          "model_module_version": "1.5.0",
          "state": {
            "_view_name": "StyleView",
            "_model_name": "DescriptionStyleModel",
            "description_width": "",
            "_view_module": "@jupyter-widgets/base",
            "_model_module_version": "1.5.0",
            "_view_count": null,
            "_view_module_version": "1.2.0",
            "_model_module": "@jupyter-widgets/controls"
          }
        },
        "a8294b4bd170472799bf24a052d5b926": {
          "model_module": "@jupyter-widgets/base",
          "model_name": "LayoutModel",
          "model_module_version": "1.2.0",
          "state": {
            "_view_name": "LayoutView",
            "grid_template_rows": null,
            "right": null,
            "justify_content": null,
            "_view_module": "@jupyter-widgets/base",
            "overflow": null,
            "_model_module_version": "1.2.0",
            "_view_count": null,
            "flex_flow": null,
            "width": null,
            "min_width": null,
            "border": null,
            "align_items": null,
            "bottom": null,
            "_model_module": "@jupyter-widgets/base",
            "top": null,
            "grid_column": null,
            "overflow_y": null,
            "overflow_x": null,
            "grid_auto_flow": null,
            "grid_area": null,
            "grid_template_columns": null,
            "flex": null,
            "_model_name": "LayoutModel",
            "justify_items": null,
            "grid_row": null,
            "max_height": null,
            "align_content": null,
            "visibility": null,
            "align_self": null,
            "height": null,
            "min_height": null,
            "padding": null,
            "grid_auto_rows": null,
            "grid_gap": null,
            "max_width": null,
            "order": null,
            "_view_module_version": "1.2.0",
            "grid_template_areas": null,
            "object_position": null,
            "object_fit": null,
            "grid_auto_columns": null,
            "margin": null,
            "display": null,
            "left": null
          }
        },
        "5ae184aa1a6440e6aae69d10c54e9d5b": {
          "model_module": "@jupyter-widgets/controls",
          "model_name": "ProgressStyleModel",
          "model_module_version": "1.5.0",
          "state": {
            "_view_name": "StyleView",
            "_model_name": "ProgressStyleModel",
            "description_width": "",
            "_view_module": "@jupyter-widgets/base",
            "_model_module_version": "1.5.0",
            "_view_count": null,
            "_view_module_version": "1.2.0",
            "bar_color": null,
            "_model_module": "@jupyter-widgets/controls"
          }
        },
        "faf5a291fe0c4004831321ccf378baaf": {
          "model_module": "@jupyter-widgets/base",
          "model_name": "LayoutModel",
          "model_module_version": "1.2.0",
          "state": {
            "_view_name": "LayoutView",
            "grid_template_rows": null,
            "right": null,
            "justify_content": null,
            "_view_module": "@jupyter-widgets/base",
            "overflow": null,
            "_model_module_version": "1.2.0",
            "_view_count": null,
            "flex_flow": null,
            "width": null,
            "min_width": null,
            "border": null,
            "align_items": null,
            "bottom": null,
            "_model_module": "@jupyter-widgets/base",
            "top": null,
            "grid_column": null,
            "overflow_y": null,
            "overflow_x": null,
            "grid_auto_flow": null,
            "grid_area": null,
            "grid_template_columns": null,
            "flex": null,
            "_model_name": "LayoutModel",
            "justify_items": null,
            "grid_row": null,
            "max_height": null,
            "align_content": null,
            "visibility": null,
            "align_self": null,
            "height": null,
            "min_height": null,
            "padding": null,
            "grid_auto_rows": null,
            "grid_gap": null,
            "max_width": null,
            "order": null,
            "_view_module_version": "1.2.0",
            "grid_template_areas": null,
            "object_position": null,
            "object_fit": null,
            "grid_auto_columns": null,
            "margin": null,
            "display": null,
            "left": null
          }
        },
        "ac519176679d4c9cb65ba033195aa403": {
          "model_module": "@jupyter-widgets/controls",
          "model_name": "VBoxModel",
          "model_module_version": "1.5.0",
          "state": {
            "_view_name": "VBoxView",
            "_dom_classes": [],
            "_model_name": "VBoxModel",
            "_view_module": "@jupyter-widgets/controls",
            "_model_module_version": "1.5.0",
            "_view_count": null,
            "_view_module_version": "1.5.0",
            "box_style": "",
            "layout": "IPY_MODEL_41c256697fb3466ea243e5b9fafbf701",
            "_model_module": "@jupyter-widgets/controls",
            "children": [
              "IPY_MODEL_5b62be1276174978adc3054abe36f054",
              "IPY_MODEL_bbed1f1920424f2791fd9f065ae49f56"
            ]
          }
        },
        "41c256697fb3466ea243e5b9fafbf701": {
          "model_module": "@jupyter-widgets/base",
          "model_name": "LayoutModel",
          "model_module_version": "1.2.0",
          "state": {
            "_view_name": "LayoutView",
            "grid_template_rows": null,
            "right": null,
            "justify_content": null,
            "_view_module": "@jupyter-widgets/base",
            "overflow": null,
            "_model_module_version": "1.2.0",
            "_view_count": null,
            "flex_flow": null,
            "width": null,
            "min_width": null,
            "border": null,
            "align_items": null,
            "bottom": null,
            "_model_module": "@jupyter-widgets/base",
            "top": null,
            "grid_column": null,
            "overflow_y": null,
            "overflow_x": null,
            "grid_auto_flow": null,
            "grid_area": null,
            "grid_template_columns": null,
            "flex": null,
            "_model_name": "LayoutModel",
            "justify_items": null,
            "grid_row": null,
            "max_height": null,
            "align_content": null,
            "visibility": null,
            "align_self": null,
            "height": null,
            "min_height": null,
            "padding": null,
            "grid_auto_rows": null,
            "grid_gap": null,
            "max_width": null,
            "order": null,
            "_view_module_version": "1.2.0",
            "grid_template_areas": null,
            "object_position": null,
            "object_fit": null,
            "grid_auto_columns": null,
            "margin": null,
            "display": null,
            "left": null
          }
        },
        "5b62be1276174978adc3054abe36f054": {
          "model_module": "@jupyter-widgets/controls",
          "model_name": "LabelModel",
          "model_module_version": "1.5.0",
          "state": {
            "_view_name": "LabelView",
            "style": "IPY_MODEL_79c68d631371430fb280d46a6f13564f",
            "_dom_classes": [],
            "description": "",
            "_model_name": "LabelModel",
            "placeholder": "​",
            "_view_module": "@jupyter-widgets/controls",
            "_model_module_version": "1.5.0",
            "value": " 0.01MB of 0.01MB uploaded (0.00MB deduped)\r",
            "_view_count": null,
            "_view_module_version": "1.5.0",
            "description_tooltip": null,
            "_model_module": "@jupyter-widgets/controls",
            "layout": "IPY_MODEL_8336d0c14d7e49be9ded272e09d65940"
          }
        },
        "bbed1f1920424f2791fd9f065ae49f56": {
          "model_module": "@jupyter-widgets/controls",
          "model_name": "FloatProgressModel",
          "model_module_version": "1.5.0",
          "state": {
            "_view_name": "ProgressView",
            "style": "IPY_MODEL_522f30b97b804767b3dc803185e81c46",
            "_dom_classes": [],
            "description": "",
            "_model_name": "FloatProgressModel",
            "bar_style": "",
            "max": 1,
            "_view_module": "@jupyter-widgets/controls",
            "_model_module_version": "1.5.0",
            "value": 1,
            "_view_count": null,
            "_view_module_version": "1.5.0",
            "orientation": "horizontal",
            "min": 0,
            "description_tooltip": null,
            "_model_module": "@jupyter-widgets/controls",
            "layout": "IPY_MODEL_3e50ddc3e7064000a0c9fb6b9607b354"
          }
        },
        "79c68d631371430fb280d46a6f13564f": {
          "model_module": "@jupyter-widgets/controls",
          "model_name": "DescriptionStyleModel",
          "model_module_version": "1.5.0",
          "state": {
            "_view_name": "StyleView",
            "_model_name": "DescriptionStyleModel",
            "description_width": "",
            "_view_module": "@jupyter-widgets/base",
            "_model_module_version": "1.5.0",
            "_view_count": null,
            "_view_module_version": "1.2.0",
            "_model_module": "@jupyter-widgets/controls"
          }
        },
        "8336d0c14d7e49be9ded272e09d65940": {
          "model_module": "@jupyter-widgets/base",
          "model_name": "LayoutModel",
          "model_module_version": "1.2.0",
          "state": {
            "_view_name": "LayoutView",
            "grid_template_rows": null,
            "right": null,
            "justify_content": null,
            "_view_module": "@jupyter-widgets/base",
            "overflow": null,
            "_model_module_version": "1.2.0",
            "_view_count": null,
            "flex_flow": null,
            "width": null,
            "min_width": null,
            "border": null,
            "align_items": null,
            "bottom": null,
            "_model_module": "@jupyter-widgets/base",
            "top": null,
            "grid_column": null,
            "overflow_y": null,
            "overflow_x": null,
            "grid_auto_flow": null,
            "grid_area": null,
            "grid_template_columns": null,
            "flex": null,
            "_model_name": "LayoutModel",
            "justify_items": null,
            "grid_row": null,
            "max_height": null,
            "align_content": null,
            "visibility": null,
            "align_self": null,
            "height": null,
            "min_height": null,
            "padding": null,
            "grid_auto_rows": null,
            "grid_gap": null,
            "max_width": null,
            "order": null,
            "_view_module_version": "1.2.0",
            "grid_template_areas": null,
            "object_position": null,
            "object_fit": null,
            "grid_auto_columns": null,
            "margin": null,
            "display": null,
            "left": null
          }
        },
        "522f30b97b804767b3dc803185e81c46": {
          "model_module": "@jupyter-widgets/controls",
          "model_name": "ProgressStyleModel",
          "model_module_version": "1.5.0",
          "state": {
            "_view_name": "StyleView",
            "_model_name": "ProgressStyleModel",
            "description_width": "",
            "_view_module": "@jupyter-widgets/base",
            "_model_module_version": "1.5.0",
            "_view_count": null,
            "_view_module_version": "1.2.0",
            "bar_color": null,
            "_model_module": "@jupyter-widgets/controls"
          }
        },
        "3e50ddc3e7064000a0c9fb6b9607b354": {
          "model_module": "@jupyter-widgets/base",
          "model_name": "LayoutModel",
          "model_module_version": "1.2.0",
          "state": {
            "_view_name": "LayoutView",
            "grid_template_rows": null,
            "right": null,
            "justify_content": null,
            "_view_module": "@jupyter-widgets/base",
            "overflow": null,
            "_model_module_version": "1.2.0",
            "_view_count": null,
            "flex_flow": null,
            "width": null,
            "min_width": null,
            "border": null,
            "align_items": null,
            "bottom": null,
            "_model_module": "@jupyter-widgets/base",
            "top": null,
            "grid_column": null,
            "overflow_y": null,
            "overflow_x": null,
            "grid_auto_flow": null,
            "grid_area": null,
            "grid_template_columns": null,
            "flex": null,
            "_model_name": "LayoutModel",
            "justify_items": null,
            "grid_row": null,
            "max_height": null,
            "align_content": null,
            "visibility": null,
            "align_self": null,
            "height": null,
            "min_height": null,
            "padding": null,
            "grid_auto_rows": null,
            "grid_gap": null,
            "max_width": null,
            "order": null,
            "_view_module_version": "1.2.0",
            "grid_template_areas": null,
            "object_position": null,
            "object_fit": null,
            "grid_auto_columns": null,
            "margin": null,
            "display": null,
            "left": null
          }
        },
        "3e591fca1045452bbb4c5b146cd0854a": {
          "model_module": "@jupyter-widgets/controls",
          "model_name": "VBoxModel",
          "model_module_version": "1.5.0",
          "state": {
            "_view_name": "VBoxView",
            "_dom_classes": [],
            "_model_name": "VBoxModel",
            "_view_module": "@jupyter-widgets/controls",
            "_model_module_version": "1.5.0",
            "_view_count": null,
            "_view_module_version": "1.5.0",
            "box_style": "",
            "layout": "IPY_MODEL_06e5abe60f044abeab294d7e7aa8aa95",
            "_model_module": "@jupyter-widgets/controls",
            "children": [
              "IPY_MODEL_5e205a24b56f4c8aa0cc01afda7014c7",
              "IPY_MODEL_01bd66201c924bcb842581611c3f4617"
            ]
          }
        },
        "06e5abe60f044abeab294d7e7aa8aa95": {
          "model_module": "@jupyter-widgets/base",
          "model_name": "LayoutModel",
          "model_module_version": "1.2.0",
          "state": {
            "_view_name": "LayoutView",
            "grid_template_rows": null,
            "right": null,
            "justify_content": null,
            "_view_module": "@jupyter-widgets/base",
            "overflow": null,
            "_model_module_version": "1.2.0",
            "_view_count": null,
            "flex_flow": null,
            "width": null,
            "min_width": null,
            "border": null,
            "align_items": null,
            "bottom": null,
            "_model_module": "@jupyter-widgets/base",
            "top": null,
            "grid_column": null,
            "overflow_y": null,
            "overflow_x": null,
            "grid_auto_flow": null,
            "grid_area": null,
            "grid_template_columns": null,
            "flex": null,
            "_model_name": "LayoutModel",
            "justify_items": null,
            "grid_row": null,
            "max_height": null,
            "align_content": null,
            "visibility": null,
            "align_self": null,
            "height": null,
            "min_height": null,
            "padding": null,
            "grid_auto_rows": null,
            "grid_gap": null,
            "max_width": null,
            "order": null,
            "_view_module_version": "1.2.0",
            "grid_template_areas": null,
            "object_position": null,
            "object_fit": null,
            "grid_auto_columns": null,
            "margin": null,
            "display": null,
            "left": null
          }
        },
        "5e205a24b56f4c8aa0cc01afda7014c7": {
          "model_module": "@jupyter-widgets/controls",
          "model_name": "LabelModel",
          "model_module_version": "1.5.0",
          "state": {
            "_view_name": "LabelView",
            "style": "IPY_MODEL_2c2ad710e89a4a45b015d2fb4be34bcb",
            "_dom_classes": [],
            "description": "",
            "_model_name": "LabelModel",
            "placeholder": "​",
            "_view_module": "@jupyter-widgets/controls",
            "_model_module_version": "1.5.0",
            "value": " 0.01MB of 0.01MB uploaded (0.00MB deduped)\r",
            "_view_count": null,
            "_view_module_version": "1.5.0",
            "description_tooltip": null,
            "_model_module": "@jupyter-widgets/controls",
            "layout": "IPY_MODEL_ba6796d00e7747be89cdcaaa9cbaec99"
          }
        },
        "01bd66201c924bcb842581611c3f4617": {
          "model_module": "@jupyter-widgets/controls",
          "model_name": "FloatProgressModel",
          "model_module_version": "1.5.0",
          "state": {
            "_view_name": "ProgressView",
            "style": "IPY_MODEL_93e6608342a84f2eb984166b3a7daf43",
            "_dom_classes": [],
            "description": "",
            "_model_name": "FloatProgressModel",
            "bar_style": "",
            "max": 1,
            "_view_module": "@jupyter-widgets/controls",
            "_model_module_version": "1.5.0",
            "value": 1,
            "_view_count": null,
            "_view_module_version": "1.5.0",
            "orientation": "horizontal",
            "min": 0,
            "description_tooltip": null,
            "_model_module": "@jupyter-widgets/controls",
            "layout": "IPY_MODEL_55e15e866ea04a9cba83ea470a085584"
          }
        },
        "2c2ad710e89a4a45b015d2fb4be34bcb": {
          "model_module": "@jupyter-widgets/controls",
          "model_name": "DescriptionStyleModel",
          "model_module_version": "1.5.0",
          "state": {
            "_view_name": "StyleView",
            "_model_name": "DescriptionStyleModel",
            "description_width": "",
            "_view_module": "@jupyter-widgets/base",
            "_model_module_version": "1.5.0",
            "_view_count": null,
            "_view_module_version": "1.2.0",
            "_model_module": "@jupyter-widgets/controls"
          }
        },
        "ba6796d00e7747be89cdcaaa9cbaec99": {
          "model_module": "@jupyter-widgets/base",
          "model_name": "LayoutModel",
          "model_module_version": "1.2.0",
          "state": {
            "_view_name": "LayoutView",
            "grid_template_rows": null,
            "right": null,
            "justify_content": null,
            "_view_module": "@jupyter-widgets/base",
            "overflow": null,
            "_model_module_version": "1.2.0",
            "_view_count": null,
            "flex_flow": null,
            "width": null,
            "min_width": null,
            "border": null,
            "align_items": null,
            "bottom": null,
            "_model_module": "@jupyter-widgets/base",
            "top": null,
            "grid_column": null,
            "overflow_y": null,
            "overflow_x": null,
            "grid_auto_flow": null,
            "grid_area": null,
            "grid_template_columns": null,
            "flex": null,
            "_model_name": "LayoutModel",
            "justify_items": null,
            "grid_row": null,
            "max_height": null,
            "align_content": null,
            "visibility": null,
            "align_self": null,
            "height": null,
            "min_height": null,
            "padding": null,
            "grid_auto_rows": null,
            "grid_gap": null,
            "max_width": null,
            "order": null,
            "_view_module_version": "1.2.0",
            "grid_template_areas": null,
            "object_position": null,
            "object_fit": null,
            "grid_auto_columns": null,
            "margin": null,
            "display": null,
            "left": null
          }
        },
        "93e6608342a84f2eb984166b3a7daf43": {
          "model_module": "@jupyter-widgets/controls",
          "model_name": "ProgressStyleModel",
          "model_module_version": "1.5.0",
          "state": {
            "_view_name": "StyleView",
            "_model_name": "ProgressStyleModel",
            "description_width": "",
            "_view_module": "@jupyter-widgets/base",
            "_model_module_version": "1.5.0",
            "_view_count": null,
            "_view_module_version": "1.2.0",
            "bar_color": null,
            "_model_module": "@jupyter-widgets/controls"
          }
        },
        "55e15e866ea04a9cba83ea470a085584": {
          "model_module": "@jupyter-widgets/base",
          "model_name": "LayoutModel",
          "model_module_version": "1.2.0",
          "state": {
            "_view_name": "LayoutView",
            "grid_template_rows": null,
            "right": null,
            "justify_content": null,
            "_view_module": "@jupyter-widgets/base",
            "overflow": null,
            "_model_module_version": "1.2.0",
            "_view_count": null,
            "flex_flow": null,
            "width": null,
            "min_width": null,
            "border": null,
            "align_items": null,
            "bottom": null,
            "_model_module": "@jupyter-widgets/base",
            "top": null,
            "grid_column": null,
            "overflow_y": null,
            "overflow_x": null,
            "grid_auto_flow": null,
            "grid_area": null,
            "grid_template_columns": null,
            "flex": null,
            "_model_name": "LayoutModel",
            "justify_items": null,
            "grid_row": null,
            "max_height": null,
            "align_content": null,
            "visibility": null,
            "align_self": null,
            "height": null,
            "min_height": null,
            "padding": null,
            "grid_auto_rows": null,
            "grid_gap": null,
            "max_width": null,
            "order": null,
            "_view_module_version": "1.2.0",
            "grid_template_areas": null,
            "object_position": null,
            "object_fit": null,
            "grid_auto_columns": null,
            "margin": null,
            "display": null,
            "left": null
          }
        }
      }
    }
  },
  "nbformat": 4,
  "nbformat_minor": 0
}