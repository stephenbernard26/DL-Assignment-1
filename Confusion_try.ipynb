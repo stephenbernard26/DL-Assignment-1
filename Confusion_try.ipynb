{
  "cells": [
    {
      "cell_type": "markdown",
      "metadata": {
        "id": "view-in-github",
        "colab_type": "text"
      },
      "source": [
        "<a href=\"https://colab.research.google.com/github/anandhc6/Assignment1/blob/main/Confusion_try.ipynb\" target=\"_parent\"><img src=\"https://colab.research.google.com/assets/colab-badge.svg\" alt=\"Open In Colab\"/></a>"
      ]
    },
    {
      "cell_type": "code",
      "execution_count": null,
      "metadata": {
        "colab": {
          "base_uri": "https://localhost:8080/"
        },
        "id": "P_iRYe-nB_As",
        "outputId": "538ba971-ffb5-423b-f104-a54731d6c8c4"
      },
      "outputs": [
        {
          "output_type": "stream",
          "name": "stdout",
          "text": [
            "Collecting wandb\n",
            "  Downloading wandb-0.12.10-py2.py3-none-any.whl (1.7 MB)\n",
            "\u001b[K     |████████████████████████████████| 1.7 MB 4.1 MB/s \n",
            "\u001b[?25hCollecting docker-pycreds>=0.4.0\n",
            "  Downloading docker_pycreds-0.4.0-py2.py3-none-any.whl (9.0 kB)\n",
            "Requirement already satisfied: PyYAML in /usr/local/lib/python3.7/dist-packages (from wandb) (3.13)\n",
            "Requirement already satisfied: psutil>=5.0.0 in /usr/local/lib/python3.7/dist-packages (from wandb) (5.4.8)\n",
            "Requirement already satisfied: six>=1.13.0 in /usr/local/lib/python3.7/dist-packages (from wandb) (1.15.0)\n",
            "Requirement already satisfied: protobuf>=3.12.0 in /usr/local/lib/python3.7/dist-packages (from wandb) (3.17.3)\n",
            "Collecting pathtools\n",
            "  Downloading pathtools-0.1.2.tar.gz (11 kB)\n",
            "Requirement already satisfied: python-dateutil>=2.6.1 in /usr/local/lib/python3.7/dist-packages (from wandb) (2.8.2)\n",
            "Collecting GitPython>=1.0.0\n",
            "  Downloading GitPython-3.1.27-py3-none-any.whl (181 kB)\n",
            "\u001b[K     |████████████████████████████████| 181 kB 66.0 MB/s \n",
            "\u001b[?25hRequirement already satisfied: promise<3,>=2.0 in /usr/local/lib/python3.7/dist-packages (from wandb) (2.3)\n",
            "Requirement already satisfied: requests<3,>=2.0.0 in /usr/local/lib/python3.7/dist-packages (from wandb) (2.23.0)\n",
            "Collecting sentry-sdk>=1.0.0\n",
            "  Downloading sentry_sdk-1.5.6-py2.py3-none-any.whl (144 kB)\n",
            "\u001b[K     |████████████████████████████████| 144 kB 80.6 MB/s \n",
            "\u001b[?25hCollecting shortuuid>=0.5.0\n",
            "  Downloading shortuuid-1.0.8-py3-none-any.whl (9.5 kB)\n",
            "Collecting yaspin>=1.0.0\n",
            "  Downloading yaspin-2.1.0-py3-none-any.whl (18 kB)\n",
            "Requirement already satisfied: Click!=8.0.0,>=7.0 in /usr/local/lib/python3.7/dist-packages (from wandb) (7.1.2)\n",
            "Requirement already satisfied: typing-extensions>=3.7.4.3 in /usr/local/lib/python3.7/dist-packages (from GitPython>=1.0.0->wandb) (3.10.0.2)\n",
            "Collecting gitdb<5,>=4.0.1\n",
            "  Downloading gitdb-4.0.9-py3-none-any.whl (63 kB)\n",
            "\u001b[K     |████████████████████████████████| 63 kB 1.5 MB/s \n",
            "\u001b[?25hCollecting smmap<6,>=3.0.1\n",
            "  Downloading smmap-5.0.0-py3-none-any.whl (24 kB)\n",
            "Requirement already satisfied: idna<3,>=2.5 in /usr/local/lib/python3.7/dist-packages (from requests<3,>=2.0.0->wandb) (2.10)\n",
            "Requirement already satisfied: certifi>=2017.4.17 in /usr/local/lib/python3.7/dist-packages (from requests<3,>=2.0.0->wandb) (2021.10.8)\n",
            "Requirement already satisfied: chardet<4,>=3.0.2 in /usr/local/lib/python3.7/dist-packages (from requests<3,>=2.0.0->wandb) (3.0.4)\n",
            "Requirement already satisfied: urllib3!=1.25.0,!=1.25.1,<1.26,>=1.21.1 in /usr/local/lib/python3.7/dist-packages (from requests<3,>=2.0.0->wandb) (1.24.3)\n",
            "Requirement already satisfied: termcolor<2.0.0,>=1.1.0 in /usr/local/lib/python3.7/dist-packages (from yaspin>=1.0.0->wandb) (1.1.0)\n",
            "Building wheels for collected packages: pathtools\n",
            "  Building wheel for pathtools (setup.py) ... \u001b[?25l\u001b[?25hdone\n",
            "  Created wheel for pathtools: filename=pathtools-0.1.2-py3-none-any.whl size=8806 sha256=2e275960d1eef0a7e9b2659eeb09ebd77c6f2bd99785c02145b7df687ca1e616\n",
            "  Stored in directory: /root/.cache/pip/wheels/3e/31/09/fa59cef12cdcfecc627b3d24273699f390e71828921b2cbba2\n",
            "Successfully built pathtools\n",
            "Installing collected packages: smmap, gitdb, yaspin, shortuuid, sentry-sdk, pathtools, GitPython, docker-pycreds, wandb\n",
            "Successfully installed GitPython-3.1.27 docker-pycreds-0.4.0 gitdb-4.0.9 pathtools-0.1.2 sentry-sdk-1.5.6 shortuuid-1.0.8 smmap-5.0.0 wandb-0.12.10 yaspin-2.1.0\n"
          ]
        }
      ],
      "source": [
        "!pip install wandb"
      ]
    },
    {
      "cell_type": "code",
      "execution_count": null,
      "metadata": {
        "colab": {
          "base_uri": "https://localhost:8080/",
          "height": 68
        },
        "id": "CknAiLRpXVFM",
        "outputId": "814657dd-1750-4512-ef87-825bdb874b7e"
      },
      "outputs": [
        {
          "output_type": "display_data",
          "data": {
            "application/javascript": [
              "\n",
              "        window._wandbApiKey = new Promise((resolve, reject) => {\n",
              "            function loadScript(url) {\n",
              "            return new Promise(function(resolve, reject) {\n",
              "                let newScript = document.createElement(\"script\");\n",
              "                newScript.onerror = reject;\n",
              "                newScript.onload = resolve;\n",
              "                document.body.appendChild(newScript);\n",
              "                newScript.src = url;\n",
              "            });\n",
              "            }\n",
              "            loadScript(\"https://cdn.jsdelivr.net/npm/postmate/build/postmate.min.js\").then(() => {\n",
              "            const iframe = document.createElement('iframe')\n",
              "            iframe.style.cssText = \"width:0;height:0;border:none\"\n",
              "            document.body.appendChild(iframe)\n",
              "            const handshake = new Postmate({\n",
              "                container: iframe,\n",
              "                url: 'https://wandb.ai/authorize'\n",
              "            });\n",
              "            const timeout = setTimeout(() => reject(\"Couldn't auto authenticate\"), 5000)\n",
              "            handshake.then(function(child) {\n",
              "                child.on('authorize', data => {\n",
              "                    clearTimeout(timeout)\n",
              "                    resolve(data)\n",
              "                });\n",
              "            });\n",
              "            })\n",
              "        });\n",
              "    "
            ],
            "text/plain": [
              "<IPython.core.display.Javascript object>"
            ]
          },
          "metadata": {}
        },
        {
          "output_type": "stream",
          "name": "stderr",
          "text": [
            "\u001b[34m\u001b[1mwandb\u001b[0m: Appending key for api.wandb.ai to your netrc file: /root/.netrc\n"
          ]
        },
        {
          "output_type": "execute_result",
          "data": {
            "text/plain": [
              "True"
            ]
          },
          "metadata": {},
          "execution_count": 36
        }
      ],
      "source": [
        "import wandb\n",
        "wandb.login()\n",
        "#!wandb login --relogin\n",
        "#wandb.init(project='CS6910_Assignment1_Sweep',entity=\"anandh\", name = 'class-samples-1')"
      ]
    },
    {
      "cell_type": "code",
      "execution_count": null,
      "metadata": {
        "id": "ydEbntHG1h5d",
        "colab": {
          "base_uri": "https://localhost:8080/"
        },
        "outputId": "953cd447-dbb9-4468-a09c-6c88f27027a4"
      },
      "outputs": [
        {
          "output_type": "stream",
          "name": "stdout",
          "text": [
            "Downloading data from https://storage.googleapis.com/tensorflow/tf-keras-datasets/train-labels-idx1-ubyte.gz\n",
            "32768/29515 [=================================] - 0s 0us/step\n",
            "40960/29515 [=========================================] - 0s 0us/step\n",
            "Downloading data from https://storage.googleapis.com/tensorflow/tf-keras-datasets/train-images-idx3-ubyte.gz\n",
            "26427392/26421880 [==============================] - 0s 0us/step\n",
            "26435584/26421880 [==============================] - 0s 0us/step\n",
            "Downloading data from https://storage.googleapis.com/tensorflow/tf-keras-datasets/t10k-labels-idx1-ubyte.gz\n",
            "16384/5148 [===============================================================================================] - 0s 0us/step\n",
            "Downloading data from https://storage.googleapis.com/tensorflow/tf-keras-datasets/t10k-images-idx3-ubyte.gz\n",
            "4423680/4422102 [==============================] - 0s 0us/step\n",
            "4431872/4422102 [==============================] - 0s 0us/step\n"
          ]
        }
      ],
      "source": [
        "import numpy as np\n",
        "from numpy import random\n",
        "from keras.datasets import fashion_mnist\n",
        "#import the required libraries\n",
        "from matplotlib import pyplot\n",
        "import math as math\n",
        "from sklearn.metrics import accuracy_score\n",
        "from sklearn.model_selection import train_test_split\n",
        "\n",
        "\n",
        "(X, y), (X_test, y_test) = fashion_mnist.load_data()\n",
        "\n",
        "# Reshaping the data \n",
        "X = X.reshape(X.shape[0], 784)\n",
        "X_test = X_test.reshape(X_test.shape[0], 784)\n",
        "\n",
        "# Normalizing\n",
        "X = X/255.0\n",
        "X_test = X_test/255.0\n",
        "\n",
        "# Split the data X into a training set and validation set\n",
        "X_train, X_val, y_train, y_val = train_test_split(X, y, test_size=0.1, random_state=42)\n",
        "\n",
        "#Layer dimensions\n",
        "#la =[784,128,128,10]\n",
        "#la=[784, 256, 256, 256, 10]\n",
        "#la =[]\n",
        "#L= len(la)-1  \n",
        "#L=[]\n",
        "\n",
        "#weights and bias empty initializing\n",
        "np.random.seed(42)\n",
        "params={}"
      ]
    },
    {
      "cell_type": "code",
      "execution_count": null,
      "metadata": {
        "id": "WDodQndr2D4e"
      },
      "outputs": [],
      "source": [
        "def weight_initialize(weight_para,la):\n",
        "    global params\n",
        "    params ={}\n",
        "    if weight_para == 'Xavier':\n",
        "        for i in range(0,len(la)-1):\n",
        "            params[\"W\"+str(i)]=np.random.randn(la[i+1],la[i])*np.sqrt(2/la[i+1])\n",
        "            params[\"b\"+str(i)] = np.zeros((la[i+1], 1))\n",
        "    if weight_para == 'random':\n",
        "        for i in range(0,len(la)-1):\n",
        "            params[\"W\"+str(i)] = np.random.randn(la[i+1], la[i]) * 0.01\n",
        "            params[\"b\"+str(i)] = np.zeros((la[i+1], 1))"
      ]
    },
    {
      "cell_type": "code",
      "execution_count": null,
      "metadata": {
        "id": "rmUh2zQw2WV3"
      },
      "outputs": [],
      "source": [
        "#Activation function     \n",
        "def sigmoid(x):\n",
        "     return 1. /(1. + np.exp(-x))\n",
        "\n",
        "def activation_function(x,activation):\n",
        "    if activation=='sigmoid':\n",
        "        return (1.0 / (1.0 + np.exp(-x)))\n",
        "    elif activation=='sigmoid_derivative':\n",
        "        return (activation_function(x,'sigmoid') * (1 - activation_function(x,'sigmoid')))\n",
        "    elif activation=='relu':\n",
        "        return x * (x > 0)\n",
        "    elif activation=='relu_derivative':\n",
        "        x[x <= 0.0] = 0.0\n",
        "        x[x > 0.0] = 1.0\n",
        "        return x\n",
        "    elif activation=='tanh':\n",
        "        return np.tanh(x)\n",
        "    elif activation=='tanh_derivative':\n",
        "        return 1 - (activation_function(x,'tanh') ** 2)\n",
        "    else:\n",
        "        raise Exception(\"Invalid activation function\",activation)\n",
        "def softmax(x):\n",
        "    soft = np.zeros(x.shape)\n",
        "    for i in range(0, x.shape[1]):\n",
        "        numr = np.exp(x[:, i])\n",
        "        soft[:, i] = numr/np.sum(numr)\n",
        "    return soft\n"
      ]
    },
    {
      "cell_type": "code",
      "execution_count": null,
      "metadata": {
        "id": "6HqvllD72iO5"
      },
      "outputs": [],
      "source": [
        "def feedforward(X, params,activation_para):\n",
        "\n",
        "    L = len(params)//2  \n",
        "    A = [None]*L # activations\n",
        "    H = [None]*L # pre-activations\n",
        "     \n",
        "    k=0\n",
        "    A[0]=np.dot(params[\"W\"+str(k)],X)+params[\"b\"+str(k)]\n",
        "    H[0]=activation_function(A[k],activation_para)\n",
        "   \n",
        "    for k in range(1,L-1):\n",
        "            A[k]=np.dot(params[\"W\"+str(k)],H[k-1])+params[\"b\"+str(k)]\n",
        "            H[k]=activation_function(A[k],activation_para)\n",
        "   \n",
        "    k=L-1\n",
        "    A[k]=np.dot(params[\"W\"+str(k)],H[k-1])+params[\"b\"+str(k)]\n",
        "    H[k]=softmax(A[k])\n",
        "   \n",
        "    y=H[-1]\n",
        "    return A,H,y\n",
        "\n"
      ]
    },
    {
      "cell_type": "code",
      "execution_count": null,
      "metadata": {
        "id": "bhShj3k52vvX"
      },
      "outputs": [],
      "source": [
        "\n",
        "def back_propagation(X_train,y_train,params,A ,H,activation_para,loss):\n",
        "    #Initialzing gradients\n",
        "    L = len(params)//2\n",
        "    #A = [None]*L # activations\n",
        "    #H = [None]*L\n",
        "    g_weights = [0]*L\n",
        "    g_biases  = [0]*L\n",
        "    g_a       = [0]*(L+1)\n",
        "    g_h       = [0]*(L+1)\n",
        "    n_samples = X_train.shape[0]  # Change depending on the dimensions of data\n",
        "   \n",
        "    # print(str(activation_para)+'_derivative')\n",
        "\n",
        "    for k in range(L-1,-1,-1): #2,1,0\n",
        "       \n",
        "        if k == L-1:\n",
        "            if loss == 'cross_entropy':\n",
        "                g_a[k] = H[k]  - y_train  # keep or remove T depending on the dimensions of data\n",
        "            elif loss == 'square_loss':\n",
        "                g_a[k] = (H[k] - y_train) * H[k] * (1 - H[k])\n",
        "           \n",
        "       \n",
        "        else:\n",
        "            g_h[k] = (1/n_samples)*np.dot(params[\"W\"+str(k+1)].T,g_a[k+1])\n",
        "            if activation_para == 'sigmoid':\n",
        "                g_a[k] = (1/n_samples)*np.multiply(g_h[k],activation_function(A[k], str(activation_para)+'_derivative'))\n",
        "            elif activation_para == 'tanh':\n",
        "                g_a[k] = (1/n_samples)*np.multiply(g_h[k],activation_function(A[k], str(activation_para)+'_derivative'))\n",
        "            elif  activation_para == 'relu':\n",
        "                g_a[k] = (1/n_samples)*np.multiply(g_h[k],activation_function(A[k], str(activation_para)+'_derivative'))\n",
        "\n",
        "\n",
        "        if k == 0:\n",
        "            g_weights[k] = (1/n_samples)*np.dot(g_a[k],X_train.T)\n",
        "        else:\n",
        "            g_weights[k] = (1/n_samples)*np.dot(g_a[k],H[k-1].T)\n",
        "\n",
        "        g_biases[k]  = (1/n_samples)*np.sum(g_a[k], axis=1, keepdims = True)\n",
        "    return g_weights,g_biases"
      ]
    },
    {
      "cell_type": "code",
      "execution_count": null,
      "metadata": {
        "id": "gYk3ztdRZ6S4"
      },
      "outputs": [],
      "source": [
        "def accuracy(x, y,params,activation_para):\n",
        "    _,_,yhate=feedforward(x, params,activation_para)\n",
        "    yh=np.argmax(yhate,axis=0)\n",
        "    accuracy = accuracy_score(y, yh)*100\n",
        "    return accuracy\n",
        "    #print(accuracy)"
      ]
    },
    {
      "cell_type": "code",
      "execution_count": null,
      "metadata": {
        "id": "TC402vuG3OMF"
      },
      "outputs": [],
      "source": [
        "def loss_accuracy(x,params,y,t,loss,activation_para, n_class=10):\n",
        "    _,_,yhate=feedforward(x, params,activation_para)\n",
        "    #print(x.shape)\n",
        "    #print(y.shape)\n",
        "    # ls=[]\n",
        "    # accuracy=[]\n",
        "    if loss == 'cross_entropy':\n",
        "        one_hot = np.zeros((n_class, x.shape[1]))\n",
        "        one_hot[y, np.array(list(range(x.shape[1])))] = 1\n",
        "        ls= -np.sum(one_hot *np.log(yhate))/x.shape[1]\n",
        "                  \n",
        "    if loss == 'squared_loss':\n",
        "        eIndicator = np.zeros((n_class, x.shape[1]))\n",
        "        eIndicator[y, np.arange(x.shape[1])] = 1\n",
        "        ls =np.sum((yhate - eIndicator)**2) / x.shape[1]\n",
        "    \n",
        "    yh=np.argmax(yhate,axis=0)\n",
        "    accuracy = accuracy_score(y, yh)*100 \n",
        "     \n",
        "    # for p in range(len(ls)):\n",
        "    #print(\"Accuracy of  = \" + str(accuracy) +\"  loss of \" +str(t) +\" = \" + str(ls) )\n",
        "    #print(\"Accuracy of \" +str(t) +\" = \" + str(accuracy) )\n",
        "    return accuracy,ls"
      ]
    },
    {
      "cell_type": "code",
      "execution_count": null,
      "metadata": {
        "id": "Ug828GJw3Z7U"
      },
      "outputs": [],
      "source": [
        "def vanillagd(x_train,y_train,x_val,y_val,eta,epochs,minibatch,batch,loss,weight_decay,activation_para,la,L):\n",
        "    t=0\n",
        "    A=[]\n",
        "    H=[]\n",
        "    train_acc=[]\n",
        "    train_loss=[]\n",
        "    val_acc=[]\n",
        "    val_loss=[]\n",
        "    while t<epochs:\n",
        "        for i in range(0,minibatch,1):\n",
        "                    X_mini=x_train[(i*batch):((i+1)*batch)]\n",
        "                    y_mini=y_train[(i*batch):((i+1)*batch)]\n",
        "                    batch1 = X_mini.shape[0]\n",
        "       \n",
        "                    y_mini_one_hot = np.zeros((10, batch1))\n",
        "                    y_mini_one_hot[y_mini, np.array(list(range(batch1)))] = 1\n",
        "                    A,H,y_hat= feedforward(X_mini.T,params,activation_para)\n",
        "                    g_weights,g_biases = back_propagation(X_mini.T,y_mini_one_hot,params,A ,H,activation_para,loss)\n",
        "                    for j in range(0,L):\n",
        "                      g_weights[j]=g_weights[j]+weight_decay*params['W'+str(j)]\n",
        "                      params['W'+str(j)]-=eta*g_weights[j]\n",
        "                      params['b'+str(j)]-=eta*g_biases[j]\n",
        "                   \n",
        "        t+=1\n",
        "        train_a,train_l = loss_accuracy(x_train.T, params, y_train, t, loss,activation_para)\n",
        "        train_acc.append(train_a)\n",
        "        train_loss.append(train_l)\n",
        "        val_a,val_l = loss_accuracy(x_val.T, params, y_val, t, loss,activation_para)  \n",
        "        val_acc.append(val_a)\n",
        "        val_loss.append(val_l)\n",
        "     \n",
        "    return train_acc,train_loss,val_acc,val_loss\n",
        "       "
      ]
    },
    {
      "cell_type": "code",
      "execution_count": null,
      "metadata": {
        "id": "CTdAMmye3fzt"
      },
      "outputs": [],
      "source": [
        "# MOMENTUM_GD optimizer \n",
        "        \n",
        "def momentumGD(x_train,y_train,x_val,y_val,eta,epochs,minibatch,batch,loss,weight_decay,activation_para,la,L):\n",
        "    preW = {}\n",
        "    preb = {}\n",
        "    gamma = 0.9\n",
        "    train_acc=[]\n",
        "    train_loss=[]\n",
        "    val_acc=[]\n",
        "    val_loss=[]\n",
        "    for k in range(0,L):\n",
        "        preW['W'+str(k)]=np.zeros((la[k+1],la[k]))\n",
        "        preb['b'+str(k)]=np.zeros((la[k+1],1))\n",
        "    t=0\n",
        "    while t<epochs:\n",
        "        for i in range(0,minibatch,1):\n",
        "            X_mini=x_train[(i*batch):((i+1)*batch)]\n",
        "            y_mini=y_train[(i*batch):((i+1)*batch)]\n",
        "            batch1 = X_mini.shape[0]\n",
        "            y_mini_one_hot = np.zeros((10, batch1))\n",
        "            y_mini_one_hot[y_mini, np.array(list(range(batch1)))] = 1\n",
        "            A,H,y_hat=feedforward(X_mini.T,params,activation_para)\n",
        "            g_weights,g_biases = back_propagation(X_mini.T,y_mini_one_hot,params,A ,H,activation_para,loss)\n",
        "            for j in range(0,L):\n",
        "                #g_weights[j]=g_weights[j]+weight_decay*params['W'+str(j)]\n",
        "                w=(gamma*preW['W'+str(j)])+eta*g_weights[j]\n",
        "                b=(gamma*preb['b'+str(j)])+eta*g_biases[j]\n",
        "                params['W'+str(j)]-=w-np.multiply(eta*weight_decay,params['W'+str(j)])\n",
        "                params['b'+str(j)]-=b-np.multiply(eta*weight_decay,params['b'+str(j)])\n",
        "                preW['W'+str(j)]=w\n",
        "                preb['b'+str(j)]=b\n",
        "        t+=1\n",
        "        \n",
        "        #Loss & accuracy\n",
        "        train_a,train_l = loss_accuracy(x_train.T, params, y_train, t, loss,activation_para)\n",
        "        train_acc.append(train_a)\n",
        "        train_loss.append(train_l)\n",
        "        val_a,val_l = loss_accuracy(x_val.T, params, y_val, t, loss,activation_para)  \n",
        "        val_acc.append(val_a)\n",
        "        val_loss.append(val_l)\n",
        "    return train_acc,train_loss,val_acc,val_loss\n"
      ]
    },
    {
      "cell_type": "code",
      "execution_count": null,
      "metadata": {
        "id": "Z6JO96vW3mMl"
      },
      "outputs": [],
      "source": [
        "#NAG optimizer  \n",
        "       \n",
        "def nag(x_train,y_train,x_val,y_val,eta,epochs,minibatch,batch,loss,weight_decay,activation_para,la,L):\n",
        "    t=0\n",
        "    # batch=600\n",
        "    gamma = 0.9\n",
        "    preW={}\n",
        "    preb={}\n",
        "    train_acc=[]\n",
        "    train_loss=[]\n",
        "    val_acc=[]\n",
        "    val_loss=[]\n",
        "    for k in range(0,L):\n",
        "        preW['W'+str(k)]=np.zeros((la[k+1],la[k]))\n",
        "        preb['b'+str(k)]=np.zeros((la[k+1],1))\n",
        "        # print(preW['W'+str(k)].shape)\n",
        "    while t<epochs:\n",
        "        for i in range(0,minibatch,1):\n",
        "            X_mini=x_train[(i*batch):((i+1)*batch)]\n",
        "            y_mini=y_train[(i*batch):((i+1)*batch)]\n",
        "            batch1 = X_mini.shape[0]\n",
        "            y_mini_one_hot = np.zeros((10, batch1))\n",
        "            y_mini_one_hot[y_mini, np.array(list(range(batch1)))] = 1\n",
        "            A,H,y_hat=feedforward(X_mini.T,params,activation_para)\n",
        "            g_weights,g_biases = back_propagation(X_mini.T,y_mini_one_hot,params,A ,H,activation_para,loss)\n",
        "            l_params={}\n",
        "            for j in range(0,L):\n",
        "                l_params['W'+str(j)]=params['W'+str(j)]-(gamma*preW['W'+str(j)])\n",
        "                l_params['b'+str(j)]=params['b'+str(j)]-(gamma*preb['b'+str(j)])\n",
        "            for j in range(0,L):\n",
        "                g_weights,g_biases = back_propagation(X_mini.T,y_mini_one_hot,l_params,A ,H,activation_para,loss)\n",
        "                #g_weights[j]=g_weights[j]+weight_decay*params['W'+str(j)]\n",
        "                w=(gamma*preW['W'+str(j)])+eta*g_weights[j]\n",
        "                b=(gamma*preb['b'+str(j)])+eta*g_biases[j]\n",
        "                params['W'+str(j)]-=w-np.multiply(eta*weight_decay,params['W'+str(j)])\n",
        "                params['b'+str(j)]-=b-np.multiply(eta*weight_decay,params['b'+str(j)])\n",
        "                preW['W'+str(j)]=w\n",
        "                preb['b'+str(j)]=b\n",
        "        t+=1\n",
        "       \n",
        "        #Loss & accuracy            \n",
        "        train_a,train_l = loss_accuracy(x_train.T, params, y_train, t, loss,activation_para)\n",
        "        train_acc.append(train_a)\n",
        "        train_loss.append(train_l)\n",
        "        val_a,val_l = loss_accuracy(x_val.T, params, y_val, t, loss,activation_para)  \n",
        "        val_acc.append(val_a)\n",
        "        val_loss.append(val_l)\n",
        "     \n",
        "    return train_acc,train_loss,val_acc,val_loss\n",
        "       "
      ]
    },
    {
      "cell_type": "code",
      "execution_count": null,
      "metadata": {
        "id": "LseaKDP_3t2F"
      },
      "outputs": [],
      "source": [
        "#RMSprop optimizer\n",
        "        \n",
        "def rms(x_train,y_train,x_val,y_val,eta,epochs,minibatch,batch,loss,weight_decay,activation_para,la,L):\n",
        "    t=0\n",
        "    gamma = 0.9\n",
        "    eps = 1e-8\n",
        "    beta = 0.9\n",
        "    preW={}\n",
        "    preb={}\n",
        "    train_acc=[]\n",
        "    train_loss=[]\n",
        "    val_acc=[]\n",
        "    val_loss=[]\n",
        "    for k in range(0,L):\n",
        "        preW['W'+str(k)]=np.zeros((la[k+1],la[k]))\n",
        "        preb['b'+str(k)]=np.zeros((la[k+1],1))\n",
        "    while t<epochs:\n",
        "        for i in range(0,minibatch,1):\n",
        "            X_mini=X_train[(i*batch):((i+1)*batch)]\n",
        "            y_mini=y_train[(i*batch):((i+1)*batch)]\n",
        "            batch1 = X_mini.shape[0]\n",
        "            y_mini_one_hot = np.zeros((10, batch1))\n",
        "            y_mini_one_hot[y_mini, np.array(list(range(batch1)))] = 1\n",
        "            A,H,y_hat=feedforward(X_mini.T,params,activation_para)\n",
        "            g_weights,g_biases=back_propagation(X_mini.T,y_mini_one_hot,params,A ,H,activation_para,loss)  \n",
        "            for j in range(0,L):\n",
        "                #g_weights[j]=g_weights[j]+weight_decay*params['W'+str(j)]\n",
        "                w=(beta*preW['W'+str(j)])+(1.0-beta)*(g_weights[j])**2\n",
        "                b=(beta*preb['b'+str(j)])+(1.0-beta)*(g_biases[j])**2\n",
        "                params['W'+str(j)]-=((eta/(np.sqrt(w+eps)))*g_weights[j])-np.multiply(eta*weight_decay,params['W'+str(j)])\n",
        "                params['b'+str(j)]-=((eta/(np.sqrt(b+eps)))*g_biases[j])-np.multiply(eta*weight_decay,params['b'+str(j)])\n",
        "                preW['W'+str(j)]=w\n",
        "                preb['b'+str(j)]=b\n",
        "        t+=1\n",
        "        \n",
        "        #Loss & accuracy\n",
        "        train_a,train_l = loss_accuracy(x_train.T, params, y_train, t, loss,activation_para)\n",
        "        train_acc.append(train_a)\n",
        "        train_loss.append(train_l)\n",
        "        val_a,val_l = loss_accuracy(x_val.T, params, y_val, t, loss,activation_para)  \n",
        "        val_acc.append(val_a)\n",
        "        val_loss.append(val_l)\n",
        "    \n",
        "    return train_acc,train_loss,val_acc,val_loss\n"
      ]
    },
    {
      "cell_type": "code",
      "execution_count": null,
      "metadata": {
        "id": "JFp8tPoM32BJ"
      },
      "outputs": [],
      "source": [
        "#STOCHASTIC optimizer\n",
        "       \n",
        "def sgd(x_train,y_train,x_val,y_val,eta,epochs,minibatch,batch,loss,weight_decay,activation_para,la,L):\n",
        "    t=0\n",
        "    train_acc=[]\n",
        "    train_loss=[]\n",
        "    val_acc=[]\n",
        "    val_loss=[]\n",
        "    while t<epochs:\n",
        "        indexes=np.random.permutation(len(x_train))\n",
        "        X_ran=x_train[indexes]\n",
        "        Y_ran=y_train[indexes]\n",
        "        for x,y in zip(X_ran,Y_ran):\n",
        "            X_mini=np.array([x])\n",
        "            y_mini=np.array([y])\n",
        "            batch1 = X_mini.shape[0]\n",
        "            y_mini_one_hot = np.zeros((10, batch1))\n",
        "            y_mini_one_hot[y_mini, np.array(list(range(batch1)))] = 1\n",
        "            A,H,y_hat=feedforward(X_mini.T,params,activation_para)\n",
        "            g_weights,g_biases=back_propagation(X_mini.T,y_mini_one_hot,params,A ,H,activation_para,loss)\n",
        "            for j in range(0,L):\n",
        "                #g_weights[j]=g_weights[j]+weight_decay*params['W'+str(j)]\n",
        "                params['W'+str(j)]-=eta*g_weights[j]#-np.multiply(eta*weight_decay,params['W'+str(j)])\n",
        "                params['b'+str(j)]-=eta*g_biases[j]#-np.multiply(eta*weight_decay,params['b'+str(j)])\n",
        "        t+=1\n",
        "       \n",
        "        #Loss & accuracy\n",
        "        train_a,train_l = loss_accuracy(x_train.T, params, y_train, t, loss,activation_para)\n",
        "        train_acc.append(train_a)\n",
        "        train_loss.append(train_l)\n",
        "        val_a,val_l = loss_accuracy(x_val.T, params, y_val, t, loss,activation_para)  \n",
        "        val_acc.append(val_a)\n",
        "        val_loss.append(val_l) \n",
        "    return train_acc,train_loss,val_acc,val_loss\n",
        "     "
      ]
    },
    {
      "cell_type": "code",
      "execution_count": null,
      "metadata": {
        "id": "s-XjjRyV38h1"
      },
      "outputs": [],
      "source": [
        "#ADAM optimizer\n",
        "        \n",
        "def adam(x_train,y_train,x_val,y_val,eta,epochs,minibatch,batch,loss,weight_decay,activation_para,la,L):\n",
        "    eps = 1e-8\n",
        "    beta1 = 0.9\n",
        "    beta2 = 0.999\n",
        "    t=0\n",
        "    preW={}\n",
        "    preb={}\n",
        "    mt={}\n",
        "    vt={}\n",
        "    it=0\n",
        "    train_acc=[]\n",
        "    train_loss=[]\n",
        "    val_acc=[]\n",
        "    val_loss=[]\n",
        "    for k in range(0,L):\n",
        "        preW['W'+str(k)]=np.zeros((la[k+1],la[k]))\n",
        "        preb['b'+str(k)]=np.zeros((la[k+1],1))\n",
        "    for k in range(0,L):\n",
        "        mt['W'+str(k)]=np.zeros((la[k+1],la[k]))\n",
        "        vt['b'+str(k)]=np.zeros((la[k+1],1))\n",
        "    while t<epochs:\n",
        "        for i in range(0,minibatch,1):\n",
        "            X_mini=x_train[(i*batch):((i+1)*batch)]\n",
        "            y_mini=y_train[(i*batch):((i+1)*batch)]\n",
        "            batch1 = X_mini.shape[0]\n",
        "            y_mini_one_hot = np.zeros((10, batch1))\n",
        "            y_mini_one_hot[y_mini, np.array(list(range(batch1)))] = 1\n",
        "            A,H,y_hat=feedforward(X_mini.T,params,activation_para)\n",
        "            g_weights,g_biases=back_propagation(X_mini.T,y_mini_one_hot,params,A ,H,activation_para,loss)\n",
        "            it+=1\n",
        "            for j in range(0,L):\n",
        "                #g_weights[j]=g_weights[j]+weight_decay*params['W'+str(j)]\n",
        "                mt['W'+str(j)]=beta1*mt['W'+str(j)]+(1-beta1)*g_weights[j]\n",
        "                vt['b'+str(j)]=beta1*vt['b'+str(j)]+(1-beta1)*g_biases[j]\n",
        "                preW['W'+str(j)]=beta2*preW['W'+str(j)]+(1-beta2)*(g_weights[j]**2)\n",
        "                preb['b'+str(j)]=beta2*preb['b'+str(j)]+(1-beta2)*(g_biases[j]**2)\n",
        "                mhatw=mt['W'+str(j)]/(1-(beta1)**it)\n",
        "                mhatb=vt['b'+str(j)]/(1-(beta1)**it)\n",
        "                vhatw=preW['W'+str(j)]/(1-(beta2)**it)\n",
        "                vhatb=preb['b'+str(j)]/(1-(beta2)**it)\n",
        "                params['W'+str(j)]-=((eta/(np.sqrt(vhatw+eps)))*mhatw)-np.multiply(eta*weight_decay,params['W'+str(j)])\n",
        "                params['b'+str(j)]-=((eta/(np.sqrt(vhatb+eps)))*mhatb)-np.multiply(eta*weight_decay,params['b'+str(j)])\n",
        "        t+=1\n",
        "        \n",
        "        #Loss & accuracy\n",
        "        train_a,train_l = loss_accuracy(x_train.T, params, y_train, t, loss,activation_para)\n",
        "        train_acc.append(train_a)\n",
        "        train_loss.append(train_l)\n",
        "        val_a,val_l = loss_accuracy(x_val.T, params, y_val, t, loss,activation_para)  \n",
        "        val_acc.append(val_a)\n",
        "        val_loss.append(val_l)\n",
        "     \n",
        "    return train_acc,train_loss,val_acc,val_loss\n"
      ]
    },
    {
      "cell_type": "code",
      "execution_count": null,
      "metadata": {
        "id": "3_PfaI654EIg"
      },
      "outputs": [],
      "source": [
        "#NADAM optimizer\n",
        "       \n",
        "def nadam(x_train,y_train,x_val,y_val,eta,epochs,minibatch,batch,loss,weight_decay,activation_para,la,L):\n",
        "\n",
        "    #print('inside optimizer nadam')\n",
        "    #print(la)\n",
        "    eps = 1e-8\n",
        "    beta1 = 0.9\n",
        "    beta2 = 0.999\n",
        "    t=0\n",
        "    minibatch=math.ceil(x_train.shape[0]/batch)\n",
        "    preW={}\n",
        "    preb={}\n",
        "    mt={}\n",
        "    vt={}\n",
        "    it=0\n",
        "    train_acc=[]\n",
        "    train_loss=[]\n",
        "    val_acc=[]\n",
        "    val_loss=[]\n",
        "    for k in range(0,L):\n",
        "        preW['W'+str(k)]=np.zeros((la[k+1],la[k]))\n",
        "        preb['b'+str(k)]=np.zeros((la[k+1],1))\n",
        "    for k in range(0,L):\n",
        "        mt['W'+str(k)]=np.zeros((la[k+1],la[k]))\n",
        "        vt['b'+str(k)]=np.zeros((la[k+1],1))\n",
        "    while t<epochs:\n",
        "        for i in range(0,minibatch,1):\n",
        "            X_mini=x_train[(i*batch):((i+1)*batch)]\n",
        "            y_mini=y_train[(i*batch):((i+1)*batch)]\n",
        "            batch1 = X_mini.shape[0]\n",
        "            y_mini_one_hot = np.zeros((10, batch1))\n",
        "            y_mini_one_hot[y_mini, np.array(list(range(batch1)))] = 1\n",
        "            A,H,y_hat=feedforward(X_mini.T,params,activation_para)\n",
        "            g_weights,g_biases=back_propagation(X_mini.T,y_mini_one_hot,params,A ,H,activation_para,loss)\n",
        "            it+=1\n",
        "            for j in range(0,L):\n",
        "                #g_weights[j]=g_weights[j]+weight_decay*params['W'+str(j)]\n",
        "                mt['W'+str(j)]=beta1*mt['W'+str(j)]+(1-beta1)*g_weights[j]\n",
        "                vt['b'+str(j)]=beta1*vt['b'+str(j)]+(1-beta1)*g_biases[j]\n",
        "                preW['W'+str(j)]=beta2*preW['W'+str(j)]+(1-beta2)*(g_weights[j]**2)\n",
        "                preb['b'+str(j)]=beta2*preb['b'+str(j)]+(1-beta2)*(g_biases[j]**2)\n",
        "                mhatw=mt['W'+str(j)]/(1-(beta1)**it)\n",
        "                mhatb=vt['b'+str(j)]/(1-(beta1)**it)\n",
        "                vhatw=preW['W'+str(j)]/(1-(beta2)**it)\n",
        "                vhatb=preb['b'+str(j)]/(1-(beta2)**it)\n",
        "                mbarw=beta1*mhatw+(1.0-beta1)*g_weights[j]\n",
        "                mbarb=beta1*mhatb+(1.0-beta1)*g_biases[j]\n",
        "                params['W'+str(j)]-=((eta/(np.sqrt(vhatw+eps)))*mbarw)-np.multiply(eta*weight_decay,params['W'+str(j)])\n",
        "                params['b'+str(j)]-=((eta/(np.sqrt(vhatb+eps)))*mbarb)-np.multiply(eta*weight_decay,params['b'+str(j)])\n",
        "        t+=1\n",
        "       \n",
        "        #Loss & accuracy\n",
        "    \n",
        "        train_a,train_l = loss_accuracy(x_train.T, params, y_train, t, loss,activation_para)\n",
        "        train_acc.append(train_a)\n",
        "        train_loss.append(train_l)\n",
        "        val_a,val_l = loss_accuracy(x_val.T, params, y_val, t, loss,activation_para)  \n",
        "        val_acc.append(val_a)\n",
        "        val_loss.append(val_l)\n",
        "    return train_acc,train_loss,val_acc,val_loss\n",
        "       "
      ]
    },
    {
      "cell_type": "code",
      "execution_count": null,
      "metadata": {
        "id": "4MRkq77z4Lxl"
      },
      "outputs": [],
      "source": [
        "#FIT models        \n",
        "def fit(X,y,batch,epochs,eta,weight_para,optimiser,loss,weight_decay,activation_para,la,L):      \n",
        "    weight_para = 'Xavier'\n",
        "    weight_initialize(weight_para,la)\n",
        "    \n",
        "    X_train, X_val, Y_train, Y_val = train_test_split(X, y, test_size=0.1, random_state=42)\n",
        "    \n",
        "    #batch=100\n",
        "    \n",
        "    minibatch=math.ceil(X_train.shape[0]/batch)\n",
        "    \n",
        "    if optimiser=='momentumGD':\n",
        "        print('calling optimizer momentum ')\n",
        "        train_acc,train_loss,val_acc,val_loss=momentumGD(X_train,y_train,X_val,Y_val,eta,epochs,minibatch,batch,loss,weight_decay,activation_para,la,L)\n",
        "    elif optimiser=='nadam':\n",
        "        print('calling optimizer nadam ')\n",
        "        train_acc,train_loss,val_acc,val_loss=nadam(X_train,Y_train,X_val,Y_val,eta,epochs,minibatch,batch,loss,weight_decay,activation_para,la,L)\n",
        "    elif optimiser=='rms':\n",
        "        print('calling optimizer rms ')\n",
        "        train_acc,train_loss,val_acc,val_loss=rms(X_train,Y_train,X_val,Y_val,eta,epochs,minibatch,batch,loss,weight_decay,activation_para,la,L)\n",
        "    elif optimiser=='sgd':\n",
        "        print('calling optimizer sgd ')\n",
        "        train_acc,train_loss,val_acc,val_loss=sgd(X_train,Y_train,X_val,Y_val,eta,epochs,minibatch,batch,loss,weight_decay,activation_para,la,L)\n",
        "    elif optimiser=='adam':\n",
        "        print('calling optimizer adam ')\n",
        "        train_acc,train_loss,val_acc,val_loss=adam(X_train,Y_train,X_val,Y_val,eta,epochs,minibatch,batch,loss,weight_decay,activation_para,la,L)\n",
        "    elif optimiser=='nag':\n",
        "        print('calling optimizer nag ')\n",
        "        train_acc,train_loss,val_acc,val_loss=nag(X_train,Y_train,X_val,Y_val,eta,epochs,minibatch,batch,loss,weight_decay,activation_para,la,L)\n",
        "    elif optimiser=='vanillagd':\n",
        "        train_acc,train_loss,val_acc,val_loss=vanillagd(X_train,Y_train,X_val,Y_val,eta,epochs,minibatch,batch,loss,weight_decay,activation_para,la,L)   \n",
        "    \n",
        "    return train_acc,train_loss,val_acc,val_loss\n",
        "\n",
        "#la=[784,256,256,10]\n",
        "#L=len(la)-1         \n",
        "#train_acc,train_loss,val_acc,val_loss= fit(X,y,100,5,0.01,'Xavier','nadam','cross_entropy',0,'tanh',la,L)\n",
        "\n",
        "#print(train_acc,train_loss,val_acc,val_loss)"
      ]
    },
    {
      "cell_type": "code",
      "execution_count": null,
      "metadata": {
        "colab": {
          "base_uri": "https://localhost:8080/",
          "height": 1000,
          "referenced_widgets": [
            "da7ec5e7ea184980bd48bd649e323f28",
            "de754652243d4484b8aed2548ad0e099",
            "7dc3ba899b6f44038aefa402ba3302bf",
            "8c0a2b1882d24928a19aea303d33b903",
            "3380b00443184ba0923556e971dab4a4",
            "c31b3dcfa2e74f47926f980d919f600f",
            "24f364907f474614a53261eb762653dd",
            "e262792e05964b398cade44142fc83a9",
            "33c647d42bf64511a532fd1bcdce2235",
            "806a513eb6194a38b7ca33124cf38406",
            "cb65afd6eb01403ba13c5e70df3fad8d",
            "faf56eb775a34f899b03b221d0c6123b",
            "e883dd8b885142f6977586ae0372620b",
            "789ccb097e9a4056b7978b7705d59bb4",
            "fcd1f8cf110148c8979f122bd1de44c7",
            "7751cbddcef04bf89770d8ea67779d00",
            "98ad9f68bb314c4b9a689b7db8bcc62e",
            "fe2914a2db4142a4ae2cf0384d43407a",
            "521f783ffae347a482dbd665ece1f1d1",
            "2118cce6c3e54848b58678256d3a3799",
            "f7eff960575d416fa98806efc7e8e913",
            "d14e0ebfee64459aa360df77a77fd1cb",
            "14c02b741c904ecfb70137b00ca8d895",
            "42591b6c1d6b4286b3c39b3162736ac3",
            "b9cea9b021fd462f9657e75186f8057d",
            "e645fd747ccc4f41a4b18971e4e1b257",
            "b51f43ddb8c74df79fa7677614cd4f8e",
            "f3dffc3e243a488dac378fa25c069da9",
            "ac071b591de646efba409e928eded3fc",
            "b698da1e4202489bb5a04364297ea1ac",
            "282e11e507a44baf86e5fd111395d6a1",
            "f4756069b84d40ef887ce539f377f192",
            "7708cbfa36694e8a8e994f3347870789",
            "59abdbe8804f4f63aa23196ee3a42b89",
            "4cf2a8e37f264703b609ae553d37645b",
            "df63ac637a7446f988cb68aee3e7007d",
            "4c342862caf34ebf9801d609749773a8",
            "6fe0b36febb040c388649d02c092c0ca",
            "2b5df5f0984345f094148b2a6e1c6b76",
            "3cf185efe0d444b1961930fae73054a7",
            "e49dcfea81a74498bf6002f37373bdd7",
            "c11df8f0f8524c30bdb9c956afde957d",
            "3d4f0c75ed734b51ae58a6cc12340dfb",
            "2f5349e814e449979275082c91c7e087",
            "fdf57ac261fc48f287d7fc66f8287ce8",
            "34f16c9e54b94596b59b151d8bcb2284",
            "75bac5c30af74ea390791b9c0f6b7f56",
            "8b66ea5e75ea4b3c8a6297e4350429b7"
          ]
        },
        "id": "rxJwQw4_4hUl",
        "outputId": "9329ddd9-70bb-4bf3-d8e8-4f2723abccdc"
      },
      "outputs": [
        {
          "output_type": "stream",
          "name": "stderr",
          "text": [
            "\u001b[34m\u001b[1mwandb\u001b[0m: Agent Starting Run: z6hl2ec7 with config:\n",
            "\u001b[34m\u001b[1mwandb\u001b[0m: \tactivation_para: tanh\n",
            "\u001b[34m\u001b[1mwandb\u001b[0m: \tbatch: 32\n",
            "\u001b[34m\u001b[1mwandb\u001b[0m: \tepochs: 10\n",
            "\u001b[34m\u001b[1mwandb\u001b[0m: \teta: 0.001\n",
            "\u001b[34m\u001b[1mwandb\u001b[0m: \tno_of_hidden: 4\n",
            "\u001b[34m\u001b[1mwandb\u001b[0m: \tno_of_neurons: 256\n",
            "\u001b[34m\u001b[1mwandb\u001b[0m: \toptimiser: adam\n",
            "\u001b[34m\u001b[1mwandb\u001b[0m: \tweight_decay: 0\n",
            "\u001b[34m\u001b[1mwandb\u001b[0m: \tweight_para: Xavier\n"
          ]
        },
        {
          "output_type": "display_data",
          "data": {
            "text/html": [
              "\n",
              "                    Syncing run <strong><a href=\"https://wandb.ai/anandh/CS6910_Assignment1_Sweep/runs/z6hl2ec7\" target=\"_blank\">comic-sweep-16</a></strong> to <a href=\"https://wandb.ai/anandh/CS6910_Assignment1_Sweep\" target=\"_blank\">Weights & Biases</a> (<a href=\"https://docs.wandb.com/integrations/jupyter.html\" target=\"_blank\">docs</a>).<br/>\n",
              "Sweep page: <a href=\"https://wandb.ai/anandh/CS6910_Assignment1_Sweep/sweeps/meo8511v\" target=\"_blank\">https://wandb.ai/anandh/CS6910_Assignment1_Sweep/sweeps/meo8511v</a><br/>\n",
              "\n",
              "                "
            ],
            "text/plain": [
              "<IPython.core.display.HTML object>"
            ]
          },
          "metadata": {}
        },
        {
          "output_type": "stream",
          "name": "stdout",
          "text": [
            "[784, 256, 256, 256, 256, 10]\n",
            "calling optimizer adam \n",
            "Accuracy of  train= 74.42407407407407   Loss of train = 0.7394889922805827   Accuracy of val= 74.21666666666667  Accuracy of val= 0.7417797340626835\n",
            "Accuracy of  train= 78.32222222222222   Loss of train = 0.6141803888471054   Accuracy of val= 78.23333333333333  Accuracy of val= 0.6170891221125073\n",
            "Accuracy of  train= 80.02592592592592   Loss of train = 0.5637789564812399   Accuracy of val= 79.60000000000001  Accuracy of val= 0.5678411213095383\n",
            "Accuracy of  train= 80.95   Loss of train = 0.5358515154017138   Accuracy of val= 80.35  Accuracy of val= 0.5412816348734316\n",
            "Accuracy of  train= 81.59814814814816   Loss of train = 0.5177646787367984   Accuracy of val= 81.15  Accuracy of val= 0.5245516285021142\n",
            "Accuracy of  train= 82.10185185185185   Loss of train = 0.5049163587822539   Accuracy of val= 81.65  Accuracy of val= 0.5129519086442427\n",
            "Accuracy of  train= 82.41851851851851   Loss of train = 0.49521410638000646   Accuracy of val= 82.01666666666667  Accuracy of val= 0.5043592506265355\n",
            "Accuracy of  train= 82.62592592592593   Loss of train = 0.4875635208241997   Accuracy of val= 82.21666666666667  Accuracy of val= 0.49768541362401586\n",
            "Accuracy of  train= 82.80925925925926   Loss of train = 0.481333816535065   Accuracy of val= 82.45  Accuracy of val= 0.4923188432537239\n",
            "Accuracy of  train= 82.98518518518519   Loss of train = 0.47613413641606084   Accuracy of val= 82.58333333333333  Accuracy of val= 0.4878885954527879\n"
          ]
        },
        {
          "output_type": "stream",
          "name": "stderr",
          "text": [
            "\u001b[34m\u001b[1mwandb\u001b[0m: \u001b[33mWARNING\u001b[0m Calling wandb.run.save without any arguments is deprecated.Changes to attributes are automatically persisted.\n"
          ]
        },
        {
          "output_type": "stream",
          "name": "stdout",
          "text": [
            "Accuracy of  test_data= 81.49\n"
          ]
        },
        {
          "output_type": "display_data",
          "data": {
            "text/html": [
              "<br/>Waiting for W&B process to finish, PID 275... <strong style=\"color:green\">(success).</strong>"
            ],
            "text/plain": [
              "<IPython.core.display.HTML object>"
            ]
          },
          "metadata": {}
        },
        {
          "output_type": "display_data",
          "data": {
            "application/vnd.jupyter.widget-view+json": {
              "model_id": "da7ec5e7ea184980bd48bd649e323f28",
              "version_minor": 0,
              "version_major": 2
            },
            "text/plain": [
              "VBox(children=(Label(value=' 0.00MB of 0.00MB uploaded (0.00MB deduped)\\r'), FloatProgress(value=1.0, max=1.0)…"
            ]
          },
          "metadata": {}
        },
        {
          "output_type": "display_data",
          "data": {
            "text/html": [
              "<style>\n",
              "    table.wandb td:nth-child(1) { padding: 0 10px; text-align: right }\n",
              "    .wandb-row { display: flex; flex-direction: row; flex-wrap: wrap; width: 100% }\n",
              "    .wandb-col { display: flex; flex-direction: column; flex-basis: 100%; flex: 1; padding: 10px; }\n",
              "    </style>\n",
              "<div class=\"wandb-row\"><div class=\"wandb-col\">\n",
              "<h3>Run history:</h3><br/><table class=\"wandb\"><tr><td>epochs</td><td>▁▂▃▃▄▅▆▆▇█</td></tr><tr><td>test_acc</td><td>▁</td></tr><tr><td>train_acc</td><td>▁▄▆▆▇▇████</td></tr><tr><td>train_loss</td><td>█▅▃▃▂▂▂▁▁▁</td></tr><tr><td>val_acc</td><td>▁▄▆▆▇▇████</td></tr><tr><td>val_loss</td><td>█▅▃▂▂▂▁▁▁▁</td></tr></table><br/></div><div class=\"wandb-col\">\n",
              "<h3>Run summary:</h3><br/><table class=\"wandb\"><tr><td>epochs</td><td>10</td></tr><tr><td>test_acc</td><td>81.49</td></tr><tr><td>train_acc</td><td>82.98519</td></tr><tr><td>train_loss</td><td>0.47613</td></tr><tr><td>val_acc</td><td>82.58333</td></tr><tr><td>val_loss</td><td>0.48789</td></tr></table>\n",
              "</div></div>\n",
              "Synced 5 W&B file(s), 0 media file(s), 0 artifact file(s) and 0 other file(s)\n",
              "<br/>Synced <strong style=\"color:#cdcd00\">comic-sweep-16</strong>: <a href=\"https://wandb.ai/anandh/CS6910_Assignment1_Sweep/runs/z6hl2ec7\" target=\"_blank\">https://wandb.ai/anandh/CS6910_Assignment1_Sweep/runs/z6hl2ec7</a><br/>\n",
              "Find logs at: <code>./wandb/run-20220225_122649-z6hl2ec7/logs</code><br/>\n"
            ],
            "text/plain": [
              "<IPython.core.display.HTML object>"
            ]
          },
          "metadata": {}
        },
        {
          "output_type": "stream",
          "name": "stderr",
          "text": [
            "\u001b[34m\u001b[1mwandb\u001b[0m: Agent Starting Run: i9b85tzr with config:\n",
            "\u001b[34m\u001b[1mwandb\u001b[0m: \tactivation_para: tanh\n",
            "\u001b[34m\u001b[1mwandb\u001b[0m: \tbatch: 16\n",
            "\u001b[34m\u001b[1mwandb\u001b[0m: \tepochs: 10\n",
            "\u001b[34m\u001b[1mwandb\u001b[0m: \teta: 0.001\n",
            "\u001b[34m\u001b[1mwandb\u001b[0m: \tno_of_hidden: 3\n",
            "\u001b[34m\u001b[1mwandb\u001b[0m: \tno_of_neurons: 128\n",
            "\u001b[34m\u001b[1mwandb\u001b[0m: \toptimiser: nadam\n",
            "\u001b[34m\u001b[1mwandb\u001b[0m: \tweight_decay: 0.0005\n",
            "\u001b[34m\u001b[1mwandb\u001b[0m: \tweight_para: random\n"
          ]
        },
        {
          "output_type": "display_data",
          "data": {
            "text/html": [
              "\n",
              "                    Syncing run <strong><a href=\"https://wandb.ai/anandh/CS6910_Assignment1_Sweep/runs/i9b85tzr\" target=\"_blank\">still-sweep-18</a></strong> to <a href=\"https://wandb.ai/anandh/CS6910_Assignment1_Sweep\" target=\"_blank\">Weights & Biases</a> (<a href=\"https://docs.wandb.com/integrations/jupyter.html\" target=\"_blank\">docs</a>).<br/>\n",
              "Sweep page: <a href=\"https://wandb.ai/anandh/CS6910_Assignment1_Sweep/sweeps/meo8511v\" target=\"_blank\">https://wandb.ai/anandh/CS6910_Assignment1_Sweep/sweeps/meo8511v</a><br/>\n",
              "\n",
              "                "
            ],
            "text/plain": [
              "<IPython.core.display.HTML object>"
            ]
          },
          "metadata": {}
        },
        {
          "output_type": "stream",
          "name": "stdout",
          "text": [
            "[784, 128, 128, 128, 10]\n",
            "calling optimizer nadam \n",
            "Accuracy of  train= 74.87777777777778   Loss of train = 0.7091614099332547   Accuracy of val= 75.11666666666666  Accuracy of val= 0.7071001905222878\n",
            "Accuracy of  train= 77.9   Loss of train = 0.6243856888067725   Accuracy of val= 77.96666666666667  Accuracy of val= 0.6242729839905564\n",
            "Accuracy of  train= 79.19444444444444   Loss of train = 0.5907880878582522   Accuracy of val= 78.86666666666666  Accuracy of val= 0.5923419412483499\n",
            "Accuracy of  train= 79.82222222222222   Loss of train = 0.5721328347071604   Accuracy of val= 79.58333333333333  Accuracy of val= 0.5748441522401465\n",
            "Accuracy of  train= 80.21111111111111   Loss of train = 0.5600829038632575   Accuracy of val= 80.05  Accuracy of val= 0.5636244475399835\n",
            "Accuracy of  train= 80.4888888888889   Loss of train = 0.5515707819768088   Accuracy of val= 80.21666666666667  Accuracy of val= 0.5557354214715208\n",
            "Accuracy of  train= 80.67222222222222   Loss of train = 0.5451894148630899   Accuracy of val= 80.26666666666667  Accuracy of val= 0.5498456328787211\n",
            "Accuracy of  train= 80.83888888888889   Loss of train = 0.5401992732653016   Accuracy of val= 80.48333333333333  Accuracy of val= 0.5452631231568952\n",
            "Accuracy of  train= 80.92592592592592   Loss of train = 0.5361732002693476   Accuracy of val= 80.68333333333332  Accuracy of val= 0.5415906009594997\n",
            "Accuracy of  train= 81.02407407407406   Loss of train = 0.5328466525577075   Accuracy of val= 80.73333333333333  Accuracy of val= 0.5385822758530278\n",
            "Accuracy of  test_data= 79.86\n"
          ]
        },
        {
          "output_type": "display_data",
          "data": {
            "text/html": [
              "<br/>Waiting for W&B process to finish, PID 348... <strong style=\"color:green\">(success).</strong>"
            ],
            "text/plain": [
              "<IPython.core.display.HTML object>"
            ]
          },
          "metadata": {}
        },
        {
          "output_type": "display_data",
          "data": {
            "application/vnd.jupyter.widget-view+json": {
              "model_id": "33c647d42bf64511a532fd1bcdce2235",
              "version_minor": 0,
              "version_major": 2
            },
            "text/plain": [
              "VBox(children=(Label(value=' 0.00MB of 0.00MB uploaded (0.00MB deduped)\\r'), FloatProgress(value=1.0, max=1.0)…"
            ]
          },
          "metadata": {}
        },
        {
          "output_type": "display_data",
          "data": {
            "text/html": [
              "<style>\n",
              "    table.wandb td:nth-child(1) { padding: 0 10px; text-align: right }\n",
              "    .wandb-row { display: flex; flex-direction: row; flex-wrap: wrap; width: 100% }\n",
              "    .wandb-col { display: flex; flex-direction: column; flex-basis: 100%; flex: 1; padding: 10px; }\n",
              "    </style>\n",
              "<div class=\"wandb-row\"><div class=\"wandb-col\">\n",
              "<h3>Run history:</h3><br/><table class=\"wandb\"><tr><td>epochs</td><td>▁▂▃▃▄▅▆▆▇█</td></tr><tr><td>test_acc</td><td>▁</td></tr><tr><td>train_acc</td><td>▁▄▆▇▇▇████</td></tr><tr><td>train_loss</td><td>█▅▃▃▂▂▁▁▁▁</td></tr><tr><td>val_acc</td><td>▁▅▆▇▇▇▇███</td></tr><tr><td>val_loss</td><td>█▅▃▃▂▂▁▁▁▁</td></tr></table><br/></div><div class=\"wandb-col\">\n",
              "<h3>Run summary:</h3><br/><table class=\"wandb\"><tr><td>epochs</td><td>10</td></tr><tr><td>test_acc</td><td>79.86</td></tr><tr><td>train_acc</td><td>81.02407</td></tr><tr><td>train_loss</td><td>0.53285</td></tr><tr><td>val_acc</td><td>80.73333</td></tr><tr><td>val_loss</td><td>0.53858</td></tr></table>\n",
              "</div></div>\n",
              "Synced 5 W&B file(s), 0 media file(s), 0 artifact file(s) and 0 other file(s)\n",
              "<br/>Synced <strong style=\"color:#cdcd00\">still-sweep-18</strong>: <a href=\"https://wandb.ai/anandh/CS6910_Assignment1_Sweep/runs/i9b85tzr\" target=\"_blank\">https://wandb.ai/anandh/CS6910_Assignment1_Sweep/runs/i9b85tzr</a><br/>\n",
              "Find logs at: <code>./wandb/run-20220225_123328-i9b85tzr/logs</code><br/>\n"
            ],
            "text/plain": [
              "<IPython.core.display.HTML object>"
            ]
          },
          "metadata": {}
        },
        {
          "output_type": "stream",
          "name": "stderr",
          "text": [
            "\u001b[34m\u001b[1mwandb\u001b[0m: Agent Starting Run: jca9wxuj with config:\n",
            "\u001b[34m\u001b[1mwandb\u001b[0m: \tactivation_para: tanh\n",
            "\u001b[34m\u001b[1mwandb\u001b[0m: \tbatch: 16\n",
            "\u001b[34m\u001b[1mwandb\u001b[0m: \tepochs: 10\n",
            "\u001b[34m\u001b[1mwandb\u001b[0m: \teta: 0.001\n",
            "\u001b[34m\u001b[1mwandb\u001b[0m: \tno_of_hidden: 3\n",
            "\u001b[34m\u001b[1mwandb\u001b[0m: \tno_of_neurons: 128\n",
            "\u001b[34m\u001b[1mwandb\u001b[0m: \toptimiser: nadam\n",
            "\u001b[34m\u001b[1mwandb\u001b[0m: \tweight_decay: 0.0005\n",
            "\u001b[34m\u001b[1mwandb\u001b[0m: \tweight_para: random\n"
          ]
        },
        {
          "output_type": "display_data",
          "data": {
            "text/html": [
              "\n",
              "                    Syncing run <strong><a href=\"https://wandb.ai/anandh/CS6910_Assignment1_Sweep/runs/jca9wxuj\" target=\"_blank\">serene-sweep-21</a></strong> to <a href=\"https://wandb.ai/anandh/CS6910_Assignment1_Sweep\" target=\"_blank\">Weights & Biases</a> (<a href=\"https://docs.wandb.com/integrations/jupyter.html\" target=\"_blank\">docs</a>).<br/>\n",
              "Sweep page: <a href=\"https://wandb.ai/anandh/CS6910_Assignment1_Sweep/sweeps/meo8511v\" target=\"_blank\">https://wandb.ai/anandh/CS6910_Assignment1_Sweep/sweeps/meo8511v</a><br/>\n",
              "\n",
              "                "
            ],
            "text/plain": [
              "<IPython.core.display.HTML object>"
            ]
          },
          "metadata": {}
        },
        {
          "output_type": "stream",
          "name": "stdout",
          "text": [
            "[784, 128, 128, 128, 10]\n",
            "calling optimizer nadam \n",
            "Accuracy of  train= 75.48518518518519   Loss of train = 0.6987559401314745   Accuracy of val= 74.88333333333334  Accuracy of val= 0.7004138332036052\n",
            "Accuracy of  train= 77.90370370370371   Loss of train = 0.6233353345289007   Accuracy of val= 77.28333333333333  Accuracy of val= 0.6323273903705718\n",
            "Accuracy of  train= 78.83703703703704   Loss of train = 0.5946096705831327   Accuracy of val= 77.93333333333334  Accuracy of val= 0.6069690609240246\n",
            "Accuracy of  train= 79.3648148148148   Loss of train = 0.5780869903233478   Accuracy of val= 78.63333333333333  Accuracy of val= 0.592477270169314\n",
            "Accuracy of  train= 79.71851851851852   Loss of train = 0.5668448974279872   Accuracy of val= 79.06666666666666  Accuracy of val= 0.5826298531945937\n",
            "Accuracy of  train= 80.00185185185185   Loss of train = 0.5585025950667729   Accuracy of val= 79.4  Accuracy of val= 0.5753311268026468\n",
            "Accuracy of  train= 80.26111111111112   Loss of train = 0.5519811238549723   Accuracy of val= 79.60000000000001  Accuracy of val= 0.569643802437163\n",
            "Accuracy of  train= 80.46481481481482   Loss of train = 0.5467039147748151   Accuracy of val= 79.75  Accuracy of val= 0.5650674184843243\n",
            "Accuracy of  train= 80.58333333333333   Loss of train = 0.5423274451679122   Accuracy of val= 79.80000000000001  Accuracy of val= 0.5613014645819134\n",
            "Accuracy of  train= 80.69444444444444   Loss of train = 0.5386307643859863   Accuracy of val= 79.86666666666666  Accuracy of val= 0.5581504572623585\n",
            "Accuracy of  test_data= 79.31\n"
          ]
        },
        {
          "output_type": "display_data",
          "data": {
            "text/html": [
              "<br/>Waiting for W&B process to finish, PID 435... <strong style=\"color:green\">(success).</strong>"
            ],
            "text/plain": [
              "<IPython.core.display.HTML object>"
            ]
          },
          "metadata": {}
        },
        {
          "output_type": "display_data",
          "data": {
            "application/vnd.jupyter.widget-view+json": {
              "model_id": "98ad9f68bb314c4b9a689b7db8bcc62e",
              "version_minor": 0,
              "version_major": 2
            },
            "text/plain": [
              "VBox(children=(Label(value=' 0.00MB of 0.00MB uploaded (0.00MB deduped)\\r'), FloatProgress(value=1.0, max=1.0)…"
            ]
          },
          "metadata": {}
        },
        {
          "output_type": "display_data",
          "data": {
            "text/html": [
              "<style>\n",
              "    table.wandb td:nth-child(1) { padding: 0 10px; text-align: right }\n",
              "    .wandb-row { display: flex; flex-direction: row; flex-wrap: wrap; width: 100% }\n",
              "    .wandb-col { display: flex; flex-direction: column; flex-basis: 100%; flex: 1; padding: 10px; }\n",
              "    </style>\n",
              "<div class=\"wandb-row\"><div class=\"wandb-col\">\n",
              "<h3>Run history:</h3><br/><table class=\"wandb\"><tr><td>epochs</td><td>▁▂▃▃▄▅▆▆▇█</td></tr><tr><td>test_acc</td><td>▁</td></tr><tr><td>train_acc</td><td>▁▄▆▆▇▇▇███</td></tr><tr><td>train_loss</td><td>█▅▃▃▂▂▂▁▁▁</td></tr><tr><td>val_acc</td><td>▁▄▅▆▇▇████</td></tr><tr><td>val_loss</td><td>█▅▃▃▂▂▂▁▁▁</td></tr></table><br/></div><div class=\"wandb-col\">\n",
              "<h3>Run summary:</h3><br/><table class=\"wandb\"><tr><td>epochs</td><td>10</td></tr><tr><td>test_acc</td><td>79.31</td></tr><tr><td>train_acc</td><td>80.69444</td></tr><tr><td>train_loss</td><td>0.53863</td></tr><tr><td>val_acc</td><td>79.86667</td></tr><tr><td>val_loss</td><td>0.55815</td></tr></table>\n",
              "</div></div>\n",
              "Synced 5 W&B file(s), 0 media file(s), 0 artifact file(s) and 0 other file(s)\n",
              "<br/>Synced <strong style=\"color:#cdcd00\">serene-sweep-21</strong>: <a href=\"https://wandb.ai/anandh/CS6910_Assignment1_Sweep/runs/jca9wxuj\" target=\"_blank\">https://wandb.ai/anandh/CS6910_Assignment1_Sweep/runs/jca9wxuj</a><br/>\n",
              "Find logs at: <code>./wandb/run-20220225_123743-jca9wxuj/logs</code><br/>\n"
            ],
            "text/plain": [
              "<IPython.core.display.HTML object>"
            ]
          },
          "metadata": {}
        },
        {
          "output_type": "stream",
          "name": "stderr",
          "text": [
            "\u001b[34m\u001b[1mwandb\u001b[0m: Agent Starting Run: renuxkip with config:\n",
            "\u001b[34m\u001b[1mwandb\u001b[0m: \tactivation_para: tanh\n",
            "\u001b[34m\u001b[1mwandb\u001b[0m: \tbatch: 16\n",
            "\u001b[34m\u001b[1mwandb\u001b[0m: \tepochs: 10\n",
            "\u001b[34m\u001b[1mwandb\u001b[0m: \teta: 0.001\n",
            "\u001b[34m\u001b[1mwandb\u001b[0m: \tno_of_hidden: 3\n",
            "\u001b[34m\u001b[1mwandb\u001b[0m: \tno_of_neurons: 128\n",
            "\u001b[34m\u001b[1mwandb\u001b[0m: \toptimiser: adam\n",
            "\u001b[34m\u001b[1mwandb\u001b[0m: \tweight_decay: 0.0005\n",
            "\u001b[34m\u001b[1mwandb\u001b[0m: \tweight_para: random\n"
          ]
        },
        {
          "output_type": "display_data",
          "data": {
            "text/html": [
              "\n",
              "                    Syncing run <strong><a href=\"https://wandb.ai/anandh/CS6910_Assignment1_Sweep/runs/renuxkip\" target=\"_blank\">breezy-sweep-23</a></strong> to <a href=\"https://wandb.ai/anandh/CS6910_Assignment1_Sweep\" target=\"_blank\">Weights & Biases</a> (<a href=\"https://docs.wandb.com/integrations/jupyter.html\" target=\"_blank\">docs</a>).<br/>\n",
              "Sweep page: <a href=\"https://wandb.ai/anandh/CS6910_Assignment1_Sweep/sweeps/meo8511v\" target=\"_blank\">https://wandb.ai/anandh/CS6910_Assignment1_Sweep/sweeps/meo8511v</a><br/>\n",
              "\n",
              "                "
            ],
            "text/plain": [
              "<IPython.core.display.HTML object>"
            ]
          },
          "metadata": {}
        },
        {
          "output_type": "stream",
          "name": "stdout",
          "text": [
            "[784, 128, 128, 128, 10]\n",
            "calling optimizer adam \n",
            "Accuracy of  train= 73.40185185185184   Loss of train = 0.7333756956189301   Accuracy of val= 73.21666666666667  Accuracy of val= 0.7435048768920306\n",
            "Accuracy of  train= 75.96111111111111   Loss of train = 0.6566669833996522   Accuracy of val= 76.1  Accuracy of val= 0.6628750951266924\n",
            "Accuracy of  train= 77.09814814814816   Loss of train = 0.6241647665570779   Accuracy of val= 77.06666666666668  Accuracy of val= 0.6298379014640337\n",
            "Accuracy of  train= 77.86296296296297   Loss of train = 0.6050739443076902   Accuracy of val= 77.98333333333333  Accuracy of val= 0.6106112952299313\n",
            "Accuracy of  train= 78.37037037037037   Loss of train = 0.592172297737799   Accuracy of val= 78.60000000000001  Accuracy of val= 0.5976239194739951\n",
            "Accuracy of  train= 78.79444444444445   Loss of train = 0.5827260305349055   Accuracy of val= 79.10000000000001  Accuracy of val= 0.5881038417220968\n",
            "Accuracy of  train= 79.0537037037037   Loss of train = 0.5754357372173777   Accuracy of val= 79.35  Accuracy of val= 0.5807546208472083\n",
            "Accuracy of  train= 79.26481481481481   Loss of train = 0.5695958319928306   Accuracy of val= 79.33333333333333  Accuracy of val= 0.5748745939162933\n",
            "Accuracy of  train= 79.45925925925927   Loss of train = 0.5647874126963586   Accuracy of val= 79.56666666666666  Accuracy of val= 0.570045766833776\n",
            "Accuracy of  train= 79.65185185185184   Loss of train = 0.5607448604080393   Accuracy of val= 79.63333333333334  Accuracy of val= 0.5660014450003571\n",
            "Accuracy of  test_data= 78.60000000000001\n"
          ]
        },
        {
          "output_type": "display_data",
          "data": {
            "text/html": [
              "<br/>Waiting for W&B process to finish, PID 516... <strong style=\"color:green\">(success).</strong>"
            ],
            "text/plain": [
              "<IPython.core.display.HTML object>"
            ]
          },
          "metadata": {}
        },
        {
          "output_type": "display_data",
          "data": {
            "application/vnd.jupyter.widget-view+json": {
              "model_id": "b9cea9b021fd462f9657e75186f8057d",
              "version_minor": 0,
              "version_major": 2
            },
            "text/plain": [
              "VBox(children=(Label(value=' 0.00MB of 0.00MB uploaded (0.00MB deduped)\\r'), FloatProgress(value=1.0, max=1.0)…"
            ]
          },
          "metadata": {}
        },
        {
          "output_type": "display_data",
          "data": {
            "text/html": [
              "<style>\n",
              "    table.wandb td:nth-child(1) { padding: 0 10px; text-align: right }\n",
              "    .wandb-row { display: flex; flex-direction: row; flex-wrap: wrap; width: 100% }\n",
              "    .wandb-col { display: flex; flex-direction: column; flex-basis: 100%; flex: 1; padding: 10px; }\n",
              "    </style>\n",
              "<div class=\"wandb-row\"><div class=\"wandb-col\">\n",
              "<h3>Run history:</h3><br/><table class=\"wandb\"><tr><td>epochs</td><td>▁▂▃▃▄▅▆▆▇█</td></tr><tr><td>test_acc</td><td>▁</td></tr><tr><td>train_acc</td><td>▁▄▅▆▇▇▇███</td></tr><tr><td>train_loss</td><td>█▅▄▃▂▂▂▁▁▁</td></tr><tr><td>val_acc</td><td>▁▄▅▆▇▇████</td></tr><tr><td>val_loss</td><td>█▅▄▃▂▂▂▁▁▁</td></tr></table><br/></div><div class=\"wandb-col\">\n",
              "<h3>Run summary:</h3><br/><table class=\"wandb\"><tr><td>epochs</td><td>10</td></tr><tr><td>test_acc</td><td>78.6</td></tr><tr><td>train_acc</td><td>79.65185</td></tr><tr><td>train_loss</td><td>0.56074</td></tr><tr><td>val_acc</td><td>79.63333</td></tr><tr><td>val_loss</td><td>0.566</td></tr></table>\n",
              "</div></div>\n",
              "Synced 5 W&B file(s), 0 media file(s), 0 artifact file(s) and 0 other file(s)\n",
              "<br/>Synced <strong style=\"color:#cdcd00\">breezy-sweep-23</strong>: <a href=\"https://wandb.ai/anandh/CS6910_Assignment1_Sweep/runs/renuxkip\" target=\"_blank\">https://wandb.ai/anandh/CS6910_Assignment1_Sweep/runs/renuxkip</a><br/>\n",
              "Find logs at: <code>./wandb/run-20220225_124153-renuxkip/logs</code><br/>\n"
            ],
            "text/plain": [
              "<IPython.core.display.HTML object>"
            ]
          },
          "metadata": {}
        },
        {
          "output_type": "stream",
          "name": "stderr",
          "text": [
            "\u001b[34m\u001b[1mwandb\u001b[0m: Agent Starting Run: 3kcfo0xz with config:\n",
            "\u001b[34m\u001b[1mwandb\u001b[0m: \tactivation_para: sigmoid\n",
            "\u001b[34m\u001b[1mwandb\u001b[0m: \tbatch: 16\n",
            "\u001b[34m\u001b[1mwandb\u001b[0m: \tepochs: 10\n",
            "\u001b[34m\u001b[1mwandb\u001b[0m: \teta: 0.001\n",
            "\u001b[34m\u001b[1mwandb\u001b[0m: \tno_of_hidden: 4\n",
            "\u001b[34m\u001b[1mwandb\u001b[0m: \tno_of_neurons: 256\n",
            "\u001b[34m\u001b[1mwandb\u001b[0m: \toptimiser: nadam\n",
            "\u001b[34m\u001b[1mwandb\u001b[0m: \tweight_decay: 0.0005\n",
            "\u001b[34m\u001b[1mwandb\u001b[0m: \tweight_para: random\n"
          ]
        },
        {
          "output_type": "display_data",
          "data": {
            "text/html": [
              "\n",
              "                    Syncing run <strong><a href=\"https://wandb.ai/anandh/CS6910_Assignment1_Sweep/runs/3kcfo0xz\" target=\"_blank\">vital-sweep-26</a></strong> to <a href=\"https://wandb.ai/anandh/CS6910_Assignment1_Sweep\" target=\"_blank\">Weights & Biases</a> (<a href=\"https://docs.wandb.com/integrations/jupyter.html\" target=\"_blank\">docs</a>).<br/>\n",
              "Sweep page: <a href=\"https://wandb.ai/anandh/CS6910_Assignment1_Sweep/sweeps/meo8511v\" target=\"_blank\">https://wandb.ai/anandh/CS6910_Assignment1_Sweep/sweeps/meo8511v</a><br/>\n",
              "\n",
              "                "
            ],
            "text/plain": [
              "<IPython.core.display.HTML object>"
            ]
          },
          "metadata": {}
        },
        {
          "output_type": "stream",
          "name": "stdout",
          "text": [
            "[784, 256, 256, 256, 256, 10]\n",
            "calling optimizer nadam \n",
            "Accuracy of  train= 14.46111111111111   Loss of train = 2.3005187133332745   Accuracy of val= 14.249999999999998  Accuracy of val= 2.299158282021777\n",
            "Accuracy of  train= 18.053703703703704   Loss of train = 2.275599824121737   Accuracy of val= 17.916666666666668  Accuracy of val= 2.2746024653153456\n",
            "Accuracy of  train= 19.166666666666668   Loss of train = 2.2508580973175705   Accuracy of val= 19.366666666666667  Accuracy of val= 2.250212264864728\n",
            "Accuracy of  train= 23.86111111111111   Loss of train = 2.2262401185452867   Accuracy of val= 23.666666666666668  Accuracy of val= 2.2259405808522135\n",
            "Accuracy of  train= 28.344444444444445   Loss of train = 2.2017552884499785   Accuracy of val= 27.916666666666668  Accuracy of val= 2.2017967678955563\n",
            "Accuracy of  train= 31.203703703703706   Loss of train = 2.177414921424538   Accuracy of val= 30.683333333333334  Accuracy of val= 2.177791887872071\n",
            "Accuracy of  train= 33.73888888888889   Loss of train = 2.153230095619118   Accuracy of val= 33.33333333333333  Accuracy of val= 2.153936772577363\n",
            "Accuracy of  train= 35.63333333333333   Loss of train = 2.1292115586438016   Accuracy of val= 34.833333333333336  Accuracy of val= 2.130241937057398\n",
            "Accuracy of  train= 37.37592592592593   Loss of train = 2.1053697013870556   Accuracy of val= 36.46666666666666  Accuracy of val= 2.1067175543229437\n",
            "Accuracy of  train= 38.96666666666667   Loss of train = 2.0817145361616256   Accuracy of val= 38.1  Accuracy of val= 2.083373434045977\n",
            "Accuracy of  test_data= 38.85\n"
          ]
        },
        {
          "output_type": "display_data",
          "data": {
            "text/html": [
              "<br/>Waiting for W&B process to finish, PID 557... <strong style=\"color:green\">(success).</strong>"
            ],
            "text/plain": [
              "<IPython.core.display.HTML object>"
            ]
          },
          "metadata": {}
        },
        {
          "output_type": "display_data",
          "data": {
            "application/vnd.jupyter.widget-view+json": {
              "model_id": "7708cbfa36694e8a8e994f3347870789",
              "version_minor": 0,
              "version_major": 2
            },
            "text/plain": [
              "VBox(children=(Label(value=' 0.00MB of 0.00MB uploaded (0.00MB deduped)\\r'), FloatProgress(value=1.0, max=1.0)…"
            ]
          },
          "metadata": {}
        },
        {
          "output_type": "display_data",
          "data": {
            "text/html": [
              "<style>\n",
              "    table.wandb td:nth-child(1) { padding: 0 10px; text-align: right }\n",
              "    .wandb-row { display: flex; flex-direction: row; flex-wrap: wrap; width: 100% }\n",
              "    .wandb-col { display: flex; flex-direction: column; flex-basis: 100%; flex: 1; padding: 10px; }\n",
              "    </style>\n",
              "<div class=\"wandb-row\"><div class=\"wandb-col\">\n",
              "<h3>Run history:</h3><br/><table class=\"wandb\"><tr><td>epochs</td><td>▁▂▃▃▄▅▆▆▇█</td></tr><tr><td>test_acc</td><td>▁</td></tr><tr><td>train_acc</td><td>▁▂▂▄▅▆▇▇██</td></tr><tr><td>train_loss</td><td>█▇▆▆▅▄▃▃▂▁</td></tr><tr><td>val_acc</td><td>▁▂▃▄▅▆▇▇██</td></tr><tr><td>val_loss</td><td>█▇▆▆▅▄▃▃▂▁</td></tr></table><br/></div><div class=\"wandb-col\">\n",
              "<h3>Run summary:</h3><br/><table class=\"wandb\"><tr><td>epochs</td><td>10</td></tr><tr><td>test_acc</td><td>38.85</td></tr><tr><td>train_acc</td><td>38.96667</td></tr><tr><td>train_loss</td><td>2.08171</td></tr><tr><td>val_acc</td><td>38.1</td></tr><tr><td>val_loss</td><td>2.08337</td></tr></table>\n",
              "</div></div>\n",
              "Synced 5 W&B file(s), 0 media file(s), 0 artifact file(s) and 0 other file(s)\n",
              "<br/>Synced <strong style=\"color:#cdcd00\">vital-sweep-26</strong>: <a href=\"https://wandb.ai/anandh/CS6910_Assignment1_Sweep/runs/3kcfo0xz\" target=\"_blank\">https://wandb.ai/anandh/CS6910_Assignment1_Sweep/runs/3kcfo0xz</a><br/>\n",
              "Find logs at: <code>./wandb/run-20220225_124543-3kcfo0xz/logs</code><br/>\n"
            ],
            "text/plain": [
              "<IPython.core.display.HTML object>"
            ]
          },
          "metadata": {}
        },
        {
          "output_type": "stream",
          "name": "stderr",
          "text": [
            "\u001b[34m\u001b[1mwandb\u001b[0m: Agent Starting Run: d1fndn81 with config:\n",
            "\u001b[34m\u001b[1mwandb\u001b[0m: \tactivation_para: sigmoid\n",
            "\u001b[34m\u001b[1mwandb\u001b[0m: \tbatch: 64\n",
            "\u001b[34m\u001b[1mwandb\u001b[0m: \tepochs: 10\n",
            "\u001b[34m\u001b[1mwandb\u001b[0m: \teta: 0.01\n",
            "\u001b[34m\u001b[1mwandb\u001b[0m: \tno_of_hidden: 3\n",
            "\u001b[34m\u001b[1mwandb\u001b[0m: \tno_of_neurons: 128\n",
            "\u001b[34m\u001b[1mwandb\u001b[0m: \toptimiser: nadam\n",
            "\u001b[34m\u001b[1mwandb\u001b[0m: \tweight_decay: 0.0005\n",
            "\u001b[34m\u001b[1mwandb\u001b[0m: \tweight_para: Xavier\n"
          ]
        },
        {
          "output_type": "display_data",
          "data": {
            "text/html": [
              "\n",
              "                    Syncing run <strong><a href=\"https://wandb.ai/anandh/CS6910_Assignment1_Sweep/runs/d1fndn81\" target=\"_blank\">dashing-sweep-29</a></strong> to <a href=\"https://wandb.ai/anandh/CS6910_Assignment1_Sweep\" target=\"_blank\">Weights & Biases</a> (<a href=\"https://docs.wandb.com/integrations/jupyter.html\" target=\"_blank\">docs</a>).<br/>\n",
              "Sweep page: <a href=\"https://wandb.ai/anandh/CS6910_Assignment1_Sweep/sweeps/meo8511v\" target=\"_blank\">https://wandb.ai/anandh/CS6910_Assignment1_Sweep/sweeps/meo8511v</a><br/>\n",
              "\n",
              "                "
            ],
            "text/plain": [
              "<IPython.core.display.HTML object>"
            ]
          },
          "metadata": {}
        },
        {
          "output_type": "stream",
          "name": "stdout",
          "text": [
            "[784, 128, 128, 128, 10]\n",
            "calling optimizer nadam \n",
            "Accuracy of  train= 44.974074074074075   Loss of train = 1.8558842903045034   Accuracy of val= 44.516666666666666  Accuracy of val= 1.8612509856511104\n",
            "Accuracy of  train= 57.25   Loss of train = 1.5517230166915497   Accuracy of val= 57.099999999999994  Accuracy of val= 1.5611534223512178\n",
            "Accuracy of  train= 61.798148148148144   Loss of train = 1.3585234961386006   Accuracy of val= 61.71666666666666  Accuracy of val= 1.3702553026664046\n",
            "Accuracy of  train= 64.98703703703703   Loss of train = 1.2256183669520764   Accuracy of val= 65.06666666666666  Accuracy of val= 1.238859396773104\n",
            "Accuracy of  train= 67.45925925925927   Loss of train = 1.1292807199154056   Accuracy of val= 67.33333333333333  Accuracy of val= 1.1435816446524831\n",
            "Accuracy of  train= 69.15185185185186   Loss of train = 1.0567307723165527   Accuracy of val= 68.75  Accuracy of val= 1.0718118779747776\n",
            "Accuracy of  train= 70.21481481481482   Loss of train = 1.0003975993869851   Accuracy of val= 69.76666666666667  Accuracy of val= 1.0160760658331776\n",
            "Accuracy of  train= 70.8962962962963   Loss of train = 0.9555211164942478   Accuracy of val= 70.45  Accuracy of val= 0.9716720694112571\n",
            "Accuracy of  train= 71.39444444444445   Loss of train = 0.9189841812691321   Accuracy of val= 70.91666666666666  Accuracy of val= 0.9355182232143019\n",
            "Accuracy of  train= 71.79074074074074   Loss of train = 0.8886786837701645   Accuracy of val= 71.23333333333333  Accuracy of val= 0.9055291536230933\n",
            "Accuracy of  test_data= 70.89999999999999\n"
          ]
        },
        {
          "output_type": "display_data",
          "data": {
            "text/html": [
              "<br/>Waiting for W&B process to finish, PID 624... <strong style=\"color:green\">(success).</strong>"
            ],
            "text/plain": [
              "<IPython.core.display.HTML object>"
            ]
          },
          "metadata": {}
        },
        {
          "output_type": "display_data",
          "data": {
            "application/vnd.jupyter.widget-view+json": {
              "model_id": "e49dcfea81a74498bf6002f37373bdd7",
              "version_minor": 0,
              "version_major": 2
            },
            "text/plain": [
              "VBox(children=(Label(value=' 0.00MB of 0.00MB uploaded (0.00MB deduped)\\r'), FloatProgress(value=1.0, max=1.0)…"
            ]
          },
          "metadata": {}
        },
        {
          "output_type": "display_data",
          "data": {
            "text/html": [
              "<style>\n",
              "    table.wandb td:nth-child(1) { padding: 0 10px; text-align: right }\n",
              "    .wandb-row { display: flex; flex-direction: row; flex-wrap: wrap; width: 100% }\n",
              "    .wandb-col { display: flex; flex-direction: column; flex-basis: 100%; flex: 1; padding: 10px; }\n",
              "    </style>\n",
              "<div class=\"wandb-row\"><div class=\"wandb-col\">\n",
              "<h3>Run history:</h3><br/><table class=\"wandb\"><tr><td>epochs</td><td>▁▂▃▃▄▅▆▆▇█</td></tr><tr><td>test_acc</td><td>▁</td></tr><tr><td>train_acc</td><td>▁▄▅▆▇▇████</td></tr><tr><td>train_loss</td><td>█▆▄▃▃▂▂▁▁▁</td></tr><tr><td>val_acc</td><td>▁▄▆▆▇▇████</td></tr><tr><td>val_loss</td><td>█▆▄▃▃▂▂▁▁▁</td></tr></table><br/></div><div class=\"wandb-col\">\n",
              "<h3>Run summary:</h3><br/><table class=\"wandb\"><tr><td>epochs</td><td>10</td></tr><tr><td>test_acc</td><td>70.9</td></tr><tr><td>train_acc</td><td>71.79074</td></tr><tr><td>train_loss</td><td>0.88868</td></tr><tr><td>val_acc</td><td>71.23333</td></tr><tr><td>val_loss</td><td>0.90553</td></tr></table>\n",
              "</div></div>\n",
              "Synced 5 W&B file(s), 0 media file(s), 0 artifact file(s) and 0 other file(s)\n",
              "<br/>Synced <strong style=\"color:#cdcd00\">dashing-sweep-29</strong>: <a href=\"https://wandb.ai/anandh/CS6910_Assignment1_Sweep/runs/d1fndn81\" target=\"_blank\">https://wandb.ai/anandh/CS6910_Assignment1_Sweep/runs/d1fndn81</a><br/>\n",
              "Find logs at: <code>./wandb/run-20220225_125738-d1fndn81/logs</code><br/>\n"
            ],
            "text/plain": [
              "<IPython.core.display.HTML object>"
            ]
          },
          "metadata": {}
        },
        {
          "output_type": "stream",
          "name": "stderr",
          "text": [
            "\u001b[34m\u001b[1mwandb\u001b[0m: Agent Starting Run: tne4ty92 with config:\n",
            "\u001b[34m\u001b[1mwandb\u001b[0m: \tactivation_para: tanh\n",
            "\u001b[34m\u001b[1mwandb\u001b[0m: \tbatch: 16\n",
            "\u001b[34m\u001b[1mwandb\u001b[0m: \tepochs: 10\n",
            "\u001b[34m\u001b[1mwandb\u001b[0m: \teta: 0.001\n",
            "\u001b[34m\u001b[1mwandb\u001b[0m: \tno_of_hidden: 4\n",
            "\u001b[34m\u001b[1mwandb\u001b[0m: \tno_of_neurons: 256\n",
            "\u001b[34m\u001b[1mwandb\u001b[0m: \toptimiser: nadam\n",
            "\u001b[34m\u001b[1mwandb\u001b[0m: \tweight_decay: 0.0005\n",
            "\u001b[34m\u001b[1mwandb\u001b[0m: \tweight_para: Xavier\n"
          ]
        },
        {
          "output_type": "display_data",
          "data": {
            "text/html": [
              "\n",
              "                    Syncing run <strong><a href=\"https://wandb.ai/anandh/CS6910_Assignment1_Sweep/runs/tne4ty92\" target=\"_blank\">copper-sweep-32</a></strong> to <a href=\"https://wandb.ai/anandh/CS6910_Assignment1_Sweep\" target=\"_blank\">Weights & Biases</a> (<a href=\"https://docs.wandb.com/integrations/jupyter.html\" target=\"_blank\">docs</a>).<br/>\n",
              "Sweep page: <a href=\"https://wandb.ai/anandh/CS6910_Assignment1_Sweep/sweeps/meo8511v\" target=\"_blank\">https://wandb.ai/anandh/CS6910_Assignment1_Sweep/sweeps/meo8511v</a><br/>\n",
              "\n",
              "                "
            ],
            "text/plain": [
              "<IPython.core.display.HTML object>"
            ]
          },
          "metadata": {}
        },
        {
          "output_type": "stream",
          "name": "stdout",
          "text": [
            "[784, 256, 256, 256, 256, 10]\n",
            "calling optimizer nadam \n"
          ]
        }
      ],
      "source": [
        "features=784\n",
        "n_class=10\n",
        "loss='cross_entropy'\n",
        "#la=[]\n",
        "#L=0\n",
        "#print(\"calling FF_fit\")\n",
        "def FF_fit():\n",
        "    \"\"\"\n",
        "    This function is used for the hyperparameter tuning using wandb sweeps\n",
        "    \"\"\"\n",
        "    # Default values for hyper-parameters\n",
        "    config_defaults = {\n",
        "        'epochs': 10,\n",
        "        'batch': 64,\n",
        "        'eta': 1e-3,\n",
        "        'activation_para': 'relu',\n",
        "        'optimiser': 'adam',\n",
        "        'weight_para': 'Xavier',\n",
        "        'weight_decay': 0,\n",
        "        'no_of_neurons': 64,\n",
        "        'no_of_hidden': 3\n",
        "    }\n",
        "    \n",
        "    la=[]\n",
        "    L=0\n",
        "    #wandb.init()\n",
        "    wandb.init(config=config_defaults)\n",
        "    config = wandb.config\n",
        "    \n",
        "    no_of_neurons = config.no_of_neurons\n",
        "    no_of_hidden = config.no_of_hidden\n",
        "    weight_para = config.weight_para\n",
        "    epochs = config.epochs\n",
        "    batch = config.batch\n",
        "    eta = config.eta\n",
        "    activation_para = config.activation_para\n",
        "    weight_decay = config.weight_decay\n",
        "    optimiser = config.optimiser\n",
        "    \n",
        "    \n",
        "    la =[features]+[no_of_neurons]*no_of_hidden+[n_class]\n",
        "    print(la)\n",
        "    L =len(la)-1\n",
        "    \n",
        "    name = \"lr_\"+str(config.eta)+\"_hl_\"+str(config.no_of_hidden)+\"_bs_\"+str(config.batch)+\"_ac_\"+str(config.activation_para)+\"_ep_\"+str(config.epochs)\n",
        "    wandb.run.name = name\n",
        "    # name = \"lr_{}_af_{}_in_{}_op_{}_b_{}_wd_{}_ep_{}_nn_{}_nh_{}\".format(eta, activation_para, weight_para, optimiser, batch, weight_decay, epochs, no_of_neurons, no_of_hidden)\n",
        "    # print(name)\n",
        "    # fit(X,y,100,5,0.01,'Xavier','nadam','cross_entropy',0.0005,'tanh')\n",
        "    train_acc,train_loss,val_acc,val_loss=fit(X,y,batch,epochs,eta,weight_para,optimiser,loss,weight_decay,activation_para,la,L)\n",
        "\n",
        "    #printing Accuracy and loss\n",
        "    for p in range(len(train_acc)):\n",
        "       print(\"Accuracy of  train= \" + str(train_acc[p]) +\"   Loss of train = \" + str(train_loss[p]) + \"   Accuracy of val= \" + str(val_acc[p]) + \"  Accuracy of val= \" + str(val_loss[p]))\n",
        "\n",
        "    test_acc=accuracy(X_test.T,y_test,params,activation_para)\n",
        "    print(\"Accuracy of  test_data= \" + str(test_acc))\n",
        "\n",
        "    for i in range(len(train_acc)):\n",
        "      wandb.log({'train_acc':train_acc[i], 'train_loss':train_loss[i], 'val_acc':val_acc[i] ,'val_loss':val_loss[i], 'epochs': i+1})\n",
        "    wandb.log({'test_acc' : test_acc})\n",
        "    wandb.run.save()\n",
        "    wandb.run.finish()\n",
        "    \n",
        "sweep_config = {\n",
        "    'method': 'bayes', #grid, random\n",
        "    'metric': {\n",
        "      'name': 'val_loss',\n",
        "      'goal': 'minimize'   \n",
        "    },\n",
        "    'parameters': {\n",
        "        'epochs': {\n",
        "            'values': [5,10]\n",
        "        },\n",
        "        'no_of_hidden': {\n",
        "            'values': [2,3,4]\n",
        "        },\n",
        "        'no_of_neurons': {\n",
        "            'values': [128,256]\n",
        "        },\n",
        "        'weight_decay': {\n",
        "            'values': [0,0.0005]\n",
        "        },\n",
        "        'eta': {\n",
        "            'values': [ 0.01,0.001]\n",
        "        },\n",
        "        'optimiser': {\n",
        "            'values': ['sgd', 'momentumGD', 'nag', 'rms', 'adam','nadam']\n",
        "        },\n",
        "        'batch':{\n",
        "            'values': [16,32,64,100]\n",
        "        },\n",
        "        'weight_para':{\n",
        "            'values': ['random','Xavier']\n",
        "        },\n",
        "        'activation_para': {\n",
        "            'values': ['tanh','sigmoid', 'relu']\n",
        "        }\n",
        "    }\n",
        "}\n",
        "    \n",
        "#wandb.init(project='cs6910-assignment1', name = 'class-samples-1')\n",
        "#wandb.init(entity=\"anandh\", project = \"CS6910_Assignment1_Sweep\")\n",
        "#sweep_id=wandb.sweep(sweep_config,entity=\"anandh\", project = \"CS6910_Assignment1_Sweep\")\n",
        "sweep_id= \"meo8511v\"\n",
        "#%start wandb sweep\n",
        "#wandb.agent(sweep_id, FF_fit, count = 20)\n",
        "wandb.agent(sweep_id, FF_fit, entity=\"anandh\", project = \"CS6910_Assignment1_Sweep\", count = 20)\n"
      ]
    },
    {
      "cell_type": "code",
      "source": [
        ""
      ],
      "metadata": {
        "id": "VJEhLatX0BKX"
      },
      "execution_count": null,
      "outputs": []
    },
    {
      "cell_type": "code",
      "source": [
        "from keras.datasets import mnist\n",
        "(X_mnist_full, y_mnist_full), (X_test_mnist_full, y_test_mnist_full) = mnist.load_data()\n",
        "\n",
        "# Reshaping the data \n",
        "X_mnist_full = X_mnist_full.reshape(X_mnist_full.shape[0], 784)\n",
        "X_test_mnist_full = X_test_mnist_full.reshape(X_test_mnist_full.shape[0], 784)\n",
        "\n",
        "# Normalizing\n",
        "X_mnist_full = X_mnist_full/255.0\n",
        "X_test_mnist_full = X_test_mnist_full/255.0\n",
        "\n",
        "#layer_dimensions\n",
        "la_mnist_full=[784, 256, 256, 256, 256, 10]\n",
        "L_mnist_full= len(la_mnist_full)-1\n",
        "\n",
        "params={}\n",
        "\n",
        "# Split the data X into a training set and validation set\n",
        "X_train_mnist_full, X_val_mnist_full, y_train_mnist_full, y_val_mnist_full = train_test_split(X_mnist_full, y_mnist_full, test_size=0.1, random_state=42)\n",
        "\n",
        "train_acc_mnist_full,train_loss_mnist_full,val_acc_mnist_full,val_loss_mnist_full= fit(X_mnist_full,y_mnist_full,32,10,0.01,'Xavier','nadam','cross_entropy',0,'tanh',la_mnist_full,L_mnist_full)\n",
        "test_acc=accuracy(X_test_mnist_full.T,y_test_mnist_full,params,'tanh')\n",
        "print(\"Accuracy of  test_data= \" + str(test_acc))\n",
        "#train_acc,train_loss,val_acc,val_loss=fit(X,y,batch,epochs,eta,weight_para,optimiser,loss,weight_decay,activation_para)\n",
        "\n",
        "#printing Accuracy and loss\n",
        "# for p in range(train_acc_mnist_full):\n",
        "#   print(\"Accuracy of  train= \" + str(train_acc_mnist_full[p]) +\"Loss of train = \" + str(train_loss_mnist_full[p]) + \"Accuracy of val=\" + str(val_acc_mnist_full[p]) + \"Accuracy of val=\" + str(val_loss_mnist_full[p]))\n",
        "\n",
        "   "
      ],
      "metadata": {
        "id": "JDKQbRVPa735",
        "colab": {
          "base_uri": "https://localhost:8080/"
        },
        "outputId": "1fc128bb-f83e-407c-de0a-5169938dee8f"
      },
      "execution_count": null,
      "outputs": [
        {
          "output_type": "stream",
          "name": "stdout",
          "text": [
            "Downloading data from https://storage.googleapis.com/tensorflow/tf-keras-datasets/mnist.npz\n",
            "11493376/11490434 [==============================] - 0s 0us/step\n",
            "11501568/11490434 [==============================] - 0s 0us/step\n",
            "calling optimizer nadam \n",
            "Accuracy of  test_data= 89.29\n"
          ]
        }
      ]
    },
    {
      "cell_type": "code",
      "source": [
        ""
      ],
      "metadata": {
        "id": "-d8k-JNS-fBr"
      },
      "execution_count": null,
      "outputs": []
    },
    {
      "cell_type": "markdown",
      "source": [
        "CONFUSION MATRIX"
      ],
      "metadata": {
        "id": "onaqzhykHeu4"
      }
    },
    {
      "cell_type": "code",
      "source": [
        "def accuracy_conf(x, y,params,activation_para):\n",
        "    _,_,yhate=feedforward(x, params,activation_para)\n",
        "    yh=np.argmax(yhate,axis=0)\n",
        "    return yh"
      ],
      "metadata": {
        "id": "D88-GDFC8uAa"
      },
      "execution_count": null,
      "outputs": []
    },
    {
      "cell_type": "code",
      "source": [
        "from sklearn.metrics import confusion_matrix\n",
        "from matplotlib import pyplot as plt\n",
        "import seaborn as sns\n",
        "la=[784,256,256,256,256,10]\n",
        "L=len(la)-1\n",
        "#X,y,batch,epochs,eta,weight_para,optimiser,loss,weight_decay,activation_para,la,L\n",
        "train_acc,train_loss,val_acc,val_loss=fit(X,y,16,10,0.001,'Xavier','nadam','cross_entropy',0.0005,'tanh',la,L)\n",
        "test_acc_conf=accuracy_conf(X_test.T,y_test,params,'tanh')\n",
        "#print(\"Accuracy of  test_data= \" + str(test_acc_conf))\n",
        "wandb.init(project='CS6910_Assignment1_Sweep',name='Confusion_matrix')\n",
        "conf_matrix = confusion_matrix(y_test, test_acc_conf, normalize='true')\n",
        "plt.figure(figsize=(12, 8))\n",
        "ax = sns.heatmap(conf_matrix, annot=True)#,xticklabels=class_names, yticklabels=class_names)\n",
        "ax.set_title(\"Confusion Matrix\", size=16)\n",
        "ax.set_xlabel(\"True\", size=14)\n",
        "ax.set_ylabel(\"Predictions\", size=14)\n",
        "plt.savefig(\"Confusion\")\n",
        "wandb.log({\"Confusion matrix\":wandb.Image(plt)})\n",
        "plt.show()\n",
        "wandb.finish()"
      ],
      "metadata": {
        "id": "RTxXkw7A2KwL",
        "colab": {
          "base_uri": "https://localhost:8080/",
          "height": 797,
          "referenced_widgets": [
            "d731168021604a72970911a26a25025f",
            "6fdf3061f1cf4467b37f63d915bdb441",
            "705b1f4fce8c4af8a496668271ec7bf9",
            "2bdddd5afb154b1e80a4d522ea6a5372",
            "aea6194a825f4641ac4045993cbcdb9a",
            "0a5cc471c9b34307b5ba9863fdecb576",
            "7e06f5af07684f20859a9bb9da3e283a",
            "53dcb675590a4c76a107a7d0ac0d64d7",
            "e80b92cc510145458cba4dded204ac57",
            "c4382d43c2414bb4b7f1f8fda4ccadcb",
            "939db62e90eb49b0beebec56b4c24a27",
            "069e336e39f645499a70a586b94b7bd4",
            "5fb4477da0ac4f509d659f0bf485a3de",
            "5dcb96fa32904d6090dfcd1b7968f507",
            "13151e6641d241c98c3e38497533c561",
            "90c67872a5b2489597ea1a0d55fb376c"
          ]
        },
        "outputId": "eaa23334-b787-45f2-8874-45f4e6b74ca5"
      },
      "execution_count": null,
      "outputs": [
        {
          "output_type": "stream",
          "name": "stdout",
          "text": [
            "calling optimizer nadam \n"
          ]
        },
        {
          "output_type": "display_data",
          "data": {
            "text/html": [
              "Finishing last run (ID:8wcuumgm) before initializing another..."
            ],
            "text/plain": [
              "<IPython.core.display.HTML object>"
            ]
          },
          "metadata": {}
        },
        {
          "output_type": "display_data",
          "data": {
            "text/html": [
              "<br/>Waiting for W&B process to finish, PID 790... <strong style=\"color:green\">(success).</strong>"
            ],
            "text/plain": [
              "<IPython.core.display.HTML object>"
            ]
          },
          "metadata": {}
        },
        {
          "output_type": "display_data",
          "data": {
            "application/vnd.jupyter.widget-view+json": {
              "model_id": "d731168021604a72970911a26a25025f",
              "version_minor": 0,
              "version_major": 2
            },
            "text/plain": [
              "VBox(children=(Label(value=' 0.05MB of 0.05MB uploaded (0.00MB deduped)\\r'), FloatProgress(value=1.0, max=1.0)…"
            ]
          },
          "metadata": {}
        },
        {
          "output_type": "display_data",
          "data": {
            "text/html": [
              "<style>\n",
              "    table.wandb td:nth-child(1) { padding: 0 10px; text-align: right }\n",
              "    .wandb-row { display: flex; flex-direction: row; flex-wrap: wrap; width: 100% }\n",
              "    .wandb-col { display: flex; flex-direction: column; flex-basis: 100%; flex: 1; padding: 10px; }\n",
              "    </style>\n",
              "<div class=\"wandb-row\"><div class=\"wandb-col\">\n",
              "</div><div class=\"wandb-col\">\n",
              "</div></div>\n",
              "Synced 5 W&B file(s), 1 media file(s), 0 artifact file(s) and 0 other file(s)\n",
              "<br/>Synced <strong style=\"color:#cdcd00\">Confusion_matrix</strong>: <a href=\"https://wandb.ai/anandh/CS6910_Assignment1_Sweep/runs/8wcuumgm\" target=\"_blank\">https://wandb.ai/anandh/CS6910_Assignment1_Sweep/runs/8wcuumgm</a><br/>\n",
              "Find logs at: <code>./wandb/run-20220225_145945-8wcuumgm/logs</code><br/>\n"
            ],
            "text/plain": [
              "<IPython.core.display.HTML object>"
            ]
          },
          "metadata": {}
        },
        {
          "output_type": "display_data",
          "data": {
            "text/html": [
              "Successfully finished last run (ID:8wcuumgm). Initializing new run:<br/>"
            ],
            "text/plain": [
              "<IPython.core.display.HTML object>"
            ]
          },
          "metadata": {}
        },
        {
          "output_type": "display_data",
          "data": {
            "text/html": [
              "\n",
              "                    Syncing run <strong><a href=\"https://wandb.ai/anandh/CS6910_Assignment1_Sweep/runs/1a8jwshb\" target=\"_blank\">Confusion_matrix</a></strong> to <a href=\"https://wandb.ai/anandh/CS6910_Assignment1_Sweep\" target=\"_blank\">Weights & Biases</a> (<a href=\"https://docs.wandb.com/integrations/jupyter.html\" target=\"_blank\">docs</a>).<br/>\n",
              "\n",
              "                "
            ],
            "text/plain": [
              "<IPython.core.display.HTML object>"
            ]
          },
          "metadata": {}
        },
        {
          "output_type": "display_data",
          "data": {
            "image/png": "[encoded data removed]",
            "text/plain": [
              "<Figure size 864x576 with 2 Axes>"
            ]
          },
          "metadata": {
            "needs_background": "light"
          }
        },
        {
          "output_type": "display_data",
          "data": {
            "text/html": [
              "<br/>Waiting for W&B process to finish, PID 881... <strong style=\"color:green\">(success).</strong>"
            ],
            "text/plain": [
              "<IPython.core.display.HTML object>"
            ]
          },
          "metadata": {}
        },
        {
          "output_type": "display_data",
          "data": {
            "application/vnd.jupyter.widget-view+json": {
              "model_id": "e80b92cc510145458cba4dded204ac57",
              "version_minor": 0,
              "version_major": 2
            },
            "text/plain": [
              "VBox(children=(Label(value=' 0.04MB of 0.04MB uploaded (0.00MB deduped)\\r'), FloatProgress(value=1.0, max=1.0)…"
            ]
          },
          "metadata": {}
        },
        {
          "output_type": "display_data",
          "data": {
            "text/html": [
              "<style>\n",
              "    table.wandb td:nth-child(1) { padding: 0 10px; text-align: right }\n",
              "    .wandb-row { display: flex; flex-direction: row; flex-wrap: wrap; width: 100% }\n",
              "    .wandb-col { display: flex; flex-direction: column; flex-basis: 100%; flex: 1; padding: 10px; }\n",
              "    </style>\n",
              "<div class=\"wandb-row\"><div class=\"wandb-col\">\n",
              "</div><div class=\"wandb-col\">\n",
              "</div></div>\n",
              "Synced 4 W&B file(s), 1 media file(s), 0 artifact file(s) and 0 other file(s)\n",
              "<br/>Synced <strong style=\"color:#cdcd00\">Confusion_matrix</strong>: <a href=\"https://wandb.ai/anandh/CS6910_Assignment1_Sweep/runs/1a8jwshb\" target=\"_blank\">https://wandb.ai/anandh/CS6910_Assignment1_Sweep/runs/1a8jwshb</a><br/>\n",
              "Find logs at: <code>./wandb/run-20220225_151146-1a8jwshb/logs</code><br/>\n"
            ],
            "text/plain": [
              "<IPython.core.display.HTML object>"
            ]
          },
          "metadata": {}
        }
      ]
    }
  ],
  "metadata": {
    "colab": {
      "collapsed_sections": [],
      "name": "Confusion_try",
      "provenance": [],
      "include_colab_link": true
    },
    "kernelspec": {
      "display_name": "Python 3",
      "name": "python3"
    },
    "language_info": {
      "name": "python"
    },
    "widgets": {
      "application/vnd.jupyter.widget-state+json": {
        "da7ec5e7ea184980bd48bd649e323f28": {
          "model_module": "@jupyter-widgets/controls",
          "model_name": "VBoxModel",
          "model_module_version": "1.5.0",
          "state": {
            "_view_name": "VBoxView",
            "_dom_classes": [],
            "_model_name": "VBoxModel",
            "_view_module": "@jupyter-widgets/controls",
            "_model_module_version": "1.5.0",
            "_view_count": null,
            "_view_module_version": "1.5.0",
            "box_style": "",
            "layout": "IPY_MODEL_de754652243d4484b8aed2548ad0e099",
            "_model_module": "@jupyter-widgets/controls",
            "children": [
              "IPY_MODEL_7dc3ba899b6f44038aefa402ba3302bf",
              "IPY_MODEL_8c0a2b1882d24928a19aea303d33b903"
            ]
          }
        },
        "de754652243d4484b8aed2548ad0e099": {
          "model_module": "@jupyter-widgets/base",
          "model_name": "LayoutModel",
          "model_module_version": "1.2.0",
          "state": {
            "_view_name": "LayoutView",
            "grid_template_rows": null,
            "right": null,
            "justify_content": null,
            "_view_module": "@jupyter-widgets/base",
            "overflow": null,
            "_model_module_version": "1.2.0",
            "_view_count": null,
            "flex_flow": null,
            "width": null,
            "min_width": null,
            "border": null,
            "align_items": null,
            "bottom": null,
            "_model_module": "@jupyter-widgets/base",
            "top": null,
            "grid_column": null,
            "overflow_y": null,
            "overflow_x": null,
            "grid_auto_flow": null,
            "grid_area": null,
            "grid_template_columns": null,
            "flex": null,
            "_model_name": "LayoutModel",
            "justify_items": null,
            "grid_row": null,
            "max_height": null,
            "align_content": null,
            "visibility": null,
            "align_self": null,
            "height": null,
            "min_height": null,
            "padding": null,
            "grid_auto_rows": null,
            "grid_gap": null,
            "max_width": null,
            "order": null,
            "_view_module_version": "1.2.0",
            "grid_template_areas": null,
            "object_position": null,
            "object_fit": null,
            "grid_auto_columns": null,
            "margin": null,
            "display": null,
            "left": null
          }
        },
        "7dc3ba899b6f44038aefa402ba3302bf": {
          "model_module": "@jupyter-widgets/controls",
          "model_name": "LabelModel",
          "model_module_version": "1.5.0",
          "state": {
            "_view_name": "LabelView",
            "style": "IPY_MODEL_3380b00443184ba0923556e971dab4a4",
            "_dom_classes": [],
            "description": "",
            "_model_name": "LabelModel",
            "placeholder": "​",
            "_view_module": "@jupyter-widgets/controls",
            "_model_module_version": "1.5.0",
            "value": " 0.01MB of 0.01MB uploaded (0.00MB deduped)\r",
            "_view_count": null,
            "_view_module_version": "1.5.0",
            "description_tooltip": null,
            "_model_module": "@jupyter-widgets/controls",
            "layout": "IPY_MODEL_c31b3dcfa2e74f47926f980d919f600f"
          }
        },
        "8c0a2b1882d24928a19aea303d33b903": {
          "model_module": "@jupyter-widgets/controls",
          "model_name": "FloatProgressModel",
          "model_module_version": "1.5.0",
          "state": {
            "_view_name": "ProgressView",
            "style": "IPY_MODEL_24f364907f474614a53261eb762653dd",
            "_dom_classes": [],
            "description": "",
            "_model_name": "FloatProgressModel",
            "bar_style": "",
            "max": 1,
            "_view_module": "@jupyter-widgets/controls",
            "_model_module_version": "1.5.0",
            "value": 1,
            "_view_count": null,
            "_view_module_version": "1.5.0",
            "orientation": "horizontal",
            "min": 0,
            "description_tooltip": null,
            "_model_module": "@jupyter-widgets/controls",
            "layout": "IPY_MODEL_e262792e05964b398cade44142fc83a9"
          }
        },
        "3380b00443184ba0923556e971dab4a4": {
          "model_module": "@jupyter-widgets/controls",
          "model_name": "DescriptionStyleModel",
          "model_module_version": "1.5.0",
          "state": {
            "_view_name": "StyleView",
            "_model_name": "DescriptionStyleModel",
            "description_width": "",
            "_view_module": "@jupyter-widgets/base",
            "_model_module_version": "1.5.0",
            "_view_count": null,
            "_view_module_version": "1.2.0",
            "_model_module": "@jupyter-widgets/controls"
          }
        },
        "c31b3dcfa2e74f47926f980d919f600f": {
          "model_module": "@jupyter-widgets/base",
          "model_name": "LayoutModel",
          "model_module_version": "1.2.0",
          "state": {
            "_view_name": "LayoutView",
            "grid_template_rows": null,
            "right": null,
            "justify_content": null,
            "_view_module": "@jupyter-widgets/base",
            "overflow": null,
            "_model_module_version": "1.2.0",
            "_view_count": null,
            "flex_flow": null,
            "width": null,
            "min_width": null,
            "border": null,
            "align_items": null,
            "bottom": null,
            "_model_module": "@jupyter-widgets/base",
            "top": null,
            "grid_column": null,
            "overflow_y": null,
            "overflow_x": null,
            "grid_auto_flow": null,
            "grid_area": null,
            "grid_template_columns": null,
            "flex": null,
            "_model_name": "LayoutModel",
            "justify_items": null,
            "grid_row": null,
            "max_height": null,
            "align_content": null,
            "visibility": null,
            "align_self": null,
            "height": null,
            "min_height": null,
            "padding": null,
            "grid_auto_rows": null,
            "grid_gap": null,
            "max_width": null,
            "order": null,
            "_view_module_version": "1.2.0",
            "grid_template_areas": null,
            "object_position": null,
            "object_fit": null,
            "grid_auto_columns": null,
            "margin": null,
            "display": null,
            "left": null
          }
        },
        "24f364907f474614a53261eb762653dd": {
          "model_module": "@jupyter-widgets/controls",
          "model_name": "ProgressStyleModel",
          "model_module_version": "1.5.0",
          "state": {
            "_view_name": "StyleView",
            "_model_name": "ProgressStyleModel",
            "description_width": "",
            "_view_module": "@jupyter-widgets/base",
            "_model_module_version": "1.5.0",
            "_view_count": null,
            "_view_module_version": "1.2.0",
            "bar_color": null,
            "_model_module": "@jupyter-widgets/controls"
          }
        },
        "e262792e05964b398cade44142fc83a9": {
          "model_module": "@jupyter-widgets/base",
          "model_name": "LayoutModel",
          "model_module_version": "1.2.0",
          "state": {
            "_view_name": "LayoutView",
            "grid_template_rows": null,
            "right": null,
            "justify_content": null,
            "_view_module": "@jupyter-widgets/base",
            "overflow": null,
            "_model_module_version": "1.2.0",
            "_view_count": null,
            "flex_flow": null,
            "width": null,
            "min_width": null,
            "border": null,
            "align_items": null,
            "bottom": null,
            "_model_module": "@jupyter-widgets/base",
            "top": null,
            "grid_column": null,
            "overflow_y": null,
            "overflow_x": null,
            "grid_auto_flow": null,
            "grid_area": null,
            "grid_template_columns": null,
            "flex": null,
            "_model_name": "LayoutModel",
            "justify_items": null,
            "grid_row": null,
            "max_height": null,
            "align_content": null,
            "visibility": null,
            "align_self": null,
            "height": null,
            "min_height": null,
            "padding": null,
            "grid_auto_rows": null,
            "grid_gap": null,
            "max_width": null,
            "order": null,
            "_view_module_version": "1.2.0",
            "grid_template_areas": null,
            "object_position": null,
            "object_fit": null,
            "grid_auto_columns": null,
            "margin": null,
            "display": null,
            "left": null
          }
        },
        "33c647d42bf64511a532fd1bcdce2235": {
          "model_module": "@jupyter-widgets/controls",
          "model_name": "VBoxModel",
          "model_module_version": "1.5.0",
          "state": {
            "_view_name": "VBoxView",
            "_dom_classes": [],
            "_model_name": "VBoxModel",
            "_view_module": "@jupyter-widgets/controls",
            "_model_module_version": "1.5.0",
            "_view_count": null,
            "_view_module_version": "1.5.0",
            "box_style": "",
            "layout": "IPY_MODEL_806a513eb6194a38b7ca33124cf38406",
            "_model_module": "@jupyter-widgets/controls",
            "children": [
              "IPY_MODEL_cb65afd6eb01403ba13c5e70df3fad8d",
              "IPY_MODEL_faf56eb775a34f899b03b221d0c6123b"
            ]
          }
        },
        "806a513eb6194a38b7ca33124cf38406": {
          "model_module": "@jupyter-widgets/base",
          "model_name": "LayoutModel",
          "model_module_version": "1.2.0",
          "state": {
            "_view_name": "LayoutView",
            "grid_template_rows": null,
            "right": null,
            "justify_content": null,
            "_view_module": "@jupyter-widgets/base",
            "overflow": null,
            "_model_module_version": "1.2.0",
            "_view_count": null,
            "flex_flow": null,
            "width": null,
            "min_width": null,
            "border": null,
            "align_items": null,
            "bottom": null,
            "_model_module": "@jupyter-widgets/base",
            "top": null,
            "grid_column": null,
            "overflow_y": null,
            "overflow_x": null,
            "grid_auto_flow": null,
            "grid_area": null,
            "grid_template_columns": null,
            "flex": null,
            "_model_name": "LayoutModel",
            "justify_items": null,
            "grid_row": null,
            "max_height": null,
            "align_content": null,
            "visibility": null,
            "align_self": null,
            "height": null,
            "min_height": null,
            "padding": null,
            "grid_auto_rows": null,
            "grid_gap": null,
            "max_width": null,
            "order": null,
            "_view_module_version": "1.2.0",
            "grid_template_areas": null,
            "object_position": null,
            "object_fit": null,
            "grid_auto_columns": null,
            "margin": null,
            "display": null,
            "left": null
          }
        },
        "cb65afd6eb01403ba13c5e70df3fad8d": {
          "model_module": "@jupyter-widgets/controls",
          "model_name": "LabelModel",
          "model_module_version": "1.5.0",
          "state": {
            "_view_name": "LabelView",
            "style": "IPY_MODEL_e883dd8b885142f6977586ae0372620b",
            "_dom_classes": [],
            "description": "",
            "_model_name": "LabelModel",
            "placeholder": "​",
            "_view_module": "@jupyter-widgets/controls",
            "_model_module_version": "1.5.0",
            "value": " 0.01MB of 0.01MB uploaded (0.00MB deduped)\r",
            "_view_count": null,
            "_view_module_version": "1.5.0",
            "description_tooltip": null,
            "_model_module": "@jupyter-widgets/controls",
            "layout": "IPY_MODEL_789ccb097e9a4056b7978b7705d59bb4"
          }
        },
        "faf56eb775a34f899b03b221d0c6123b": {
          "model_module": "@jupyter-widgets/controls",
          "model_name": "FloatProgressModel",
          "model_module_version": "1.5.0",
          "state": {
            "_view_name": "ProgressView",
            "style": "IPY_MODEL_fcd1f8cf110148c8979f122bd1de44c7",
            "_dom_classes": [],
            "description": "",
            "_model_name": "FloatProgressModel",
            "bar_style": "",
            "max": 1,
            "_view_module": "@jupyter-widgets/controls",
            "_model_module_version": "1.5.0",
            "value": 1,
            "_view_count": null,
            "_view_module_version": "1.5.0",
            "orientation": "horizontal",
            "min": 0,
            "description_tooltip": null,
            "_model_module": "@jupyter-widgets/controls",
            "layout": "IPY_MODEL_7751cbddcef04bf89770d8ea67779d00"
          }
        },
        "e883dd8b885142f6977586ae0372620b": {
          "model_module": "@jupyter-widgets/controls",
          "model_name": "DescriptionStyleModel",
          "model_module_version": "1.5.0",
          "state": {
            "_view_name": "StyleView",
            "_model_name": "DescriptionStyleModel",
            "description_width": "",
            "_view_module": "@jupyter-widgets/base",
            "_model_module_version": "1.5.0",
            "_view_count": null,
            "_view_module_version": "1.2.0",
            "_model_module": "@jupyter-widgets/controls"
          }
        },
        "789ccb097e9a4056b7978b7705d59bb4": {
          "model_module": "@jupyter-widgets/base",
          "model_name": "LayoutModel",
          "model_module_version": "1.2.0",
          "state": {
            "_view_name": "LayoutView",
            "grid_template_rows": null,
            "right": null,
            "justify_content": null,
            "_view_module": "@jupyter-widgets/base",
            "overflow": null,
            "_model_module_version": "1.2.0",
            "_view_count": null,
            "flex_flow": null,
            "width": null,
            "min_width": null,
            "border": null,
            "align_items": null,
            "bottom": null,
            "_model_module": "@jupyter-widgets/base",
            "top": null,
            "grid_column": null,
            "overflow_y": null,
            "overflow_x": null,
            "grid_auto_flow": null,
            "grid_area": null,
            "grid_template_columns": null,
            "flex": null,
            "_model_name": "LayoutModel",
            "justify_items": null,
            "grid_row": null,
            "max_height": null,
            "align_content": null,
            "visibility": null,
            "align_self": null,
            "height": null,
            "min_height": null,
            "padding": null,
            "grid_auto_rows": null,
            "grid_gap": null,
            "max_width": null,
            "order": null,
            "_view_module_version": "1.2.0",
            "grid_template_areas": null,
            "object_position": null,
            "object_fit": null,
            "grid_auto_columns": null,
            "margin": null,
            "display": null,
            "left": null
          }
        },
        "fcd1f8cf110148c8979f122bd1de44c7": {
          "model_module": "@jupyter-widgets/controls",
          "model_name": "ProgressStyleModel",
          "model_module_version": "1.5.0",
          "state": {
            "_view_name": "StyleView",
            "_model_name": "ProgressStyleModel",
            "description_width": "",
            "_view_module": "@jupyter-widgets/base",
            "_model_module_version": "1.5.0",
            "_view_count": null,
            "_view_module_version": "1.2.0",
            "bar_color": null,
            "_model_module": "@jupyter-widgets/controls"
          }
        },
        "7751cbddcef04bf89770d8ea67779d00": {
          "model_module": "@jupyter-widgets/base",
          "model_name": "LayoutModel",
          "model_module_version": "1.2.0",
          "state": {
            "_view_name": "LayoutView",
            "grid_template_rows": null,
            "right": null,
            "justify_content": null,
            "_view_module": "@jupyter-widgets/base",
            "overflow": null,
            "_model_module_version": "1.2.0",
            "_view_count": null,
            "flex_flow": null,
            "width": null,
            "min_width": null,
            "border": null,
            "align_items": null,
            "bottom": null,
            "_model_module": "@jupyter-widgets/base",
            "top": null,
            "grid_column": null,
            "overflow_y": null,
            "overflow_x": null,
            "grid_auto_flow": null,
            "grid_area": null,
            "grid_template_columns": null,
            "flex": null,
            "_model_name": "LayoutModel",
            "justify_items": null,
            "grid_row": null,
            "max_height": null,
            "align_content": null,
            "visibility": null,
            "align_self": null,
            "height": null,
            "min_height": null,
            "padding": null,
            "grid_auto_rows": null,
            "grid_gap": null,
            "max_width": null,
            "order": null,
            "_view_module_version": "1.2.0",
            "grid_template_areas": null,
            "object_position": null,
            "object_fit": null,
            "grid_auto_columns": null,
            "margin": null,
            "display": null,
            "left": null
          }
        },
        "98ad9f68bb314c4b9a689b7db8bcc62e": {
          "model_module": "@jupyter-widgets/controls",
          "model_name": "VBoxModel",
          "model_module_version": "1.5.0",
          "state": {
            "_view_name": "VBoxView",
            "_dom_classes": [],
            "_model_name": "VBoxModel",
            "_view_module": "@jupyter-widgets/controls",
            "_model_module_version": "1.5.0",
            "_view_count": null,
            "_view_module_version": "1.5.0",
            "box_style": "",
            "layout": "IPY_MODEL_fe2914a2db4142a4ae2cf0384d43407a",
            "_model_module": "@jupyter-widgets/controls",
            "children": [
              "IPY_MODEL_521f783ffae347a482dbd665ece1f1d1",
              "IPY_MODEL_2118cce6c3e54848b58678256d3a3799"
            ]
          }
        },
        "fe2914a2db4142a4ae2cf0384d43407a": {
          "model_module": "@jupyter-widgets/base",
          "model_name": "LayoutModel",
          "model_module_version": "1.2.0",
          "state": {
            "_view_name": "LayoutView",
            "grid_template_rows": null,
            "right": null,
            "justify_content": null,
            "_view_module": "@jupyter-widgets/base",
            "overflow": null,
            "_model_module_version": "1.2.0",
            "_view_count": null,
            "flex_flow": null,
            "width": null,
            "min_width": null,
            "border": null,
            "align_items": null,
            "bottom": null,
            "_model_module": "@jupyter-widgets/base",
            "top": null,
            "grid_column": null,
            "overflow_y": null,
            "overflow_x": null,
            "grid_auto_flow": null,
            "grid_area": null,
            "grid_template_columns": null,
            "flex": null,
            "_model_name": "LayoutModel",
            "justify_items": null,
            "grid_row": null,
            "max_height": null,
            "align_content": null,
            "visibility": null,
            "align_self": null,
            "height": null,
            "min_height": null,
            "padding": null,
            "grid_auto_rows": null,
            "grid_gap": null,
            "max_width": null,
            "order": null,
            "_view_module_version": "1.2.0",
            "grid_template_areas": null,
            "object_position": null,
            "object_fit": null,
            "grid_auto_columns": null,
            "margin": null,
            "display": null,
            "left": null
          }
        },
        "521f783ffae347a482dbd665ece1f1d1": {
          "model_module": "@jupyter-widgets/controls",
          "model_name": "LabelModel",
          "model_module_version": "1.5.0",
          "state": {
            "_view_name": "LabelView",
            "style": "IPY_MODEL_f7eff960575d416fa98806efc7e8e913",
            "_dom_classes": [],
            "description": "",
            "_model_name": "LabelModel",
            "placeholder": "​",
            "_view_module": "@jupyter-widgets/controls",
            "_model_module_version": "1.5.0",
            "value": " 0.01MB of 0.01MB uploaded (0.00MB deduped)\r",
            "_view_count": null,
            "_view_module_version": "1.5.0",
            "description_tooltip": null,
            "_model_module": "@jupyter-widgets/controls",
            "layout": "IPY_MODEL_d14e0ebfee64459aa360df77a77fd1cb"
          }
        },
        "2118cce6c3e54848b58678256d3a3799": {
          "model_module": "@jupyter-widgets/controls",
          "model_name": "FloatProgressModel",
          "model_module_version": "1.5.0",
          "state": {
            "_view_name": "ProgressView",
            "style": "IPY_MODEL_14c02b741c904ecfb70137b00ca8d895",
            "_dom_classes": [],
            "description": "",
            "_model_name": "FloatProgressModel",
            "bar_style": "",
            "max": 1,
            "_view_module": "@jupyter-widgets/controls",
            "_model_module_version": "1.5.0",
            "value": 1,
            "_view_count": null,
            "_view_module_version": "1.5.0",
            "orientation": "horizontal",
            "min": 0,
            "description_tooltip": null,
            "_model_module": "@jupyter-widgets/controls",
            "layout": "IPY_MODEL_42591b6c1d6b4286b3c39b3162736ac3"
          }
        },
        "f7eff960575d416fa98806efc7e8e913": {
          "model_module": "@jupyter-widgets/controls",
          "model_name": "DescriptionStyleModel",
          "model_module_version": "1.5.0",
          "state": {
            "_view_name": "StyleView",
            "_model_name": "DescriptionStyleModel",
            "description_width": "",
            "_view_module": "@jupyter-widgets/base",
            "_model_module_version": "1.5.0",
            "_view_count": null,
            "_view_module_version": "1.2.0",
            "_model_module": "@jupyter-widgets/controls"
          }
        },
        "d14e0ebfee64459aa360df77a77fd1cb": {
          "model_module": "@jupyter-widgets/base",
          "model_name": "LayoutModel",
          "model_module_version": "1.2.0",
          "state": {
            "_view_name": "LayoutView",
            "grid_template_rows": null,
            "right": null,
            "justify_content": null,
            "_view_module": "@jupyter-widgets/base",
            "overflow": null,
            "_model_module_version": "1.2.0",
            "_view_count": null,
            "flex_flow": null,
            "width": null,
            "min_width": null,
            "border": null,
            "align_items": null,
            "bottom": null,
            "_model_module": "@jupyter-widgets/base",
            "top": null,
            "grid_column": null,
            "overflow_y": null,
            "overflow_x": null,
            "grid_auto_flow": null,
            "grid_area": null,
            "grid_template_columns": null,
            "flex": null,
            "_model_name": "LayoutModel",
            "justify_items": null,
            "grid_row": null,
            "max_height": null,
            "align_content": null,
            "visibility": null,
            "align_self": null,
            "height": null,
            "min_height": null,
            "padding": null,
            "grid_auto_rows": null,
            "grid_gap": null,
            "max_width": null,
            "order": null,
            "_view_module_version": "1.2.0",
            "grid_template_areas": null,
            "object_position": null,
            "object_fit": null,
            "grid_auto_columns": null,
            "margin": null,
            "display": null,
            "left": null
          }
        },
        "14c02b741c904ecfb70137b00ca8d895": {
          "model_module": "@jupyter-widgets/controls",
          "model_name": "ProgressStyleModel",
          "model_module_version": "1.5.0",
          "state": {
            "_view_name": "StyleView",
            "_model_name": "ProgressStyleModel",
            "description_width": "",
            "_view_module": "@jupyter-widgets/base",
            "_model_module_version": "1.5.0",
            "_view_count": null,
            "_view_module_version": "1.2.0",
            "bar_color": null,
            "_model_module": "@jupyter-widgets/controls"
          }
        },
        "42591b6c1d6b4286b3c39b3162736ac3": {
          "model_module": "@jupyter-widgets/base",
          "model_name": "LayoutModel",
          "model_module_version": "1.2.0",
          "state": {
            "_view_name": "LayoutView",
            "grid_template_rows": null,
            "right": null,
            "justify_content": null,
            "_view_module": "@jupyter-widgets/base",
            "overflow": null,
            "_model_module_version": "1.2.0",
            "_view_count": null,
            "flex_flow": null,
            "width": null,
            "min_width": null,
            "border": null,
            "align_items": null,
            "bottom": null,
            "_model_module": "@jupyter-widgets/base",
            "top": null,
            "grid_column": null,
            "overflow_y": null,
            "overflow_x": null,
            "grid_auto_flow": null,
            "grid_area": null,
            "grid_template_columns": null,
            "flex": null,
            "_model_name": "LayoutModel",
            "justify_items": null,
            "grid_row": null,
            "max_height": null,
            "align_content": null,
            "visibility": null,
            "align_self": null,
            "height": null,
            "min_height": null,
            "padding": null,
            "grid_auto_rows": null,
            "grid_gap": null,
            "max_width": null,
            "order": null,
            "_view_module_version": "1.2.0",
            "grid_template_areas": null,
            "object_position": null,
            "object_fit": null,
            "grid_auto_columns": null,
            "margin": null,
            "display": null,
            "left": null
          }
        },
        "b9cea9b021fd462f9657e75186f8057d": {
          "model_module": "@jupyter-widgets/controls",
          "model_name": "VBoxModel",
          "model_module_version": "1.5.0",
          "state": {
            "_view_name": "VBoxView",
            "_dom_classes": [],
            "_model_name": "VBoxModel",
            "_view_module": "@jupyter-widgets/controls",
            "_model_module_version": "1.5.0",
            "_view_count": null,
            "_view_module_version": "1.5.0",
            "box_style": "",
            "layout": "IPY_MODEL_e645fd747ccc4f41a4b18971e4e1b257",
            "_model_module": "@jupyter-widgets/controls",
            "children": [
              "IPY_MODEL_b51f43ddb8c74df79fa7677614cd4f8e",
              "IPY_MODEL_f3dffc3e243a488dac378fa25c069da9"
            ]
          }
        },
        "e645fd747ccc4f41a4b18971e4e1b257": {
          "model_module": "@jupyter-widgets/base",
          "model_name": "LayoutModel",
          "model_module_version": "1.2.0",
          "state": {
            "_view_name": "LayoutView",
            "grid_template_rows": null,
            "right": null,
            "justify_content": null,
            "_view_module": "@jupyter-widgets/base",
            "overflow": null,
            "_model_module_version": "1.2.0",
            "_view_count": null,
            "flex_flow": null,
            "width": null,
            "min_width": null,
            "border": null,
            "align_items": null,
            "bottom": null,
            "_model_module": "@jupyter-widgets/base",
            "top": null,
            "grid_column": null,
            "overflow_y": null,
            "overflow_x": null,
            "grid_auto_flow": null,
            "grid_area": null,
            "grid_template_columns": null,
            "flex": null,
            "_model_name": "LayoutModel",
            "justify_items": null,
            "grid_row": null,
            "max_height": null,
            "align_content": null,
            "visibility": null,
            "align_self": null,
            "height": null,
            "min_height": null,
            "padding": null,
            "grid_auto_rows": null,
            "grid_gap": null,
            "max_width": null,
            "order": null,
            "_view_module_version": "1.2.0",
            "grid_template_areas": null,
            "object_position": null,
            "object_fit": null,
            "grid_auto_columns": null,
            "margin": null,
            "display": null,
            "left": null
          }
        },
        "b51f43ddb8c74df79fa7677614cd4f8e": {
          "model_module": "@jupyter-widgets/controls",
          "model_name": "LabelModel",
          "model_module_version": "1.5.0",
          "state": {
            "_view_name": "LabelView",
            "style": "IPY_MODEL_ac071b591de646efba409e928eded3fc",
            "_dom_classes": [],
            "description": "",
            "_model_name": "LabelModel",
            "placeholder": "​",
            "_view_module": "@jupyter-widgets/controls",
            "_model_module_version": "1.5.0",
            "value": " 0.01MB of 0.01MB uploaded (0.00MB deduped)\r",
            "_view_count": null,
            "_view_module_version": "1.5.0",
            "description_tooltip": null,
            "_model_module": "@jupyter-widgets/controls",
            "layout": "IPY_MODEL_b698da1e4202489bb5a04364297ea1ac"
          }
        },
        "f3dffc3e243a488dac378fa25c069da9": {
          "model_module": "@jupyter-widgets/controls",
          "model_name": "FloatProgressModel",
          "model_module_version": "1.5.0",
          "state": {
            "_view_name": "ProgressView",
            "style": "IPY_MODEL_282e11e507a44baf86e5fd111395d6a1",
            "_dom_classes": [],
            "description": "",
            "_model_name": "FloatProgressModel",
            "bar_style": "",
            "max": 1,
            "_view_module": "@jupyter-widgets/controls",
            "_model_module_version": "1.5.0",
            "value": 1,
            "_view_count": null,
            "_view_module_version": "1.5.0",
            "orientation": "horizontal",
            "min": 0,
            "description_tooltip": null,
            "_model_module": "@jupyter-widgets/controls",
            "layout": "IPY_MODEL_f4756069b84d40ef887ce539f377f192"
          }
        },
        "ac071b591de646efba409e928eded3fc": {
          "model_module": "@jupyter-widgets/controls",
          "model_name": "DescriptionStyleModel",
          "model_module_version": "1.5.0",
          "state": {
            "_view_name": "StyleView",
            "_model_name": "DescriptionStyleModel",
            "description_width": "",
            "_view_module": "@jupyter-widgets/base",
            "_model_module_version": "1.5.0",
            "_view_count": null,
            "_view_module_version": "1.2.0",
            "_model_module": "@jupyter-widgets/controls"
          }
        },
        "b698da1e4202489bb5a04364297ea1ac": {
          "model_module": "@jupyter-widgets/base",
          "model_name": "LayoutModel",
          "model_module_version": "1.2.0",
          "state": {
            "_view_name": "LayoutView",
            "grid_template_rows": null,
            "right": null,
            "justify_content": null,
            "_view_module": "@jupyter-widgets/base",
            "overflow": null,
            "_model_module_version": "1.2.0",
            "_view_count": null,
            "flex_flow": null,
            "width": null,
            "min_width": null,
            "border": null,
            "align_items": null,
            "bottom": null,
            "_model_module": "@jupyter-widgets/base",
            "top": null,
            "grid_column": null,
            "overflow_y": null,
            "overflow_x": null,
            "grid_auto_flow": null,
            "grid_area": null,
            "grid_template_columns": null,
            "flex": null,
            "_model_name": "LayoutModel",
            "justify_items": null,
            "grid_row": null,
            "max_height": null,
            "align_content": null,
            "visibility": null,
            "align_self": null,
            "height": null,
            "min_height": null,
            "padding": null,
            "grid_auto_rows": null,
            "grid_gap": null,
            "max_width": null,
            "order": null,
            "_view_module_version": "1.2.0",
            "grid_template_areas": null,
            "object_position": null,
            "object_fit": null,
            "grid_auto_columns": null,
            "margin": null,
            "display": null,
            "left": null
          }
        },
        "282e11e507a44baf86e5fd111395d6a1": {
          "model_module": "@jupyter-widgets/controls",
          "model_name": "ProgressStyleModel",
          "model_module_version": "1.5.0",
          "state": {
            "_view_name": "StyleView",
            "_model_name": "ProgressStyleModel",
            "description_width": "",
            "_view_module": "@jupyter-widgets/base",
            "_model_module_version": "1.5.0",
            "_view_count": null,
            "_view_module_version": "1.2.0",
            "bar_color": null,
            "_model_module": "@jupyter-widgets/controls"
          }
        },
        "f4756069b84d40ef887ce539f377f192": {
          "model_module": "@jupyter-widgets/base",
          "model_name": "LayoutModel",
          "model_module_version": "1.2.0",
          "state": {
            "_view_name": "LayoutView",
            "grid_template_rows": null,
            "right": null,
            "justify_content": null,
            "_view_module": "@jupyter-widgets/base",
            "overflow": null,
            "_model_module_version": "1.2.0",
            "_view_count": null,
            "flex_flow": null,
            "width": null,
            "min_width": null,
            "border": null,
            "align_items": null,
            "bottom": null,
            "_model_module": "@jupyter-widgets/base",
            "top": null,
            "grid_column": null,
            "overflow_y": null,
            "overflow_x": null,
            "grid_auto_flow": null,
            "grid_area": null,
            "grid_template_columns": null,
            "flex": null,
            "_model_name": "LayoutModel",
            "justify_items": null,
            "grid_row": null,
            "max_height": null,
            "align_content": null,
            "visibility": null,
            "align_self": null,
            "height": null,
            "min_height": null,
            "padding": null,
            "grid_auto_rows": null,
            "grid_gap": null,
            "max_width": null,
            "order": null,
            "_view_module_version": "1.2.0",
            "grid_template_areas": null,
            "object_position": null,
            "object_fit": null,
            "grid_auto_columns": null,
            "margin": null,
            "display": null,
            "left": null
          }
        },
        "7708cbfa36694e8a8e994f3347870789": {
          "model_module": "@jupyter-widgets/controls",
          "model_name": "VBoxModel",
          "model_module_version": "1.5.0",
          "state": {
            "_view_name": "VBoxView",
            "_dom_classes": [],
            "_model_name": "VBoxModel",
            "_view_module": "@jupyter-widgets/controls",
            "_model_module_version": "1.5.0",
            "_view_count": null,
            "_view_module_version": "1.5.0",
            "box_style": "",
            "layout": "IPY_MODEL_59abdbe8804f4f63aa23196ee3a42b89",
            "_model_module": "@jupyter-widgets/controls",
            "children": [
              "IPY_MODEL_4cf2a8e37f264703b609ae553d37645b",
              "IPY_MODEL_df63ac637a7446f988cb68aee3e7007d"
            ]
          }
        },
        "59abdbe8804f4f63aa23196ee3a42b89": {
          "model_module": "@jupyter-widgets/base",
          "model_name": "LayoutModel",
          "model_module_version": "1.2.0",
          "state": {
            "_view_name": "LayoutView",
            "grid_template_rows": null,
            "right": null,
            "justify_content": null,
            "_view_module": "@jupyter-widgets/base",
            "overflow": null,
            "_model_module_version": "1.2.0",
            "_view_count": null,
            "flex_flow": null,
            "width": null,
            "min_width": null,
            "border": null,
            "align_items": null,
            "bottom": null,
            "_model_module": "@jupyter-widgets/base",
            "top": null,
            "grid_column": null,
            "overflow_y": null,
            "overflow_x": null,
            "grid_auto_flow": null,
            "grid_area": null,
            "grid_template_columns": null,
            "flex": null,
            "_model_name": "LayoutModel",
            "justify_items": null,
            "grid_row": null,
            "max_height": null,
            "align_content": null,
            "visibility": null,
            "align_self": null,
            "height": null,
            "min_height": null,
            "padding": null,
            "grid_auto_rows": null,
            "grid_gap": null,
            "max_width": null,
            "order": null,
            "_view_module_version": "1.2.0",
            "grid_template_areas": null,
            "object_position": null,
            "object_fit": null,
            "grid_auto_columns": null,
            "margin": null,
            "display": null,
            "left": null
          }
        },
        "4cf2a8e37f264703b609ae553d37645b": {
          "model_module": "@jupyter-widgets/controls",
          "model_name": "LabelModel",
          "model_module_version": "1.5.0",
          "state": {
            "_view_name": "LabelView",
            "style": "IPY_MODEL_4c342862caf34ebf9801d609749773a8",
            "_dom_classes": [],
            "description": "",
            "_model_name": "LabelModel",
            "placeholder": "​",
            "_view_module": "@jupyter-widgets/controls",
            "_model_module_version": "1.5.0",
            "value": " 0.01MB of 0.01MB uploaded (0.00MB deduped)\r",
            "_view_count": null,
            "_view_module_version": "1.5.0",
            "description_tooltip": null,
            "_model_module": "@jupyter-widgets/controls",
            "layout": "IPY_MODEL_6fe0b36febb040c388649d02c092c0ca"
          }
        },
        "df63ac637a7446f988cb68aee3e7007d": {
          "model_module": "@jupyter-widgets/controls",
          "model_name": "FloatProgressModel",
          "model_module_version": "1.5.0",
          "state": {
            "_view_name": "ProgressView",
            "style": "IPY_MODEL_2b5df5f0984345f094148b2a6e1c6b76",
            "_dom_classes": [],
            "description": "",
            "_model_name": "FloatProgressModel",
            "bar_style": "",
            "max": 1,
            "_view_module": "@jupyter-widgets/controls",
            "_model_module_version": "1.5.0",
            "value": 1,
            "_view_count": null,
            "_view_module_version": "1.5.0",
            "orientation": "horizontal",
            "min": 0,
            "description_tooltip": null,
            "_model_module": "@jupyter-widgets/controls",
            "layout": "IPY_MODEL_3cf185efe0d444b1961930fae73054a7"
          }
        },
        "4c342862caf34ebf9801d609749773a8": {
          "model_module": "@jupyter-widgets/controls",
          "model_name": "DescriptionStyleModel",
          "model_module_version": "1.5.0",
          "state": {
            "_view_name": "StyleView",
            "_model_name": "DescriptionStyleModel",
            "description_width": "",
            "_view_module": "@jupyter-widgets/base",
            "_model_module_version": "1.5.0",
            "_view_count": null,
            "_view_module_version": "1.2.0",
            "_model_module": "@jupyter-widgets/controls"
          }
        },
        "6fe0b36febb040c388649d02c092c0ca": {
          "model_module": "@jupyter-widgets/base",
          "model_name": "LayoutModel",
          "model_module_version": "1.2.0",
          "state": {
            "_view_name": "LayoutView",
            "grid_template_rows": null,
            "right": null,
            "justify_content": null,
            "_view_module": "@jupyter-widgets/base",
            "overflow": null,
            "_model_module_version": "1.2.0",
            "_view_count": null,
            "flex_flow": null,
            "width": null,
            "min_width": null,
            "border": null,
            "align_items": null,
            "bottom": null,
            "_model_module": "@jupyter-widgets/base",
            "top": null,
            "grid_column": null,
            "overflow_y": null,
            "overflow_x": null,
            "grid_auto_flow": null,
            "grid_area": null,
            "grid_template_columns": null,
            "flex": null,
            "_model_name": "LayoutModel",
            "justify_items": null,
            "grid_row": null,
            "max_height": null,
            "align_content": null,
            "visibility": null,
            "align_self": null,
            "height": null,
            "min_height": null,
            "padding": null,
            "grid_auto_rows": null,
            "grid_gap": null,
            "max_width": null,
            "order": null,
            "_view_module_version": "1.2.0",
            "grid_template_areas": null,
            "object_position": null,
            "object_fit": null,
            "grid_auto_columns": null,
            "margin": null,
            "display": null,
            "left": null
          }
        },
        "2b5df5f0984345f094148b2a6e1c6b76": {
          "model_module": "@jupyter-widgets/controls",
          "model_name": "ProgressStyleModel",
          "model_module_version": "1.5.0",
          "state": {
            "_view_name": "StyleView",
            "_model_name": "ProgressStyleModel",
            "description_width": "",
            "_view_module": "@jupyter-widgets/base",
            "_model_module_version": "1.5.0",
            "_view_count": null,
            "_view_module_version": "1.2.0",
            "bar_color": null,
            "_model_module": "@jupyter-widgets/controls"
          }
        },
        "3cf185efe0d444b1961930fae73054a7": {
          "model_module": "@jupyter-widgets/base",
          "model_name": "LayoutModel",
          "model_module_version": "1.2.0",
          "state": {
            "_view_name": "LayoutView",
            "grid_template_rows": null,
            "right": null,
            "justify_content": null,
            "_view_module": "@jupyter-widgets/base",
            "overflow": null,
            "_model_module_version": "1.2.0",
            "_view_count": null,
            "flex_flow": null,
            "width": null,
            "min_width": null,
            "border": null,
            "align_items": null,
            "bottom": null,
            "_model_module": "@jupyter-widgets/base",
            "top": null,
            "grid_column": null,
            "overflow_y": null,
            "overflow_x": null,
            "grid_auto_flow": null,
            "grid_area": null,
            "grid_template_columns": null,
            "flex": null,
            "_model_name": "LayoutModel",
            "justify_items": null,
            "grid_row": null,
            "max_height": null,
            "align_content": null,
            "visibility": null,
            "align_self": null,
            "height": null,
            "min_height": null,
            "padding": null,
            "grid_auto_rows": null,
            "grid_gap": null,
            "max_width": null,
            "order": null,
            "_view_module_version": "1.2.0",
            "grid_template_areas": null,
            "object_position": null,
            "object_fit": null,
            "grid_auto_columns": null,
            "margin": null,
            "display": null,
            "left": null
          }
        },
        "e49dcfea81a74498bf6002f37373bdd7": {
          "model_module": "@jupyter-widgets/controls",
          "model_name": "VBoxModel",
          "model_module_version": "1.5.0",
          "state": {
            "_view_name": "VBoxView",
            "_dom_classes": [],
            "_model_name": "VBoxModel",
            "_view_module": "@jupyter-widgets/controls",
            "_model_module_version": "1.5.0",
            "_view_count": null,
            "_view_module_version": "1.5.0",
            "box_style": "",
            "layout": "IPY_MODEL_c11df8f0f8524c30bdb9c956afde957d",
            "_model_module": "@jupyter-widgets/controls",
            "children": [
              "IPY_MODEL_3d4f0c75ed734b51ae58a6cc12340dfb",
              "IPY_MODEL_2f5349e814e449979275082c91c7e087"
            ]
          }
        },
        "c11df8f0f8524c30bdb9c956afde957d": {
          "model_module": "@jupyter-widgets/base",
          "model_name": "LayoutModel",
          "model_module_version": "1.2.0",
          "state": {
            "_view_name": "LayoutView",
            "grid_template_rows": null,
            "right": null,
            "justify_content": null,
            "_view_module": "@jupyter-widgets/base",
            "overflow": null,
            "_model_module_version": "1.2.0",
            "_view_count": null,
            "flex_flow": null,
            "width": null,
            "min_width": null,
            "border": null,
            "align_items": null,
            "bottom": null,
            "_model_module": "@jupyter-widgets/base",
            "top": null,
            "grid_column": null,
            "overflow_y": null,
            "overflow_x": null,
            "grid_auto_flow": null,
            "grid_area": null,
            "grid_template_columns": null,
            "flex": null,
            "_model_name": "LayoutModel",
            "justify_items": null,
            "grid_row": null,
            "max_height": null,
            "align_content": null,
            "visibility": null,
            "align_self": null,
            "height": null,
            "min_height": null,
            "padding": null,
            "grid_auto_rows": null,
            "grid_gap": null,
            "max_width": null,
            "order": null,
            "_view_module_version": "1.2.0",
            "grid_template_areas": null,
            "object_position": null,
            "object_fit": null,
            "grid_auto_columns": null,
            "margin": null,
            "display": null,
            "left": null
          }
        },
        "3d4f0c75ed734b51ae58a6cc12340dfb": {
          "model_module": "@jupyter-widgets/controls",
          "model_name": "LabelModel",
          "model_module_version": "1.5.0",
          "state": {
            "_view_name": "LabelView",
            "style": "IPY_MODEL_fdf57ac261fc48f287d7fc66f8287ce8",
            "_dom_classes": [],
            "description": "",
            "_model_name": "LabelModel",
            "placeholder": "​",
            "_view_module": "@jupyter-widgets/controls",
            "_model_module_version": "1.5.0",
            "value": " 0.01MB of 0.01MB uploaded (0.00MB deduped)\r",
            "_view_count": null,
            "_view_module_version": "1.5.0",
            "description_tooltip": null,
            "_model_module": "@jupyter-widgets/controls",
            "layout": "IPY_MODEL_34f16c9e54b94596b59b151d8bcb2284"
          }
        },
        "2f5349e814e449979275082c91c7e087": {
          "model_module": "@jupyter-widgets/controls",
          "model_name": "FloatProgressModel",
          "model_module_version": "1.5.0",
          "state": {
            "_view_name": "ProgressView",
            "style": "IPY_MODEL_75bac5c30af74ea390791b9c0f6b7f56",
            "_dom_classes": [],
            "description": "",
            "_model_name": "FloatProgressModel",
            "bar_style": "",
            "max": 1,
            "_view_module": "@jupyter-widgets/controls",
            "_model_module_version": "1.5.0",
            "value": 1,
            "_view_count": null,
            "_view_module_version": "1.5.0",
            "orientation": "horizontal",
            "min": 0,
            "description_tooltip": null,
            "_model_module": "@jupyter-widgets/controls",
            "layout": "IPY_MODEL_8b66ea5e75ea4b3c8a6297e4350429b7"
          }
        },
        "fdf57ac261fc48f287d7fc66f8287ce8": {
          "model_module": "@jupyter-widgets/controls",
          "model_name": "DescriptionStyleModel",
          "model_module_version": "1.5.0",
          "state": {
            "_view_name": "StyleView",
            "_model_name": "DescriptionStyleModel",
            "description_width": "",
            "_view_module": "@jupyter-widgets/base",
            "_model_module_version": "1.5.0",
            "_view_count": null,
            "_view_module_version": "1.2.0",
            "_model_module": "@jupyter-widgets/controls"
          }
        },
        "34f16c9e54b94596b59b151d8bcb2284": {
          "model_module": "@jupyter-widgets/base",
          "model_name": "LayoutModel",
          "model_module_version": "1.2.0",
          "state": {
            "_view_name": "LayoutView",
            "grid_template_rows": null,
            "right": null,
            "justify_content": null,
            "_view_module": "@jupyter-widgets/base",
            "overflow": null,
            "_model_module_version": "1.2.0",
            "_view_count": null,
            "flex_flow": null,
            "width": null,
            "min_width": null,
            "border": null,
            "align_items": null,
            "bottom": null,
            "_model_module": "@jupyter-widgets/base",
            "top": null,
            "grid_column": null,
            "overflow_y": null,
            "overflow_x": null,
            "grid_auto_flow": null,
            "grid_area": null,
            "grid_template_columns": null,
            "flex": null,
            "_model_name": "LayoutModel",
            "justify_items": null,
            "grid_row": null,
            "max_height": null,
            "align_content": null,
            "visibility": null,
            "align_self": null,
            "height": null,
            "min_height": null,
            "padding": null,
            "grid_auto_rows": null,
            "grid_gap": null,
            "max_width": null,
            "order": null,
            "_view_module_version": "1.2.0",
            "grid_template_areas": null,
            "object_position": null,
            "object_fit": null,
            "grid_auto_columns": null,
            "margin": null,
            "display": null,
            "left": null
          }
        },
        "75bac5c30af74ea390791b9c0f6b7f56": {
          "model_module": "@jupyter-widgets/controls",
          "model_name": "ProgressStyleModel",
          "model_module_version": "1.5.0",
          "state": {
            "_view_name": "StyleView",
            "_model_name": "ProgressStyleModel",
            "description_width": "",
            "_view_module": "@jupyter-widgets/base",
            "_model_module_version": "1.5.0",
            "_view_count": null,
            "_view_module_version": "1.2.0",
            "bar_color": null,
            "_model_module": "@jupyter-widgets/controls"
          }
        },
        "8b66ea5e75ea4b3c8a6297e4350429b7": {
          "model_module": "@jupyter-widgets/base",
          "model_name": "LayoutModel",
          "model_module_version": "1.2.0",
          "state": {
            "_view_name": "LayoutView",
            "grid_template_rows": null,
            "right": null,
            "justify_content": null,
            "_view_module": "@jupyter-widgets/base",
            "overflow": null,
            "_model_module_version": "1.2.0",
            "_view_count": null,
            "flex_flow": null,
            "width": null,
            "min_width": null,
            "border": null,
            "align_items": null,
            "bottom": null,
            "_model_module": "@jupyter-widgets/base",
            "top": null,
            "grid_column": null,
            "overflow_y": null,
            "overflow_x": null,
            "grid_auto_flow": null,
            "grid_area": null,
            "grid_template_columns": null,
            "flex": null,
            "_model_name": "LayoutModel",
            "justify_items": null,
            "grid_row": null,
            "max_height": null,
            "align_content": null,
            "visibility": null,
            "align_self": null,
            "height": null,
            "min_height": null,
            "padding": null,
            "grid_auto_rows": null,
            "grid_gap": null,
            "max_width": null,
            "order": null,
            "_view_module_version": "1.2.0",
            "grid_template_areas": null,
            "object_position": null,
            "object_fit": null,
            "grid_auto_columns": null,
            "margin": null,
            "display": null,
            "left": null
          }
        },
        "d731168021604a72970911a26a25025f": {
          "model_module": "@jupyter-widgets/controls",
          "model_name": "VBoxModel",
          "model_module_version": "1.5.0",
          "state": {
            "_view_name": "VBoxView",
            "_dom_classes": [],
            "_model_name": "VBoxModel",
            "_view_module": "@jupyter-widgets/controls",
            "_model_module_version": "1.5.0",
            "_view_count": null,
            "_view_module_version": "1.5.0",
            "box_style": "",
            "layout": "IPY_MODEL_6fdf3061f1cf4467b37f63d915bdb441",
            "_model_module": "@jupyter-widgets/controls",
            "children": [
              "IPY_MODEL_705b1f4fce8c4af8a496668271ec7bf9",
              "IPY_MODEL_2bdddd5afb154b1e80a4d522ea6a5372"
            ]
          }
        },
        "6fdf3061f1cf4467b37f63d915bdb441": {
          "model_module": "@jupyter-widgets/base",
          "model_name": "LayoutModel",
          "model_module_version": "1.2.0",
          "state": {
            "_view_name": "LayoutView",
            "grid_template_rows": null,
            "right": null,
            "justify_content": null,
            "_view_module": "@jupyter-widgets/base",
            "overflow": null,
            "_model_module_version": "1.2.0",
            "_view_count": null,
            "flex_flow": null,
            "width": null,
            "min_width": null,
            "border": null,
            "align_items": null,
            "bottom": null,
            "_model_module": "@jupyter-widgets/base",
            "top": null,
            "grid_column": null,
            "overflow_y": null,
            "overflow_x": null,
            "grid_auto_flow": null,
            "grid_area": null,
            "grid_template_columns": null,
            "flex": null,
            "_model_name": "LayoutModel",
            "justify_items": null,
            "grid_row": null,
            "max_height": null,
            "align_content": null,
            "visibility": null,
            "align_self": null,
            "height": null,
            "min_height": null,
            "padding": null,
            "grid_auto_rows": null,
            "grid_gap": null,
            "max_width": null,
            "order": null,
            "_view_module_version": "1.2.0",
            "grid_template_areas": null,
            "object_position": null,
            "object_fit": null,
            "grid_auto_columns": null,
            "margin": null,
            "display": null,
            "left": null
          }
        },
        "705b1f4fce8c4af8a496668271ec7bf9": {
          "model_module": "@jupyter-widgets/controls",
          "model_name": "LabelModel",
          "model_module_version": "1.5.0",
          "state": {
            "_view_name": "LabelView",
            "style": "IPY_MODEL_aea6194a825f4641ac4045993cbcdb9a",
            "_dom_classes": [],
            "description": "",
            "_model_name": "LabelModel",
            "placeholder": "​",
            "_view_module": "@jupyter-widgets/controls",
            "_model_module_version": "1.5.0",
            "value": " 0.06MB of 0.06MB uploaded (0.00MB deduped)\r",
            "_view_count": null,
            "_view_module_version": "1.5.0",
            "description_tooltip": null,
            "_model_module": "@jupyter-widgets/controls",
            "layout": "IPY_MODEL_0a5cc471c9b34307b5ba9863fdecb576"
          }
        },
        "2bdddd5afb154b1e80a4d522ea6a5372": {
          "model_module": "@jupyter-widgets/controls",
          "model_name": "FloatProgressModel",
          "model_module_version": "1.5.0",
          "state": {
            "_view_name": "ProgressView",
            "style": "IPY_MODEL_7e06f5af07684f20859a9bb9da3e283a",
            "_dom_classes": [],
            "description": "",
            "_model_name": "FloatProgressModel",
            "bar_style": "",
            "max": 1,
            "_view_module": "@jupyter-widgets/controls",
            "_model_module_version": "1.5.0",
            "value": 1,
            "_view_count": null,
            "_view_module_version": "1.5.0",
            "orientation": "horizontal",
            "min": 0,
            "description_tooltip": null,
            "_model_module": "@jupyter-widgets/controls",
            "layout": "IPY_MODEL_53dcb675590a4c76a107a7d0ac0d64d7"
          }
        },
        "aea6194a825f4641ac4045993cbcdb9a": {
          "model_module": "@jupyter-widgets/controls",
          "model_name": "DescriptionStyleModel",
          "model_module_version": "1.5.0",
          "state": {
            "_view_name": "StyleView",
            "_model_name": "DescriptionStyleModel",
            "description_width": "",
            "_view_module": "@jupyter-widgets/base",
            "_model_module_version": "1.5.0",
            "_view_count": null,
            "_view_module_version": "1.2.0",
            "_model_module": "@jupyter-widgets/controls"
          }
        },
        "0a5cc471c9b34307b5ba9863fdecb576": {
          "model_module": "@jupyter-widgets/base",
          "model_name": "LayoutModel",
          "model_module_version": "1.2.0",
          "state": {
            "_view_name": "LayoutView",
            "grid_template_rows": null,
            "right": null,
            "justify_content": null,
            "_view_module": "@jupyter-widgets/base",
            "overflow": null,
            "_model_module_version": "1.2.0",
            "_view_count": null,
            "flex_flow": null,
            "width": null,
            "min_width": null,
            "border": null,
            "align_items": null,
            "bottom": null,
            "_model_module": "@jupyter-widgets/base",
            "top": null,
            "grid_column": null,
            "overflow_y": null,
            "overflow_x": null,
            "grid_auto_flow": null,
            "grid_area": null,
            "grid_template_columns": null,
            "flex": null,
            "_model_name": "LayoutModel",
            "justify_items": null,
            "grid_row": null,
            "max_height": null,
            "align_content": null,
            "visibility": null,
            "align_self": null,
            "height": null,
            "min_height": null,
            "padding": null,
            "grid_auto_rows": null,
            "grid_gap": null,
            "max_width": null,
            "order": null,
            "_view_module_version": "1.2.0",
            "grid_template_areas": null,
            "object_position": null,
            "object_fit": null,
            "grid_auto_columns": null,
            "margin": null,
            "display": null,
            "left": null
          }
        },
        "7e06f5af07684f20859a9bb9da3e283a": {
          "model_module": "@jupyter-widgets/controls",
          "model_name": "ProgressStyleModel",
          "model_module_version": "1.5.0",
          "state": {
            "_view_name": "StyleView",
            "_model_name": "ProgressStyleModel",
            "description_width": "",
            "_view_module": "@jupyter-widgets/base",
            "_model_module_version": "1.5.0",
            "_view_count": null,
            "_view_module_version": "1.2.0",
            "bar_color": null,
            "_model_module": "@jupyter-widgets/controls"
          }
        },
        "53dcb675590a4c76a107a7d0ac0d64d7": {
          "model_module": "@jupyter-widgets/base",
          "model_name": "LayoutModel",
          "model_module_version": "1.2.0",
          "state": {
            "_view_name": "LayoutView",
            "grid_template_rows": null,
            "right": null,
            "justify_content": null,
            "_view_module": "@jupyter-widgets/base",
            "overflow": null,
            "_model_module_version": "1.2.0",
            "_view_count": null,
            "flex_flow": null,
            "width": null,
            "min_width": null,
            "border": null,
            "align_items": null,
            "bottom": null,
            "_model_module": "@jupyter-widgets/base",
            "top": null,
            "grid_column": null,
            "overflow_y": null,
            "overflow_x": null,
            "grid_auto_flow": null,
            "grid_area": null,
            "grid_template_columns": null,
            "flex": null,
            "_model_name": "LayoutModel",
            "justify_items": null,
            "grid_row": null,
            "max_height": null,
            "align_content": null,
            "visibility": null,
            "align_self": null,
            "height": null,
            "min_height": null,
            "padding": null,
            "grid_auto_rows": null,
            "grid_gap": null,
            "max_width": null,
            "order": null,
            "_view_module_version": "1.2.0",
            "grid_template_areas": null,
            "object_position": null,
            "object_fit": null,
            "grid_auto_columns": null,
            "margin": null,
            "display": null,
            "left": null
          }
        },
        "e80b92cc510145458cba4dded204ac57": {
          "model_module": "@jupyter-widgets/controls",
          "model_name": "VBoxModel",
          "model_module_version": "1.5.0",
          "state": {
            "_view_name": "VBoxView",
            "_dom_classes": [],
            "_model_name": "VBoxModel",
            "_view_module": "@jupyter-widgets/controls",
            "_model_module_version": "1.5.0",
            "_view_count": null,
            "_view_module_version": "1.5.0",
            "box_style": "",
            "layout": "IPY_MODEL_c4382d43c2414bb4b7f1f8fda4ccadcb",
            "_model_module": "@jupyter-widgets/controls",
            "children": [
              "IPY_MODEL_939db62e90eb49b0beebec56b4c24a27",
              "IPY_MODEL_069e336e39f645499a70a586b94b7bd4"
            ]
          }
        },
        "c4382d43c2414bb4b7f1f8fda4ccadcb": {
          "model_module": "@jupyter-widgets/base",
          "model_name": "LayoutModel",
          "model_module_version": "1.2.0",
          "state": {
            "_view_name": "LayoutView",
            "grid_template_rows": null,
            "right": null,
            "justify_content": null,
            "_view_module": "@jupyter-widgets/base",
            "overflow": null,
            "_model_module_version": "1.2.0",
            "_view_count": null,
            "flex_flow": null,
            "width": null,
            "min_width": null,
            "border": null,
            "align_items": null,
            "bottom": null,
            "_model_module": "@jupyter-widgets/base",
            "top": null,
            "grid_column": null,
            "overflow_y": null,
            "overflow_x": null,
            "grid_auto_flow": null,
            "grid_area": null,
            "grid_template_columns": null,
            "flex": null,
            "_model_name": "LayoutModel",
            "justify_items": null,
            "grid_row": null,
            "max_height": null,
            "align_content": null,
            "visibility": null,
            "align_self": null,
            "height": null,
            "min_height": null,
            "padding": null,
            "grid_auto_rows": null,
            "grid_gap": null,
            "max_width": null,
            "order": null,
            "_view_module_version": "1.2.0",
            "grid_template_areas": null,
            "object_position": null,
            "object_fit": null,
            "grid_auto_columns": null,
            "margin": null,
            "display": null,
            "left": null
          }
        },
        "939db62e90eb49b0beebec56b4c24a27": {
          "model_module": "@jupyter-widgets/controls",
          "model_name": "LabelModel",
          "model_module_version": "1.5.0",
          "state": {
            "_view_name": "LabelView",
            "style": "IPY_MODEL_5fb4477da0ac4f509d659f0bf485a3de",
            "_dom_classes": [],
            "description": "",
            "_model_name": "LabelModel",
            "placeholder": "​",
            "_view_module": "@jupyter-widgets/controls",
            "_model_module_version": "1.5.0",
            "value": " 0.05MB of 0.05MB uploaded (0.00MB deduped)\r",
            "_view_count": null,
            "_view_module_version": "1.5.0",
            "description_tooltip": null,
            "_model_module": "@jupyter-widgets/controls",
            "layout": "IPY_MODEL_5dcb96fa32904d6090dfcd1b7968f507"
          }
        },
        "069e336e39f645499a70a586b94b7bd4": {
          "model_module": "@jupyter-widgets/controls",
          "model_name": "FloatProgressModel",
          "model_module_version": "1.5.0",
          "state": {
            "_view_name": "ProgressView",
            "style": "IPY_MODEL_13151e6641d241c98c3e38497533c561",
            "_dom_classes": [],
            "description": "",
            "_model_name": "FloatProgressModel",
            "bar_style": "",
            "max": 1,
            "_view_module": "@jupyter-widgets/controls",
            "_model_module_version": "1.5.0",
            "value": 1,
            "_view_count": null,
            "_view_module_version": "1.5.0",
            "orientation": "horizontal",
            "min": 0,
            "description_tooltip": null,
            "_model_module": "@jupyter-widgets/controls",
            "layout": "IPY_MODEL_90c67872a5b2489597ea1a0d55fb376c"
          }
        },
        "5fb4477da0ac4f509d659f0bf485a3de": {
          "model_module": "@jupyter-widgets/controls",
          "model_name": "DescriptionStyleModel",
          "model_module_version": "1.5.0",
          "state": {
            "_view_name": "StyleView",
            "_model_name": "DescriptionStyleModel",
            "description_width": "",
            "_view_module": "@jupyter-widgets/base",
            "_model_module_version": "1.5.0",
            "_view_count": null,
            "_view_module_version": "1.2.0",
            "_model_module": "@jupyter-widgets/controls"
          }
        },
        "5dcb96fa32904d6090dfcd1b7968f507": {
          "model_module": "@jupyter-widgets/base",
          "model_name": "LayoutModel",
          "model_module_version": "1.2.0",
          "state": {
            "_view_name": "LayoutView",
            "grid_template_rows": null,
            "right": null,
            "justify_content": null,
            "_view_module": "@jupyter-widgets/base",
            "overflow": null,
            "_model_module_version": "1.2.0",
            "_view_count": null,
            "flex_flow": null,
            "width": null,
            "min_width": null,
            "border": null,
            "align_items": null,
            "bottom": null,
            "_model_module": "@jupyter-widgets/base",
            "top": null,
            "grid_column": null,
            "overflow_y": null,
            "overflow_x": null,
            "grid_auto_flow": null,
            "grid_area": null,
            "grid_template_columns": null,
            "flex": null,
            "_model_name": "LayoutModel",
            "justify_items": null,
            "grid_row": null,
            "max_height": null,
            "align_content": null,
            "visibility": null,
            "align_self": null,
            "height": null,
            "min_height": null,
            "padding": null,
            "grid_auto_rows": null,
            "grid_gap": null,
            "max_width": null,
            "order": null,
            "_view_module_version": "1.2.0",
            "grid_template_areas": null,
            "object_position": null,
            "object_fit": null,
            "grid_auto_columns": null,
            "margin": null,
            "display": null,
            "left": null
          }
        },
        "13151e6641d241c98c3e38497533c561": {
          "model_module": "@jupyter-widgets/controls",
          "model_name": "ProgressStyleModel",
          "model_module_version": "1.5.0",
          "state": {
            "_view_name": "StyleView",
            "_model_name": "ProgressStyleModel",
            "description_width": "",
            "_view_module": "@jupyter-widgets/base",
            "_model_module_version": "1.5.0",
            "_view_count": null,
            "_view_module_version": "1.2.0",
            "bar_color": null,
            "_model_module": "@jupyter-widgets/controls"
          }
        },
        "90c67872a5b2489597ea1a0d55fb376c": {
          "model_module": "@jupyter-widgets/base",
          "model_name": "LayoutModel",
          "model_module_version": "1.2.0",
          "state": {
            "_view_name": "LayoutView",
            "grid_template_rows": null,
            "right": null,
            "justify_content": null,
            "_view_module": "@jupyter-widgets/base",
            "overflow": null,
            "_model_module_version": "1.2.0",
            "_view_count": null,
            "flex_flow": null,
            "width": null,
            "min_width": null,
            "border": null,
            "align_items": null,
            "bottom": null,
            "_model_module": "@jupyter-widgets/base",
            "top": null,
            "grid_column": null,
            "overflow_y": null,
            "overflow_x": null,
            "grid_auto_flow": null,
            "grid_area": null,
            "grid_template_columns": null,
            "flex": null,
            "_model_name": "LayoutModel",
            "justify_items": null,
            "grid_row": null,
            "max_height": null,
            "align_content": null,
            "visibility": null,
            "align_self": null,
            "height": null,
            "min_height": null,
            "padding": null,
            "grid_auto_rows": null,
            "grid_gap": null,
            "max_width": null,
            "order": null,
            "_view_module_version": "1.2.0",
            "grid_template_areas": null,
            "object_position": null,
            "object_fit": null,
            "grid_auto_columns": null,
            "margin": null,
            "display": null,
            "left": null
          }
        }
      }
    }
  },
  "nbformat": 4,
  "nbformat_minor": 0
}